{
 "cells": [
  {
   "cell_type": "code",
   "execution_count": 1,
   "metadata": {},
   "outputs": [
    {
     "name": "stdout",
     "output_type": "stream",
     "text": [
      "Iniciando análisis exploratorio del dataset de negocios de Yelp\n"
     ]
    }
   ],
   "source": [
    "# Análisis Exploratorio de Datos - Dataset Yelp\n",
    "# Filtrado de negocios en Montreal\n",
    "\n",
    "import pandas as pd\n",
    "import json\n",
    "\n",
    "print(\"Iniciando análisis exploratorio del dataset de negocios de Yelp\")\n"
   ]
  },
  {
   "cell_type": "code",
   "execution_count": 2,
   "metadata": {},
   "outputs": [
    {
     "name": "stdout",
     "output_type": "stream",
     "text": [
      "Leyendo archivo: ../data/raw/yelp_academic_dataset_business.json\n",
      "Procesadas 10000 líneas...\n",
      "Procesadas 20000 líneas...\n",
      "Procesadas 30000 líneas...\n",
      "Procesadas 40000 líneas...\n",
      "Procesadas 50000 líneas...\n",
      "Procesadas 60000 líneas...\n",
      "Procesadas 70000 líneas...\n",
      "Procesadas 80000 líneas...\n",
      "Procesadas 90000 líneas...\n",
      "Procesadas 100000 líneas...\n",
      "Procesadas 110000 líneas...\n",
      "Procesadas 120000 líneas...\n",
      "Procesadas 130000 líneas...\n",
      "Procesadas 140000 líneas...\n",
      "Procesadas 150000 líneas...\n",
      "Total de registros cargados: 150346\n",
      "Dimensiones del DataFrame: (150346, 14)\n",
      "Columnas: ['business_id', 'name', 'address', 'city', 'state', 'postal_code', 'latitude', 'longitude', 'stars', 'review_count', 'is_open', 'attributes', 'categories', 'hours']\n"
     ]
    }
   ],
   "source": [
    "# Leer el archivo JSON línea por línea y convertir a DataFrame\n",
    "# El archivo contiene un objeto JSON por línea\n",
    "\n",
    "data = []\n",
    "file_path = '../data/raw/yelp_academic_dataset_business.json'\n",
    "\n",
    "print(f\"Leyendo archivo: {file_path}\")\n",
    "\n",
    "with open(file_path, 'r', encoding='utf-8') as file:\n",
    "    for line_number, line in enumerate(file, 1):\n",
    "        try:\n",
    "            json_object = json.loads(line.strip())\n",
    "            data.append(json_object)\n",
    "        except json.JSONDecodeError as e:\n",
    "            print(f\"Error en la línea {line_number}: {e}\")\n",
    "        \n",
    "        # Mostrar progreso cada 10000 líneas\n",
    "        if line_number % 10000 == 0:\n",
    "            print(f\"Procesadas {line_number} líneas...\")\n",
    "\n",
    "print(f\"Total de registros cargados: {len(data)}\")\n",
    "\n",
    "# Convertir a DataFrame\n",
    "df_business = pd.DataFrame(data)\n",
    "print(f\"Dimensiones del DataFrame: {df_business.shape}\")\n",
    "print(f\"Columnas: {list(df_business.columns)}\")\n"
   ]
  },
  {
   "cell_type": "code",
   "execution_count": 6,
   "metadata": {},
   "outputs": [
    {
     "name": "stdout",
     "output_type": "stream",
     "text": [
      "Explorando ciudades únicas...\n",
      "Total de ciudades únicas: 1416\n",
      "\n",
      "Primeras 20 ciudades únicas:\n",
      "city\n",
      "Philadelphia    14569\n",
      "Tucson           9250\n",
      "Tampa            9050\n",
      "Indianapolis     7540\n",
      "Nashville        6971\n",
      "                ...  \n",
      "Voorhees          241\n",
      "Zionsville        234\n",
      "Antioch           231\n",
      "Hudson            228\n",
      "Arnold            227\n",
      "Name: count, Length: 100, dtype: int64\n",
      "\n",
      "Variaciones de Montreal encontradas: []\n"
     ]
    }
   ],
   "source": [
    "# Explorar las ciudades únicas para entender la variación en los nombres\n",
    "print(\"Explorando ciudades únicas...\")\n",
    "print(f\"Total de ciudades únicas: {df_business['city'].nunique()}\")\n",
    "print(\"\\nPrimeras 20 ciudades únicas:\")\n",
    "print(df_business['city'].value_counts().head(100))\n",
    "\n",
    "# Buscar variaciones de Montreal\n",
    "montreal_variations = df_business[df_business['city'].str.contains('Toronto', case=False, na=False)]['city'].unique()\n",
    "print(f\"\\nVariaciones de Montreal encontradas: {montreal_variations}\")\n",
    "\n",
    "\n"
   ]
  },
  {
   "cell_type": "code",
   "execution_count": null,
   "metadata": {},
   "outputs": [],
   "source": [
    "# Filtrar negocios en Montreal\n",
    "# Usamos regex para capturar variaciones de Montreal/Montréal\n",
    "\n",
    "montreal_businesses = df_business[df_business['city'].str.contains('Montr[eé]al', case=False, na=False, regex=True)]\n",
    "\n",
    "print(f\"Número de negocios encontrados en Montreal: {len(montreal_businesses)}\")\n",
    "\n",
    "if len(montreal_businesses) > 0:\n",
    "    print(f\"\\nInformación básica sobre los negocios de Montreal:\")\n",
    "    print(f\"- Total de negocios: {len(montreal_businesses)}\")\n",
    "    print(f\"- Negocios abiertos: {montreal_businesses['is_open'].sum()}\")\n",
    "    print(f\"- Negocios cerrados: {len(montreal_businesses) - montreal_businesses['is_open'].sum()}\")\n",
    "    print(f\"- Puntuación promedio: {montreal_businesses['stars'].mean():.2f}\")\n",
    "    print(f\"- Número promedio de reseñas: {montreal_businesses['review_count'].mean():.2f}\")\n",
    "    \n",
    "    # Mostrar información detallada de los primeros negocios\n",
    "    print(f\"\\nPrimeros 5 negocios en Montreal:\")\n",
    "    display_columns = ['name', 'address', 'city', 'state', 'postal_code', 'stars', 'review_count', 'is_open', 'categories']\n",
    "    print(montreal_businesses[display_columns].head())\n",
    "else:\n",
    "    print(\"No se encontraron negocios en Montreal en el dataset.\")\n"
   ]
  },
  {
   "cell_type": "code",
   "execution_count": null,
   "metadata": {},
   "outputs": [],
   "source": [
    "# Análisis adicional si encontramos negocios en Montreal\n",
    "if len(montreal_businesses) > 0:\n",
    "    \n",
    "    # Análisis por categorías\n",
    "    print(\"=== ANÁLISIS POR CATEGORÍAS ===\")\n",
    "    \n",
    "    # Expandir categorías (están separadas por comas)\n",
    "    categories_list = []\n",
    "    for categories in montreal_businesses['categories'].dropna():\n",
    "        if categories:\n",
    "            cat_split = [cat.strip() for cat in categories.split(',')]\n",
    "            categories_list.extend(cat_split)\n",
    "    \n",
    "    if categories_list:\n",
    "        categories_df = pd.Series(categories_list).value_counts()\n",
    "        print(f\"Top 10 categorías más comunes en Montreal:\")\n",
    "        print(categories_df.head(10))\n",
    "    \n",
    "    # Análisis por estado/provincia\n",
    "    print(f\"\\n=== DISTRIBUCIÓN POR PROVINCIA/ESTADO ===\")\n",
    "    print(montreal_businesses['state'].value_counts())\n",
    "    \n",
    "    # Análisis de puntuaciones\n",
    "    print(f\"\\n=== ANÁLISIS DE PUNTUACIONES ===\")\n",
    "    print(f\"Distribución de estrellas:\")\n",
    "    print(montreal_businesses['stars'].value_counts().sort_index())\n",
    "    \n",
    "    # Guardar los resultados filtrados en un nuevo archivo CSV para análisis posterior\n",
    "    output_file = '../data/montreal_businesses.csv'\n",
    "    montreal_businesses.to_csv(output_file, index=False)\n",
    "    print(f\"\\nLos negocios de Montreal han sido guardados en: {output_file}\")\n",
    "    \n",
    "else:\n",
    "    print(\"No hay negocios de Montreal para analizar más detalladamente.\")\n"
   ]
  },
  {
   "cell_type": "raw",
   "metadata": {
    "vscode": {
     "languageId": "raw"
    }
   },
   "source": [
    "# Análisis del Dataset de Reviews para TFM\n",
    "## Proyecto: Análisis de Sentimiento y Modelado de Tópicos para Restaurantes\n",
    "\n",
    "**Objetivo**: Desarrollar una solución integral de análisis de datos que transforme las reseñas de restaurantes no estructuradas en insights valiosos para la toma de decisiones.\n",
    "\n",
    "**Enfoque geográfico**: Montreal, Canadá\n"
   ]
  },
  {
   "cell_type": "code",
   "execution_count": null,
   "metadata": {},
   "outputs": [],
   "source": [
    "# Análisis del Dataset de Reviews\n",
    "# Estructura: {\"review_id\", \"user_id\", \"business_id\", \"stars\", \"useful\", \"funny\", \"cool\", \"text\", \"date\"}\n",
    "\n",
    "print(\"=== ANÁLISIS ESTRUCTURA DATASET REVIEWS ===\")\n",
    "\n",
    "# Leer una muestra de reviews para análisis\n",
    "reviews_sample = []\n",
    "reviews_file = '../data/raw/yelp_academic_dataset_review.json'\n",
    "\n",
    "print(f\"Leyendo muestra de reviews de: {reviews_file}\")\n",
    "\n",
    "with open(reviews_file, 'r', encoding='utf-8') as file:\n",
    "    for i, line in enumerate(file):\n",
    "        if i < 1000:  # Leer solo las primeras 1000 reviews para análisis inicial\n",
    "            try:\n",
    "                review = json.loads(line.strip())\n",
    "                reviews_sample.append(review)\n",
    "            except json.JSONDecodeError as e:\n",
    "                print(f\"Error en línea {i+1}: {e}\")\n",
    "        else:\n",
    "            break\n",
    "\n",
    "# Convertir a DataFrame\n",
    "df_reviews_sample = pd.DataFrame(reviews_sample)\n",
    "print(f\"Muestra de reviews cargada: {len(df_reviews_sample)} registros\")\n",
    "print(f\"Columnas del dataset de reviews: {list(df_reviews_sample.columns)}\")\n",
    "print(f\"\\nTipos de datos:\")\n",
    "print(df_reviews_sample.dtypes)\n"
   ]
  },
  {
   "cell_type": "code",
   "execution_count": null,
   "metadata": {},
   "outputs": [],
   "source": [
    "# Análisis exploratorio de la muestra de reviews\n",
    "print(\"=== ANÁLISIS EXPLORATORIO REVIEWS ===\")\n",
    "\n",
    "# Estadísticas básicas\n",
    "print(f\"Distribución de estrellas en la muestra:\")\n",
    "print(df_reviews_sample['stars'].value_counts().sort_index())\n",
    "\n",
    "print(f\"\\nEstadísticas de utilidad, diversión y coolness:\")\n",
    "print(df_reviews_sample[['useful', 'funny', 'cool']].describe())\n",
    "\n",
    "# Análisis de longitud del texto\n",
    "df_reviews_sample['text_length'] = df_reviews_sample['text'].str.len()\n",
    "print(f\"\\nEstadísticas de longitud del texto:\")\n",
    "print(df_reviews_sample['text_length'].describe())\n",
    "\n",
    "# Mostrar ejemplos de reviews por puntuación\n",
    "print(f\"\\n=== EJEMPLOS DE REVIEWS POR PUNTUACIÓN ===\")\n",
    "for stars in [1, 3, 5]:\n",
    "    sample_review = df_reviews_sample[df_reviews_sample['stars'] == stars]['text'].iloc[0]\n",
    "    print(f\"\\n--- REVIEW {stars} ESTRELLAS ---\")\n",
    "    print(f\"Texto: {sample_review[:200]}...\")\n",
    "    print(f\"Longitud: {len(sample_review)} caracteres\")\n"
   ]
  },
  {
   "cell_type": "code",
   "execution_count": null,
   "metadata": {},
   "outputs": [],
   "source": []
  }
 ],
 "metadata": {
  "kernelspec": {
   "display_name": ".venv",
   "language": "python",
   "name": "python3"
  },
  "language_info": {
   "codemirror_mode": {
    "name": "ipython",
    "version": 3
   },
   "file_extension": ".py",
   "mimetype": "text/x-python",
   "name": "python",
   "nbconvert_exporter": "python",
   "pygments_lexer": "ipython3",
   "version": "3.11.12"
  }
 },
 "nbformat": 4,
 "nbformat_minor": 2
}
