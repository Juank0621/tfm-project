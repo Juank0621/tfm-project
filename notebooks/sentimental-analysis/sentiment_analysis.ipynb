{
  "cells": [
    {
      "cell_type": "markdown",
      "metadata": {},
      "source": [
        "# TFM - Análisis de Sentimiento con RoBERTa\n",
        "\n",
        "Este notebook implementa el análisis de sentimiento para reviews de restaurantes usando modelos Transformers modernos.\n",
        "\n",
        "**Título del TFM**: Análisis de Datos y Procesamiento de Lenguaje Natural para la Extracción de Opiniones y Modelado de Tópicos en Restaurantes: Un Enfoque de Big Data y Ciencia de Datos Aplicado al Estudio Integral del Sector Gastronómico\n",
        "\n",
        "## Objetivo del Notebook\n",
        "Implementar un pipeline de análisis de sentimiento que:\n",
        "1. Cargue las reviews de restaurantes procesadas anteriormente\n",
        "2. Aplique un modelo RoBERTa para clasificar sentimientos\n",
        "3. Valide los resultados comparando con las calificaciones originales (stars)\n",
        "4. Genere métricas de evaluación y visualizaciones\n",
        "5. Identifique patrones y casos de interés\n",
        "\n",
        "## Modelo Utilizado\n",
        "- **Modelo**: `cardiffnlp/twitter-roberta-base-sentiment-latest`\n",
        "- **Arquitectura**: RoBERTa (Robustly Optimized BERT Pretraining Approach)\n",
        "- **Especialización**: Optimizado para análisis de sentimiento en textos informales\n",
        "- **Clases de salida**: NEGATIVE, NEUTRAL, POSITIVE\n",
        "\n",
        "## Características del Análisis\n",
        "- Procesamiento en lotes para eficiencia\n",
        "- Validación cruzada con calificaciones por estrellas\n",
        "- Métricas de evaluación completas (accuracy, precision, recall, F1)\n",
        "- Análisis de confianza del modelo\n",
        "- Visualizaciones detalladas de resultados\n",
        "- Identificación de casos específicos de interés"
      ]
    },
    {
      "cell_type": "markdown",
      "metadata": {},
      "source": [
        "## 1. Instalación y Configuración\n",
        "\n",
        "### Librerías Requeridas\n",
        "\n",
        "Para este análisis necesitamos las siguientes librerías principales:\n",
        "\n",
        "- **transformers**: Framework de Hugging Face para modelos Transformers\n",
        "- **torch**: Backend de PyTorch para computación con tensores\n",
        "- **datasets**: Manejo eficiente de datasets grandes\n",
        "- **scikit-learn**: Métricas de evaluación y utilidades ML\n",
        "- **pandas**: Manipulación y análisis de datos\n",
        "- **matplotlib/seaborn**: Visualizaciones estáticas\n",
        "- **plotly**: Visualizaciones interactivas\n",
        "- **tqdm**: Barras de progreso para operaciones largas\n",
        "\n",
        "### Nota sobre el Entorno de Ejecución\n",
        "\n",
        "Este notebook está optimizado para:\n",
        "- **CPU**: Funciona correctamente en procesadores modernos\n",
        "- **GPU**: Detecta automáticamente y acelera el procesamiento si está disponible\n",
        "- **Memoria**: Recomendado mínimo 8GB RAM para datasets grandes"
      ]
    },
    {
      "cell_type": "code",
      "execution_count": 1,
      "metadata": {},
      "outputs": [],
      "source": [
        "# Instalación de dependencias para análisis de sentimiento\n",
        "# Descomenta la siguiente línea si necesitas instalar las librerías\n",
        "# !uv add transformers torch datasets accelerate scikit-learn matplotlib seaborn plotly tqdm"
      ]
    },
    {
      "cell_type": "code",
      "execution_count": 2,
      "metadata": {},
      "outputs": [
        {
          "name": "stdout",
          "output_type": "stream",
          "text": [
            "Dispositivo de procesamiento: cuda\n",
            "Versión de PyTorch: 2.7.1+cu126\n",
            "GPU detectada: NVIDIA GeForce RTX 4080\n",
            "Memoria GPU disponible: 16.9 GB\n"
          ]
        }
      ],
      "source": [
        "# Imports necesarios para el análisis de sentimiento\n",
        "import pandas as pd\n",
        "import numpy as np\n",
        "import torch\n",
        "from transformers import pipeline, AutoTokenizer, AutoModelForSequenceClassification\n",
        "from sklearn.metrics import accuracy_score, classification_report, confusion_matrix\n",
        "import matplotlib.pyplot as plt\n",
        "import seaborn as sns\n",
        "import plotly.express as px\n",
        "import plotly.graph_objects as go\n",
        "from plotly.subplots import make_subplots\n",
        "from tqdm.auto import tqdm\n",
        "import warnings\n",
        "import os\n",
        "warnings.filterwarnings('ignore')\n",
        "\n",
        "# Crear directorio para guardar figuras\n",
        "os.makedirs('../../figures/complete_analysis', exist_ok=True)\n",
        "\n",
        "# Configuración de visualización\n",
        "plt.style.use('seaborn-v0_8')\n",
        "pd.set_option('display.max_columns', None)\n",
        "pd.set_option('display.max_colwidth', 100)\n",
        "\n",
        "# Detectar dispositivo de procesamiento (GPU/CPU)\n",
        "device = torch.device('cuda' if torch.cuda.is_available() else 'cpu')\n",
        "print(f\"Dispositivo de procesamiento: {device}\")\n",
        "print(f\"Versión de PyTorch: {torch.__version__}\")\n",
        "\n",
        "if torch.cuda.is_available():\n",
        "    print(f\"GPU detectada: {torch.cuda.get_device_name(0)}\")\n",
        "    print(f\"Memoria GPU disponible: {torch.cuda.get_device_properties(0).total_memory / 1e9:.1f} GB\")\n",
        "else:\n",
        "    print(\"Usando CPU para procesamiento\")"
      ]
    },
    {
      "cell_type": "markdown",
      "metadata": {},
      "source": [
        "## 2. Carga de Datos de Reviews\n",
        "\n",
        "### Archivo de Entrada\n",
        "\n",
        "Cargaremos el archivo de reviews procesado previamente que contiene:\n",
        "- **Texto completo** de las reseñas de restaurantes\n",
        "- **Calificaciones** en estrellas (1-5) para validación\n",
        "- **Metadatos** adicionales como fechas, IDs de usuario, etc.\n",
        "\n",
        "### Estructura Esperada del Dataset\n",
        "\n",
        "El archivo JSON debe contener reviews con la siguiente estructura:\n",
        "- `text`: Contenido textual de la reseña\n",
        "- `stars`: Calificación en estrellas (1.0 a 5.0)  \n",
        "- `user_id`: Identificador único del usuario\n",
        "- `business_id`: Identificador único del restaurante\n",
        "- `date`: Fecha de la reseña\n",
        "- `useful`, `funny`, `cool`: Métricas de engagement\n",
        "\n",
        "### Rutas de Búsqueda\n",
        "\n",
        "El notebook intentará cargar el archivo desde múltiples ubicaciones:\n",
        "1. `../../data/processed/reviews.json` (desde notebooks/)\n",
        "2. `data/processed/reviews.json` (desde raíz del proyecto)"
      ]
    },
    {
      "cell_type": "code",
      "execution_count": 3,
      "metadata": {},
      "outputs": [
        {
          "name": "stdout",
          "output_type": "stream",
          "text": [
            "Iniciando carga de datos de reviews...\n",
            "Datos cargados exitosamente desde '../../data/processed/reviews.json'\n",
            "Dataset cargado correctamente: 4,724,471 reviews\n",
            "Ruta utilizada: ../../data/processed/reviews.json\n",
            "Columnas disponibles: ['review_id', 'user_id', 'business_id', 'stars', 'useful', 'funny', 'cool', 'text', 'date']\n"
          ]
        }
      ],
      "source": [
        "# Cargar datos de reviews de restaurantes - VERSIÓN CORREGIDA\n",
        "print(\"Iniciando carga de datos de reviews...\")\n",
        "\n",
        "# Intentar cargar desde diferentes rutas del proyecto\n",
        "try:\n",
        "    df_reviews = pd.read_json('../../data/processed/reviews.json')\n",
        "    print(\"Datos cargados exitosamente desde '../../data/processed/reviews.json'\")\n",
        "    ruta_carga = \"../../data/processed/reviews.json\"\n",
        "except:\n",
        "    try:\n",
        "        df_reviews = pd.read_json('../data/processed/reviews.json')\n",
        "        print(\"Datos cargados exitosamente desde '../data/processed/reviews.json'\")\n",
        "        ruta_carga = \"../data/processed/reviews.json\"\n",
        "    except:\n",
        "        try:\n",
        "            df_reviews = pd.read_json('data/processed/reviews.json')\n",
        "            print(\"Datos cargados exitosamente desde 'data/processed/reviews.json'\")\n",
        "            ruta_carga = \"data/processed/reviews.json\"\n",
        "        except:\n",
        "            print(\"ERROR: No se pudo cargar el archivo de reviews\")\n",
        "            print(\"SOLUCION: Asegúrate de que el archivo esté en alguna de estas rutas:\")\n",
        "            print(\"  - ../../data/processed/reviews.json\")\n",
        "            print(\"  - ../data/processed/reviews.json\")\n",
        "            print(\"  - data/processed/reviews.json\")\n",
        "            raise FileNotFoundError(\"Archivo de reviews no encontrado\")\n",
        "\n",
        "print(f\"Dataset cargado correctamente: {len(df_reviews):,} reviews\")\n",
        "print(f\"Ruta utilizada: {ruta_carga}\")\n",
        "print(f\"Columnas disponibles: {list(df_reviews.columns)}\")\n"
      ]
    },
    {
      "cell_type": "code",
      "execution_count": 4,
      "metadata": {},
      "outputs": [
        {
          "name": "stdout",
          "output_type": "stream",
          "text": [
            "Información del dataset cargado:\n",
            "- Total de reviews: 4,724,471\n",
            "- Memoria utilizada: 4161.4 MB\n",
            "\n",
            "Distribución de calificaciones por estrellas:\n",
            "stars\n",
            "1     567185\n",
            "2     404486\n",
            "3     543108\n",
            "4    1130251\n",
            "5    2079441\n",
            "Name: count, dtype: int64\n",
            "\n",
            "Estadísticas de calificaciones:\n",
            "- Promedio: 3.79\n",
            "- Mediana: 4.00\n",
            "- Desviación estándar: 1.39\n",
            "\n",
            "Ejemplo de review (primera del dataset):\n",
            "- Calificación: 5 estrellas\n",
            "- Longitud del texto: 89 caracteres\n",
            "- Texto: This place is sadly perm closed. I was hoping not, however the phone is now disconnected....\n"
          ]
        }
      ],
      "source": [
        "# Exploración inicial del dataset\n",
        "print(\"Información del dataset cargado:\")\n",
        "print(f\"- Total de reviews: {len(df_reviews):,}\")\n",
        "print(f\"- Memoria utilizada: {df_reviews.memory_usage(deep=True).sum() / 1e6:.1f} MB\")\n",
        "\n",
        "print(\"\\nDistribución de calificaciones por estrellas:\")\n",
        "distribucion_estrellas = df_reviews['stars'].value_counts().sort_index()\n",
        "print(distribucion_estrellas)\n",
        "\n",
        "# Mostrar estadísticas básicas\n",
        "print(f\"\\nEstadísticas de calificaciones:\")\n",
        "print(f\"- Promedio: {df_reviews['stars'].mean():.2f}\")\n",
        "print(f\"- Mediana: {df_reviews['stars'].median():.2f}\")\n",
        "print(f\"- Desviación estándar: {df_reviews['stars'].std():.2f}\")\n",
        "\n",
        "# Ejemplo de review para verificar estructura\n",
        "print(f\"\\nEjemplo de review (primera del dataset):\")\n",
        "sample_review = df_reviews.iloc[0]\n",
        "print(f\"- Calificación: {sample_review['stars']} estrellas\")\n",
        "print(f\"- Longitud del texto: {len(sample_review['text'])} caracteres\")\n",
        "print(f\"- Texto: {sample_review['text'][:200]}...\")"
      ]
    },
    {
      "cell_type": "markdown",
      "metadata": {},
      "source": [
        "## 3. Preparación de Datos para Análisis\n",
        "\n",
        "### Análisis Completo del Dataset\n",
        "\n",
        "Para un análisis exhaustivo y resultados definitivos:\n",
        "- Procesaremos **TODOS los reviews** del dataset completo\n",
        "- Análisis integral para obtener métricas finales y confiables\n",
        "- Resultados representativos de todo el universo de datos disponible\n",
        "\n",
        "### Mapeo de Calificaciones a Sentimientos\n",
        "\n",
        "Crearemos etiquetas de sentimiento esperadas basadas en las estrellas:\n",
        "- **1-2 estrellas**: NEGATIVE (experiencia negativa)\n",
        "- **3 estrellas**: NEUTRAL (experiencia neutra/mixta)  \n",
        "- **4-5 estrellas**: POSITIVE (experiencia positiva)\n",
        "\n",
        "Este mapeo nos permitirá **validar la precisión** del modelo comparando las predicciones con las expectativas basadas en calificaciones.\n",
        "\n",
        "### Consideraciones para el Análisis Completo\n",
        "\n",
        "- **Dataset completo** proporciona la máxima diversidad estadística\n",
        "- Tiempo de procesamiento extenso (1-3 horas aproximadamente)\n",
        "- Permite obtener métricas definitivas y conclusiones robustas\n",
        "- Mantiene representatividad total de la distribución de datos"
      ]
    },
    {
      "cell_type": "code",
      "execution_count": 5,
      "metadata": {},
      "outputs": [
        {
          "name": "stdout",
          "output_type": "stream",
          "text": [
            "Iniciando preparación de datos...\n",
            "CONFIGURACIÓN: Análisis completo de todo el dataset\n",
            "Total de reviews a procesar: 4,724,471\n",
            "Dataset completo preparado: 4,724,471 reviews\n",
            "\n",
            "Distribución de sentimientos esperados:\n",
            "expected_sentiment\n",
            "POSITIVE    3209692\n",
            "NEGATIVE     971671\n",
            "NEUTRAL      543108\n",
            "Name: count, dtype: int64\n",
            "\n",
            "Porcentajes por categoría:\n",
            "- POSITIVE: 3,209,692 reviews (67.9%)\n",
            "- NEGATIVE: 971,671 reviews (20.6%)\n",
            "- NEUTRAL: 543,108 reviews (11.5%)\n"
          ]
        }
      ],
      "source": [
        "# Preparar dataset completo para análisis\n",
        "print(\"Iniciando preparación de datos...\")\n",
        "\n",
        "# Análisis completo del dataset\n",
        "print(\"CONFIGURACIÓN: Análisis completo de todo el dataset\")\n",
        "print(f\"Total de reviews a procesar: {len(df_reviews):,}\")\n",
        "\n",
        "# Usar todo el dataset para análisis completo\n",
        "df_complete = df_reviews.copy()\n",
        "print(f\"Dataset completo preparado: {len(df_complete):,} reviews\")\n",
        "\n",
        "# Configuración para hardware potente\n",
        "BATCH_SIZE = 256  # Aumentado para aprovechar la VRAM disponible\n",
        "NUM_WORKERS = 8  # Paralelización para carga de datos\n",
        "\n",
        "# Función para mapear calificaciones por estrellas a sentimientos esperados\n",
        "def mapear_estrellas_a_sentimiento(stars):\n",
        "    \"\"\"\n",
        "    Convierte calificaciones por estrellas a categorías de sentimiento\n",
        "    \n",
        "    Args:\n",
        "        stars (float): Calificación en estrellas (1.0 a 5.0)\n",
        "    \n",
        "    Returns:\n",
        "        str: Categoría de sentimiento ('NEGATIVE', 'NEUTRAL', 'POSITIVE')\n",
        "    \"\"\"\n",
        "    if stars <= 2:\n",
        "        return 'NEGATIVE'\n",
        "    elif stars == 3:\n",
        "        return 'NEUTRAL'\n",
        "    else:\n",
        "        return 'POSITIVE'\n",
        "\n",
        "# Aplicar mapeo al dataset completo\n",
        "df_complete['expected_sentiment'] = df_complete['stars'].apply(mapear_estrellas_a_sentimiento)\n",
        "\n",
        "print(f\"\\nDistribución de sentimientos esperados:\")\n",
        "distribucion_sentimientos = df_complete['expected_sentiment'].value_counts()\n",
        "print(distribucion_sentimientos)\n",
        "\n",
        "# Calcular porcentajes\n",
        "print(f\"\\nPorcentajes por categoría:\")\n",
        "for sentiment, count in distribucion_sentimientos.items():\n",
        "    porcentaje = (count / len(df_complete)) * 100\n",
        "    print(f\"- {sentiment}: {count:,} reviews ({porcentaje:.1f}%)\")"
      ]
    },
    {
      "cell_type": "markdown",
      "metadata": {},
      "source": [
        "## 4. Inicialización del Modelo RoBERTa\n",
        "\n",
        "### Sobre el Modelo Seleccionado\n",
        "\n",
        "**Modelo**: `cardiffnlp/twitter-roberta-base-sentiment-latest`\n",
        "\n",
        "**Características principales:**\n",
        "- **Arquitectura**: RoBERTa (Robustly Optimized BERT Pretraining Approach)\n",
        "- **Especialización**: Entrenado específicamente para análisis de sentimiento\n",
        "- **Dominio**: Optimizado para textos informales (Twitter), ideal para reviews\n",
        "- **Idioma**: Principalmente inglés\n",
        "- **Clases de salida**: NEGATIVE, NEUTRAL, POSITIVE\n",
        "\n",
        "### Ventajas de RoBERTa para Reviews\n",
        "\n",
        "- **Contexto**: Mejor comprensión del contexto que modelos tradicionales\n",
        "- **Robustez**: Maneja sarcasmo, ironía y expresiones coloquiales\n",
        "- **Precisión**: Alta accuracy en tareas de clasificación de sentimiento\n",
        "- **Eficiencia**: Balance óptimo entre rendimiento y velocidad\n",
        "\n",
        "### Configuración del Pipeline\n",
        "\n",
        "- **Procesamiento en lotes**: 32 reviews por lote para eficiencia\n",
        "- **Truncamiento**: Máximo 512 tokens por review\n",
        "- **Scores completos**: Probabilidades para todas las clases\n",
        "- **GPU/CPU**: Detección automática del mejor dispositivo disponible"
      ]
    },
    {
      "cell_type": "code",
      "execution_count": 6,
      "metadata": {},
      "outputs": [
        {
          "name": "stdout",
          "output_type": "stream",
          "text": [
            "Inicializando modelo: cardiffnlp/twitter-roberta-base-sentiment-latest\n",
            "Dispositivo de procesamiento: cuda\n",
            "Cargando modelo y tokenizador...\n"
          ]
        },
        {
          "name": "stderr",
          "output_type": "stream",
          "text": [
            "Some weights of the model checkpoint at cardiffnlp/twitter-roberta-base-sentiment-latest were not used when initializing RobertaForSequenceClassification: ['roberta.pooler.dense.bias', 'roberta.pooler.dense.weight']\n",
            "- This IS expected if you are initializing RobertaForSequenceClassification from the checkpoint of a model trained on another task or with another architecture (e.g. initializing a BertForSequenceClassification model from a BertForPreTraining model).\n",
            "- This IS NOT expected if you are initializing RobertaForSequenceClassification from the checkpoint of a model that you expect to be exactly identical (initializing a BertForSequenceClassification model from a BertForSequenceClassification model).\n",
            "Device set to use cuda:0\n"
          ]
        },
        {
          "name": "stdout",
          "output_type": "stream",
          "text": [
            "Modelo RoBERTa cargado exitosamente\n",
            "\n",
            "Configuración del pipeline:\n",
            "- Tamaño de lote: 256 reviews\n",
            "- Longitud máxima: 512 tokens\n",
            "- Dispositivo: GPU con 16GB VRAM\n",
            "- Precisión: Mixed FP16\n",
            "- Velocidad esperada: ~400 reviews/segundo\n"
          ]
        }
      ],
      "source": [
        "# Configuración del modelo RoBERTa\n",
        "model_name = \"cardiffnlp/twitter-roberta-base-sentiment-latest\"\n",
        "\n",
        "print(f\"Inicializando modelo: {model_name}\")\n",
        "print(f\"Dispositivo de procesamiento: {device}\")\n",
        "\n",
        "# Crear pipeline de análisis de sentimiento\n",
        "print(\"Cargando modelo y tokenizador...\")\n",
        "\n",
        "sentiment_pipeline = pipeline(\n",
        "    \"sentiment-analysis\",\n",
        "    model=model_name,\n",
        "    tokenizer=model_name,\n",
        "    batch_size=256,  # Batch size mayor para aprovechar VRAM\n",
        "    truncation=True,\n",
        "    max_length=512,\n",
        "    return_all_scores=True,\n",
        "    torch_dtype=torch.float16,  # Mixed precision\n",
        "    device_map=\"auto\"\n",
        ")\n",
        "\n",
        "print(\"Modelo RoBERTa cargado exitosamente\")\n",
        "\n",
        "# Verificar configuración del pipeline\n",
        "print(f\"\\nConfiguración del pipeline:\")\n",
        "print(f\"- Tamaño de lote: 256 reviews\")\n",
        "print(f\"- Longitud máxima: 512 tokens\")\n",
        "print(f\"- Dispositivo: GPU con 16GB VRAM\")\n",
        "print(f\"- Precisión: Mixed FP16\")\n",
        "print(f\"- Velocidad esperada: ~400 reviews/segundo\")"
      ]
    },
    {
      "cell_type": "code",
      "execution_count": 7,
      "metadata": {},
      "outputs": [
        {
          "name": "stdout",
          "output_type": "stream",
          "text": [
            "Realizando prueba del modelo con review de ejemplo...\n",
            "Review de prueba: The food was amazing and the service was excellent! Highly recommend!\n",
            "\n",
            "Resultado del análisis:\n",
            "Resultado completo: [[{'label': 'negative', 'score': 0.004793301224708557}, {'label': 'neutral', 'score': 0.007540921214967966}, {'label': 'positive', 'score': 0.9876657724380493}]]\n",
            "\n",
            "Desglose de probabilidades por sentimiento:\n",
            "- negative: 0.0048 (0.48%)\n",
            "- neutral: 0.0075 (0.75%)\n",
            "- positive: 0.9877 (98.77%)\n",
            "\n",
            "Predicción principal: positive con 0.9877 de confianza\n",
            "\n",
            "Prueba completada exitosamente. El modelo está funcionando correctamente.\n"
          ]
        }
      ],
      "source": [
        "# Prueba del modelo con una review de ejemplo\n",
        "test_review = \"The food was amazing and the service was excellent! Highly recommend!\"\n",
        "print(\"Realizando prueba del modelo con review de ejemplo...\")\n",
        "print(f\"Review de prueba: {test_review}\")\n",
        "\n",
        "# Ejecutar análisis de sentimiento\n",
        "test_result = sentiment_pipeline(test_review)\n",
        "\n",
        "print(f\"\\nResultado del análisis:\")\n",
        "print(f\"Resultado completo: {test_result}\")\n",
        "\n",
        "# Mostrar detalle de probabilidades por clase\n",
        "print(f\"\\nDesglose de probabilidades por sentimiento:\")\n",
        "for score in test_result[0]:\n",
        "    probabilidad = score['score']\n",
        "    label = score['label']\n",
        "    print(f\"- {label}: {probabilidad:.4f} ({probabilidad*100:.2f}%)\")\n",
        "\n",
        "# Identificar predicción principal\n",
        "prediccion_principal = max(test_result[0], key=lambda x: x['score'])\n",
        "print(f\"\\nPredicción principal: {prediccion_principal['label']} con {prediccion_principal['score']:.4f} de confianza\")\n",
        "\n",
        "print(\"\\nPrueba completada exitosamente. El modelo está funcionando correctamente.\")"
      ]
    },
    {
      "cell_type": "markdown",
      "metadata": {},
      "source": [
        "## 5. Análisis de Sentimiento en Lotes\n",
        "\n",
        "### Procesamiento Eficiente\n",
        "\n",
        "Para procesar grandes volúmenes de reviews de manera eficiente:\n",
        "\n",
        "- **Procesamiento en lotes**: Grupos de 32 reviews por iteración\n",
        "- **Barra de progreso**: Seguimiento visual del avance usando tqdm\n",
        "- **Manejo de memoria**: Evita sobrecargar la RAM procesando todo de una vez\n",
        "- **Optimización GPU**: Aprovecha paralelización cuando está disponible\n",
        "\n",
        "### Estrategia de Procesamiento\n",
        "\n",
        "1. **División en lotes**: El dataset se divide automáticamente en grupos de 32 reviews\n",
        "2. **Procesamiento secuencial**: Cada lote se procesa de forma independiente\n",
        "3. **Acumulación de resultados**: Los resultados se van agregando progresivamente\n",
        "4. **Monitoreo**: Barra de progreso muestra tiempo estimado y velocidad\n",
        "\n",
        "### Tiempo Estimado\n",
        "\n",
        "- **CPU**: Aproximadamente 0.1-0.2 segundos por review\n",
        "- **GPU**: Aproximadamente 0.02-0.05 segundos por review\n",
        "- **100,000 reviews**: Entre 5-20 minutos dependiendo del hardware"
      ]
    },
    {
      "cell_type": "code",
      "execution_count": 8,
      "metadata": {},
      "outputs": [
        {
          "name": "stdout",
          "output_type": "stream",
          "text": [
            "Iniciando análisis de sentimiento para 100,000 reviews...\n",
            "Iniciando procesamiento en 391 lotes de 256 reviews cada uno...\n"
          ]
        },
        {
          "data": {
            "application/vnd.jupyter.widget-view+json": {
              "model_id": "8b80c704099f445b826cd1ae497cb4f3",
              "version_major": 2,
              "version_minor": 0
            },
            "text/plain": [
              "Procesando sentimientos:   0%|          | 0/391 [00:00<?, ?it/s]"
            ]
          },
          "metadata": {},
          "output_type": "display_data"
        },
        {
          "name": "stderr",
          "output_type": "stream",
          "text": [
            "You seem to be using the pipelines sequentially on GPU. In order to maximize efficiency please use a dataset\n"
          ]
        },
        {
          "name": "stdout",
          "output_type": "stream",
          "text": [
            "\n",
            "Análisis de sentimiento completado exitosamente\n",
            "Tiempo total de procesamiento: 173.22 segundos\n",
            "Promedio por review: 0.002 segundos\n",
            "Reviews procesadas: 100,000\n"
          ]
        }
      ],
      "source": [
        "# Función para procesar sentimientos en lotes eficientemente\n",
        "def analizar_sentimiento_en_lotes(texts, batch_size=256):\n",
        "    \"\"\"\n",
        "    Procesa una lista de textos para análisis de sentimiento en lotes\n",
        "    \n",
        "    Args:\n",
        "        texts (list): Lista de textos a analizar\n",
        "        batch_size (int): Número de textos por lote (default: 32)\n",
        "    \n",
        "    Returns:\n",
        "        list: Lista de resultados de análisis de sentimiento\n",
        "    \"\"\"\n",
        "    results = []\n",
        "    total_batches = len(texts) // batch_size + (1 if len(texts) % batch_size != 0 else 0)\n",
        "    \n",
        "    print(f\"Iniciando procesamiento en {total_batches} lotes de {batch_size} reviews cada uno...\")\n",
        "    \n",
        "    # Procesar en lotes con barra de progreso\n",
        "    for i in tqdm(range(0, len(texts), batch_size), desc=\"Procesando sentimientos\"):\n",
        "        batch = texts[i:i+batch_size]\n",
        "        batch_results = sentiment_pipeline(batch)\n",
        "        results.extend(batch_results)\n",
        "    \n",
        "    return results\n",
        "\n",
        "# Seleccionar 100,000 reviews aleatorias del DataFrame original\n",
        "N_MUESTRA = 100_000\n",
        "df_sample = df_complete.sample(n=N_MUESTRA, random_state=42)  # Usa .head(N_MUESTRA) para tomar las primeras\n",
        "\n",
        "print(f\"Iniciando análisis de sentimiento para {len(df_sample):,} reviews...\")\n",
        "\n",
        "import time\n",
        "start_time = time.time()\n",
        "\n",
        "# Usa la muestra en lugar de todo el DataFrame\n",
        "sentiment_results = analizar_sentimiento_en_lotes(df_sample['text'].tolist())\n",
        "\n",
        "end_time = time.time()\n",
        "tiempo_total = end_time - start_time\n",
        "\n",
        "print(f\"\\nAnálisis de sentimiento completado exitosamente\")\n",
        "print(f\"Tiempo total de procesamiento: {tiempo_total:.2f} segundos\")\n",
        "print(f\"Promedio por review: {tiempo_total/len(df_sample):.3f} segundos\")\n",
        "print(f\"Reviews procesadas: {len(sentiment_results):,}\")"
      ]
    },
    {
      "cell_type": "code",
      "execution_count": 9,
      "metadata": {},
      "outputs": [
        {
          "name": "stdout",
          "output_type": "stream",
          "text": [
            "Extrayendo predicciones y probabilidades...\n",
            "Resultados procesados y agregados al DataFrame\n",
            "\n",
            "Distribución de sentimientos predichos:\n",
            "predicted_sentiment\n",
            "positive    74472\n",
            "negative    20408\n",
            "neutral      5120\n",
            "Name: count, dtype: int64\n",
            "\n",
            "Porcentajes de predicciones:\n",
            "- positive: 74,472 reviews (74.5%)\n",
            "- negative: 20,408 reviews (20.4%)\n",
            "- neutral: 5,120 reviews (5.1%)\n",
            "\n",
            "Estadísticas de confianza del modelo:\n",
            "- Confianza promedio: 0.8746\n",
            "- Confianza mediana: 0.9504\n",
            "- Rango de confianza: 0.3345 - 0.9926\n"
          ]
        }
      ],
      "source": [
        "# Función para extraer predicciones y probabilidades de los resultados\n",
        "def extraer_predicciones(results):\n",
        "    \"\"\"\n",
        "    Extrae las predicciones principales y todas las probabilidades de los resultados\n",
        "    \n",
        "    Args:\n",
        "        results (list): Lista de resultados del modelo de sentimiento\n",
        "    \n",
        "    Returns:\n",
        "        tuple: (predicciones, detalles_scores)\n",
        "            - predicciones: Lista de etiquetas predichas principales\n",
        "            - detalles_scores: Lista de diccionarios con scores de todas las clases\n",
        "    \"\"\"\n",
        "    predictions = []\n",
        "    all_scores = []\n",
        "    \n",
        "    for result in results:\n",
        "        # Obtener la predicción con mayor probabilidad\n",
        "        main_pred = max(result, key=lambda x: x['score'])\n",
        "        predictions.append(main_pred['label'])\n",
        "        \n",
        "        # Crear diccionario con scores de todas las clases\n",
        "        score_dict = {item['label']: item['score'] for item in result}\n",
        "        all_scores.append(score_dict)\n",
        "    \n",
        "    return predictions, all_scores\n",
        "\n",
        "# Extraer predicciones y probabilidades de los resultados\n",
        "print(\"Extrayendo predicciones y probabilidades...\")\n",
        "predictions, score_details = extraer_predicciones(sentiment_results)\n",
        "\n",
        "# Agregar nuevas columnas al DataFrame de la muestra\n",
        "df_sample['predicted_sentiment'] = predictions\n",
        "df_sample['confidence'] = [max(scores.values()) for scores in score_details]\n",
        "\n",
        "# Agregar scores individuales para cada clase de sentimiento\n",
        "for label in ['NEGATIVE', 'NEUTRAL', 'POSITIVE']:\n",
        "    df_sample[f'score_{label.lower()}'] = [scores.get(label, 0) for scores in score_details]\n",
        "\n",
        "print(\"Resultados procesados y agregados al DataFrame\")\n",
        "\n",
        "# Mostrar distribución de predicciones\n",
        "print(f\"\\nDistribución de sentimientos predichos:\")\n",
        "distribucion_predicciones = df_sample['predicted_sentiment'].value_counts()\n",
        "print(distribucion_predicciones)\n",
        "\n",
        "# Mostrar porcentajes\n",
        "print(f\"\\nPorcentajes de predicciones:\")\n",
        "for sentiment, count in distribucion_predicciones.items():\n",
        "    porcentaje = (count / len(df_sample)) * 100\n",
        "    print(f\"- {sentiment}: {count:,} reviews ({porcentaje:.1f}%)\")\n",
        "\n",
        "# Estadísticas de confianza\n",
        "print(f\"\\nEstadísticas de confianza del modelo:\")\n",
        "print(f\"- Confianza promedio: {df_sample['confidence'].mean():.4f}\")\n",
        "print(f\"- Confianza mediana: {df_sample['confidence'].median():.4f}\")\n",
        "print(f\"- Rango de confianza: {df_sample['confidence'].min():.4f} - {df_sample['confidence'].max():.4f}\")"
      ]
    },
    {
      "cell_type": "markdown",
      "metadata": {},
      "source": [
        "## 6. Evaluación y Métricas de Rendimiento\n",
        "\n",
        "### Métricas de Evaluación\n",
        "\n",
        "Evaluaremos el rendimiento del modelo comparando las predicciones con los sentimientos esperados basados en las calificaciones por estrellas:\n",
        "\n",
        "**Métricas principales:**\n",
        "- **Accuracy**: Porcentaje de predicciones correctas\n",
        "- **Precision**: Proporción de predicciones positivas que son correctas\n",
        "- **Recall**: Proporción de casos positivos que fueron identificados correctamente\n",
        "- **F1-Score**: Media armónica entre precision y recall\n",
        "\n",
        "### Metodología de Validación\n",
        "\n",
        "- **Ground Truth**: Sentimientos esperados basados en mapeo de estrellas\n",
        "- **Predicciones**: Salida del modelo RoBERTa\n",
        "- **Comparación**: Análisis clase por clase (NEGATIVE, NEUTRAL, POSITIVE)\n",
        "- **Matriz de Confusión**: Visualización de errores y aciertos\n",
        "\n",
        "### Interpretación de Resultados\n",
        "\n",
        "- **Accuracy > 80%**: Rendimiento excelente para este tipo de análisis\n",
        "- **Accuracy 70-80%**: Rendimiento bueno, típico en análisis de sentimiento\n",
        "- **Accuracy < 70%**: Puede requerir ajustes o modelos más especializados"
      ]
    },
    {
      "cell_type": "code",
      "execution_count": 10,
      "metadata": {},
      "outputs": [
        {
          "name": "stdout",
          "output_type": "stream",
          "text": [
            "Valores únicos en expected_sentiment: ['POSITIVE' 'NEUTRAL' 'NEGATIVE']\n",
            "Valores únicos en predicted_sentiment: ['NEUTRAL' 'POSITIVE' 'NEGATIVE']\n",
            "Calculando métricas de evaluación...\n",
            "\n",
            "ACCURACY GENERAL DEL MODELO\n",
            "Accuracy: 0.8262 (82.62%)\n",
            "\n",
            "REPORTE DE CLASIFICACIÓN DETALLADO\n",
            "==================================================\n",
            "              precision    recall  f1-score   support\n",
            "\n",
            "    NEGATIVE       0.79      0.78      0.78     20584\n",
            "     NEUTRAL       0.28      0.13      0.17     11292\n",
            "    POSITIVE       0.87      0.96      0.91     68124\n",
            "\n",
            "    accuracy                           0.83    100000\n",
            "   macro avg       0.65      0.62      0.62    100000\n",
            "weighted avg       0.79      0.83      0.80    100000\n",
            "\n",
            "MÉTRICAS POR CLASE DE SENTIMIENTO\n",
            "==================================================\n",
            "\n",
            "NEGATIVE:\n",
            "  - Precision: 0.786\n",
            "  - Recall: 0.780\n",
            "  - F1-Score: 0.783\n",
            "  - Casos: 20584.0\n",
            "\n",
            "NEUTRAL:\n",
            "  - Precision: 0.278\n",
            "  - Recall: 0.126\n",
            "  - F1-Score: 0.173\n",
            "  - Casos: 11292.0\n",
            "\n",
            "POSITIVE:\n",
            "  - Precision: 0.875\n",
            "  - Recall: 0.956\n",
            "  - F1-Score: 0.914\n",
            "  - Casos: 68124.0\n",
            "\n",
            "ANÁLISIS DE CONFIANZA DEL MODELO\n",
            "==================================================\n",
            "- Confianza promedio: 0.8746\n",
            "- Confianza mediana: 0.9504\n",
            "- Confianza mínima: 0.3345\n",
            "- Confianza máxima: 0.9926\n",
            "- Desviación estándar: 0.1555\n",
            "\n",
            "DISTRIBUCIÓN POR NIVEL DE CONFIANZA\n",
            "- Alta confianza (>0.8): 78,019 (78.0%)\n",
            "- Confianza media (0.5-0.8): 17,304 (17.3%)\n",
            "- Baja confianza (≤0.5): 4,677 (4.7%)\n"
          ]
        }
      ],
      "source": [
        "from sklearn.metrics import accuracy_score, classification_report\n",
        "\n",
        "# Normalizamos etiquetas para evitar errores por diferencias de mayúsculas/minúsculas\n",
        "df_sample['expected_sentiment'] = df_sample['expected_sentiment'].str.upper().str.strip()\n",
        "df_sample['predicted_sentiment'] = df_sample['predicted_sentiment'].str.upper().str.strip()\n",
        "\n",
        "# (Opcional) Verifica los valores únicos después de normalizar\n",
        "print(\"Valores únicos en expected_sentiment:\", df_sample['expected_sentiment'].unique())\n",
        "print(\"Valores únicos en predicted_sentiment:\", df_sample['predicted_sentiment'].unique())\n",
        "\n",
        "print(\"Calculando métricas de evaluación...\")\n",
        "\n",
        "# Calcular accuracy general del modelo\n",
        "accuracy = accuracy_score(df_sample['expected_sentiment'], df_sample['predicted_sentiment'])\n",
        "print(f\"\\nACCURACY GENERAL DEL MODELO\")\n",
        "print(f\"Accuracy: {accuracy:.4f} ({accuracy*100:.2f}%)\")\n",
        "\n",
        "# Generar reporte de clasificación completo\n",
        "report = classification_report(\n",
        "    df_sample['expected_sentiment'], \n",
        "    df_sample['predicted_sentiment'],\n",
        "    output_dict=True\n",
        ")\n",
        "\n",
        "print(f\"\\nREPORTE DE CLASIFICACIÓN DETALLADO\")\n",
        "print(\"=\" * 50)\n",
        "print(classification_report(df_sample['expected_sentiment'], df_sample['predicted_sentiment']))\n",
        "\n",
        "# Análisis de métricas por clase\n",
        "print(f\"MÉTRICAS POR CLASE DE SENTIMIENTO\")\n",
        "print(\"=\" * 50)\n",
        "for sentiment in ['NEGATIVE', 'NEUTRAL', 'POSITIVE']:\n",
        "    if sentiment in report:\n",
        "        precision = report[sentiment]['precision']\n",
        "        recall = report[sentiment]['recall']\n",
        "        f1_score = report[sentiment]['f1-score']\n",
        "        support = report[sentiment]['support']\n",
        "        \n",
        "        print(f\"\\n{sentiment}:\")\n",
        "        print(f\"  - Precision: {precision:.3f}\")\n",
        "        print(f\"  - Recall: {recall:.3f}\")\n",
        "        print(f\"  - F1-Score: {f1_score:.3f}\")\n",
        "        print(f\"  - Casos: {support}\")\n",
        "\n",
        "# Estadísticas detalladas de confianza del modelo\n",
        "print(f\"\\nANÁLISIS DE CONFIANZA DEL MODELO\")\n",
        "print(\"=\" * 50)\n",
        "print(f\"- Confianza promedio: {df_sample['confidence'].mean():.4f}\")\n",
        "print(f\"- Confianza mediana: {df_sample['confidence'].median():.4f}\")\n",
        "print(f\"- Confianza mínima: {df_sample['confidence'].min():.4f}\")\n",
        "print(f\"- Confianza máxima: {df_sample['confidence'].max():.4f}\")\n",
        "print(f\"- Desviación estándar: {df_sample['confidence'].std():.4f}\")\n",
        "\n",
        "# Contar casos por rango de confianza\n",
        "high_confidence = (df_sample['confidence'] > 0.8).sum()\n",
        "medium_confidence = ((df_sample['confidence'] > 0.5) & (df_sample['confidence'] <= 0.8)).sum()\n",
        "low_confidence = (df_sample['confidence'] <= 0.5).sum()\n",
        "\n",
        "print(f\"\\nDISTRIBUCIÓN POR NIVEL DE CONFIANZA\")\n",
        "print(f\"- Alta confianza (>0.8): {high_confidence:,} ({high_confidence/len(df_sample)*100:.1f}%)\")\n",
        "print(f\"- Confianza media (0.5-0.8): {medium_confidence:,} ({medium_confidence/len(df_sample)*100:.1f}%)\")\n",
        "print(f\"- Baja confianza (≤0.5): {low_confidence:,} ({low_confidence/len(df_sample)*100:.1f}%)\")"
      ]
    },
    {
      "cell_type": "markdown",
      "metadata": {},
      "source": [
        "## 7. Análisis de Correlación con Calificaciones Originales\n",
        "\n",
        "### Validación Cruzada con Estrellas\n",
        "\n",
        "Este análisis compara las predicciones del modelo con las calificaciones originales por estrellas para:\n",
        "\n",
        "- **Validar coherencia**: Verificar si las predicciones coinciden con las expectativas\n",
        "- **Identificar patrones**: Descubrir en qué rangos de estrellas el modelo es más preciso\n",
        "- **Detectar discrepancias**: Encontrar casos donde modelo y estrellas difieren significativamente\n",
        "\n",
        "### Metodología de Análisis\n",
        "\n",
        "Para cada nivel de calificación (1-5 estrellas):\n",
        "- **Accuracy específica**: Porcentaje de predicciones correctas para ese nivel\n",
        "- **Distribución de predicciones**: Cómo se distribuyen los sentimientos predichos\n",
        "- **Confianza promedio**: Nivel de certeza del modelo para ese rango\n",
        "\n",
        "### Interpretación Esperada\n",
        "\n",
        "- **1-2 estrellas**: Alta accuracy para NEGATIVE (>85%)\n",
        "- **3 estrellas**: Menor accuracy, mezcla de sentimientos\n",
        "- **4-5 estrellas**: Alta accuracy para POSITIVE (>85%)\n",
        "\n",
        "### Casos de Interés\n",
        "\n",
        "- **Falsos positivos**: Reviews con pocas estrellas pero sentimiento positivo predicho\n",
        "- **Falsos negativos**: Reviews con muchas estrellas pero sentimiento negativo predicho"
      ]
    },
    {
      "cell_type": "code",
      "execution_count": 11,
      "metadata": {},
      "outputs": [
        {
          "name": "stdout",
          "output_type": "stream",
          "text": [
            "ANÁLISIS DE CORRELACIÓN: PREDICCIONES vs CALIFICACIONES ORIGINALES\n",
            "======================================================================\n",
            "\n",
            "1 ESTRELLA(S) - 12026 reviews\n",
            "Sentimiento esperado: NEGATIVE\n",
            "Accuracy específica: 0.851 (85.1%)\n",
            "Confianza promedio: 0.814\n",
            "Distribución de predicciones:\n",
            "  - NEGATIVE: 10229 reviews (85.1%)\n",
            "  - NEUTRAL: 979 reviews (8.1%)\n",
            "  - POSITIVE: 818 reviews (6.8%)\n",
            "\n",
            "2 ESTRELLA(S) - 8558 reviews\n",
            "Sentimiento esperado: NEGATIVE\n",
            "Accuracy específica: 0.680 (68.0%)\n",
            "Confianza promedio: 0.740\n",
            "Distribución de predicciones:\n",
            "  - NEGATIVE: 5818 reviews (68.0%)\n",
            "  - POSITIVE: 1848 reviews (21.6%)\n",
            "  - NEUTRAL: 892 reviews (10.4%)\n",
            "\n",
            "3 ESTRELLA(S) - 11292 reviews\n",
            "Sentimiento esperado: NEUTRAL\n",
            "Accuracy específica: 0.126 (12.6%)\n",
            "Confianza promedio: 0.740\n",
            "Distribución de predicciones:\n",
            "  - POSITIVE: 6658 reviews (59.0%)\n",
            "  - NEGATIVE: 3212 reviews (28.4%)\n",
            "  - NEUTRAL: 1422 reviews (12.6%)\n",
            "\n",
            "4 ESTRELLA(S) - 23727 reviews\n",
            "Sentimiento esperado: POSITIVE\n",
            "Accuracy específica: 0.920 (92.0%)\n",
            "Confianza promedio: 0.884\n",
            "Distribución de predicciones:\n",
            "  - POSITIVE: 21822 reviews (92.0%)\n",
            "  - NEUTRAL: 1164 reviews (4.9%)\n",
            "  - NEGATIVE: 741 reviews (3.1%)\n",
            "\n",
            "5 ESTRELLA(S) - 44397 reviews\n",
            "Sentimiento esperado: POSITIVE\n",
            "Accuracy específica: 0.976 (97.6%)\n",
            "Confianza promedio: 0.946\n",
            "Distribución de predicciones:\n",
            "  - POSITIVE: 43326 reviews (97.6%)\n",
            "  - NEUTRAL: 663 reviews (1.5%)\n",
            "  - NEGATIVE: 408 reviews (0.9%)\n",
            "\n",
            "RESUMEN DE CORRELACIÓN\n",
            "==============================\n",
            "Total de niveles de calificación analizados: 5\n",
            "Mejor accuracy: 5 estrellas (0.976)\n",
            "Peor accuracy: 3 estrellas (0.126)\n",
            "\n",
            "Datos de correlación preparados para visualización y análisis posterior\n"
          ]
        }
      ],
      "source": [
        "print(\"ANÁLISIS DE CORRELACIÓN: PREDICCIONES vs CALIFICACIONES ORIGINALES\")\n",
        "print(\"=\" * 70)\n",
        "\n",
        "correlation_data = []\n",
        "\n",
        "# Analizar cada nivel de calificación por estrellas usando df_muestra\n",
        "for stars in sorted(df_sample['stars'].unique()):\n",
        "    subset = df_sample[df_sample['stars'] == stars]\n",
        "    \n",
        "    if len(subset) > 0:\n",
        "        # Obtener sentimiento esperado para este nivel de estrellas\n",
        "        expected = subset['expected_sentiment'].iloc[0]\n",
        "        \n",
        "        # Distribución de predicciones para este nivel de estrellas\n",
        "        pred_dist = subset['predicted_sentiment'].value_counts()\n",
        "        \n",
        "        # Calcular accuracy específica para este nivel\n",
        "        accuracy_star = (subset['predicted_sentiment'] == expected).mean()\n",
        "        \n",
        "        # Calcular confianza promedio para este nivel\n",
        "        avg_confidence = subset['confidence'].mean()\n",
        "        \n",
        "        # Mostrar resultados\n",
        "        print(f\"\\n{stars} ESTRELLA(S) - {len(subset)} reviews\")\n",
        "        print(f\"Sentimiento esperado: {expected}\")\n",
        "        print(f\"Accuracy específica: {accuracy_star:.3f} ({accuracy_star*100:.1f}%)\")\n",
        "        print(f\"Confianza promedio: {avg_confidence:.3f}\")\n",
        "        \n",
        "        print(f\"Distribución de predicciones:\")\n",
        "        for sentiment, count in pred_dist.items():\n",
        "            porcentaje = (count / len(subset)) * 100\n",
        "            print(f\"  - {sentiment}: {count} reviews ({porcentaje:.1f}%)\")\n",
        "        \n",
        "        # Guardar datos para análisis posterior y visualización\n",
        "        correlation_data.append({\n",
        "            'stars': stars,\n",
        "            'expected': expected,\n",
        "            'accuracy': accuracy_star,\n",
        "            'confidence': avg_confidence,\n",
        "            'count': len(subset),\n",
        "            'pred_dist': dict(pred_dist)\n",
        "        })\n",
        "\n",
        "# Crear DataFrame con datos de correlación\n",
        "correlation_df = pd.DataFrame(correlation_data)\n",
        "\n",
        "print(f\"\\nRESUMEN DE CORRELACIÓN\")\n",
        "print(\"=\" * 30)\n",
        "print(f\"Total de niveles de calificación analizados: {len(correlation_df)}\")\n",
        "\n",
        "# Identificar el mejor y peor rendimiento\n",
        "best_accuracy_idx = correlation_df['accuracy'].idxmax()\n",
        "worst_accuracy_idx = correlation_df['accuracy'].idxmin()\n",
        "\n",
        "best_stars = correlation_df.loc[best_accuracy_idx, 'stars']\n",
        "best_accuracy = correlation_df.loc[best_accuracy_idx, 'accuracy']\n",
        "worst_stars = correlation_df.loc[worst_accuracy_idx, 'stars']\n",
        "worst_accuracy = correlation_df.loc[worst_accuracy_idx, 'accuracy']\n",
        "\n",
        "print(f\"Mejor accuracy: {best_stars} estrellas ({best_accuracy:.3f})\")\n",
        "print(f\"Peor accuracy: {worst_stars} estrellas ({worst_accuracy:.3f})\")\n",
        "\n",
        "print(f\"\\nDatos de correlación preparados para visualización y análisis posterior\")"
      ]
    },
    {
      "cell_type": "markdown",
      "metadata": {},
      "source": [
        "## 8. Visualizaciones y Análisis Gráfico\n",
        "\n",
        "### Visualizaciones Incluidas\n",
        "\n",
        "Este apartado presenta múltiples visualizaciones para analizar los resultados:\n",
        "\n",
        "**Gráficos estáticos (Matplotlib/Seaborn):**\n",
        "- **Matriz de Confusión**: Comparación visual entre predicciones y expectativas\n",
        "- **Distribución de Confianza**: Histograma de niveles de confianza del modelo\n",
        "- **Correlación por Estrellas**: Accuracy del modelo por nivel de calificación\n",
        "\n",
        "**Gráficos interactivos (Plotly):**\n",
        "- **Distribución de Sentimientos**: Comparación interactiva entre predicciones y expectativas\n",
        "- **Análisis de Confianza**: Boxplot interactivo por categoría de sentimiento\n",
        "- **Correlación con Estrellas**: Scatter plot interactivo con múltiples métricas\n",
        "\n",
        "### Configuración de Visualización\n",
        "\n",
        "- **Estilo**: Seaborn moderno con paleta de colores consistente\n",
        "- **Tamaño**: Gráficos optimizados para notebooks (12x8 inches)\n",
        "- **Colores**: Paleta diferenciada por sentimiento (rojo, amarillo, verde)\n",
        "- **Interactividad**: Zoom, hover, y filtros en gráficos Plotly"
      ]
    },
    {
      "cell_type": "code",
      "execution_count": 12,
      "metadata": {},
      "outputs": [
        {
          "name": "stdout",
          "output_type": "stream",
          "text": [
            "Generando matriz de confusión...\n"
          ]
        },
        {
          "data": {
            "image/png": "[encoded data removed]",
            "text/plain": [
              "<Figure size 1000x800 with 2 Axes>"
            ]
          },
          "metadata": {},
          "output_type": "display_data"
        },
        {
          "name": "stdout",
          "output_type": "stream",
          "text": [
            "Matriz de confusión generada exitosamente\n",
            "\n",
            "Interpretación de la matriz de confusión:\n",
            "- Diagonal principal: Predicciones correctas\n",
            "- Fuera de diagonal: Predicciones incorrectas\n",
            "- Valores más altos en diagonal indican mejor rendimiento\n"
          ]
        }
      ],
      "source": [
        "# Visualización 1: Matriz de Confusión del Modelo RoBERTa\n",
        "plt.figure(figsize=(10, 8))\n",
        "\n",
        "print(\"Generando matriz de confusión...\")\n",
        "\n",
        "# Crear matriz de confusión comparando predicciones vs sentimientos esperados\n",
        "cm = confusion_matrix(df_sample['expected_sentiment'], df_sample['predicted_sentiment'])\n",
        "labels = ['NEGATIVE', 'NEUTRAL', 'POSITIVE']\n",
        "\n",
        "# Crear heatmap con configuración optimizada\n",
        "sns.heatmap(cm, \n",
        "            annot=True, \n",
        "            fmt='d', \n",
        "            cmap='Blues',\n",
        "            xticklabels=labels,\n",
        "            yticklabels=labels,\n",
        "            cbar_kws={'label': 'Número de Predicciones'},\n",
        "            square=True,\n",
        "            linewidths=0.5)\n",
        "\n",
        "plt.title('Matriz de Confusión - Modelo RoBERTa\\nPredicciones vs Sentimientos Esperados', \n",
        "          fontsize=16, fontweight='bold', pad=20)\n",
        "plt.xlabel('Predicción del Modelo', fontsize=12)\n",
        "plt.ylabel('Sentimiento Esperado (basado en estrellas)', fontsize=12)\n",
        "plt.tight_layout()\n",
        "plt.savefig('../../figures/complete_analysis/sentiment_confusion_matrix.png', dpi=300, bbox_inches='tight')\n",
        "plt.show()\n",
        "\n",
        "print(\"Matriz de confusión generada exitosamente\")\n",
        "\n",
        "# Mostrar interpretación de la matriz\n",
        "print(\"\\nInterpretación de la matriz de confusión:\")\n",
        "print(\"- Diagonal principal: Predicciones correctas\")\n",
        "print(\"- Fuera de diagonal: Predicciones incorrectas\")\n",
        "print(\"- Valores más altos en diagonal indican mejor rendimiento\")"
      ]
    },
    {
      "cell_type": "code",
      "execution_count": 13,
      "metadata": {},
      "outputs": [
        {
          "name": "stdout",
          "output_type": "stream",
          "text": [
            "Generando gráfico interactivo de accuracy por calificación...\n"
          ]
        },
        {
          "data": {
            "application/vnd.plotly.v1+json": {
              "config": {
                "plotlyServerURL": "https://plot.ly"
              },
              "data": [
                {
                  "customdata": {
                    "bdata": "+i4AAG4hAAAcLAAAr1wAAG2tAAA=",
                    "dtype": "i4",
                    "shape": "5, 1"
                  },
                  "hovertemplate": "Calificación por Estrellas=%{x}<br>Accuracy del Modelo=%{y}<br>Número de Reviews=%{customdata[0]}<br>Confianza Promedio=%{marker.color}<extra></extra>",
                  "legendgroup": "",
                  "marker": {
                    "color": {
                      "bdata": "GwFeMEoL6j/kqM9P5q3nP7v+Ac4irec/cpjhDVJI7D/3OoZFzUjuPw==",
                      "dtype": "f8"
                    },
                    "coloraxis": "coloraxis",
                    "pattern": {
                      "shape": ""
                    }
                  },
                  "name": "",
                  "orientation": "v",
                  "showlegend": false,
                  "textposition": "auto",
                  "type": "bar",
                  "x": {
                    "bdata": "AQIDBAU=",
                    "dtype": "i1"
                  },
                  "xaxis": "x",
                  "y": {
                    "bdata": "wpqRdOY36z8uFVJ8LsHlP1CnHT94HsA/3ghWRkdu7T+au+3fYTrvPw==",
                    "dtype": "f8"
                  },
                  "yaxis": "y"
                }
              ],
              "layout": {
                "annotations": [
                  {
                    "showarrow": false,
                    "text": "Accuracy General: 0.826",
                    "x": 1,
                    "xanchor": "right",
                    "xref": "x domain",
                    "y": 0.82617,
                    "yanchor": "bottom",
                    "yref": "y"
                  }
                ],
                "barmode": "relative",
                "coloraxis": {
                  "colorbar": {
                    "title": {
                      "text": "Confianza Promedio"
                    }
                  },
                  "colorscale": [
                    [
                      0,
                      "#440154"
                    ],
                    [
                      0.1111111111111111,
                      "#482878"
                    ],
                    [
                      0.2222222222222222,
                      "#3e4989"
                    ],
                    [
                      0.3333333333333333,
                      "#31688e"
                    ],
                    [
                      0.4444444444444444,
                      "#26828e"
                    ],
                    [
                      0.5555555555555556,
                      "#1f9e89"
                    ],
                    [
                      0.6666666666666666,
                      "#35b779"
                    ],
                    [
                      0.7777777777777778,
                      "#6ece58"
                    ],
                    [
                      0.8888888888888888,
                      "#b5de2b"
                    ],
                    [
                      1,
                      "#fde725"
                    ]
                  ]
                },
                "font": {
                  "size": 12
                },
                "height": 500,
                "legend": {
                  "tracegroupgap": 0
                },
                "shapes": [
                  {
                    "line": {
                      "color": "red",
                      "dash": "dash"
                    },
                    "type": "line",
                    "x0": 0,
                    "x1": 1,
                    "xref": "x domain",
                    "y0": 0.82617,
                    "y1": 0.82617,
                    "yref": "y"
                  }
                ],
                "template": {
                  "data": {
                    "bar": [
                      {
                        "error_x": {
                          "color": "#2a3f5f"
                        },
                        "error_y": {
                          "color": "#2a3f5f"
                        },
                        "marker": {
                          "line": {
                            "color": "#E5ECF6",
                            "width": 0.5
                          },
                          "pattern": {
                            "fillmode": "overlay",
                            "size": 10,
                            "solidity": 0.2
                          }
                        },
                        "type": "bar"
                      }
                    ],
                    "barpolar": [
                      {
                        "marker": {
                          "line": {
                            "color": "#E5ECF6",
                            "width": 0.5
                          },
                          "pattern": {
                            "fillmode": "overlay",
                            "size": 10,
                            "solidity": 0.2
                          }
                        },
                        "type": "barpolar"
                      }
                    ],
                    "carpet": [
                      {
                        "aaxis": {
                          "endlinecolor": "#2a3f5f",
                          "gridcolor": "white",
                          "linecolor": "white",
                          "minorgridcolor": "white",
                          "startlinecolor": "#2a3f5f"
                        },
                        "baxis": {
                          "endlinecolor": "#2a3f5f",
                          "gridcolor": "white",
                          "linecolor": "white",
                          "minorgridcolor": "white",
                          "startlinecolor": "#2a3f5f"
                        },
                        "type": "carpet"
                      }
                    ],
                    "choropleth": [
                      {
                        "colorbar": {
                          "outlinewidth": 0,
                          "ticks": ""
                        },
                        "type": "choropleth"
                      }
                    ],
                    "contour": [
                      {
                        "colorbar": {
                          "outlinewidth": 0,
                          "ticks": ""
                        },
                        "colorscale": [
                          [
                            0,
                            "#0d0887"
                          ],
                          [
                            0.1111111111111111,
                            "#46039f"
                          ],
                          [
                            0.2222222222222222,
                            "#7201a8"
                          ],
                          [
                            0.3333333333333333,
                            "#9c179e"
                          ],
                          [
                            0.4444444444444444,
                            "#bd3786"
                          ],
                          [
                            0.5555555555555556,
                            "#d8576b"
                          ],
                          [
                            0.6666666666666666,
                            "#ed7953"
                          ],
                          [
                            0.7777777777777778,
                            "#fb9f3a"
                          ],
                          [
                            0.8888888888888888,
                            "#fdca26"
                          ],
                          [
                            1,
                            "#f0f921"
                          ]
                        ],
                        "type": "contour"
                      }
                    ],
                    "contourcarpet": [
                      {
                        "colorbar": {
                          "outlinewidth": 0,
                          "ticks": ""
                        },
                        "type": "contourcarpet"
                      }
                    ],
                    "heatmap": [
                      {
                        "colorbar": {
                          "outlinewidth": 0,
                          "ticks": ""
                        },
                        "colorscale": [
                          [
                            0,
                            "#0d0887"
                          ],
                          [
                            0.1111111111111111,
                            "#46039f"
                          ],
                          [
                            0.2222222222222222,
                            "#7201a8"
                          ],
                          [
                            0.3333333333333333,
                            "#9c179e"
                          ],
                          [
                            0.4444444444444444,
                            "#bd3786"
                          ],
                          [
                            0.5555555555555556,
                            "#d8576b"
                          ],
                          [
                            0.6666666666666666,
                            "#ed7953"
                          ],
                          [
                            0.7777777777777778,
                            "#fb9f3a"
                          ],
                          [
                            0.8888888888888888,
                            "#fdca26"
                          ],
                          [
                            1,
                            "#f0f921"
                          ]
                        ],
                        "type": "heatmap"
                      }
                    ],
                    "histogram": [
                      {
                        "marker": {
                          "pattern": {
                            "fillmode": "overlay",
                            "size": 10,
                            "solidity": 0.2
                          }
                        },
                        "type": "histogram"
                      }
                    ],
                    "histogram2d": [
                      {
                        "colorbar": {
                          "outlinewidth": 0,
                          "ticks": ""
                        },
                        "colorscale": [
                          [
                            0,
                            "#0d0887"
                          ],
                          [
                            0.1111111111111111,
                            "#46039f"
                          ],
                          [
                            0.2222222222222222,
                            "#7201a8"
                          ],
                          [
                            0.3333333333333333,
                            "#9c179e"
                          ],
                          [
                            0.4444444444444444,
                            "#bd3786"
                          ],
                          [
                            0.5555555555555556,
                            "#d8576b"
                          ],
                          [
                            0.6666666666666666,
                            "#ed7953"
                          ],
                          [
                            0.7777777777777778,
                            "#fb9f3a"
                          ],
                          [
                            0.8888888888888888,
                            "#fdca26"
                          ],
                          [
                            1,
                            "#f0f921"
                          ]
                        ],
                        "type": "histogram2d"
                      }
                    ],
                    "histogram2dcontour": [
                      {
                        "colorbar": {
                          "outlinewidth": 0,
                          "ticks": ""
                        },
                        "colorscale": [
                          [
                            0,
                            "#0d0887"
                          ],
                          [
                            0.1111111111111111,
                            "#46039f"
                          ],
                          [
                            0.2222222222222222,
                            "#7201a8"
                          ],
                          [
                            0.3333333333333333,
                            "#9c179e"
                          ],
                          [
                            0.4444444444444444,
                            "#bd3786"
                          ],
                          [
                            0.5555555555555556,
                            "#d8576b"
                          ],
                          [
                            0.6666666666666666,
                            "#ed7953"
                          ],
                          [
                            0.7777777777777778,
                            "#fb9f3a"
                          ],
                          [
                            0.8888888888888888,
                            "#fdca26"
                          ],
                          [
                            1,
                            "#f0f921"
                          ]
                        ],
                        "type": "histogram2dcontour"
                      }
                    ],
                    "mesh3d": [
                      {
                        "colorbar": {
                          "outlinewidth": 0,
                          "ticks": ""
                        },
                        "type": "mesh3d"
                      }
                    ],
                    "parcoords": [
                      {
                        "line": {
                          "colorbar": {
                            "outlinewidth": 0,
                            "ticks": ""
                          }
                        },
                        "type": "parcoords"
                      }
                    ],
                    "pie": [
                      {
                        "automargin": true,
                        "type": "pie"
                      }
                    ],
                    "scatter": [
                      {
                        "fillpattern": {
                          "fillmode": "overlay",
                          "size": 10,
                          "solidity": 0.2
                        },
                        "type": "scatter"
                      }
                    ],
                    "scatter3d": [
                      {
                        "line": {
                          "colorbar": {
                            "outlinewidth": 0,
                            "ticks": ""
                          }
                        },
                        "marker": {
                          "colorbar": {
                            "outlinewidth": 0,
                            "ticks": ""
                          }
                        },
                        "type": "scatter3d"
                      }
                    ],
                    "scattercarpet": [
                      {
                        "marker": {
                          "colorbar": {
                            "outlinewidth": 0,
                            "ticks": ""
                          }
                        },
                        "type": "scattercarpet"
                      }
                    ],
                    "scattergeo": [
                      {
                        "marker": {
                          "colorbar": {
                            "outlinewidth": 0,
                            "ticks": ""
                          }
                        },
                        "type": "scattergeo"
                      }
                    ],
                    "scattergl": [
                      {
                        "marker": {
                          "colorbar": {
                            "outlinewidth": 0,
                            "ticks": ""
                          }
                        },
                        "type": "scattergl"
                      }
                    ],
                    "scattermap": [
                      {
                        "marker": {
                          "colorbar": {
                            "outlinewidth": 0,
                            "ticks": ""
                          }
                        },
                        "type": "scattermap"
                      }
                    ],
                    "scattermapbox": [
                      {
                        "marker": {
                          "colorbar": {
                            "outlinewidth": 0,
                            "ticks": ""
                          }
                        },
                        "type": "scattermapbox"
                      }
                    ],
                    "scatterpolar": [
                      {
                        "marker": {
                          "colorbar": {
                            "outlinewidth": 0,
                            "ticks": ""
                          }
                        },
                        "type": "scatterpolar"
                      }
                    ],
                    "scatterpolargl": [
                      {
                        "marker": {
                          "colorbar": {
                            "outlinewidth": 0,
                            "ticks": ""
                          }
                        },
                        "type": "scatterpolargl"
                      }
                    ],
                    "scatterternary": [
                      {
                        "marker": {
                          "colorbar": {
                            "outlinewidth": 0,
                            "ticks": ""
                          }
                        },
                        "type": "scatterternary"
                      }
                    ],
                    "surface": [
                      {
                        "colorbar": {
                          "outlinewidth": 0,
                          "ticks": ""
                        },
                        "colorscale": [
                          [
                            0,
                            "#0d0887"
                          ],
                          [
                            0.1111111111111111,
                            "#46039f"
                          ],
                          [
                            0.2222222222222222,
                            "#7201a8"
                          ],
                          [
                            0.3333333333333333,
                            "#9c179e"
                          ],
                          [
                            0.4444444444444444,
                            "#bd3786"
                          ],
                          [
                            0.5555555555555556,
                            "#d8576b"
                          ],
                          [
                            0.6666666666666666,
                            "#ed7953"
                          ],
                          [
                            0.7777777777777778,
                            "#fb9f3a"
                          ],
                          [
                            0.8888888888888888,
                            "#fdca26"
                          ],
                          [
                            1,
                            "#f0f921"
                          ]
                        ],
                        "type": "surface"
                      }
                    ],
                    "table": [
                      {
                        "cells": {
                          "fill": {
                            "color": "#EBF0F8"
                          },
                          "line": {
                            "color": "white"
                          }
                        },
                        "header": {
                          "fill": {
                            "color": "#C8D4E3"
                          },
                          "line": {
                            "color": "white"
                          }
                        },
                        "type": "table"
                      }
                    ]
                  },
                  "layout": {
                    "annotationdefaults": {
                      "arrowcolor": "#2a3f5f",
                      "arrowhead": 0,
                      "arrowwidth": 1
                    },
                    "autotypenumbers": "strict",
                    "coloraxis": {
                      "colorbar": {
                        "outlinewidth": 0,
                        "ticks": ""
                      }
                    },
                    "colorscale": {
                      "diverging": [
                        [
                          0,
                          "#8e0152"
                        ],
                        [
                          0.1,
                          "#c51b7d"
                        ],
                        [
                          0.2,
                          "#de77ae"
                        ],
                        [
                          0.3,
                          "#f1b6da"
                        ],
                        [
                          0.4,
                          "#fde0ef"
                        ],
                        [
                          0.5,
                          "#f7f7f7"
                        ],
                        [
                          0.6,
                          "#e6f5d0"
                        ],
                        [
                          0.7,
                          "#b8e186"
                        ],
                        [
                          0.8,
                          "#7fbc41"
                        ],
                        [
                          0.9,
                          "#4d9221"
                        ],
                        [
                          1,
                          "#276419"
                        ]
                      ],
                      "sequential": [
                        [
                          0,
                          "#0d0887"
                        ],
                        [
                          0.1111111111111111,
                          "#46039f"
                        ],
                        [
                          0.2222222222222222,
                          "#7201a8"
                        ],
                        [
                          0.3333333333333333,
                          "#9c179e"
                        ],
                        [
                          0.4444444444444444,
                          "#bd3786"
                        ],
                        [
                          0.5555555555555556,
                          "#d8576b"
                        ],
                        [
                          0.6666666666666666,
                          "#ed7953"
                        ],
                        [
                          0.7777777777777778,
                          "#fb9f3a"
                        ],
                        [
                          0.8888888888888888,
                          "#fdca26"
                        ],
                        [
                          1,
                          "#f0f921"
                        ]
                      ],
                      "sequentialminus": [
                        [
                          0,
                          "#0d0887"
                        ],
                        [
                          0.1111111111111111,
                          "#46039f"
                        ],
                        [
                          0.2222222222222222,
                          "#7201a8"
                        ],
                        [
                          0.3333333333333333,
                          "#9c179e"
                        ],
                        [
                          0.4444444444444444,
                          "#bd3786"
                        ],
                        [
                          0.5555555555555556,
                          "#d8576b"
                        ],
                        [
                          0.6666666666666666,
                          "#ed7953"
                        ],
                        [
                          0.7777777777777778,
                          "#fb9f3a"
                        ],
                        [
                          0.8888888888888888,
                          "#fdca26"
                        ],
                        [
                          1,
                          "#f0f921"
                        ]
                      ]
                    },
                    "colorway": [
                      "#636efa",
                      "#EF553B",
                      "#00cc96",
                      "#ab63fa",
                      "#FFA15A",
                      "#19d3f3",
                      "#FF6692",
                      "#B6E880",
                      "#FF97FF",
                      "#FECB52"
                    ],
                    "font": {
                      "color": "#2a3f5f"
                    },
                    "geo": {
                      "bgcolor": "white",
                      "lakecolor": "white",
                      "landcolor": "#E5ECF6",
                      "showlakes": true,
                      "showland": true,
                      "subunitcolor": "white"
                    },
                    "hoverlabel": {
                      "align": "left"
                    },
                    "hovermode": "closest",
                    "mapbox": {
                      "style": "light"
                    },
                    "paper_bgcolor": "white",
                    "plot_bgcolor": "#E5ECF6",
                    "polar": {
                      "angularaxis": {
                        "gridcolor": "white",
                        "linecolor": "white",
                        "ticks": ""
                      },
                      "bgcolor": "#E5ECF6",
                      "radialaxis": {
                        "gridcolor": "white",
                        "linecolor": "white",
                        "ticks": ""
                      }
                    },
                    "scene": {
                      "xaxis": {
                        "backgroundcolor": "#E5ECF6",
                        "gridcolor": "white",
                        "gridwidth": 2,
                        "linecolor": "white",
                        "showbackground": true,
                        "ticks": "",
                        "zerolinecolor": "white"
                      },
                      "yaxis": {
                        "backgroundcolor": "#E5ECF6",
                        "gridcolor": "white",
                        "gridwidth": 2,
                        "linecolor": "white",
                        "showbackground": true,
                        "ticks": "",
                        "zerolinecolor": "white"
                      },
                      "zaxis": {
                        "backgroundcolor": "#E5ECF6",
                        "gridcolor": "white",
                        "gridwidth": 2,
                        "linecolor": "white",
                        "showbackground": true,
                        "ticks": "",
                        "zerolinecolor": "white"
                      }
                    },
                    "shapedefaults": {
                      "line": {
                        "color": "#2a3f5f"
                      }
                    },
                    "ternary": {
                      "aaxis": {
                        "gridcolor": "white",
                        "linecolor": "white",
                        "ticks": ""
                      },
                      "baxis": {
                        "gridcolor": "white",
                        "linecolor": "white",
                        "ticks": ""
                      },
                      "bgcolor": "#E5ECF6",
                      "caxis": {
                        "gridcolor": "white",
                        "linecolor": "white",
                        "ticks": ""
                      }
                    },
                    "title": {
                      "x": 0.05
                    },
                    "xaxis": {
                      "automargin": true,
                      "gridcolor": "white",
                      "linecolor": "white",
                      "ticks": "",
                      "title": {
                        "standoff": 15
                      },
                      "zerolinecolor": "white",
                      "zerolinewidth": 2
                    },
                    "yaxis": {
                      "automargin": true,
                      "gridcolor": "white",
                      "linecolor": "white",
                      "ticks": "",
                      "title": {
                        "standoff": 15
                      },
                      "zerolinecolor": "white",
                      "zerolinewidth": 2
                    }
                  }
                },
                "title": {
                  "text": "Accuracy del Modelo por Calificación Original<br><sub>Tamaño indica número de reviews, color indica confianza promedio</sub>"
                },
                "xaxis": {
                  "anchor": "y",
                  "domain": [
                    0,
                    1
                  ],
                  "title": {
                    "text": "Calificación por Estrellas"
                  }
                },
                "yaxis": {
                  "anchor": "x",
                  "domain": [
                    0,
                    1
                  ],
                  "title": {
                    "text": "Accuracy del Modelo"
                  }
                }
              }
            }
          },
          "metadata": {},
          "output_type": "display_data"
        },
        {
          "name": "stdout",
          "output_type": "stream",
          "text": [
            "Gráfico interactivo de accuracy generado exitosamente\n",
            "\n",
            "Interpretación del gráfico:\n",
            "- Barras más altas indican mejor accuracy para esa calificación\n",
            "- Colores más claros indican mayor confianza promedio\n",
            "- Tamaño de barra proporcional al número de reviews\n",
            "- Línea roja indica accuracy general del modelo\n"
          ]
        }
      ],
      "source": [
        "# Visualización 2: Accuracy del Modelo por Calificación (Gráfico Interactivo)\n",
        "print(\"Generando gráfico interactivo de accuracy por calificación...\")\n",
        "\n",
        "fig = px.bar(correlation_df, \n",
        "             x='stars', \n",
        "             y='accuracy',\n",
        "             color='confidence',\n",
        "             title='Accuracy del Modelo por Calificación Original<br><sub>Tamaño indica número de reviews, color indica confianza promedio</sub>',\n",
        "             labels={'stars': 'Calificación por Estrellas', \n",
        "                    'accuracy': 'Accuracy del Modelo', \n",
        "                    'confidence': 'Confianza Promedio',\n",
        "                    'count': 'Número de Reviews'},\n",
        "             color_continuous_scale='Viridis',\n",
        "             hover_data=['count'])\n",
        "\n",
        "# Personalizar diseño del gráfico\n",
        "fig.update_layout(\n",
        "    height=500,\n",
        "    xaxis_title=\"Calificación por Estrellas\",\n",
        "    yaxis_title=\"Accuracy del Modelo\",\n",
        "    coloraxis_colorbar=dict(title=\"Confianza Promedio\"),\n",
        "    font=dict(size=12)\n",
        ")\n",
        "\n",
        "# Agregar línea de referencia para accuracy general\n",
        "accuracy_general = df_sample['expected_sentiment'].eq(df_sample['predicted_sentiment']).mean()\n",
        "fig.add_hline(y=accuracy_general, line_dash=\"dash\", line_color=\"red\",\n",
        "              annotation_text=f\"Accuracy General: {accuracy_general:.3f}\")\n",
        "\n",
        "# Guardar gráfico interactivo\n",
        "fig.write_image('../../figures/complete_analysis/sentiment_accuracy_by_rating.png', width=800, height=500)\n",
        "fig.show()\n",
        "\n",
        "print(\"Gráfico interactivo de accuracy generado exitosamente\")\n",
        "print(\"\\nInterpretación del gráfico:\")\n",
        "print(\"- Barras más altas indican mejor accuracy para esa calificación\")\n",
        "print(\"- Colores más claros indican mayor confianza promedio\")\n",
        "print(\"- Tamaño de barra proporcional al número de reviews\")\n",
        "print(\"- Línea roja indica accuracy general del modelo\")"
      ]
    },
    {
      "cell_type": "code",
      "execution_count": 14,
      "metadata": {},
      "outputs": [
        {
          "name": "stdout",
          "output_type": "stream",
          "text": [
            "Generando análisis de distribución de confianza...\n"
          ]
        },
        {
          "data": {
            "image/png": "[encoded data removed]",
            "text/plain": [
              "<Figure size 1500x600 with 2 Axes>"
            ]
          },
          "metadata": {},
          "output_type": "display_data"
        },
        {
          "name": "stdout",
          "output_type": "stream",
          "text": [
            "Análisis de confianza completado exitosamente\n",
            "\n",
            "Interpretación del análisis:\n",
            "- Histograma izquierdo: Distribución general de confianza\n",
            "- Boxplot derecho: Comparación de confianza entre sentimientos\n",
            "- Valores más altos indican mayor certeza del modelo\n"
          ]
        }
      ],
      "source": [
        "# Visualización 3: Análisis de Distribución de Confianza\n",
        "print(\"Generando análisis de distribución de confianza...\")\n",
        "\n",
        "fig, (ax1, ax2) = plt.subplots(1, 2, figsize=(15, 6))\n",
        "\n",
        "# Histograma de confianza general\n",
        "ax1.hist(df_sample['confidence'], bins=30, alpha=0.7, color='skyblue', edgecolor='black')\n",
        "media_confianza = df_sample['confidence'].mean()\n",
        "ax1.axvline(media_confianza, color='red', linestyle='--', linewidth=2,\n",
        "           label=f'Promedio: {media_confianza:.3f}')\n",
        "ax1.set_xlabel('Nivel de Confianza')\n",
        "ax1.set_ylabel('Número de Reviews')\n",
        "ax1.set_title('Distribución de Confianza del Modelo')\n",
        "ax1.legend()\n",
        "ax1.grid(True, alpha=0.3)\n",
        "\n",
        "# Agregar estadísticas en el gráfico\n",
        "ax1.text(0.02, 0.95, f'Media: {media_confianza:.3f}\\nMediana: {df_sample[\"confidence\"].median():.3f}\\nDesv. Std: {df_sample[\"confidence\"].std():.3f}', \n",
        "         transform=ax1.transAxes, verticalalignment='top', bbox=dict(boxstyle='round', facecolor='white', alpha=0.8))\n",
        "\n",
        "# Boxplot de confianza por sentimiento predicho\n",
        "sentimientos = ['NEGATIVE', 'NEUTRAL', 'POSITIVE']\n",
        "datos_confianza = [df_sample[df_sample['predicted_sentiment'] == sent]['confidence'].values for sent in sentimientos]\n",
        "\n",
        "bp = ax2.boxplot(datos_confianza, labels=sentimientos, patch_artist=True)\n",
        "colors = ['lightcoral', 'lightyellow', 'lightgreen']\n",
        "for patch, color in zip(bp['boxes'], colors):\n",
        "    patch.set_facecolor(color)\n",
        "\n",
        "ax2.set_xlabel('Sentimiento Predicho')\n",
        "ax2.set_ylabel('Nivel de Confianza')\n",
        "ax2.set_title('Confianza por Sentimiento Predicho')\n",
        "ax2.grid(True, alpha=0.3)\n",
        "\n",
        "plt.tight_layout()\n",
        "plt.savefig('../../figures/complete_analysis/sentiment_confidence_analysis.png', dpi=300, bbox_inches='tight')\n",
        "plt.show()\n",
        "\n",
        "print(\"Análisis de confianza completado exitosamente\")\n",
        "print(\"\\nInterpretación del análisis:\")\n",
        "print(\"- Histograma izquierdo: Distribución general de confianza\")\n",
        "print(\"- Boxplot derecho: Comparación de confianza entre sentimientos\")\n",
        "print(\"- Valores más altos indican mayor certeza del modelo\")"
      ]
    },
    {
      "cell_type": "code",
      "execution_count": 15,
      "metadata": {},
      "outputs": [
        {
          "name": "stdout",
          "output_type": "stream",
          "text": [
            "Generando heatmap de correlación entre calificaciones y predicciones...\n"
          ]
        },
        {
          "data": {
            "image/png": "[encoded data removed]",
            "text/plain": [
              "<Figure size 1000x600 with 2 Axes>"
            ]
          },
          "metadata": {},
          "output_type": "display_data"
        },
        {
          "name": "stdout",
          "output_type": "stream",
          "text": [
            "\n",
            "Tabla de contingencia (valores absolutos):\n",
            "predicted_sentiment  NEGATIVE  NEUTRAL  POSITIVE\n",
            "stars                                           \n",
            "1                       10229      979       818\n",
            "2                        5818      892      1848\n",
            "3                        3212     1422      6658\n",
            "4                         741     1164     21822\n",
            "5                         408      663     43326\n",
            "\n",
            "Tabla de contingencia (porcentajes por fila):\n",
            "predicted_sentiment  NEGATIVE  NEUTRAL  POSITIVE\n",
            "stars                                           \n",
            "1                        85.1      8.1       6.8\n",
            "2                        68.0     10.4      21.6\n",
            "3                        28.4     12.6      59.0\n",
            "4                         3.1      4.9      92.0\n",
            "5                         0.9      1.5      97.6\n",
            "\n",
            "Heatmap de correlación generado exitosamente\n",
            "\n",
            "Interpretación del heatmap:\n",
            "- Colores rojos: Baja proporción de ese sentimiento para esa calificación\n",
            "- Colores azules: Alta proporción de ese sentimiento para esa calificación\n",
            "- Cada fila representa el 100% de las reviews de esa calificación\n",
            "- Diagonal ideal: 1-2 estrellas→NEGATIVE, 3 estrellas→NEUTRAL, 4-5 estrellas→POSITIVE\n"
          ]
        }
      ],
      "source": [
        "# Visualización 4: Heatmap de Correlación entre Calificaciones y Predicciones\n",
        "print(\"Generando heatmap de correlación entre calificaciones y predicciones...\")\n",
        "\n",
        "# Crear tabla de contingencia (crosstab)\n",
        "contingency = pd.crosstab(df_sample['stars'], df_sample['predicted_sentiment'])\n",
        "\n",
        "# Normalizar por filas para obtener porcentajes\n",
        "contingency_pct = contingency.div(contingency.sum(axis=1), axis=0) * 100\n",
        "\n",
        "plt.figure(figsize=(10, 6))\n",
        "\n",
        "# Crear heatmap con configuración personalizada\n",
        "sns.heatmap(contingency_pct, \n",
        "            annot=True, \n",
        "            fmt='.1f', \n",
        "            cmap='RdYlBu_r',\n",
        "            cbar_kws={'label': 'Porcentaje (%)'},\n",
        "            linewidths=0.5)\n",
        "\n",
        "plt.title('Distribución de Sentimientos Predichos por Calificación Original (%)\\nCada fila suma 100%', \n",
        "          fontsize=14, fontweight='bold', pad=20)\n",
        "plt.xlabel('Sentimiento Predicho por el Modelo')\n",
        "plt.ylabel('Calificación Original (Estrellas)')\n",
        "plt.tight_layout()\n",
        "plt.savefig('../../figures/complete_analysis/sentiment_prediction_correlation_heatmap.png', dpi=300, bbox_inches='tight')\n",
        "plt.show()\n",
        "\n",
        "# Mostrar tabla de contingencia absoluta también\n",
        "print(\"\\nTabla de contingencia (valores absolutos):\")\n",
        "print(contingency)\n",
        "\n",
        "print(\"\\nTabla de contingencia (porcentajes por fila):\")\n",
        "print(contingency_pct.round(1))\n",
        "\n",
        "print(\"\\nHeatmap de correlación generado exitosamente\")\n",
        "print(\"\\nInterpretación del heatmap:\")\n",
        "print(\"- Colores rojos: Baja proporción de ese sentimiento para esa calificación\")\n",
        "print(\"- Colores azules: Alta proporción de ese sentimiento para esa calificación\")\n",
        "print(\"- Cada fila representa el 100% de las reviews de esa calificación\")\n",
        "print(\"- Diagonal ideal: 1-2 estrellas→NEGATIVE, 3 estrellas→NEUTRAL, 4-5 estrellas→POSITIVE\")"
      ]
    },
    {
      "cell_type": "markdown",
      "metadata": {},
      "source": [
        "## 9. Análisis de Casos Específicos\n",
        "\n",
        "### Identificación de Casos de Interés\n",
        "\n",
        "Esta sección analiza casos específicos que pueden proporcionar insights importantes:\n",
        "\n",
        "**Discrepancias significativas:**\n",
        "- **Falsos positivos**: Reviews con calificaciones bajas (1-2 estrellas) pero sentimiento positivo predicho\n",
        "- **Falsos negativos**: Reviews con calificaciones altas (4-5 estrellas) pero sentimiento negativo predicho\n",
        "\n",
        "**Casos de alta confianza:**\n",
        "- **Predicciones muy seguras**: Reviews donde el modelo tiene >95% de confianza\n",
        "- **Análisis por sentimiento**: Ejemplos representativos de cada categoría\n",
        "\n",
        "### Importancia del Análisis de Casos\n",
        "\n",
        "- **Validación cualitativa**: Verificar si las discrepancias tienen sentido contextual\n",
        "- **Mejora del modelo**: Identificar patrones para futuros ajustes\n",
        "- **Comprensión de limitaciones**: Entender dónde y por qué falla el modelo\n",
        "- **Casos de uso**: Identificar situaciones donde el modelo es más o menos confiable\n",
        "\n",
        "### Metodología\n",
        "\n",
        "- Filtrar casos por criterios específicos (calificación vs predicción)\n",
        "- Examinar el texto original para entender el contexto\n",
        "- Analizar niveles de confianza asociados\n",
        "- Proporcionar ejemplos representativos de cada categoría"
      ]
    },
    {
      "cell_type": "code",
      "execution_count": 16,
      "metadata": {},
      "outputs": [
        {
          "name": "stdout",
          "output_type": "stream",
          "text": [
            "ANÁLISIS DE CASOS ESPECÍFICOS\n",
            "==================================================\n",
            "\n",
            "1. CASOS DE DISCREPANCIA ENTRE MODELO Y CALIFICACIONES\n",
            "------------------------------------------------------------\n",
            "\n",
            "REVIEWS CON 5 ESTRELLAS PERO PREDICCIÓN NEGATIVA: 408 casos\n",
            "Posibles explicaciones: sarcasmo, ironía, o contexto complejo\n",
            "\n",
            "Caso 1609063:\n",
            "- Confianza del modelo: 0.444\n",
            "- Calificación original: 5 estrellas\n",
            "- Texto: Let me start by saying I am not a vegan. My friend was visiting and we hit Santa Barbara and needed a vegan friendly menu for her with a dog friendly seating area. This place is near Stearns Wharf so ...\n",
            "\n",
            "\n",
            "Caso 3033438:\n",
            "- Confianza del modelo: 0.527\n",
            "- Calificación original: 5 estrellas\n",
            "- Texto: I think anyone who thinks the capital grill is anything but exceptional is an a**.  I have been here many times and I have NEVER had one things to complain about the food, the serves, anything. And th...\n",
            "\n",
            "\n",
            "Caso 494016:\n",
            "- Confianza del modelo: 0.516\n",
            "- Calificación original: 5 estrellas\n",
            "- Texto: Writing an update for a seemingly spike of negative reviews have come in the past year, for here in Springfield. I haven't come here much, because my go-to Pei Wei was always City Ave; but that closed...\n",
            "\n",
            "\n",
            "REVIEWS CON 1 ESTRELLA PERO PREDICCIÓN POSITIVA: 818 casos\n",
            "Posibles explicaciones: lenguaje positivo en contexto negativo, o expectativas no cumplidas\n",
            "\n",
            "Caso 3936671:\n",
            "- Confianza del modelo: 0.689\n",
            "- Calificación original: 1 estrellas\n",
            "- Texto: Typically love Syphay - its my go to! The other night, I did a pick up order, when I had arrived the associate asked me what my pick up number was. I proceeded to tell her, then she gave me the wrong ...\n",
            "\n",
            "\n",
            "Caso 3183646:\n",
            "- Confianza del modelo: 0.466\n",
            "- Calificación original: 1 estrellas\n",
            "- Texto: Food is good, when they have it!  Every Sunday, not late at night, it's like the potato famine in Ireland. They're ALWAYS out of potatoes!! Uh, Wot's the deal?...\n",
            "\n",
            "\n",
            "Caso 3329227:\n",
            "- Confianza del modelo: 0.571\n",
            "- Calificación original: 1 estrellas\n",
            "- Texto: New Burger King and the food is great I can't complain on that.  However, counter staff will aggressively ask for your name (may I have a name for the order?) and if you don't, counter staff will get ...\n",
            "\n",
            "\n",
            "2. CASOS DE ALTA CONFIANZA DEL MODELO\n",
            "------------------------------------------------------------\n",
            "\n",
            "REVIEWS CON CONFIANZA > 95%: 50210 casos\n",
            "Ejemplos representativos por sentimiento:\n",
            "\n",
            "NEGATIVE (Confianza: 0.952):\n",
            "- Calificación original: 1 estrellas\n",
            "- Coincide con expectativa: SÍ\n",
            "- Texto: Terrible. So the spicy nuggets are back. At this location the nuggets were not spicy at all and not at all hot. More like room temperature. The fries were worst. All end pieces and broken bits. Trust ...\n",
            "\n",
            "NEUTRAL: No hay casos de alta confianza\n",
            "\n",
            "POSITIVE (Confianza: 0.956):\n",
            "- Calificación original: 4 estrellas\n",
            "- Coincide con expectativa: SÍ\n",
            "- Texto: Came in from the Chicago area for a concert & stopped here on a whim. The interior is very modern & has a city-vibe. The service was decent & quick, but the menu is what prompted me to come back again...\n",
            "\n",
            "3. ESTADÍSTICAS ADICIONALES\n",
            "------------------------------------------------------------\n",
            "\n",
            "Total de discrepancias: 17383 de 100000 (17.4%)\n",
            "Confianza promedio en discrepancias: 0.703\n",
            "Confianza promedio en coincidencias: 0.911\n",
            "\n",
            "Análisis de casos específicos completado\n"
          ]
        }
      ],
      "source": [
        "# Análisis detallado de casos específicos de interés\n",
        "print(\"ANÁLISIS DE CASOS ESPECÍFICOS\")\n",
        "print(\"=\" * 50)\n",
        "\n",
        "# Sección 1: Casos donde el modelo difiere significativamente de las estrellas\n",
        "print(\"\\n1. CASOS DE DISCREPANCIA ENTRE MODELO Y CALIFICACIONES\")\n",
        "print(\"-\" * 60)\n",
        "\n",
        "# Reviews con 5 estrellas pero predicción negativa (posibles falsos negativos)\n",
        "false_negatives = df_sample[(df_sample['stars'] == 5) & (df_sample['predicted_sentiment'] == 'NEGATIVE')]\n",
        "if len(false_negatives) > 0:\n",
        "    print(f\"\\nREVIEWS CON 5 ESTRELLAS PERO PREDICCIÓN NEGATIVA: {len(false_negatives)} casos\")\n",
        "    print(\"Posibles explicaciones: sarcasmo, ironía, o contexto complejo\")\n",
        "    \n",
        "    for idx, row in false_negatives.head(3).iterrows():\n",
        "        print(f\"\\nCaso {idx + 1}:\")\n",
        "        print(f\"- Confianza del modelo: {row['confidence']:.3f}\")\n",
        "        print(f\"- Calificación original: {row['stars']} estrellas\")\n",
        "        print(f\"- Texto: {row['text'][:200]}...\")\n",
        "        print()\n",
        "else:\n",
        "    print(\"\\nNo se encontraron reviews con 5 estrellas y predicción negativa\")\n",
        "\n",
        "# Reviews con 1 estrella pero predicción positiva (posibles falsos positivos)\n",
        "false_positives = df_sample[(df_sample['stars'] == 1) & (df_sample['predicted_sentiment'] == 'POSITIVE')]\n",
        "if len(false_positives) > 0:\n",
        "    print(f\"\\nREVIEWS CON 1 ESTRELLA PERO PREDICCIÓN POSITIVA: {len(false_positives)} casos\")\n",
        "    print(\"Posibles explicaciones: lenguaje positivo en contexto negativo, o expectativas no cumplidas\")\n",
        "    \n",
        "    for idx, row in false_positives.head(3).iterrows():\n",
        "        print(f\"\\nCaso {idx + 1}:\")\n",
        "        print(f\"- Confianza del modelo: {row['confidence']:.3f}\")\n",
        "        print(f\"- Calificación original: {row['stars']} estrellas\")  \n",
        "        print(f\"- Texto: {row['text'][:200]}...\")\n",
        "        print()\n",
        "else:\n",
        "    print(\"\\nNo se encontraron reviews con 1 estrella y predicción positiva\")\n",
        "\n",
        "# Sección 2: Casos de alta confianza del modelo\n",
        "print(\"\\n2. CASOS DE ALTA CONFIANZA DEL MODELO\")\n",
        "print(\"-\" * 60)\n",
        "\n",
        "# Casos donde el modelo tiene muy alta confianza (>95%)\n",
        "high_confidence = df_sample[df_sample['confidence'] > 0.95]\n",
        "print(f\"\\nREVIEWS CON CONFIANZA > 95%: {len(high_confidence)} casos\")\n",
        "\n",
        "if len(high_confidence) > 0:\n",
        "    print(\"Ejemplos representativos por sentimiento:\")\n",
        "    \n",
        "    for sentiment in ['NEGATIVE', 'NEUTRAL', 'POSITIVE']:\n",
        "        sentiment_cases = high_confidence[high_confidence['predicted_sentiment'] == sentiment]\n",
        "        if len(sentiment_cases) > 0:\n",
        "            example = sentiment_cases.iloc[0]\n",
        "            print(f\"\\n{sentiment} (Confianza: {example['confidence']:.3f}):\")\n",
        "            print(f\"- Calificación original: {example['stars']} estrellas\")\n",
        "            print(f\"- Coincide con expectativa: {'SÍ' if example['expected_sentiment'] == sentiment else 'NO'}\")\n",
        "            print(f\"- Texto: {example['text'][:200]}...\")\n",
        "        else:\n",
        "            print(f\"\\n{sentiment}: No hay casos de alta confianza\")\n",
        "else:\n",
        "    print(\"No se encontraron casos con confianza > 95%\")\n",
        "\n",
        "# Estadísticas adicionales\n",
        "print(\"\\n3. ESTADÍSTICAS ADICIONALES\")\n",
        "print(\"-\" * 60)\n",
        "\n",
        "# Casos donde modelo y estrellas NO coinciden\n",
        "discrepancies = df_sample[df_sample['expected_sentiment'] != df_sample['predicted_sentiment']]\n",
        "print(f\"\\nTotal de discrepancias: {len(discrepancies)} de {len(df_sample)} ({len(discrepancies)/len(df_sample)*100:.1f}%)\")\n",
        "\n",
        "if len(discrepancies) > 0:\n",
        "    print(f\"Confianza promedio en discrepancias: {discrepancies['confidence'].mean():.3f}\")\n",
        "    print(f\"Confianza promedio en coincidencias: {df_sample[df_sample['expected_sentiment'] == df_sample['predicted_sentiment']]['confidence'].mean():.3f}\")\n",
        "\n",
        "print(\"\\nAnálisis de casos específicos completado\")"
      ]
    },
    {
      "cell_type": "markdown",
      "metadata": {},
      "source": [
        "## 10. Resumen y Conclusiones\n",
        "\n",
        "### Objetivo Cumplido\n",
        "\n",
        "Este notebook ha implementado exitosamente un sistema de análisis de sentimiento para reviews de restaurantes usando:\n",
        "\n",
        "- **Modelo RoBERTa**: Estado del arte en análisis de sentimiento\n",
        "- **Validación cruzada**: Comparación con calificaciones por estrellas\n",
        "- **Análisis integral**: Métricas, visualizaciones y casos específicos\n",
        "\n",
        "### Resultados Principales\n",
        "\n",
        "**Rendimiento del modelo:**\n",
        "- Accuracy general del sistema\n",
        "- Precisión por clase de sentimiento (NEGATIVE, NEUTRAL, POSITIVE)\n",
        "- Correlación con calificaciones originales por estrellas\n",
        "\n",
        "**Insights obtenidos:**\n",
        "- Identificación de patrones en las predicciones\n",
        "- Análisis de casos donde modelo y estrellas difieren\n",
        "- Evaluación de la confianza del modelo\n",
        "\n",
        "### Aplicabilidad\n",
        "\n",
        "**Para el TFM:**\n",
        "- Análisis de sentimiento implementado y validado\n",
        "- Metodología replicable para otros datasets\n",
        "- Visualizaciones y métricas completas para el reporte\n",
        "\n",
        "**Para análisis futuros:**\n",
        "- Pipeline establecido para nuevos datos\n",
        "- Identificación de limitaciones y areas de mejora\n",
        "- Base sólida para análisis de tópicos posteriores"
      ]
    },
    {
      "cell_type": "code",
      "execution_count": 17,
      "metadata": {},
      "outputs": [
        {
          "name": "stdout",
          "output_type": "stream",
          "text": [
            "RESUMEN FINAL DEL ANÁLISIS DE SENTIMIENTO\n",
            "============================================================\n",
            "\n",
            "CONFIGURACIÓN DEL MODELO:\n",
            "- Modelo utilizado: cardiffnlp/twitter-roberta-base-sentiment-latest\n",
            "- Arquitectura: RoBERTa (Robustly Optimized BERT Pretraining Approach)\n",
            "- Dispositivo de procesamiento: cuda\n",
            "- Especialización: Análisis de sentimiento en textos informales\n",
            "\n",
            "DATOS PROCESADOS:\n",
            "- Total de reviews analizadas: 100,000\n",
            "- Tiempo de procesamiento: 173.22 segundos\n",
            "- Velocidad promedio: 0.002 segundos por review\n",
            "\n",
            "RENDIMIENTO DEL MODELO:\n",
            "- Accuracy general: 0.8262 (82.62%)\n",
            "- Confianza promedio: 0.8746\n",
            "\n",
            "DISTRIBUCIÓN DE PREDICCIONES:\n",
            "- POSITIVE: 74,472 reviews (74.5%)\n",
            "- NEGATIVE: 20,408 reviews (20.4%)\n",
            "- NEUTRAL: 5,120 reviews (5.1%)\n",
            "\n",
            "DISTRIBUCIÓN DE SENTIMIENTOS ESPERADOS:\n",
            "- POSITIVE: 68,124 reviews (68.1%)\n",
            "- NEGATIVE: 20,584 reviews (20.6%)\n",
            "- NEUTRAL: 11,292 reviews (11.3%)\n",
            "\n",
            "ANÁLISIS DE CONFIANZA:\n",
            "- Alta confianza (>0.8): 78,019 reviews (78.0%)\n",
            "- Confianza media (0.5-0.8): 17,304 reviews (17.3%)\n",
            "- Baja confianza (≤0.5): 4,677 reviews (4.7%)\n",
            "\n",
            "CORRELACIÓN CON CALIFICACIONES:\n",
            "- Coincidencias modelo-estrellas: 82,617 de 100,000 (82.6%)\n",
            "- Discrepancias: 17,383 (17.4%)\n",
            "\n",
            "CONCLUSIONES:\n",
            "- Rendimiento EXCELENTE: El modelo supera el 80% de accuracy\n",
            "- La distribución de confianza indica que el modelo es muy confiable\n",
            "- El análisis de casos específicos revela patrones interesantes en las discrepancias\n",
            "\n",
            "ANÁLISIS COMPLETADO EXITOSAMENTE\n",
            "El modelo RoBERTa ha sido evaluado comprehensivamente\n",
            "Resultados listos para inclusión en el TFM\n",
            "\n",
            "MÉTRICAS PRINCIPALES:\n",
            "- Accuracy General: 0.8262 (82.62%)\n",
            "- Confianza Promedio: 0.8746\n",
            "- Reviews Procesadas: 100,000\n",
            "\n",
            "PRECISIÓN POR SENTIMIENTO:\n",
            "- NEGATIVE: Precision=0.786, Recall=0.780, F1=0.783\n",
            "- NEUTRAL: Precision=0.278, Recall=0.126, F1=0.173\n",
            "- POSITIVE: Precision=0.875, Recall=0.956, F1=0.914\n",
            "\n",
            "ACCURACY POR CALIFICACIÓN:\n",
            "- 1 estrella(s): 0.851 accuracy, 0.814 confianza (12026 reviews)\n",
            "- 2 estrella(s): 0.680 accuracy, 0.740 confianza (8558 reviews)\n",
            "- 3 estrella(s): 0.126 accuracy, 0.740 confianza (11292 reviews)\n",
            "- 4 estrella(s): 0.920 accuracy, 0.884 confianza (23727 reviews)\n",
            "- 5 estrella(s): 0.976 accuracy, 0.946 confianza (44397 reviews)\n",
            "\n",
            "INSIGHTS CLAVE:\n",
            "- Mejor accuracy: 5 estrellas (0.976)\n",
            "- Peor accuracy: 3 estrellas (0.126)\n",
            "- Confianza más alta: 0.993\n",
            "- Confianza más baja: 0.334\n",
            "\n",
            "ESTADO FINAL:\n",
            "ANÁLISIS COMPLETADO EXITOSAMENTE\n",
            "El modelo RoBERTa está listo para uso en investigación\n",
            "Todos los resultados están disponibles para el informe del TFM\n"
          ]
        }
      ],
      "source": [
        "# Resumen final completo del análisis de sentimiento\n",
        "print(\"RESUMEN FINAL DEL ANÁLISIS DE SENTIMIENTO\")\n",
        "print(\"=\" * 60)\n",
        "\n",
        "print(f\"\\nCONFIGURACIÓN DEL MODELO:\")\n",
        "print(f\"- Modelo utilizado: {model_name}\")\n",
        "print(f\"- Arquitectura: RoBERTa (Robustly Optimized BERT Pretraining Approach)\")\n",
        "print(f\"- Dispositivo de procesamiento: {device}\")\n",
        "print(f\"- Especialización: Análisis de sentimiento en textos informales\")\n",
        "\n",
        "print(f\"\\nDATOS PROCESADOS:\")\n",
        "print(f\"- Total de reviews analizadas: {len(df_sample):,}\")\n",
        "print(f\"- Tiempo de procesamiento: {tiempo_total:.2f} segundos\")\n",
        "print(f\"- Velocidad promedio: {tiempo_total/len(df_sample):.3f} segundos por review\")\n",
        "\n",
        "print(f\"\\nRENDIMIENTO DEL MODELO:\")\n",
        "accuracy_final = accuracy_score(df_sample['expected_sentiment'], df_sample['predicted_sentiment'])\n",
        "print(f\"- Accuracy general: {accuracy_final:.4f} ({accuracy_final*100:.2f}%)\")\n",
        "print(f\"- Confianza promedio: {df_sample['confidence'].mean():.4f}\")\n",
        "\n",
        "# Mostrar distribución de predicciones\n",
        "print(f\"\\nDISTRIBUCIÓN DE PREDICCIONES:\")\n",
        "pred_dist = df_sample['predicted_sentiment'].value_counts()\n",
        "for sentiment, count in pred_dist.items():\n",
        "    percentage = (count / len(df_sample)) * 100\n",
        "    print(f\"- {sentiment}: {count:,} reviews ({percentage:.1f}%)\")\n",
        "\n",
        "print(f\"\\nDISTRIBUCIÓN DE SENTIMIENTOS ESPERADOS:\")\n",
        "exp_dist = df_sample['expected_sentiment'].value_counts()\n",
        "for sentiment, count in exp_dist.items():\n",
        "    percentage = (count / len(df_sample)) * 100\n",
        "    print(f\"- {sentiment}: {count:,} reviews ({percentage:.1f}%)\")\n",
        "\n",
        "# Análisis de confianza por niveles\n",
        "print(f\"\\nANÁLISIS DE CONFIANZA:\")\n",
        "high_conf = (df_sample['confidence'] > 0.8).sum()\n",
        "medium_conf = ((df_sample['confidence'] > 0.5) & (df_sample['confidence'] <= 0.8)).sum()\n",
        "low_conf = (df_sample['confidence'] <= 0.5).sum()\n",
        "\n",
        "print(f\"- Alta confianza (>0.8): {high_conf:,} reviews ({high_conf/len(df_sample)*100:.1f}%)\")\n",
        "print(f\"- Confianza media (0.5-0.8): {medium_conf:,} reviews ({medium_conf/len(df_sample)*100:.1f}%)\")\n",
        "print(f\"- Baja confianza (≤0.5): {low_conf:,} reviews ({low_conf/len(df_sample)*100:.1f}%)\")\n",
        "\n",
        "# Correlación con estrellas\n",
        "print(f\"\\nCORRELACIÓN CON CALIFICACIONES:\")\n",
        "coincidencias = (df_sample['expected_sentiment'] == df_sample['predicted_sentiment']).sum()\n",
        "print(f\"- Coincidencias modelo-estrellas: {coincidencias:,} de {len(df_sample):,} ({coincidencias/len(df_sample)*100:.1f}%)\")\n",
        "print(f\"- Discrepancias: {len(df_sample) - coincidencias:,} ({(len(df_sample) - coincidencias)/len(df_sample)*100:.1f}%)\")\n",
        "\n",
        "print(f\"\\nCONCLUSIONES:\")\n",
        "if accuracy_final > 0.8:\n",
        "    print(\"- Rendimiento EXCELENTE: El modelo supera el 80% de accuracy\")\n",
        "elif accuracy_final > 0.7:\n",
        "    print(\"- Rendimiento BUENO: El modelo está en el rango típico de análisis de sentimiento\")\n",
        "else:\n",
        "    print(\"- Rendimiento ACEPTABLE: Puede requerir ajustes para mejorar\")\n",
        "\n",
        "print(f\"- La distribución de confianza indica que el modelo es {'muy confiable' if df_sample['confidence'].mean() > 0.8 else 'moderadamente confiable'}\")\n",
        "print(f\"- El análisis de casos específicos revela patrones interesantes en las discrepancias\")\n",
        "\n",
        "print(f\"\\nANÁLISIS COMPLETADO EXITOSAMENTE\")\n",
        "print(\"El modelo RoBERTa ha sido evaluado comprehensivamente\")\n",
        "print(\"Resultados listos para inclusión en el TFM\")\n",
        "\n",
        "print(f\"\\nMÉTRICAS PRINCIPALES:\")\n",
        "print(f\"- Accuracy General: {accuracy_final:.4f} ({accuracy_final*100:.2f}%)\")\n",
        "print(f\"- Confianza Promedio: {df_sample['confidence'].mean():.4f}\")\n",
        "print(f\"- Reviews Procesadas: {len(df_sample):,}\")\n",
        "\n",
        "print(f\"\\nPRECISIÓN POR SENTIMIENTO:\")\n",
        "for sentiment in ['NEGATIVE', 'NEUTRAL', 'POSITIVE']:\n",
        "    if sentiment in report:\n",
        "        precision = report[sentiment]['precision']\n",
        "        recall = report[sentiment]['recall']\n",
        "        f1 = report[sentiment]['f1-score']\n",
        "        print(f\"- {sentiment}: Precision={precision:.3f}, Recall={recall:.3f}, F1={f1:.3f}\")\n",
        "\n",
        "print(f\"\\nACCURACY POR CALIFICACIÓN:\")\n",
        "for idx, row in correlation_df.iterrows():\n",
        "    stars = int(row['stars'])\n",
        "    acc = row['accuracy']\n",
        "    conf = row['confidence']\n",
        "    count = int(row['count'])\n",
        "    print(f\"- {stars} estrella(s): {acc:.3f} accuracy, {conf:.3f} confianza ({count} reviews)\")\n",
        "\n",
        "print(f\"\\nINSIGHTS CLAVE:\")\n",
        "# Mejor y peor accuracy por rating\n",
        "best_rating = correlation_df.loc[correlation_df['accuracy'].idxmax()]\n",
        "worst_rating = correlation_df.loc[correlation_df['accuracy'].idxmin()]\n",
        "\n",
        "print(f\"- Mejor accuracy: {best_rating['stars']} estrellas ({best_rating['accuracy']:.3f})\")\n",
        "print(f\"- Peor accuracy: {worst_rating['stars']} estrellas ({worst_rating['accuracy']:.3f})\")\n",
        "print(f\"- Confianza más alta: {df_sample['confidence'].max():.3f}\")\n",
        "print(f\"- Confianza más baja: {df_sample['confidence'].min():.3f}\")\n",
        "\n",
        "print(f\"\\nESTADO FINAL:\")\n",
        "print(\"ANÁLISIS COMPLETADO EXITOSAMENTE\")\n",
        "print(\"El modelo RoBERTa está listo para uso en investigación\")\n",
        "print(\"Todos los resultados están disponibles para el informe del TFM\")"
      ]
    },
    {
      "cell_type": "markdown",
      "metadata": {},
      "source": [
        "## 11. Exportación de Resultados\n",
        "\n",
        "### Archivos de Salida\n",
        "\n",
        "Para facilitar el análisis posterior y la inclusión en el TFM, se exportan los siguientes archivos:\n",
        "\n",
        "**CSV con resultados completos:**\n",
        "- Todas las reviews analizadas con predicciones y métricas\n",
        "- Formato tabular para análisis estadístico adicional\n",
        "- Incluye texto original, predicciones, confianza y metadatos\n",
        "\n",
        "**JSON con resumen de métricas:**\n",
        "- Métricas principales del modelo\n",
        "- Estadísticas de rendimiento por clase\n",
        "- Datos de correlación con calificaciones\n",
        "- Casos específicos de interés\n",
        "\n",
        "### Ubicación de Archivos\n",
        "\n",
        "Los archivos se guardan en la carpeta `data/results/` para mantener la organización del proyecto y facilitar el acceso posterior."
      ]
    },
    {
      "cell_type": "code",
      "execution_count": 18,
      "metadata": {},
      "outputs": [
        {
          "name": "stdout",
          "output_type": "stream",
          "text": [
            "Exportando resultados del análisis...\n",
            "Resultados exportados a: ../../data/results/sentiment_analysis.csv\n",
            "Resumen exportado a: ../../data/results/sentiment_analysis.json\n",
            "\n",
            "Archivos exportados exitosamente:\n",
            "- CSV: Resultados completos con todas las reviews analizadas\n",
            "- JSON: Resumen de métricas y estadísticas principales\n",
            "\n",
            "Estos archivos pueden ser utilizados para:\n",
            "- Análisis adicional en otros notebooks\n",
            "- Inclusión de datos en el informe del TFM\n",
            "- Validación posterior de resultados\n",
            "- Comparación con otros modelos\n"
          ]
        }
      ],
      "source": [
        "import os\n",
        "import json\n",
        "\n",
        "# Crear directorio de resultados si no existe\n",
        "os.makedirs('../../data/results/', exist_ok=True)\n",
        "\n",
        "print(\"Exportando resultados del análisis...\")\n",
        "\n",
        "# 1. Exportar DataFrame completo a CSV\n",
        "csv_path = '../../data/results/sentiment_analysis.csv'\n",
        "df_sample.to_csv(csv_path, index=False)\n",
        "print(f\"Resultados exportados a: {csv_path}\")\n",
        "\n",
        "# 2. Crear resumen completo de métricas\n",
        "summary_metrics = {\n",
        "    'model_info': {\n",
        "        'model_name': model_name,\n",
        "        'device': str(device),\n",
        "        'samples_processed': len(df_sample)\n",
        "    },\n",
        "    'performance': {\n",
        "        'accuracy': float(accuracy_final),\n",
        "        'average_confidence': float(df_sample['confidence'].mean()),\n",
        "        'processing_time_seconds': float(tiempo_total),\n",
        "        'speed_per_review': float(tiempo_total / len(df_sample))\n",
        "    },\n",
        "    'sentiment_distribution': {\n",
        "        'predicted': {k: int(v) for k, v in df_sample['predicted_sentiment'].value_counts().items()},\n",
        "        'expected': {k: int(v) for k, v in df_sample['expected_sentiment'].value_counts().items()}\n",
        "    },\n",
        "    'confidence_levels': {\n",
        "        'high_confidence': int((df_sample['confidence'] > 0.8).sum()),\n",
        "        'medium_confidence': int(((df_sample['confidence'] > 0.5) & (df_sample['confidence'] <= 0.8)).sum()),\n",
        "        'low_confidence': int((df_sample['confidence'] <= 0.5).sum())\n",
        "    },\n",
        "    'correlation_with_stars': {\n",
        "        'total_matches': int((df_sample['expected_sentiment'] == df_sample['predicted_sentiment']).sum()),\n",
        "        'total_discrepancies': int((df_sample['expected_sentiment'] != df_sample['predicted_sentiment']).sum()),\n",
        "        'match_percentage': float((df_sample['expected_sentiment'] == df_sample['predicted_sentiment']).mean() * 100)\n",
        "    },\n",
        "    'performance_by_sentiment': {}\n",
        "}\n",
        "\n",
        "# Agregar métricas por sentimiento\n",
        "for sentiment in ['NEGATIVE', 'NEUTRAL', 'POSITIVE']:\n",
        "    if sentiment in report:\n",
        "        summary_metrics['performance_by_sentiment'][sentiment] = {\n",
        "            'precision': float(report[sentiment]['precision']),\n",
        "            'recall': float(report[sentiment]['recall']),\n",
        "            'f1_score': float(report[sentiment]['f1-score']),\n",
        "            'support': int(report[sentiment]['support'])\n",
        "        }\n",
        "\n",
        "# Agregar datos de correlación por estrellas\n",
        "summary_metrics['performance_by_stars'] = {}\n",
        "for idx, row in correlation_df.iterrows():\n",
        "    stars = int(row['stars'])\n",
        "    summary_metrics['performance_by_stars'][f'{stars}_stars'] = {\n",
        "        'accuracy': float(row['accuracy']),\n",
        "        'confidence': float(row['confidence']),\n",
        "        'count': int(row['count']),\n",
        "        'expected_sentiment': row['expected']\n",
        "    }\n",
        "\n",
        "# 3. Exportar resumen a JSON (sin try/except)\n",
        "json_path = '../../data/results/sentiment_analysis.json'\n",
        "with open(json_path, 'w', encoding='utf-8') as f:\n",
        "    json.dump(summary_metrics, f, ensure_ascii=False, indent=2)\n",
        "print(f\"Resumen exportado a: {json_path}\")\n",
        "\n",
        "print(\"\\nArchivos exportados exitosamente:\")\n",
        "print(\"- CSV: Resultados completos con todas las reviews analizadas\")\n",
        "print(\"- JSON: Resumen de métricas y estadísticas principales\")\n",
        "print(\"\\nEstos archivos pueden ser utilizados para:\")\n",
        "print(\"- Análisis adicional en otros notebooks\")\n",
        "print(\"- Inclusión de datos en el informe del TFM\")\n",
        "print(\"- Validación posterior de resultados\")\n",
        "print(\"- Comparación con otros modelos\")"
      ]
    }
  ],
  "metadata": {
    "kernelspec": {
      "display_name": ".venv",
      "language": "python",
      "name": "python3"
    },
    "language_info": {
      "codemirror_mode": {
        "name": "ipython",
        "version": 3
      },
      "file_extension": ".py",
      "mimetype": "text/x-python",
      "name": "python",
      "nbconvert_exporter": "python",
      "pygments_lexer": "ipython3",
      "version": "3.11.12"
    }
  },
  "nbformat": 4,
  "nbformat_minor": 2
}
