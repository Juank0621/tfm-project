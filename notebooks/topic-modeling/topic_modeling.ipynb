{
  "cells": [
    {
      "cell_type": "markdown",
      "metadata": {},
      "source": [
        "# TFM - Modelado de Tópicos con BERTopic\n",
        "\n",
        "Este notebook implementa el modelado de tópicos para reviews de restaurantes usando técnicas modernas de aprendizaje automático.\n",
        "\n",
        "**Título del TFM**: Análisis de Datos y Procesamiento de Lenguaje Natural para la Extracción de Opiniones y Modelado de Tópicos en Restaurantes: Un Enfoque de Big Data y Ciencia de Datos Aplicado al Estudio Integral del Sector Gastronómico\n",
        "\n",
        "## Objetivo del Notebook\n",
        "Implementar un pipeline de modelado de tópicos que:\n",
        "1. Cargue las reviews de restaurantes con análisis de sentimiento\n",
        "2. Aplique BERTopic para descubrir temas latentes automáticamente\n",
        "3. Genere visualizaciones interactivas de los tópicos encontrados\n",
        "4. Analice la relación entre tópicos y sentimientos\n",
        "5. Identifique tendencias y patrones temáticos en el sector gastronómico\n",
        "\n",
        "## Modelo Utilizado\n",
        "- **Modelo**: BERTopic con embeddings de sentence-transformers\n",
        "- **Embeddings**: `all-MiniLM-L6-v2` para representación semántica\n",
        "- **Clustering**: HDBSCAN para agrupación de documentos similares\n",
        "- **Reducción dimensionalidad**: UMAP para visualización\n",
        "\n",
        "## Características del Análisis\n",
        "- Detección automática del número óptimo de tópicos\n",
        "- Visualizaciones interactivas con plotly\n",
        "- Análisis temporal de evolución de tópicos\n",
        "- Correlación entre tópicos y sentimientos\n",
        "- Extracción de palabras clave representativas\n",
        "- Identificación de tópicos emergentes y declinantes"
      ]
    },
    {
      "cell_type": "markdown",
      "metadata": {},
      "source": [
        "## 1. Instalación y Configuración\n",
        "\n",
        "### Librerías Requeridas\n",
        "\n",
        "Para el modelado de tópicos necesitamos las siguientes librerías principales:\n",
        "\n",
        "- **bertopic**: Framework moderno para modelado de tópicos\n",
        "- **sentence-transformers**: Embeddings semánticos de alta calidad\n",
        "- **umap-learn**: Reducción de dimensionalidad para visualización\n",
        "- **hdbscan**: Clustering jerárquico basado en densidad\n",
        "- **scikit-learn**: Utilidades adicionales de machine learning\n",
        "- **pandas**: Manipulación y análisis de datos\n",
        "- **matplotlib/seaborn**: Visualizaciones estáticas\n",
        "- **plotly**: Visualizaciones interactivas\n",
        "- **wordcloud**: Nubes de palabras para representación visual\n",
        "\n",
        "### Ventajas de BERTopic sobre LDA Tradicional\n",
        "\n",
        "- **Embeddings contextuales**: Mejor comprensión semántica\n",
        "- **Clustering dinámico**: Número de tópicos determinado automáticamente\n",
        "- **Visualizaciones modernas**: Gráficos interactivos y dinámicos\n",
        "- **Escalabilidad**: Eficiente para datasets grandes\n",
        "- **Interpretabilidad**: Representaciones más coherentes de tópicos"
      ]
    },
    {
      "cell_type": "code",
      "execution_count": 1,
      "metadata": {},
      "outputs": [],
      "source": [
        "# Instalación de dependencias para modelado de tópicos\n",
        "# Descomenta las siguientes líneas si necesitas instalar las librerías\n",
        "# !uv add bertopic sentence-transformers umap-learn hdbscan scikit-learn\n",
        "# !uv add matplotlib seaborn plotly wordcloud nltk spacy"
      ]
    },
    {
      "cell_type": "code",
      "execution_count": 2,
      "metadata": {},
      "outputs": [
        {
          "name": "stdout",
          "output_type": "stream",
          "text": [
            "Dispositivo de procesamiento: cuda\n",
            "Versión de PyTorch: 2.7.1+cu126\n",
            "GPU detectada: NVIDIA GeForce RTX 4080\n",
            "Memoria GPU disponible: 16.9 GB\n",
            "Sentence-transformers usará GPU para embeddings\n",
            "Configuración completada exitosamente\n",
            "Directorio de figuras creado: ../../figures/complete_analysis/\n"
          ]
        }
      ],
      "source": [
        "# Imports necesarios para el modelado de tópicos\n",
        "import pandas as pd\n",
        "import numpy as np\n",
        "import torch\n",
        "from bertopic import BERTopic\n",
        "from sentence_transformers import SentenceTransformer\n",
        "from umap import UMAP\n",
        "from hdbscan import HDBSCAN\n",
        "from sklearn.feature_extraction.text import CountVectorizer\n",
        "from sklearn.decomposition import LatentDirichletAllocation\n",
        "import matplotlib.pyplot as plt\n",
        "import seaborn as sns\n",
        "import plotly.express as px\n",
        "import plotly.graph_objects as go\n",
        "from plotly.subplots import make_subplots\n",
        "from wordcloud import WordCloud\n",
        "import re\n",
        "import nltk\n",
        "from tqdm.auto import tqdm\n",
        "import warnings\n",
        "import os\n",
        "warnings.filterwarnings('ignore')\n",
        "\n",
        "# Crear directorio para guardar figuras\n",
        "os.makedirs('../../figures/complete_analysis', exist_ok=True)\n",
        "\n",
        "# Configuración de visualización\n",
        "plt.style.use('seaborn-v0_8')\n",
        "pd.set_option('display.max_columns', None)\n",
        "pd.set_option('display.max_colwidth', 100)\n",
        "\n",
        "# Detectar dispositivo de procesamiento (GPU/CPU)\n",
        "device = torch.device('cuda' if torch.cuda.is_available() else 'cpu')\n",
        "print(f\"Dispositivo de procesamiento: {device}\")\n",
        "print(f\"Versión de PyTorch: {torch.__version__}\")\n",
        "\n",
        "# Configurar sentence-transformers para usar GPU si está disponible\n",
        "if torch.cuda.is_available():\n",
        "    print(f\"GPU detectada: {torch.cuda.get_device_name(0)}\")\n",
        "    print(f\"Memoria GPU disponible: {torch.cuda.get_device_properties(0).total_memory / 1e9:.1f} GB\")\n",
        "    print(\"Sentence-transformers usará GPU para embeddings\")\n",
        "else:\n",
        "    print(\"Usando CPU para procesamiento de embeddings\")\n",
        "\n",
        "print(\"Configuración completada exitosamente\")\n",
        "print(f\"Directorio de figuras creado: ../../figures/complete_analysis/\")"
      ]
    },
    {
      "cell_type": "markdown",
      "metadata": {},
      "source": [
        "## 2. Carga de Datos con Análisis de Sentimiento\n",
        "\n",
        "### Archivo de Entrada\n",
        "\n",
        "Cargaremos el archivo CSV generado por el análisis de sentimiento previo que contiene:\n",
        "- **Texto original** de las reseñas de restaurantes (`text`)\n",
        "- **Sentimientos clasificados** (`predicted_sentiment`: POSITIVE, NEGATIVE, NEUTRAL)\n",
        "- **Confianza del modelo** (`confidence`) para filtrar predicciones de alta calidad\n",
        "- **Sentimientos esperados** (`expected_sentiment`) basados en calificaciones\n",
        "- **Calificaciones originales** (`stars`) para análisis comparativo\n",
        "- **Metadatos** adicionales como fechas, IDs de usuario y negocio\n",
        "\n",
        "### Estructura del Dataset CSV\n",
        "\n",
        "El archivo `sentiment_analysis.csv` contiene las siguientes columnas:\n",
        "- `review_id`: Identificador único de la reseña\n",
        "- `user_id`: Identificador único del usuario\n",
        "- `business_id`: Identificador único del restaurante\n",
        "- `stars`: Calificación en estrellas (1-5)\n",
        "- `useful`, `funny`, `cool`: Métricas de engagement\n",
        "- `text`: Contenido textual de la reseña\n",
        "- `date`: Fecha de la reseña\n",
        "- `expected_sentiment`: Sentimiento esperado basado en estrellas\n",
        "- `predicted_sentiment`: Sentimiento predicho por RoBERTa\n",
        "- `confidence`: Confianza del modelo (0-1)\n",
        "- `score_negative`, `score_neutral`, `score_positive`: Scores detallados\n",
        "\n",
        "### Preparación para Modelado de Tópicos\n",
        "\n",
        "El modelado de tópicos se beneficia de:\n",
        "- **Textos con alta confianza** del modelo de sentimiento para asegurar calidad\n",
        "- **Longitud mínima** de reviews para garantizar contenido semántico suficiente\n",
        "- **Filtrado de outliers** para mejorar la coherencia de tópicos\n",
        "- **Balanceo por sentimiento** para análisis comparativo entre categorías\n",
        "\n",
        "### Estrategia de Muestreo\n",
        "\n",
        "Para eficiencia computacional y calidad de resultados:\n",
        "- Selección estratificada por sentimiento predicho\n",
        "- Filtrado por confianza del modelo (≥ 0.7 recomendado)\n",
        "- Filtrado por longitud mínima de texto (≥ 50 caracteres)\n",
        "- Eliminación de reviews duplicadas o muy similares\n",
        "- Priorización de reviews con alta utilidad/engagement"
      ]
    },
    {
      "cell_type": "code",
      "execution_count": 3,
      "metadata": {},
      "outputs": [
        {
          "name": "stdout",
          "output_type": "stream",
          "text": [
            "Iniciando carga de datos de reviews con análisis de sentimiento...\n",
            "Datos cargados exitosamente desde '../../data/results/sentiment_analysis.csv'\n",
            "Dataset cargado correctamente: 100,000 reviews\n",
            "Ruta utilizada: ../../data/results/sentiment_analysis.csv\n",
            "Columnas disponibles: ['review_id', 'user_id', 'business_id', 'stars', 'useful', 'funny', 'cool', 'text', 'date', 'expected_sentiment', 'predicted_sentiment', 'confidence', 'score_negative', 'score_neutral', 'score_positive']\n",
            "Columnas de sentimiento verificadas correctamente\n",
            "\n",
            "Estructura del dataset:\n",
            "- Total de reviews: 100,000\n",
            "- Memoria utilizada: 111.0 MB\n",
            "\n",
            "Distribución de sentimientos predichos:\n",
            "- POSITIVE: 74,472 (74.5%)\n",
            "- NEGATIVE: 20,408 (20.4%)\n",
            "- NEUTRAL: 5,120 (5.1%)\n",
            "\n",
            "Calidad de datos:\n",
            "- Reviews sin texto: 0\n",
            "- Reviews con texto vacío: 0\n",
            "- Confianza promedio del modelo: 0.875\n",
            "\n",
            "Dataset listo para modelado de tópicos!\n"
          ]
        }
      ],
      "source": [
        "# Cargar datos de reviews con análisis de sentimiento previo\n",
        "print(\"Iniciando carga de datos de reviews con análisis de sentimiento...\")\n",
        "\n",
        "# Intentar cargar desde diferentes rutas del proyecto\n",
        "try:\n",
        "    df_reviews = pd.read_csv('../../data/results/sentiment_analysis.csv')\n",
        "    print(\"Datos cargados exitosamente desde '../../data/results/sentiment_analysis.csv'\")\n",
        "    ruta_carga = \"../../data/results/sentiment_analysis.csv\"\n",
        "except:\n",
        "    try:\n",
        "        df_reviews = pd.read_csv('../data/results/sentiment_analysis.csv')\n",
        "        print(\"Datos cargados exitosamente desde '../data/results/sentiment_analysis.csv'\")\n",
        "        ruta_carga = \"../data/results/sentiment_analysis.csv\"\n",
        "    except:\n",
        "        try:\n",
        "            df_reviews = pd.read_csv('data/results/sentiment_analysis.csv')\n",
        "            print(\"Datos cargados exitosamente desde 'data/results/sentiment_analysis.csv'\")\n",
        "            ruta_carga = \"data/results/sentiment_analysis.csv\"\n",
        "        except:\n",
        "            print(\"ERROR: No se pudo cargar el archivo de análisis de sentimiento\")\n",
        "            print(\"SOLUCIÓN: Ejecuta primero el notebook de análisis de sentimiento\")\n",
        "            print(\"O asegúrate de que el archivo esté en alguna de estas rutas:\")\n",
        "            print(\"  - ../../data/results/sentiment_analysis.csv\")\n",
        "            print(\"  - ../data/results/sentiment_analysis.csv\")\n",
        "            print(\"  - data/results/sentiment_analysis.csv\")\n",
        "            raise FileNotFoundError(\"Archivo de análisis de sentimiento no encontrado\")\n",
        "\n",
        "print(f\"Dataset cargado correctamente: {len(df_reviews):,} reviews\")\n",
        "print(f\"Ruta utilizada: {ruta_carga}\")\n",
        "print(f\"Columnas disponibles: {list(df_reviews.columns)}\")\n",
        "\n",
        "# Verificar que las columnas de sentimiento estén presentes\n",
        "required_columns = ['predicted_sentiment', 'confidence', 'text']\n",
        "missing_columns = [col for col in required_columns if col not in df_reviews.columns]\n",
        "\n",
        "if missing_columns:\n",
        "    print(f\"WARNING: Faltan columnas requeridas: {missing_columns}\")\n",
        "    print(\"Ejecuta primero el notebook de análisis de sentimiento\")\n",
        "else:\n",
        "    print(\"Columnas de sentimiento verificadas correctamente\")\n",
        "    \n",
        "# Verificar estructura del dataset\n",
        "print(f\"\\nEstructura del dataset:\")\n",
        "print(f\"- Total de reviews: {len(df_reviews):,}\")\n",
        "print(f\"- Memoria utilizada: {df_reviews.memory_usage(deep=True).sum() / 1e6:.1f} MB\")\n",
        "\n",
        "# Mostrar distribución de sentimientos\n",
        "if 'predicted_sentiment' in df_reviews.columns:\n",
        "    print(f\"\\nDistribución de sentimientos predichos:\")\n",
        "    sentiment_dist = df_reviews['predicted_sentiment'].value_counts()\n",
        "    for sentiment, count in sentiment_dist.items():\n",
        "        percentage = (count / len(df_reviews)) * 100\n",
        "        print(f\"- {sentiment}: {count:,} ({percentage:.1f}%)\")\n",
        "\n",
        "# Verificar calidad de datos\n",
        "print(f\"\\nCalidad de datos:\")\n",
        "print(f\"- Reviews sin texto: {df_reviews['text'].isnull().sum():,}\")\n",
        "print(f\"- Reviews con texto vacío: {(df_reviews['text'].str.len() == 0).sum():,}\")\n",
        "print(f\"- Confianza promedio del modelo: {df_reviews['confidence'].mean():.3f}\")\n",
        "\n",
        "print(\"\\nDataset listo para modelado de tópicos!\")"
      ]
    },
    {
      "cell_type": "markdown",
      "metadata": {},
      "source": [
        "## 3. Exploración Inicial del Dataset con Sentimientos\n",
        "\n",
        "### Análisis de Calidad de Datos\n",
        "\n",
        "Analizaremos la estructura y características del dataset cargado:\n",
        "- **Distribución de sentimientos**: Verificar balance entre POSITIVE, NEGATIVE, NEUTRAL\n",
        "- **Confianza del modelo**: Análisis de la calidad de las predicciones\n",
        "- **Longitud de textos**: Estadísticas de longitud para filtrado óptimo\n",
        "- **Correlación con estrellas**: Validación de coherencia entre sentimientos y calificaciones\n",
        "\n",
        "### Criterios de Filtrado para Topic Modeling\n",
        "\n",
        "Para obtener tópicos de alta calidad aplicaremos:\n",
        "- **Filtrado por confianza**: ≥ 0.7 para asegurar predicciones confiables\n",
        "- **Filtrado por longitud**: ≥ 50 caracteres para contenido semántico suficiente\n",
        "- **Eliminación de duplicados**: Evitar sesgo por reviews repetidas\n",
        "- **Muestreo estratificado**: Balance entre sentimientos para análisis comparativo\n",
        "\n",
        "### Optimización Computacional\n",
        "\n",
        "Considerando el tamaño del dataset (>100K reviews):\n",
        "- **Muestra representativa**: Máximo 200,000 reviews para eficiencia\n",
        "- **Estratificación**: Mantener proporción por sentimientos\n",
        "- **Calidad vs cantidad**: Priorizar reviews de alta confianza"
      ]
    },
    {
      "cell_type": "code",
      "execution_count": 4,
      "metadata": {},
      "outputs": [
        {
          "name": "stdout",
          "output_type": "stream",
          "text": [
            "Iniciando preparación de datos para modelado de tópicos...\n",
            "Después de filtrar por confianza (≥ 0.7): 84,788 reviews\n",
            "Después de filtrar por longitud mínima (50 chars): 84,687 reviews\n",
            "Después de eliminar duplicados: 84,680 reviews\n",
            "Tamaño de muestra objetivo: 84,680 reviews\n",
            "Muestra final para modelado de tópicos: 43,993 reviews\n",
            "\n",
            "Distribución de sentimientos en la muestra:\n",
            "predicted_sentiment\n",
            "POSITIVE    28226\n",
            "NEGATIVE    15067\n",
            "NEUTRAL       700\n",
            "Name: count, dtype: int64\n",
            "- POSITIVE: 28,226 reviews (64.2%)\n",
            "- NEGATIVE: 15,067 reviews (34.2%)\n",
            "- NEUTRAL: 700 reviews (1.6%)\n",
            "\n",
            "Estadísticas de confianza en la muestra:\n",
            "- Confianza promedio: 0.919\n",
            "- Confianza mediana: 0.947\n",
            "- Confianza mínima: 0.700\n",
            "- Confianza máxima: 0.992\n",
            "\n",
            "Muestra preparada exitosamente para modelado de tópicos!\n"
          ]
        }
      ],
      "source": [
        "# Preparación de datos para modelado de tópicos\n",
        "print(\"Iniciando preparación de datos para modelado de tópicos...\")\n",
        "\n",
        "# Filtrar reviews por confianza del modelo de sentimiento (≥ 0.7)\n",
        "confidence_threshold = 0.7\n",
        "df_high_confidence = df_reviews[df_reviews['confidence'] >= confidence_threshold].copy()\n",
        "print(f\"Después de filtrar por confianza (≥ {confidence_threshold}): {len(df_high_confidence):,} reviews\")\n",
        "\n",
        "# Filtrar reviews por longitud mínima (al menos 50 caracteres)\n",
        "df_high_confidence['text_length'] = df_high_confidence['text'].str.len()\n",
        "min_length = 50\n",
        "df_filtered = df_high_confidence[df_high_confidence['text_length'] >= min_length].copy()\n",
        "print(f\"Después de filtrar por longitud mínima ({min_length} chars): {len(df_filtered):,} reviews\")\n",
        "\n",
        "# Eliminar reviews duplicadas por texto\n",
        "df_filtered = df_filtered.drop_duplicates(subset=['text'], keep='first')\n",
        "print(f\"Después de eliminar duplicados: {len(df_filtered):,} reviews\")\n",
        "\n",
        "# Crear muestra estratificada por sentimiento para análisis eficiente\n",
        "sample_size = min(200000, len(df_filtered))  # Máximo 200,000 reviews\n",
        "print(f\"Tamaño de muestra objetivo: {sample_size:,} reviews\")\n",
        "\n",
        "if 'predicted_sentiment' in df_filtered.columns:\n",
        "    # Muestreo estratificado por sentimiento predicho\n",
        "    sentiment_counts = df_filtered['predicted_sentiment'].value_counts()\n",
        "    samples_per_sentiment = sample_size // len(sentiment_counts)\n",
        "    \n",
        "    df_sample = df_filtered.groupby('predicted_sentiment', group_keys=False).apply(\n",
        "        lambda x: x.sample(min(len(x), samples_per_sentiment), random_state=42)\n",
        "    ).reset_index(drop=True)\n",
        "else:\n",
        "    # Muestreo aleatorio simple si no hay columna de sentimiento\n",
        "    df_sample = df_filtered.sample(n=sample_size, random_state=42).reset_index(drop=True)\n",
        "\n",
        "print(f\"Muestra final para modelado de tópicos: {len(df_sample):,} reviews\")\n",
        "\n",
        "# Verificar distribución de sentimientos en la muestra\n",
        "if 'predicted_sentiment' in df_sample.columns:\n",
        "    print(f\"\\nDistribución de sentimientos en la muestra:\")\n",
        "    sample_sentiment_dist = df_sample['predicted_sentiment'].value_counts()\n",
        "    print(sample_sentiment_dist)\n",
        "    \n",
        "    # Mostrar porcentajes\n",
        "    for sentiment, count in sample_sentiment_dist.items():\n",
        "        percentage = (count / len(df_sample)) * 100\n",
        "        print(f\"- {sentiment}: {count:,} reviews ({percentage:.1f}%)\")\n",
        "\n",
        "# Verificar distribución de confianza en la muestra\n",
        "print(f\"\\nEstadísticas de confianza en la muestra:\")\n",
        "print(f\"- Confianza promedio: {df_sample['confidence'].mean():.3f}\")\n",
        "print(f\"- Confianza mediana: {df_sample['confidence'].median():.3f}\")\n",
        "print(f\"- Confianza mínima: {df_sample['confidence'].min():.3f}\")\n",
        "print(f\"- Confianza máxima: {df_sample['confidence'].max():.3f}\")\n",
        "\n",
        "print(\"\\nMuestra preparada exitosamente para modelado de tópicos!\")"
      ]
    },
    {
      "cell_type": "code",
      "execution_count": 5,
      "metadata": {},
      "outputs": [
        {
          "name": "stdout",
          "output_type": "stream",
          "text": [
            "Aplicando preprocesamiento mínimo...\n",
            "Después del preprocesamiento: 43,993 reviews\n",
            "\n",
            "Ejemplo de preprocesamiento:\n",
            "Texto original: Um...well what can I say?  They are traditional Japanese style restaurant, however, they have very average sushi (I don't even think the fish is that fresh, at least it didn't smell/taste that way).  ...\n",
            "Texto procesado: Um...well what can I say? They are traditional Japanese style restaurant, however, they have very average sushi (I don't even think the fish is that fresh, at least it didn't smell/taste that way). I ...\n",
            "\n",
            "Documentos preparados para modelado: 43,993\n"
          ]
        }
      ],
      "source": [
        "# Preprocesamiento mínimo del texto para BERTopic\n",
        "def preprocesar_texto_minimal(text):\n",
        "    \"\"\"\n",
        "    Preprocesamiento mínimo para BERTopic\n",
        "    Solo limpieza básica sin alterar la semántica\n",
        "    \n",
        "    Args:\n",
        "        text (str): Texto original\n",
        "    \n",
        "    Returns:\n",
        "        str: Texto con limpieza mínima\n",
        "    \"\"\"\n",
        "    if pd.isna(text):\n",
        "        return \"\"\n",
        "    \n",
        "    # Convertir a string si no lo es\n",
        "    text = str(text)\n",
        "    \n",
        "    # Eliminar caracteres de control\n",
        "    text = re.sub(r'[\\x00-\\x1f\\x7f-\\x9f]', ' ', text)\n",
        "    \n",
        "    # Normalizar espacios múltiples\n",
        "    text = re.sub(r'\\s+', ' ', text)\n",
        "    \n",
        "    # Eliminar espacios al inicio y final\n",
        "    text = text.strip()\n",
        "    \n",
        "    return text\n",
        "\n",
        "# Aplicar preprocesamiento mínimo\n",
        "print(\"Aplicando preprocesamiento mínimo...\")\n",
        "df_sample['text_clean'] = df_sample['text'].apply(preprocesar_texto_minimal)\n",
        "\n",
        "# Filtrar textos que quedaron vacíos después del preprocesamiento\n",
        "df_sample = df_sample[df_sample['text_clean'].str.len() > 0].reset_index(drop=True)\n",
        "print(f\"Después del preprocesamiento: {len(df_sample):,} reviews\")\n",
        "\n",
        "# Verificar el resultado del preprocesamiento\n",
        "print(f\"\\nEjemplo de preprocesamiento:\")\n",
        "sample_idx = 0\n",
        "print(f\"Texto original: {df_sample.iloc[sample_idx]['text'][:200]}...\")\n",
        "print(f\"Texto procesado: {df_sample.iloc[sample_idx]['text_clean'][:200]}...\")\n",
        "\n",
        "# Preparar lista de documentos para BERTopic\n",
        "documents = df_sample['text_clean'].tolist()\n",
        "print(f\"\\nDocumentos preparados para modelado: {len(documents):,}\")"
      ]
    },
    {
      "cell_type": "markdown",
      "metadata": {},
      "source": [
        "## 4. Configuración del Modelo BERTopic\n",
        "\n",
        "### Componentes del Pipeline\n",
        "\n",
        "BERTopic utiliza un pipeline modular que incluye:\n",
        "\n",
        "1. **Embedding Model**: Sentence-transformers para representación semántica\n",
        "2. **Dimensionality Reduction**: UMAP para reducir dimensionalidad\n",
        "3. **Clustering**: HDBSCAN para agrupar documentos similares\n",
        "4. **Vectorizer**: CountVectorizer para representación de tópicos\n",
        "\n",
        "### Configuración Personalizada\n",
        "\n",
        "Para nuestro dataset de reviews de restaurantes:\n",
        "- **Embedding model**: `all-MiniLM-L6-v2` (balance entre calidad y velocidad)\n",
        "- **UMAP**: Configurado para preservar estructura local y global\n",
        "- **HDBSCAN**: Parámetros ajustados para detectar tópicos coherentes\n",
        "- **Vocabulario**: Filtrado para términos relevantes del dominio gastronómico\n",
        "\n",
        "### Parámetros Optimizados\n",
        "\n",
        "- **min_cluster_size**: 50 documentos mínimo para evitar tópicos de ruido\n",
        "- **n_neighbors**: 15 para balance entre estructura local y global\n",
        "- **n_components**: 5 dimensiones para clustering efectivo\n",
        "- **n_gram_range**: (1,2) para capturar unigramas y bigramas significativos\n",
        "- **max_features**: 5000 características para vocabulario optimizado"
      ]
    },
    {
      "cell_type": "code",
      "execution_count": 6,
      "metadata": {},
      "outputs": [
        {
          "name": "stdout",
          "output_type": "stream",
          "text": [
            "Configurando modelo de embeddings...\n",
            "Modelo de embeddings cargado: all-MiniLM-L6-v2\n",
            "Dispositivo: cuda\n",
            "Componentes configurados:\n",
            "- UMAP: n_neighbors=15, n_components=5\n",
            "- HDBSCAN: min_cluster_size=50\n",
            "- Vectorizer: ngram_range=(1, 2), max_features=5000\n"
          ]
        }
      ],
      "source": [
        "# Configuración del modelo de embeddings\n",
        "print(\"Configurando modelo de embeddings...\")\n",
        "\n",
        "# Usar sentence-transformer para análisis semántico\n",
        "embedding_model = SentenceTransformer('all-MiniLM-L6-v2', device=device)\n",
        "print(f\"Modelo de embeddings cargado: all-MiniLM-L6-v2\")\n",
        "print(f\"Dispositivo: {device}\")\n",
        "\n",
        "# Configuración de UMAP para reducción de dimensionalidad\n",
        "umap_model = UMAP(\n",
        "    n_neighbors=15,          # Balance entre estructura local y global\n",
        "    n_components=5,          # Dimensiones reducidas para clustering\n",
        "    min_dist=0.0,           # Permite agrupaciones más compactas\n",
        "    metric='cosine',        # Métrica apropiada para embeddings de texto\n",
        "    random_state=42         # Reproducibilidad\n",
        ")\n",
        "\n",
        "# Configuración de HDBSCAN para clustering\n",
        "hdbscan_model = HDBSCAN(\n",
        "    min_cluster_size=50,    # Mínimo 50 documentos por tópico\n",
        "    metric='euclidean',     # Métrica para el espacio reducido\n",
        "    cluster_selection_method='eom',  # Excess of Mass para mejor separación\n",
        "    prediction_data=True    # Permitir predicciones en nuevos documentos\n",
        ")\n",
        "\n",
        "# Configuración del vectorizador para representación de tópicos\n",
        "vectorizer_model = CountVectorizer(\n",
        "    ngram_range=(1, 2),    # Unigramas y bigramas\n",
        "    stop_words='english',   # Eliminar stop words en inglés\n",
        "    min_df=5,              # Mínimo 5 apariciones\n",
        "    max_df=0.95,           # Máximo 95% de documentos\n",
        "    max_features=5000      # Máximo 5000 características\n",
        ")\n",
        "\n",
        "print(\"Componentes configurados:\")\n",
        "print(f\"- UMAP: n_neighbors={umap_model.n_neighbors}, n_components={umap_model.n_components}\")\n",
        "print(f\"- HDBSCAN: min_cluster_size={hdbscan_model.min_cluster_size}\")\n",
        "print(f\"- Vectorizer: ngram_range={vectorizer_model.ngram_range}, max_features={vectorizer_model.max_features}\")"
      ]
    },
    {
      "cell_type": "code",
      "execution_count": 7,
      "metadata": {},
      "outputs": [
        {
          "name": "stdout",
          "output_type": "stream",
          "text": [
            "Iniciando creación del modelo BERTopic...\n",
            "Modelo BERTopic creado exitosamente\n",
            "Configuración:\n",
            "- Embedding model: all-MiniLM-L6-v2\n",
            "- Top words por tópico: 10\n",
            "- Cálculo de probabilidades: Activado\n",
            "- Documentos a procesar: 43,993\n",
            "\n",
            "Estimación de tiempo de procesamiento:\n",
            "- Generación de embeddings: ~44 segundos\n",
            "- Clustering y reducción dimensional: ~30 segundos\n",
            "- Tiempo total estimado: ~1.2 minutos\n"
          ]
        }
      ],
      "source": [
        "# Crear modelo BERTopic con configuración personalizada\n",
        "print(\"Iniciando creación del modelo BERTopic...\")\n",
        "\n",
        "topic_model = BERTopic(\n",
        "    embedding_model=embedding_model,\n",
        "    umap_model=umap_model,\n",
        "    hdbscan_model=hdbscan_model,\n",
        "    vectorizer_model=vectorizer_model,\n",
        "    language='english',     # Idioma para stop words\n",
        "    calculate_probabilities=True,  # Calcular probabilidades de asignación\n",
        "    verbose=True           # Mostrar progreso\n",
        ")\n",
        "\n",
        "print(\"Modelo BERTopic creado exitosamente\")\n",
        "print(f\"Configuración:\")\n",
        "print(f\"- Embedding model: all-MiniLM-L6-v2\")\n",
        "print(f\"- Top words por tópico: 10\")\n",
        "print(f\"- Cálculo de probabilidades: Activado\")\n",
        "print(f\"- Documentos a procesar: {len(documents):,}\")\n",
        "\n",
        "# Estimación de tiempo de procesamiento\n",
        "embedding_time_per_doc = 0.001  # ~1ms por documento con GPU\n",
        "clustering_time = 30  # ~30 segundos para clustering\n",
        "total_time_estimate = (len(documents) * embedding_time_per_doc) + clustering_time\n",
        "\n",
        "print(f\"\\nEstimación de tiempo de procesamiento:\")\n",
        "print(f\"- Generación de embeddings: ~{len(documents) * embedding_time_per_doc:.0f} segundos\")\n",
        "print(f\"- Clustering y reducción dimensional: ~{clustering_time} segundos\")\n",
        "print(f\"- Tiempo total estimado: ~{total_time_estimate/60:.1f} minutos\")"
      ]
    },
    {
      "cell_type": "markdown",
      "metadata": {},
      "source": [
        "## 5. Ejecución del Modelado de Tópicos\n",
        "\n",
        "### Proceso de Entrenamiento\n",
        "\n",
        "En esta sección ejecutaremos el modelo BERTopic para descubrir tópicos automáticamente:\n",
        "1. **Generación de embeddings**: Conversión de texto a representaciones vectoriales\n",
        "2. **Reducción dimensional**: UMAP para proyectar a espacio de menor dimensión\n",
        "3. **Clustering**: HDBSCAN para agrupar documentos similares\n",
        "4. **Extracción de tópicos**: Identificación de palabras clave representativas\n",
        "\n",
        "### Métricas de Evaluación\n",
        "\n",
        "Analizaremos:\n",
        "- **Número de tópicos encontrados**: Validar detección automática\n",
        "- **Coherencia de tópicos**: Calidad semántica de agrupaciones\n",
        "- **Distribución de documentos**: Balance entre tópicos\n",
        "- **Palabras clave**: Representatividad y relevancia\n",
        "\n",
        "### Tiempo de Procesamiento\n",
        "\n",
        "El proceso tomará aproximadamente 1-2 minutos con GPU para ~44,000 documentos."
      ]
    },
    {
      "cell_type": "code",
      "execution_count": 8,
      "metadata": {},
      "outputs": [
        {
          "name": "stderr",
          "output_type": "stream",
          "text": [
            "2025-07-11 01:15:43,818 - BERTopic - Embedding - Transforming documents to embeddings.\n"
          ]
        },
        {
          "name": "stdout",
          "output_type": "stream",
          "text": [
            "Iniciando entrenamiento del modelo BERTopic...\n",
            "Procesando 43,993 documentos...\n"
          ]
        },
        {
          "data": {
            "application/vnd.jupyter.widget-view+json": {
              "model_id": "03f8a478743e459db21e636cc6162b73",
              "version_major": 2,
              "version_minor": 0
            },
            "text/plain": [
              "Batches:   0%|          | 0/1375 [00:00<?, ?it/s]"
            ]
          },
          "metadata": {},
          "output_type": "display_data"
        },
        {
          "name": "stderr",
          "output_type": "stream",
          "text": [
            "2025-07-11 01:15:57,938 - BERTopic - Embedding - Completed ✓\n",
            "2025-07-11 01:15:57,938 - BERTopic - Dimensionality - Fitting the dimensionality reduction algorithm\n",
            "2025-07-11 01:16:30,968 - BERTopic - Dimensionality - Completed ✓\n",
            "2025-07-11 01:16:30,970 - BERTopic - Cluster - Start clustering the reduced embeddings\n",
            "2025-07-11 01:16:38,075 - BERTopic - Cluster - Completed ✓\n",
            "2025-07-11 01:16:38,080 - BERTopic - Representation - Fine-tuning topics using representation models.\n",
            "2025-07-11 01:16:41,679 - BERTopic - Representation - Completed ✓\n"
          ]
        },
        {
          "name": "stdout",
          "output_type": "stream",
          "text": [
            "Tiempo de entrenamiento: 0.98 minutos\n",
            "\n",
            "Modelado de tópicos completado exitosamente!\n",
            "Resultados:\n",
            "- Tópicos encontrados: 70\n",
            "- Documentos procesados: 43,993\n",
            "- Documentos sin asignar (outliers): 14,575\n",
            "- Documentos asignados a tópicos: 29,418\n",
            "\n",
            "Top 10 tópicos por número de documentos:\n",
            "Tópico  0: 5,888 docs - Palabras clave: minutes, asked, manager, told, rude\n",
            "Tópico  1: 2,395 docs - Palabras clave: tacos, mexican, taco, salsa, burrito\n",
            "Tópico  2: 2,024 docs - Palabras clave: food great, great food, great service, server, good food\n",
            "Tópico  3: 1,884 docs - Palabras clave: pizza, crust, pizzas, best pizza, pepperoni\n",
            "Tópico  4: 1,201 docs - Palabras clave: sushi, roll, rolls, best sushi, hibachi\n",
            "Tópico  5: 1,092 docs - Palabras clave: burger, fries, burgers, bun, ketchup\n",
            "Tópico  6:   863 docs - Palabras clave: italian, pasta, italian food, sauce, ravioli\n",
            "Tópico  7:   843 docs - Palabras clave: chinese, chinese food, rice, noodles, dumplings\n",
            "Tópico  8:   752 docs - Palabras clave: beer, beers, selection, bartenders, beer selection\n",
            "Tópico  9:   642 docs - Palabras clave: crab, shrimp, seafood, lobster, crawfish\n",
            "\n",
            "Modelado de tópicos listo para análisis y visualización!\n"
          ]
        }
      ],
      "source": [
        "# Ejecutar el modelado de tópicos\n",
        "print(\"Iniciando entrenamiento del modelo BERTopic...\")\n",
        "print(f\"Procesando {len(documents):,} documentos...\")\n",
        "\n",
        "# Medir tiempo de ejecución\n",
        "import time\n",
        "start_time = time.time()\n",
        "\n",
        "# Ejecutar BERTopic (fit_transform)\n",
        "topics, probabilities = topic_model.fit_transform(documents)\n",
        "\n",
        "# Calcular tiempo transcurrido\n",
        "elapsed_time = time.time() - start_time\n",
        "print(f\"Tiempo de entrenamiento: {elapsed_time/60:.2f} minutos\")\n",
        "\n",
        "# Información sobre los tópicos encontrados\n",
        "topic_info = topic_model.get_topic_info()\n",
        "num_topics = len(topic_info) - 1  # -1 porque el tópico -1 es para outliers\n",
        "\n",
        "print(f\"\\nModelado de tópicos completado exitosamente!\")\n",
        "print(f\"Resultados:\")\n",
        "print(f\"- Tópicos encontrados: {num_topics}\")\n",
        "print(f\"- Documentos procesados: {len(topics):,}\")\n",
        "print(f\"- Documentos sin asignar (outliers): {sum(t == -1 for t in topics):,}\")\n",
        "print(f\"- Documentos asignados a tópicos: {sum(t != -1 for t in topics):,}\")\n",
        "\n",
        "# Mostrar distribución de documentos por tópico (top 10)\n",
        "print(f\"\\nTop 10 tópicos por número de documentos:\")\n",
        "topic_counts = topic_info.head(11)  # 11 porque incluye el tópico -1\n",
        "for idx, row in topic_counts.iterrows():\n",
        "    if row['Topic'] != -1:  # Excluir outliers\n",
        "        print(f\"Tópico {row['Topic']:2d}: {row['Count']:5,} docs - Palabras clave: {', '.join(row['Representation'][:5])}\")\n",
        "\n",
        "print(f\"\\nModelado de tópicos listo para análisis y visualización!\")"
      ]
    },
    {
      "cell_type": "markdown",
      "metadata": {},
      "source": [
        "## 6. Análisis Detallado de Tópicos\n",
        "\n",
        "### Exploración de Tópicos Descubiertos\n",
        "\n",
        "Analizaremos en detalle los tópicos encontrados para entender:\n",
        "- **Temáticas principales**: Qué aspectos de restaurantes cubren los tópicos\n",
        "- **Coherencia semántica**: Calidad de la agrupación temática\n",
        "- **Representatividad**: Qué tan bien representan las palabras clave cada tópico\n",
        "- **Distribución**: Balance entre tópicos en términos de documentos\n",
        "\n",
        "### Análisis de Palabras Clave\n",
        "\n",
        "Para cada tópico examinaremos:\n",
        "- **Top palabras**: Las palabras más representativas\n",
        "- **Relevancia**: Importancia relativa dentro del tópico\n",
        "- **Contexto gastronómico**: Relación con aspectos de restaurantes\n",
        "\n",
        "### Ejemplos Representativos\n",
        "\n",
        "Seleccionaremos reviews ejemplo que mejor representen cada tópico principal."
      ]
    },
    {
      "cell_type": "code",
      "execution_count": 9,
      "metadata": {},
      "outputs": [
        {
          "name": "stdout",
          "output_type": "stream",
          "text": [
            "ANÁLISIS DETALLADO DE TÓPICOS\n",
            "==================================================\n",
            "Información completa de tópicos:\n"
          ]
        },
        {
          "data": {
            "text/html": [
              "<div>\n",
              "<style scoped>\n",
              "    .dataframe tbody tr th:only-of-type {\n",
              "        vertical-align: middle;\n",
              "    }\n",
              "\n",
              "    .dataframe tbody tr th {\n",
              "        vertical-align: top;\n",
              "    }\n",
              "\n",
              "    .dataframe thead th {\n",
              "        text-align: right;\n",
              "    }\n",
              "</style>\n",
              "<table border=\"1\" class=\"dataframe\">\n",
              "  <thead>\n",
              "    <tr style=\"text-align: right;\">\n",
              "      <th></th>\n",
              "      <th>Topic</th>\n",
              "      <th>Count</th>\n",
              "      <th>Name</th>\n",
              "      <th>Representation</th>\n",
              "      <th>Representative_Docs</th>\n",
              "    </tr>\n",
              "  </thead>\n",
              "  <tbody>\n",
              "    <tr>\n",
              "      <th>0</th>\n",
              "      <td>-1</td>\n",
              "      <td>14575</td>\n",
              "      <td>-1_sandwich_shrimp_bread_sauce</td>\n",
              "      <td>[sandwich, shrimp, bread, sauce, fries, fried, pork, fish, beer, server]</td>\n",
              "      <td>[Our lunch at Vernick Fish was everything we'd hoped it would be - with a few surprises! Food wa...</td>\n",
              "    </tr>\n",
              "    <tr>\n",
              "      <th>1</th>\n",
              "      <td>0</td>\n",
              "      <td>5888</td>\n",
              "      <td>0_minutes_asked_manager_told</td>\n",
              "      <td>[minutes, asked, manager, told, rude, waitress, customer, server, waited, waiting]</td>\n",
              "      <td>[Went to Joseph Ambler Inn over the weekend as it is usually a very good experience with excelle...</td>\n",
              "    </tr>\n",
              "    <tr>\n",
              "      <th>2</th>\n",
              "      <td>1</td>\n",
              "      <td>2395</td>\n",
              "      <td>1_tacos_mexican_taco_salsa</td>\n",
              "      <td>[tacos, mexican, taco, salsa, burrito, mexican food, chips, margaritas, guacamole, tortillas]</td>\n",
              "      <td>[We used to enjoy Tortilla Press. We recently went there for lunch. We found it very underwhelmi...</td>\n",
              "    </tr>\n",
              "    <tr>\n",
              "      <th>3</th>\n",
              "      <td>2</td>\n",
              "      <td>2024</td>\n",
              "      <td>2_food great_great food_great service_server</td>\n",
              "      <td>[food great, great food, great service, server, good food, attentive, love place, wonderful, foo...</td>\n",
              "      <td>[Great Food. Great Service. Great prices and for many many years now. GREAT WORK TEAM. BOOM. =v ...</td>\n",
              "    </tr>\n",
              "    <tr>\n",
              "      <th>4</th>\n",
              "      <td>3</td>\n",
              "      <td>1884</td>\n",
              "      <td>3_pizza_crust_pizzas_best pizza</td>\n",
              "      <td>[pizza, crust, pizzas, best pizza, pepperoni, toppings, pie, slice, sauce, pizza place]</td>\n",
              "      <td>[Giovanni's pizza is the best pizza shop in town. We always stop here to get a delicious pizza w...</td>\n",
              "    </tr>\n",
              "    <tr>\n",
              "      <th>...</th>\n",
              "      <td>...</td>\n",
              "      <td>...</td>\n",
              "      <td>...</td>\n",
              "      <td>...</td>\n",
              "      <td>...</td>\n",
              "    </tr>\n",
              "    <tr>\n",
              "      <th>66</th>\n",
              "      <td>65</td>\n",
              "      <td>63</td>\n",
              "      <td>65_gluten_gluten free_free_gf</td>\n",
              "      <td>[gluten, gluten free, free, gf, bread, dairy, vegetarian, crepe, rice, option]</td>\n",
              "      <td>[Overall, this was a disappointment. The menu online indicated some items were gluten free which...</td>\n",
              "    </tr>\n",
              "    <tr>\n",
              "      <th>67</th>\n",
              "      <td>66</td>\n",
              "      <td>62</td>\n",
              "      <td>66_tea_boba_bubble_teas</td>\n",
              "      <td>[tea, boba, bubble, teas, milk, flavors, green tea, sweet, sweetness, smoothies]</td>\n",
              "      <td>[\"Best boba tea I've ever had,\" says my friend who spent 4 years in LA This I had to taste for m...</td>\n",
              "    </tr>\n",
              "    <tr>\n",
              "      <th>68</th>\n",
              "      <td>67</td>\n",
              "      <td>57</td>\n",
              "      <td>67_french_french quarter_quarter_dined</td>\n",
              "      <td>[french, french quarter, quarter, dined, starter, cafe, beach, jazz, outstanding, entree]</td>\n",
              "      <td>[This cafe is a quick uber drive away from the French quarter and well worth it. It's located in...</td>\n",
              "    </tr>\n",
              "    <tr>\n",
              "      <th>69</th>\n",
              "      <td>68</td>\n",
              "      <td>52</td>\n",
              "      <td>68_st pete_pete_st_beach</td>\n",
              "      <td>[st pete, pete, st, beach, downtown, restaurants, wow, fish chips, fish, selection]</td>\n",
              "      <td>[As a St. Pete native, I can confidently say this is the best breakfast place in all of St. Pete...</td>\n",
              "    </tr>\n",
              "    <tr>\n",
              "      <th>70</th>\n",
              "      <td>69</td>\n",
              "      <td>50</td>\n",
              "      <td>69_music_live music_venue_live</td>\n",
              "      <td>[music, live music, venue, live, nights, bars, stage, cover, broadway, crowd]</td>\n",
              "      <td>[This place is awesome if you love Rock music and live music. This place has some of the best un...</td>\n",
              "    </tr>\n",
              "  </tbody>\n",
              "</table>\n",
              "<p>71 rows × 5 columns</p>\n",
              "</div>"
            ],
            "text/plain": [
              "    Topic  Count                                          Name  \\\n",
              "0      -1  14575                -1_sandwich_shrimp_bread_sauce   \n",
              "1       0   5888                  0_minutes_asked_manager_told   \n",
              "2       1   2395                    1_tacos_mexican_taco_salsa   \n",
              "3       2   2024  2_food great_great food_great service_server   \n",
              "4       3   1884               3_pizza_crust_pizzas_best pizza   \n",
              "..    ...    ...                                           ...   \n",
              "66     65     63                 65_gluten_gluten free_free_gf   \n",
              "67     66     62                       66_tea_boba_bubble_teas   \n",
              "68     67     57        67_french_french quarter_quarter_dined   \n",
              "69     68     52                      68_st pete_pete_st_beach   \n",
              "70     69     50                69_music_live music_venue_live   \n",
              "\n",
              "                                                                                         Representation  \\\n",
              "0                              [sandwich, shrimp, bread, sauce, fries, fried, pork, fish, beer, server]   \n",
              "1                    [minutes, asked, manager, told, rude, waitress, customer, server, waited, waiting]   \n",
              "2         [tacos, mexican, taco, salsa, burrito, mexican food, chips, margaritas, guacamole, tortillas]   \n",
              "3   [food great, great food, great service, server, good food, attentive, love place, wonderful, foo...   \n",
              "4               [pizza, crust, pizzas, best pizza, pepperoni, toppings, pie, slice, sauce, pizza place]   \n",
              "..                                                                                                  ...   \n",
              "66                       [gluten, gluten free, free, gf, bread, dairy, vegetarian, crepe, rice, option]   \n",
              "67                     [tea, boba, bubble, teas, milk, flavors, green tea, sweet, sweetness, smoothies]   \n",
              "68            [french, french quarter, quarter, dined, starter, cafe, beach, jazz, outstanding, entree]   \n",
              "69                  [st pete, pete, st, beach, downtown, restaurants, wow, fish chips, fish, selection]   \n",
              "70                        [music, live music, venue, live, nights, bars, stage, cover, broadway, crowd]   \n",
              "\n",
              "                                                                                    Representative_Docs  \n",
              "0   [Our lunch at Vernick Fish was everything we'd hoped it would be - with a few surprises! Food wa...  \n",
              "1   [Went to Joseph Ambler Inn over the weekend as it is usually a very good experience with excelle...  \n",
              "2   [We used to enjoy Tortilla Press. We recently went there for lunch. We found it very underwhelmi...  \n",
              "3   [Great Food. Great Service. Great prices and for many many years now. GREAT WORK TEAM. BOOM. =v ...  \n",
              "4   [Giovanni's pizza is the best pizza shop in town. We always stop here to get a delicious pizza w...  \n",
              "..                                                                                                  ...  \n",
              "66  [Overall, this was a disappointment. The menu online indicated some items were gluten free which...  \n",
              "67  [\"Best boba tea I've ever had,\" says my friend who spent 4 years in LA This I had to taste for m...  \n",
              "68  [This cafe is a quick uber drive away from the French quarter and well worth it. It's located in...  \n",
              "69  [As a St. Pete native, I can confidently say this is the best breakfast place in all of St. Pete...  \n",
              "70  [This place is awesome if you love Rock music and live music. This place has some of the best un...  \n",
              "\n",
              "[71 rows x 5 columns]"
            ]
          },
          "metadata": {},
          "output_type": "display_data"
        },
        {
          "name": "stdout",
          "output_type": "stream",
          "text": [
            "\n",
            "ANÁLISIS DE LOS 10 TÓPICOS PRINCIPALES\n",
            "---------------------------------------------\n",
            "\n",
            "TÓPICO 0 (5,888 documentos)\n",
            "   Palabras clave: minutes, asked, manager, told, rude, waitress, customer, server, waited, waiting\n",
            "   Ejemplo representativo:\n",
            "   'Went to Joseph Ambler Inn over the weekend as it is usually a very good experience with excellent food. Arrived and waited at front reception area for about 5 minutes. Was seated in an area with about...'\n",
            "\n",
            "TÓPICO 1 (2,395 documentos)\n",
            "   Palabras clave: tacos, mexican, taco, salsa, burrito, mexican food, chips, margaritas, guacamole, tortillas\n",
            "   Ejemplo representativo:\n",
            "   'We used to enjoy Tortilla Press. We recently went there for lunch. We found it very underwhelming. The guacamole is still good but my wife makes it better. Nothing had spice or zest. It seems that the...'\n",
            "\n",
            "TÓPICO 2 (2,024 documentos)\n",
            "   Palabras clave: food great, great food, great service, server, good food, attentive, love place, wonderful, food delicious, excellent food\n",
            "   Ejemplo representativo:\n",
            "   'Great Food. Great Service. Great prices and for many many years now. GREAT WORK TEAM. BOOM. =v )'\n",
            "\n",
            "TÓPICO 3 (1,884 documentos)\n",
            "   Palabras clave: pizza, crust, pizzas, best pizza, pepperoni, toppings, pie, slice, sauce, pizza place\n",
            "   Ejemplo representativo:\n",
            "   'Giovanni's pizza is the best pizza shop in town. We always stop here to get a delicious pizza with all the toppings, whenever were in town. The owner is friendly & will make us any special order item ...'\n",
            "\n",
            "TÓPICO 4 (1,201 documentos)\n",
            "   Palabras clave: sushi, roll, rolls, best sushi, hibachi, japanese, tuna, sushi place, sashimi, rice\n",
            "   Ejemplo representativo:\n",
            "   'I'm not really into sushi but my friends love it so I always end up at a sushi place. This was one of the better ones I've been to. The spicy tuna roll was flavorful but again I'm not a fan of sushi. ...'\n",
            "\n",
            "TÓPICO 5 (1,092 documentos)\n",
            "   Palabras clave: burger, fries, burgers, bun, ketchup, patty, cheeseburger, bacon, onion rings, burger fries\n",
            "   Ejemplo representativo:\n",
            "   'I was pleasantly surprised by this burger joint. I think the main reason I liked it so much was the option to order a \"wise\" burger vs a regular burger. The wise burger has onions (and maybe mustard?)...'\n",
            "\n",
            "TÓPICO 6 (863 documentos)\n",
            "   Palabras clave: italian, pasta, italian food, sauce, ravioli, lasagna, italian restaurant, bread, spaghetti, alfredo\n",
            "   Ejemplo representativo:\n",
            "   'My pasta was over cooked and the portion was small, especially for an Italian restaurant. The Alfredo was very bland. The server, Reagan, was nice.'\n",
            "\n",
            "TÓPICO 7 (843 documentos)\n",
            "   Palabras clave: chinese, chinese food, rice, noodles, dumplings, soup, fried rice, noodle, fried, asian\n",
            "   Ejemplo representativo:\n",
            "   'If you're looking for the best Chinese food in Santa Barbara keep looking. This place has probably some of the worst Chinese I've had. I ordered steamed dumplings, general chicken and shrimp/pineapple...'\n",
            "\n",
            "TÓPICO 8 (752 documentos)\n",
            "   Palabras clave: beer, beers, selection, bartenders, beer selection, bartender, game, pub, watch, tap\n",
            "   Ejemplo representativo:\n",
            "   'I really like the midcity Bulldog location! There is much more seating inside than the uptown location and still has a great patio for nice nights! Bulldog also has a pretty good beer selection! With ...'\n",
            "\n",
            "TÓPICO 9 (642 documentos)\n",
            "   Palabras clave: crab, shrimp, seafood, lobster, crawfish, fish, crab cakes, legs, crab legs, crabs\n",
            "   Ejemplo representativo:\n",
            "   'Great place to eat a seafood platter. Crab cakes are great, especially with the crawfish sauce on top. It's the perfect sports bar for all ages.'\n",
            "\n",
            "ESTADÍSTICAS GENERALES\n",
            "-------------------------\n",
            "Total de tópicos válidos: 70\n",
            "Documentos promedio por tópico: 420.3\n",
            "Porcentaje de outliers: 33.1%\n",
            "Tamaño del tópico más grande: 5,888\n",
            "Tamaño del tópico más pequeño: 50\n",
            "Mediana de tamaño de tópicos: 164\n"
          ]
        }
      ],
      "source": [
        "# Análisis detallado de los tópicos encontrados\n",
        "print(\"ANÁLISIS DETALLADO DE TÓPICOS\")\n",
        "print(\"=\" * 50)\n",
        "\n",
        "# Mostrar información completa de todos los tópicos\n",
        "print(f\"Información completa de tópicos:\")\n",
        "display(topic_info)\n",
        "\n",
        "# Análisis de los tópicos principales (top 10)\n",
        "print(f\"\\nANÁLISIS DE LOS 10 TÓPICOS PRINCIPALES\")\n",
        "print(\"-\" * 45)\n",
        "\n",
        "top_topics = topic_info[topic_info['Topic'] != -1].head(10)\n",
        "\n",
        "for idx, row in top_topics.iterrows():\n",
        "    topic_id = row['Topic']\n",
        "    count = row['Count']\n",
        "    words = row['Representation']\n",
        "    \n",
        "    print(f\"\\nTÓPICO {topic_id} ({count:,} documentos)\")\n",
        "    print(f\"   Palabras clave: {', '.join(words[:10])}\")\n",
        "    \n",
        "    # Obtener documentos más representativos de este tópico\n",
        "    topic_docs = topic_model.get_representative_docs(topic_id)\n",
        "    if topic_docs:\n",
        "        print(f\"   Ejemplo representativo:\")\n",
        "        example_text = topic_docs[0][:200] + \"...\" if len(topic_docs[0]) > 200 else topic_docs[0]\n",
        "        print(f\"   '{example_text}'\")\n",
        "\n",
        "# Estadísticas generales\n",
        "print(f\"\\nESTADÍSTICAS GENERALES\")\n",
        "print(\"-\" * 25)\n",
        "docs_asignados = sum(t != -1 for t in topics)\n",
        "docs_outliers = sum(t == -1 for t in topics)\n",
        "print(f\"Total de tópicos válidos: {num_topics}\")\n",
        "print(f\"Documentos promedio por tópico: {docs_asignados / num_topics:.1f}\")\n",
        "print(f\"Porcentaje de outliers: {docs_outliers / len(topics) * 100:.1f}%\")\n",
        "\n",
        "# Analizar distribución de tamaños de tópicos\n",
        "topic_sizes = topic_info[topic_info['Topic'] != -1]['Count']\n",
        "print(f\"Tamaño del tópico más grande: {topic_sizes.max():,}\")\n",
        "print(f\"Tamaño del tópico más pequeño: {topic_sizes.min():,}\")\n",
        "print(f\"Mediana de tamaño de tópicos: {topic_sizes.median():.0f}\")"
      ]
    },
    {
      "cell_type": "markdown",
      "metadata": {},
      "source": [
        "## 7. Visualizaciones Interactivas\n",
        "\n",
        "### Visualizaciones Disponibles\n",
        "\n",
        "BERTopic proporciona múltiples visualizaciones interactivas:\n",
        "1. **Mapa de tópicos**: Distribución espacial de tópicos en 2D\n",
        "2. **Jerarquía de tópicos**: Relaciones jerárquicas entre tópicos\n",
        "3. **Distribución de tópicos**: Tamaños relativos de cada tópico\n",
        "4. **Palabras clave por tópico**: Importancia de palabras en cada tópico\n",
        "5. **Similitud entre tópicos**: Matriz de distancias semánticas\n",
        "\n",
        "### Utilidad de las Visualizaciones\n",
        "\n",
        "- **Exploración interactiva**: Navegación intuitiva entre tópicos\n",
        "- **Validación de coherencia**: Verificación visual de agrupaciones\n",
        "- **Identificación de patrones**: Detección de relaciones temáticas\n",
        "- **Presentación de resultados**: Comunicación efectiva de hallazgos\n",
        "\n",
        "### Guardado de Visualizaciones\n",
        "\n",
        "Las visualizaciones se guardarán en formato PNG."
      ]
    },
    {
      "cell_type": "code",
      "execution_count": 10,
      "metadata": {},
      "outputs": [
        {
          "name": "stdout",
          "output_type": "stream",
          "text": [
            "Generando visualizaciones de BERTopic...\n",
            "Creando mapa de tópicos...\n"
          ]
        },
        {
          "data": {
            "application/vnd.plotly.v1+json": {
              "config": {
                "plotlyServerURL": "https://plot.ly"
              },
              "data": [
                {
                  "customdata": [
                    [
                      0,
                      "minutes | asked | manager | told | rude",
                      5888
                    ],
                    [
                      1,
                      "tacos | mexican | taco | salsa | burrito",
                      2395
                    ],
                    [
                      2,
                      "food great | great food | great service | server | good food",
                      2024
                    ],
                    [
                      3,
                      "pizza | crust | pizzas | best pizza | pepperoni",
                      1884
                    ],
                    [
                      4,
                      "sushi | roll | rolls | best sushi | hibachi",
                      1201
                    ],
                    [
                      5,
                      "burger | fries | burgers | bun | ketchup",
                      1092
                    ],
                    [
                      6,
                      "italian | pasta | italian food | sauce | ravioli",
                      863
                    ],
                    [
                      7,
                      "chinese | chinese food | rice | noodles | dumplings",
                      843
                    ],
                    [
                      8,
                      "beer | beers | selection | bartenders | beer selection",
                      752
                    ],
                    [
                      9,
                      "crab | shrimp | seafood | lobster | crawfish",
                      642
                    ],
                    [
                      10,
                      "breakfast | eggs | pancakes | bacon | toast",
                      635
                    ],
                    [
                      11,
                      "coffee | coffee shop | latte | starbucks | shop",
                      579
                    ],
                    [
                      12,
                      "bbq | brisket | ribs | pulled pork | pulled",
                      558
                    ],
                    [
                      13,
                      "thai | pad | pad thai | thai food | curry",
                      437
                    ],
                    [
                      14,
                      "fried chicken | hot chicken | hot | fried | nashville",
                      411
                    ],
                    [
                      15,
                      "nashville | music | burger | live | downtown",
                      408
                    ],
                    [
                      16,
                      "brunch | sunday brunch | sunday | mimosas | bloody",
                      382
                    ],
                    [
                      17,
                      "indian | indian food | naan | masala | tikka",
                      375
                    ],
                    [
                      18,
                      "steak | steaks | steakhouse | medium | filet",
                      356
                    ],
                    [
                      19,
                      "vegan | vegetarian | vegan options | tofu | vegetarian options",
                      353
                    ],
                    [
                      20,
                      "pizza | delivery | called | pizzas | told",
                      353
                    ],
                    [
                      21,
                      "sandwich | sandwiches | deli | pastrami | bread",
                      338
                    ],
                    [
                      22,
                      "cheesesteak | philly | cheesesteaks | cheese steak | geno",
                      322
                    ],
                    [
                      23,
                      "orleans | new orleans | creole | shrimp | po",
                      313
                    ],
                    [
                      24,
                      "oysters | oyster | dozen | chargrilled | acme",
                      294
                    ],
                    [
                      25,
                      "star | zero | place stars | zero stars | reason",
                      270
                    ],
                    [
                      26,
                      "wings | wing | buffalo | sauce | chicken wings",
                      247
                    ],
                    [
                      27,
                      "tucson | mexican | salsa | chinese | mexican food",
                      244
                    ],
                    [
                      28,
                      "tampa | tampa bay | bay | florida | downtown",
                      233
                    ],
                    [
                      29,
                      "philly | philadelphia | nyc | city | brunch",
                      224
                    ],
                    [
                      30,
                      "closed | hours | sign | closing | close",
                      203
                    ],
                    [
                      31,
                      "pho | broth | vietnamese | rolls | bowl",
                      193
                    ],
                    [
                      32,
                      "cake | cookies | bakery | chocolate | cupcakes",
                      179
                    ],
                    [
                      33,
                      "room | hotel | rooms | desk | stay",
                      176
                    ],
                    [
                      34,
                      "nola | shrimp | trip | red beans | creole",
                      167
                    ],
                    [
                      35,
                      "dressing | salads | chicken salad | caesar | lettuce",
                      161
                    ],
                    [
                      36,
                      "korean | korean food | kimchi | bulgogi | bbq",
                      156
                    ],
                    [
                      37,
                      "bagels | bagel | cream cheese | cream | toasted",
                      153
                    ],
                    [
                      38,
                      "donuts | donut | doughnuts | glazed | coffee",
                      152
                    ],
                    [
                      39,
                      "ramen | broth | noodles | spicy | pork",
                      152
                    ],
                    [
                      40,
                      "birthday | anniversary | birthday dinner | celebrate | celebration",
                      149
                    ],
                    [
                      41,
                      "cuban | cuban sandwich | sandwich | pork | bread",
                      140
                    ],
                    [
                      42,
                      "greek | gyro | greek salad | pita | lamb",
                      133
                    ],
                    [
                      43,
                      "reno | breakfast | casino | gold | ranch",
                      132
                    ],
                    [
                      44,
                      "wine | wines | wine list | list | glass",
                      129
                    ],
                    [
                      45,
                      "indy | indianapolis | market | mass | downtown",
                      129
                    ],
                    [
                      46,
                      "hummus | pita | falafel | middle eastern | shawarma",
                      124
                    ],
                    [
                      47,
                      "yelp | yelp reviews | review | rating | star",
                      121
                    ],
                    [
                      48,
                      "mcdonald | wendy | mcdonalds | worst | drive",
                      118
                    ],
                    [
                      49,
                      "ice | ice cream | cream | gelato | flavors",
                      117
                    ],
                    [
                      50,
                      "soup | broth | pot | spicy | hot pot",
                      109
                    ],
                    [
                      51,
                      "happy hour | happy | hour | great happy | deals",
                      106
                    ],
                    [
                      52,
                      "boise | ethiopian | restaurants | combo | vegetarian",
                      101
                    ],
                    [
                      53,
                      "mask | masks | wearing | covid | wear",
                      95
                    ],
                    [
                      54,
                      "santa barbara | santa | barbara | beautiful | dining",
                      94
                    ],
                    [
                      55,
                      "crepe | crepes | croissant | pastries | savory",
                      86
                    ],
                    [
                      56,
                      "vietnamese | vietnamese food | pho | mi | banh",
                      84
                    ],
                    [
                      57,
                      "buffet | buffets | lunch buffet | average | desserts",
                      74
                    ],
                    [
                      58,
                      "poke | bowl | bowls | tuna | seaweed",
                      74
                    ],
                    [
                      59,
                      "gyro | gyros | pita | fries | meat",
                      71
                    ],
                    [
                      60,
                      "louis | st louis | st | bbq | saint",
                      71
                    ],
                    [
                      61,
                      "chipotle | burrito | line | worst | online",
                      70
                    ],
                    [
                      62,
                      "dog | dogs | hot dogs | hot dog | hot",
                      68
                    ],
                    [
                      63,
                      "german | le | beer | la | beers",
                      66
                    ],
                    [
                      64,
                      "smoothie | juice | smoothies | mango | healthy",
                      65
                    ],
                    [
                      65,
                      "gluten | gluten free | free | gf | bread",
                      63
                    ],
                    [
                      66,
                      "tea | boba | bubble | teas | milk",
                      62
                    ],
                    [
                      67,
                      "french | french quarter | quarter | dined | starter",
                      57
                    ],
                    [
                      68,
                      "st pete | pete | st | beach | downtown",
                      52
                    ],
                    [
                      69,
                      "music | live music | venue | live | nights",
                      50
                    ]
                  ],
                  "hovertemplate": "<b>Topic %{customdata[0]}</b><br>%{customdata[1]}<br>Size: %{customdata[2]}",
                  "legendgroup": "",
                  "marker": {
                    "color": "#B0BEC5",
                    "line": {
                      "color": "DarkSlateGrey",
                      "width": 2
                    },
                    "size": {
                      "bdata": "ABdbCegHXAexBEQEXwNLA/ACggJ7AkMCLgK1AZsBmAF+AXcBZAFhAWEBUgFCATkBJgEOAfcA9ADpAOAAywDBALMAsACnAKEAnACZAJgAmACVAIwAhQCEAIEAgQB8AHkAdgB1AG0AagBlAF8AXgBWAFQASgBKAEcARwBGAEQAQgBBAD8APgA5ADQAMgA=",
                      "dtype": "i2"
                    },
                    "sizemode": "area",
                    "sizeref": 3.68,
                    "symbol": "circle"
                  },
                  "mode": "markers",
                  "name": "",
                  "orientation": "v",
                  "showlegend": false,
                  "type": "scatter",
                  "x": {
                    "bdata": "INtAwVA31cC+T9JABss9wac7K0G1eXhBFAY9wa5+LkHKnC7B2GGMwHfXcUFW+s1AaVSBwENyMUHMGmI/OcfAQBr700AENjVBL1KBwCd/gEEJfT7B8IV2QYYT8kCmFPm+GVOMwMRqRcF7Hng/TTfEQJYb4sDXY/BAbFU/wfNoIkHaj8hAjFFGwZHhIL9PgyQ/UF0tQSqKeUEAPshAMncrQWx7x0Al9dTAjP08wQbrykDuTSvBWRH2QD7afEHdadNAb4xAwT+9y0Dx8D8/scbaQIqJz0A8ZkDBmqDFQPCTcEFXlSRBcLXXQNWUID9A6XtBnGgJvxY/2MDYBHhB+EsqwWQpN0HTAIFB/yk3QSYS20BhIuLAw9wvwQ==",
                    "dtype": "f4"
                  },
                  "xaxis": "x",
                  "y": {
                    "bdata": "D69oPymtkb/sYR1Bh/QvvvXY/sDbO5tAb90CvwCV+MCQQktBNLmhwGTlkUAKyiBBX7buQKWs+sB7nwrBc+keQSuXHUFJ8ffAj7XuQLufv0Al/Wc++hKYQCV/FUEnxMRAHMihwKE+Sz8AOwnB9fMoQeDqB0Ga6BZBuMBXPxfeAsGmwlrACeloP3w+wEA8gw7BNDD5wLTokkDyaVvAvHD+wDnyF0GdopC/+n4Kv59qGkHOj05BJtUTQfu+skBTRRdB/hQsPzJmVMAkygzBSMUTQfxbF0GO/4M/nbInQcIMk0CTLAHBk98aQTjDDsFpKLVA/yvDQNzJnb8gk55AS5BPQZdnUEG2dcJATWhQQdIdHUEF7QdBPgJKQQ==",
                    "dtype": "f4"
                  },
                  "yaxis": "y"
                }
              ],
              "layout": {
                "annotations": [
                  {
                    "showarrow": false,
                    "text": "D1",
                    "x": -14.254145622253418,
                    "y": 2.359111785888672,
                    "yshift": 10
                  },
                  {
                    "showarrow": false,
                    "text": "D2",
                    "x": 2.145033359527588,
                    "xshift": 10,
                    "y": 14.979283332824707
                  }
                ],
                "height": 650,
                "hoverlabel": {
                  "bgcolor": "white",
                  "font": {
                    "family": "Rockwell",
                    "size": 16
                  }
                },
                "legend": {
                  "itemsizing": "constant",
                  "tracegroupgap": 0
                },
                "margin": {
                  "t": 60
                },
                "shapes": [
                  {
                    "line": {
                      "color": "#CFD8DC",
                      "width": 2
                    },
                    "type": "line",
                    "x0": 2.145033359527588,
                    "x1": 2.145033359527588,
                    "y0": -10.261059761047363,
                    "y1": 14.979283332824707
                  },
                  {
                    "line": {
                      "color": "#9E9E9E",
                      "width": 2
                    },
                    "type": "line",
                    "x0": -14.254145622253418,
                    "x1": 18.544212341308594,
                    "y0": 2.359111785888672,
                    "y1": 2.359111785888672
                  }
                ],
                "sliders": [
                  {
                    "active": 0,
                    "pad": {
                      "t": 50
                    },
                    "steps": [
                      {
                        "args": [
                          {
                            "marker.color": [
                              [
                                "red",
                                "#B0BEC5",
                                "#B0BEC5",
                                "#B0BEC5",
                                "#B0BEC5",
                                "#B0BEC5",
                                "#B0BEC5",
                                "#B0BEC5",
                                "#B0BEC5",
                                "#B0BEC5",
                                "#B0BEC5",
                                "#B0BEC5",
                                "#B0BEC5",
                                "#B0BEC5",
                                "#B0BEC5",
                                "#B0BEC5",
                                "#B0BEC5",
                                "#B0BEC5",
                                "#B0BEC5",
                                "#B0BEC5",
                                "#B0BEC5",
                                "#B0BEC5",
                                "#B0BEC5",
                                "#B0BEC5",
                                "#B0BEC5",
                                "#B0BEC5",
                                "#B0BEC5",
                                "#B0BEC5",
                                "#B0BEC5",
                                "#B0BEC5",
                                "#B0BEC5",
                                "#B0BEC5",
                                "#B0BEC5",
                                "#B0BEC5",
                                "#B0BEC5",
                                "#B0BEC5",
                                "#B0BEC5",
                                "#B0BEC5",
                                "#B0BEC5",
                                "#B0BEC5",
                                "#B0BEC5",
                                "#B0BEC5",
                                "#B0BEC5",
                                "#B0BEC5",
                                "#B0BEC5",
                                "#B0BEC5",
                                "#B0BEC5",
                                "#B0BEC5",
                                "#B0BEC5",
                                "#B0BEC5",
                                "#B0BEC5",
                                "#B0BEC5",
                                "#B0BEC5",
                                "#B0BEC5",
                                "#B0BEC5",
                                "#B0BEC5",
                                "#B0BEC5",
                                "#B0BEC5",
                                "#B0BEC5",
                                "#B0BEC5",
                                "#B0BEC5",
                                "#B0BEC5",
                                "#B0BEC5",
                                "#B0BEC5",
                                "#B0BEC5",
                                "#B0BEC5",
                                "#B0BEC5",
                                "#B0BEC5",
                                "#B0BEC5",
                                "#B0BEC5"
                              ]
                            ]
                          }
                        ],
                        "label": "Topic 0",
                        "method": "update"
                      },
                      {
                        "args": [
                          {
                            "marker.color": [
                              [
                                "#B0BEC5",
                                "red",
                                "#B0BEC5",
                                "#B0BEC5",
                                "#B0BEC5",
                                "#B0BEC5",
                                "#B0BEC5",
                                "#B0BEC5",
                                "#B0BEC5",
                                "#B0BEC5",
                                "#B0BEC5",
                                "#B0BEC5",
                                "#B0BEC5",
                                "#B0BEC5",
                                "#B0BEC5",
                                "#B0BEC5",
                                "#B0BEC5",
                                "#B0BEC5",
                                "#B0BEC5",
                                "#B0BEC5",
                                "#B0BEC5",
                                "#B0BEC5",
                                "#B0BEC5",
                                "#B0BEC5",
                                "#B0BEC5",
                                "#B0BEC5",
                                "#B0BEC5",
                                "#B0BEC5",
                                "#B0BEC5",
                                "#B0BEC5",
                                "#B0BEC5",
                                "#B0BEC5",
                                "#B0BEC5",
                                "#B0BEC5",
                                "#B0BEC5",
                                "#B0BEC5",
                                "#B0BEC5",
                                "#B0BEC5",
                                "#B0BEC5",
                                "#B0BEC5",
                                "#B0BEC5",
                                "#B0BEC5",
                                "#B0BEC5",
                                "#B0BEC5",
                                "#B0BEC5",
                                "#B0BEC5",
                                "#B0BEC5",
                                "#B0BEC5",
                                "#B0BEC5",
                                "#B0BEC5",
                                "#B0BEC5",
                                "#B0BEC5",
                                "#B0BEC5",
                                "#B0BEC5",
                                "#B0BEC5",
                                "#B0BEC5",
                                "#B0BEC5",
                                "#B0BEC5",
                                "#B0BEC5",
                                "#B0BEC5",
                                "#B0BEC5",
                                "#B0BEC5",
                                "#B0BEC5",
                                "#B0BEC5",
                                "#B0BEC5",
                                "#B0BEC5",
                                "#B0BEC5",
                                "#B0BEC5",
                                "#B0BEC5",
                                "#B0BEC5"
                              ]
                            ]
                          }
                        ],
                        "label": "Topic 1",
                        "method": "update"
                      },
                      {
                        "args": [
                          {
                            "marker.color": [
                              [
                                "#B0BEC5",
                                "#B0BEC5",
                                "red",
                                "#B0BEC5",
                                "#B0BEC5",
                                "#B0BEC5",
                                "#B0BEC5",
                                "#B0BEC5",
                                "#B0BEC5",
                                "#B0BEC5",
                                "#B0BEC5",
                                "#B0BEC5",
                                "#B0BEC5",
                                "#B0BEC5",
                                "#B0BEC5",
                                "#B0BEC5",
                                "#B0BEC5",
                                "#B0BEC5",
                                "#B0BEC5",
                                "#B0BEC5",
                                "#B0BEC5",
                                "#B0BEC5",
                                "#B0BEC5",
                                "#B0BEC5",
                                "#B0BEC5",
                                "#B0BEC5",
                                "#B0BEC5",
                                "#B0BEC5",
                                "#B0BEC5",
                                "#B0BEC5",
                                "#B0BEC5",
                                "#B0BEC5",
                                "#B0BEC5",
                                "#B0BEC5",
                                "#B0BEC5",
                                "#B0BEC5",
                                "#B0BEC5",
                                "#B0BEC5",
                                "#B0BEC5",
                                "#B0BEC5",
                                "#B0BEC5",
                                "#B0BEC5",
                                "#B0BEC5",
                                "#B0BEC5",
                                "#B0BEC5",
                                "#B0BEC5",
                                "#B0BEC5",
                                "#B0BEC5",
                                "#B0BEC5",
                                "#B0BEC5",
                                "#B0BEC5",
                                "#B0BEC5",
                                "#B0BEC5",
                                "#B0BEC5",
                                "#B0BEC5",
                                "#B0BEC5",
                                "#B0BEC5",
                                "#B0BEC5",
                                "#B0BEC5",
                                "#B0BEC5",
                                "#B0BEC5",
                                "#B0BEC5",
                                "#B0BEC5",
                                "#B0BEC5",
                                "#B0BEC5",
                                "#B0BEC5",
                                "#B0BEC5",
                                "#B0BEC5",
                                "#B0BEC5",
                                "#B0BEC5"
                              ]
                            ]
                          }
                        ],
                        "label": "Topic 2",
                        "method": "update"
                      },
                      {
                        "args": [
                          {
                            "marker.color": [
                              [
                                "#B0BEC5",
                                "#B0BEC5",
                                "#B0BEC5",
                                "red",
                                "#B0BEC5",
                                "#B0BEC5",
                                "#B0BEC5",
                                "#B0BEC5",
                                "#B0BEC5",
                                "#B0BEC5",
                                "#B0BEC5",
                                "#B0BEC5",
                                "#B0BEC5",
                                "#B0BEC5",
                                "#B0BEC5",
                                "#B0BEC5",
                                "#B0BEC5",
                                "#B0BEC5",
                                "#B0BEC5",
                                "#B0BEC5",
                                "#B0BEC5",
                                "#B0BEC5",
                                "#B0BEC5",
                                "#B0BEC5",
                                "#B0BEC5",
                                "#B0BEC5",
                                "#B0BEC5",
                                "#B0BEC5",
                                "#B0BEC5",
                                "#B0BEC5",
                                "#B0BEC5",
                                "#B0BEC5",
                                "#B0BEC5",
                                "#B0BEC5",
                                "#B0BEC5",
                                "#B0BEC5",
                                "#B0BEC5",
                                "#B0BEC5",
                                "#B0BEC5",
                                "#B0BEC5",
                                "#B0BEC5",
                                "#B0BEC5",
                                "#B0BEC5",
                                "#B0BEC5",
                                "#B0BEC5",
                                "#B0BEC5",
                                "#B0BEC5",
                                "#B0BEC5",
                                "#B0BEC5",
                                "#B0BEC5",
                                "#B0BEC5",
                                "#B0BEC5",
                                "#B0BEC5",
                                "#B0BEC5",
                                "#B0BEC5",
                                "#B0BEC5",
                                "#B0BEC5",
                                "#B0BEC5",
                                "#B0BEC5",
                                "#B0BEC5",
                                "#B0BEC5",
                                "#B0BEC5",
                                "#B0BEC5",
                                "#B0BEC5",
                                "#B0BEC5",
                                "#B0BEC5",
                                "#B0BEC5",
                                "#B0BEC5",
                                "#B0BEC5",
                                "#B0BEC5"
                              ]
                            ]
                          }
                        ],
                        "label": "Topic 3",
                        "method": "update"
                      },
                      {
                        "args": [
                          {
                            "marker.color": [
                              [
                                "#B0BEC5",
                                "#B0BEC5",
                                "#B0BEC5",
                                "#B0BEC5",
                                "red",
                                "#B0BEC5",
                                "#B0BEC5",
                                "#B0BEC5",
                                "#B0BEC5",
                                "#B0BEC5",
                                "#B0BEC5",
                                "#B0BEC5",
                                "#B0BEC5",
                                "#B0BEC5",
                                "#B0BEC5",
                                "#B0BEC5",
                                "#B0BEC5",
                                "#B0BEC5",
                                "#B0BEC5",
                                "#B0BEC5",
                                "#B0BEC5",
                                "#B0BEC5",
                                "#B0BEC5",
                                "#B0BEC5",
                                "#B0BEC5",
                                "#B0BEC5",
                                "#B0BEC5",
                                "#B0BEC5",
                                "#B0BEC5",
                                "#B0BEC5",
                                "#B0BEC5",
                                "#B0BEC5",
                                "#B0BEC5",
                                "#B0BEC5",
                                "#B0BEC5",
                                "#B0BEC5",
                                "#B0BEC5",
                                "#B0BEC5",
                                "#B0BEC5",
                                "#B0BEC5",
                                "#B0BEC5",
                                "#B0BEC5",
                                "#B0BEC5",
                                "#B0BEC5",
                                "#B0BEC5",
                                "#B0BEC5",
                                "#B0BEC5",
                                "#B0BEC5",
                                "#B0BEC5",
                                "#B0BEC5",
                                "#B0BEC5",
                                "#B0BEC5",
                                "#B0BEC5",
                                "#B0BEC5",
                                "#B0BEC5",
                                "#B0BEC5",
                                "#B0BEC5",
                                "#B0BEC5",
                                "#B0BEC5",
                                "#B0BEC5",
                                "#B0BEC5",
                                "#B0BEC5",
                                "#B0BEC5",
                                "#B0BEC5",
                                "#B0BEC5",
                                "#B0BEC5",
                                "#B0BEC5",
                                "#B0BEC5",
                                "#B0BEC5",
                                "#B0BEC5"
                              ]
                            ]
                          }
                        ],
                        "label": "Topic 4",
                        "method": "update"
                      },
                      {
                        "args": [
                          {
                            "marker.color": [
                              [
                                "#B0BEC5",
                                "#B0BEC5",
                                "#B0BEC5",
                                "#B0BEC5",
                                "#B0BEC5",
                                "red",
                                "#B0BEC5",
                                "#B0BEC5",
                                "#B0BEC5",
                                "#B0BEC5",
                                "#B0BEC5",
                                "#B0BEC5",
                                "#B0BEC5",
                                "#B0BEC5",
                                "#B0BEC5",
                                "#B0BEC5",
                                "#B0BEC5",
                                "#B0BEC5",
                                "#B0BEC5",
                                "#B0BEC5",
                                "#B0BEC5",
                                "#B0BEC5",
                                "#B0BEC5",
                                "#B0BEC5",
                                "#B0BEC5",
                                "#B0BEC5",
                                "#B0BEC5",
                                "#B0BEC5",
                                "#B0BEC5",
                                "#B0BEC5",
                                "#B0BEC5",
                                "#B0BEC5",
                                "#B0BEC5",
                                "#B0BEC5",
                                "#B0BEC5",
                                "#B0BEC5",
                                "#B0BEC5",
                                "#B0BEC5",
                                "#B0BEC5",
                                "#B0BEC5",
                                "#B0BEC5",
                                "#B0BEC5",
                                "#B0BEC5",
                                "#B0BEC5",
                                "#B0BEC5",
                                "#B0BEC5",
                                "#B0BEC5",
                                "#B0BEC5",
                                "#B0BEC5",
                                "#B0BEC5",
                                "#B0BEC5",
                                "#B0BEC5",
                                "#B0BEC5",
                                "#B0BEC5",
                                "#B0BEC5",
                                "#B0BEC5",
                                "#B0BEC5",
                                "#B0BEC5",
                                "#B0BEC5",
                                "#B0BEC5",
                                "#B0BEC5",
                                "#B0BEC5",
                                "#B0BEC5",
                                "#B0BEC5",
                                "#B0BEC5",
                                "#B0BEC5",
                                "#B0BEC5",
                                "#B0BEC5",
                                "#B0BEC5",
                                "#B0BEC5"
                              ]
                            ]
                          }
                        ],
                        "label": "Topic 5",
                        "method": "update"
                      },
                      {
                        "args": [
                          {
                            "marker.color": [
                              [
                                "#B0BEC5",
                                "#B0BEC5",
                                "#B0BEC5",
                                "#B0BEC5",
                                "#B0BEC5",
                                "#B0BEC5",
                                "red",
                                "#B0BEC5",
                                "#B0BEC5",
                                "#B0BEC5",
                                "#B0BEC5",
                                "#B0BEC5",
                                "#B0BEC5",
                                "#B0BEC5",
                                "#B0BEC5",
                                "#B0BEC5",
                                "#B0BEC5",
                                "#B0BEC5",
                                "#B0BEC5",
                                "#B0BEC5",
                                "#B0BEC5",
                                "#B0BEC5",
                                "#B0BEC5",
                                "#B0BEC5",
                                "#B0BEC5",
                                "#B0BEC5",
                                "#B0BEC5",
                                "#B0BEC5",
                                "#B0BEC5",
                                "#B0BEC5",
                                "#B0BEC5",
                                "#B0BEC5",
                                "#B0BEC5",
                                "#B0BEC5",
                                "#B0BEC5",
                                "#B0BEC5",
                                "#B0BEC5",
                                "#B0BEC5",
                                "#B0BEC5",
                                "#B0BEC5",
                                "#B0BEC5",
                                "#B0BEC5",
                                "#B0BEC5",
                                "#B0BEC5",
                                "#B0BEC5",
                                "#B0BEC5",
                                "#B0BEC5",
                                "#B0BEC5",
                                "#B0BEC5",
                                "#B0BEC5",
                                "#B0BEC5",
                                "#B0BEC5",
                                "#B0BEC5",
                                "#B0BEC5",
                                "#B0BEC5",
                                "#B0BEC5",
                                "#B0BEC5",
                                "#B0BEC5",
                                "#B0BEC5",
                                "#B0BEC5",
                                "#B0BEC5",
                                "#B0BEC5",
                                "#B0BEC5",
                                "#B0BEC5",
                                "#B0BEC5",
                                "#B0BEC5",
                                "#B0BEC5",
                                "#B0BEC5",
                                "#B0BEC5",
                                "#B0BEC5"
                              ]
                            ]
                          }
                        ],
                        "label": "Topic 6",
                        "method": "update"
                      },
                      {
                        "args": [
                          {
                            "marker.color": [
                              [
                                "#B0BEC5",
                                "#B0BEC5",
                                "#B0BEC5",
                                "#B0BEC5",
                                "#B0BEC5",
                                "#B0BEC5",
                                "#B0BEC5",
                                "red",
                                "#B0BEC5",
                                "#B0BEC5",
                                "#B0BEC5",
                                "#B0BEC5",
                                "#B0BEC5",
                                "#B0BEC5",
                                "#B0BEC5",
                                "#B0BEC5",
                                "#B0BEC5",
                                "#B0BEC5",
                                "#B0BEC5",
                                "#B0BEC5",
                                "#B0BEC5",
                                "#B0BEC5",
                                "#B0BEC5",
                                "#B0BEC5",
                                "#B0BEC5",
                                "#B0BEC5",
                                "#B0BEC5",
                                "#B0BEC5",
                                "#B0BEC5",
                                "#B0BEC5",
                                "#B0BEC5",
                                "#B0BEC5",
                                "#B0BEC5",
                                "#B0BEC5",
                                "#B0BEC5",
                                "#B0BEC5",
                                "#B0BEC5",
                                "#B0BEC5",
                                "#B0BEC5",
                                "#B0BEC5",
                                "#B0BEC5",
                                "#B0BEC5",
                                "#B0BEC5",
                                "#B0BEC5",
                                "#B0BEC5",
                                "#B0BEC5",
                                "#B0BEC5",
                                "#B0BEC5",
                                "#B0BEC5",
                                "#B0BEC5",
                                "#B0BEC5",
                                "#B0BEC5",
                                "#B0BEC5",
                                "#B0BEC5",
                                "#B0BEC5",
                                "#B0BEC5",
                                "#B0BEC5",
                                "#B0BEC5",
                                "#B0BEC5",
                                "#B0BEC5",
                                "#B0BEC5",
                                "#B0BEC5",
                                "#B0BEC5",
                                "#B0BEC5",
                                "#B0BEC5",
                                "#B0BEC5",
                                "#B0BEC5",
                                "#B0BEC5",
                                "#B0BEC5",
                                "#B0BEC5"
                              ]
                            ]
                          }
                        ],
                        "label": "Topic 7",
                        "method": "update"
                      },
                      {
                        "args": [
                          {
                            "marker.color": [
                              [
                                "#B0BEC5",
                                "#B0BEC5",
                                "#B0BEC5",
                                "#B0BEC5",
                                "#B0BEC5",
                                "#B0BEC5",
                                "#B0BEC5",
                                "#B0BEC5",
                                "red",
                                "#B0BEC5",
                                "#B0BEC5",
                                "#B0BEC5",
                                "#B0BEC5",
                                "#B0BEC5",
                                "#B0BEC5",
                                "#B0BEC5",
                                "#B0BEC5",
                                "#B0BEC5",
                                "#B0BEC5",
                                "#B0BEC5",
                                "#B0BEC5",
                                "#B0BEC5",
                                "#B0BEC5",
                                "#B0BEC5",
                                "#B0BEC5",
                                "#B0BEC5",
                                "#B0BEC5",
                                "#B0BEC5",
                                "#B0BEC5",
                                "#B0BEC5",
                                "#B0BEC5",
                                "#B0BEC5",
                                "#B0BEC5",
                                "#B0BEC5",
                                "#B0BEC5",
                                "#B0BEC5",
                                "#B0BEC5",
                                "#B0BEC5",
                                "#B0BEC5",
                                "#B0BEC5",
                                "#B0BEC5",
                                "#B0BEC5",
                                "#B0BEC5",
                                "#B0BEC5",
                                "#B0BEC5",
                                "#B0BEC5",
                                "#B0BEC5",
                                "#B0BEC5",
                                "#B0BEC5",
                                "#B0BEC5",
                                "#B0BEC5",
                                "#B0BEC5",
                                "#B0BEC5",
                                "#B0BEC5",
                                "#B0BEC5",
                                "#B0BEC5",
                                "#B0BEC5",
                                "#B0BEC5",
                                "#B0BEC5",
                                "#B0BEC5",
                                "#B0BEC5",
                                "#B0BEC5",
                                "#B0BEC5",
                                "#B0BEC5",
                                "#B0BEC5",
                                "#B0BEC5",
                                "#B0BEC5",
                                "#B0BEC5",
                                "#B0BEC5",
                                "#B0BEC5"
                              ]
                            ]
                          }
                        ],
                        "label": "Topic 8",
                        "method": "update"
                      },
                      {
                        "args": [
                          {
                            "marker.color": [
                              [
                                "#B0BEC5",
                                "#B0BEC5",
                                "#B0BEC5",
                                "#B0BEC5",
                                "#B0BEC5",
                                "#B0BEC5",
                                "#B0BEC5",
                                "#B0BEC5",
                                "#B0BEC5",
                                "red",
                                "#B0BEC5",
                                "#B0BEC5",
                                "#B0BEC5",
                                "#B0BEC5",
                                "#B0BEC5",
                                "#B0BEC5",
                                "#B0BEC5",
                                "#B0BEC5",
                                "#B0BEC5",
                                "#B0BEC5",
                                "#B0BEC5",
                                "#B0BEC5",
                                "#B0BEC5",
                                "#B0BEC5",
                                "#B0BEC5",
                                "#B0BEC5",
                                "#B0BEC5",
                                "#B0BEC5",
                                "#B0BEC5",
                                "#B0BEC5",
                                "#B0BEC5",
                                "#B0BEC5",
                                "#B0BEC5",
                                "#B0BEC5",
                                "#B0BEC5",
                                "#B0BEC5",
                                "#B0BEC5",
                                "#B0BEC5",
                                "#B0BEC5",
                                "#B0BEC5",
                                "#B0BEC5",
                                "#B0BEC5",
                                "#B0BEC5",
                                "#B0BEC5",
                                "#B0BEC5",
                                "#B0BEC5",
                                "#B0BEC5",
                                "#B0BEC5",
                                "#B0BEC5",
                                "#B0BEC5",
                                "#B0BEC5",
                                "#B0BEC5",
                                "#B0BEC5",
                                "#B0BEC5",
                                "#B0BEC5",
                                "#B0BEC5",
                                "#B0BEC5",
                                "#B0BEC5",
                                "#B0BEC5",
                                "#B0BEC5",
                                "#B0BEC5",
                                "#B0BEC5",
                                "#B0BEC5",
                                "#B0BEC5",
                                "#B0BEC5",
                                "#B0BEC5",
                                "#B0BEC5",
                                "#B0BEC5",
                                "#B0BEC5",
                                "#B0BEC5"
                              ]
                            ]
                          }
                        ],
                        "label": "Topic 9",
                        "method": "update"
                      },
                      {
                        "args": [
                          {
                            "marker.color": [
                              [
                                "#B0BEC5",
                                "#B0BEC5",
                                "#B0BEC5",
                                "#B0BEC5",
                                "#B0BEC5",
                                "#B0BEC5",
                                "#B0BEC5",
                                "#B0BEC5",
                                "#B0BEC5",
                                "#B0BEC5",
                                "red",
                                "#B0BEC5",
                                "#B0BEC5",
                                "#B0BEC5",
                                "#B0BEC5",
                                "#B0BEC5",
                                "#B0BEC5",
                                "#B0BEC5",
                                "#B0BEC5",
                                "#B0BEC5",
                                "#B0BEC5",
                                "#B0BEC5",
                                "#B0BEC5",
                                "#B0BEC5",
                                "#B0BEC5",
                                "#B0BEC5",
                                "#B0BEC5",
                                "#B0BEC5",
                                "#B0BEC5",
                                "#B0BEC5",
                                "#B0BEC5",
                                "#B0BEC5",
                                "#B0BEC5",
                                "#B0BEC5",
                                "#B0BEC5",
                                "#B0BEC5",
                                "#B0BEC5",
                                "#B0BEC5",
                                "#B0BEC5",
                                "#B0BEC5",
                                "#B0BEC5",
                                "#B0BEC5",
                                "#B0BEC5",
                                "#B0BEC5",
                                "#B0BEC5",
                                "#B0BEC5",
                                "#B0BEC5",
                                "#B0BEC5",
                                "#B0BEC5",
                                "#B0BEC5",
                                "#B0BEC5",
                                "#B0BEC5",
                                "#B0BEC5",
                                "#B0BEC5",
                                "#B0BEC5",
                                "#B0BEC5",
                                "#B0BEC5",
                                "#B0BEC5",
                                "#B0BEC5",
                                "#B0BEC5",
                                "#B0BEC5",
                                "#B0BEC5",
                                "#B0BEC5",
                                "#B0BEC5",
                                "#B0BEC5",
                                "#B0BEC5",
                                "#B0BEC5",
                                "#B0BEC5",
                                "#B0BEC5",
                                "#B0BEC5"
                              ]
                            ]
                          }
                        ],
                        "label": "Topic 10",
                        "method": "update"
                      },
                      {
                        "args": [
                          {
                            "marker.color": [
                              [
                                "#B0BEC5",
                                "#B0BEC5",
                                "#B0BEC5",
                                "#B0BEC5",
                                "#B0BEC5",
                                "#B0BEC5",
                                "#B0BEC5",
                                "#B0BEC5",
                                "#B0BEC5",
                                "#B0BEC5",
                                "#B0BEC5",
                                "red",
                                "#B0BEC5",
                                "#B0BEC5",
                                "#B0BEC5",
                                "#B0BEC5",
                                "#B0BEC5",
                                "#B0BEC5",
                                "#B0BEC5",
                                "#B0BEC5",
                                "#B0BEC5",
                                "#B0BEC5",
                                "#B0BEC5",
                                "#B0BEC5",
                                "#B0BEC5",
                                "#B0BEC5",
                                "#B0BEC5",
                                "#B0BEC5",
                                "#B0BEC5",
                                "#B0BEC5",
                                "#B0BEC5",
                                "#B0BEC5",
                                "#B0BEC5",
                                "#B0BEC5",
                                "#B0BEC5",
                                "#B0BEC5",
                                "#B0BEC5",
                                "#B0BEC5",
                                "#B0BEC5",
                                "#B0BEC5",
                                "#B0BEC5",
                                "#B0BEC5",
                                "#B0BEC5",
                                "#B0BEC5",
                                "#B0BEC5",
                                "#B0BEC5",
                                "#B0BEC5",
                                "#B0BEC5",
                                "#B0BEC5",
                                "#B0BEC5",
                                "#B0BEC5",
                                "#B0BEC5",
                                "#B0BEC5",
                                "#B0BEC5",
                                "#B0BEC5",
                                "#B0BEC5",
                                "#B0BEC5",
                                "#B0BEC5",
                                "#B0BEC5",
                                "#B0BEC5",
                                "#B0BEC5",
                                "#B0BEC5",
                                "#B0BEC5",
                                "#B0BEC5",
                                "#B0BEC5",
                                "#B0BEC5",
                                "#B0BEC5",
                                "#B0BEC5",
                                "#B0BEC5",
                                "#B0BEC5"
                              ]
                            ]
                          }
                        ],
                        "label": "Topic 11",
                        "method": "update"
                      },
                      {
                        "args": [
                          {
                            "marker.color": [
                              [
                                "#B0BEC5",
                                "#B0BEC5",
                                "#B0BEC5",
                                "#B0BEC5",
                                "#B0BEC5",
                                "#B0BEC5",
                                "#B0BEC5",
                                "#B0BEC5",
                                "#B0BEC5",
                                "#B0BEC5",
                                "#B0BEC5",
                                "#B0BEC5",
                                "red",
                                "#B0BEC5",
                                "#B0BEC5",
                                "#B0BEC5",
                                "#B0BEC5",
                                "#B0BEC5",
                                "#B0BEC5",
                                "#B0BEC5",
                                "#B0BEC5",
                                "#B0BEC5",
                                "#B0BEC5",
                                "#B0BEC5",
                                "#B0BEC5",
                                "#B0BEC5",
                                "#B0BEC5",
                                "#B0BEC5",
                                "#B0BEC5",
                                "#B0BEC5",
                                "#B0BEC5",
                                "#B0BEC5",
                                "#B0BEC5",
                                "#B0BEC5",
                                "#B0BEC5",
                                "#B0BEC5",
                                "#B0BEC5",
                                "#B0BEC5",
                                "#B0BEC5",
                                "#B0BEC5",
                                "#B0BEC5",
                                "#B0BEC5",
                                "#B0BEC5",
                                "#B0BEC5",
                                "#B0BEC5",
                                "#B0BEC5",
                                "#B0BEC5",
                                "#B0BEC5",
                                "#B0BEC5",
                                "#B0BEC5",
                                "#B0BEC5",
                                "#B0BEC5",
                                "#B0BEC5",
                                "#B0BEC5",
                                "#B0BEC5",
                                "#B0BEC5",
                                "#B0BEC5",
                                "#B0BEC5",
                                "#B0BEC5",
                                "#B0BEC5",
                                "#B0BEC5",
                                "#B0BEC5",
                                "#B0BEC5",
                                "#B0BEC5",
                                "#B0BEC5",
                                "#B0BEC5",
                                "#B0BEC5",
                                "#B0BEC5",
                                "#B0BEC5",
                                "#B0BEC5"
                              ]
                            ]
                          }
                        ],
                        "label": "Topic 12",
                        "method": "update"
                      },
                      {
                        "args": [
                          {
                            "marker.color": [
                              [
                                "#B0BEC5",
                                "#B0BEC5",
                                "#B0BEC5",
                                "#B0BEC5",
                                "#B0BEC5",
                                "#B0BEC5",
                                "#B0BEC5",
                                "#B0BEC5",
                                "#B0BEC5",
                                "#B0BEC5",
                                "#B0BEC5",
                                "#B0BEC5",
                                "#B0BEC5",
                                "red",
                                "#B0BEC5",
                                "#B0BEC5",
                                "#B0BEC5",
                                "#B0BEC5",
                                "#B0BEC5",
                                "#B0BEC5",
                                "#B0BEC5",
                                "#B0BEC5",
                                "#B0BEC5",
                                "#B0BEC5",
                                "#B0BEC5",
                                "#B0BEC5",
                                "#B0BEC5",
                                "#B0BEC5",
                                "#B0BEC5",
                                "#B0BEC5",
                                "#B0BEC5",
                                "#B0BEC5",
                                "#B0BEC5",
                                "#B0BEC5",
                                "#B0BEC5",
                                "#B0BEC5",
                                "#B0BEC5",
                                "#B0BEC5",
                                "#B0BEC5",
                                "#B0BEC5",
                                "#B0BEC5",
                                "#B0BEC5",
                                "#B0BEC5",
                                "#B0BEC5",
                                "#B0BEC5",
                                "#B0BEC5",
                                "#B0BEC5",
                                "#B0BEC5",
                                "#B0BEC5",
                                "#B0BEC5",
                                "#B0BEC5",
                                "#B0BEC5",
                                "#B0BEC5",
                                "#B0BEC5",
                                "#B0BEC5",
                                "#B0BEC5",
                                "#B0BEC5",
                                "#B0BEC5",
                                "#B0BEC5",
                                "#B0BEC5",
                                "#B0BEC5",
                                "#B0BEC5",
                                "#B0BEC5",
                                "#B0BEC5",
                                "#B0BEC5",
                                "#B0BEC5",
                                "#B0BEC5",
                                "#B0BEC5",
                                "#B0BEC5",
                                "#B0BEC5"
                              ]
                            ]
                          }
                        ],
                        "label": "Topic 13",
                        "method": "update"
                      },
                      {
                        "args": [
                          {
                            "marker.color": [
                              [
                                "#B0BEC5",
                                "#B0BEC5",
                                "#B0BEC5",
                                "#B0BEC5",
                                "#B0BEC5",
                                "#B0BEC5",
                                "#B0BEC5",
                                "#B0BEC5",
                                "#B0BEC5",
                                "#B0BEC5",
                                "#B0BEC5",
                                "#B0BEC5",
                                "#B0BEC5",
                                "#B0BEC5",
                                "red",
                                "#B0BEC5",
                                "#B0BEC5",
                                "#B0BEC5",
                                "#B0BEC5",
                                "#B0BEC5",
                                "#B0BEC5",
                                "#B0BEC5",
                                "#B0BEC5",
                                "#B0BEC5",
                                "#B0BEC5",
                                "#B0BEC5",
                                "#B0BEC5",
                                "#B0BEC5",
                                "#B0BEC5",
                                "#B0BEC5",
                                "#B0BEC5",
                                "#B0BEC5",
                                "#B0BEC5",
                                "#B0BEC5",
                                "#B0BEC5",
                                "#B0BEC5",
                                "#B0BEC5",
                                "#B0BEC5",
                                "#B0BEC5",
                                "#B0BEC5",
                                "#B0BEC5",
                                "#B0BEC5",
                                "#B0BEC5",
                                "#B0BEC5",
                                "#B0BEC5",
                                "#B0BEC5",
                                "#B0BEC5",
                                "#B0BEC5",
                                "#B0BEC5",
                                "#B0BEC5",
                                "#B0BEC5",
                                "#B0BEC5",
                                "#B0BEC5",
                                "#B0BEC5",
                                "#B0BEC5",
                                "#B0BEC5",
                                "#B0BEC5",
                                "#B0BEC5",
                                "#B0BEC5",
                                "#B0BEC5",
                                "#B0BEC5",
                                "#B0BEC5",
                                "#B0BEC5",
                                "#B0BEC5",
                                "#B0BEC5",
                                "#B0BEC5",
                                "#B0BEC5",
                                "#B0BEC5",
                                "#B0BEC5",
                                "#B0BEC5"
                              ]
                            ]
                          }
                        ],
                        "label": "Topic 14",
                        "method": "update"
                      },
                      {
                        "args": [
                          {
                            "marker.color": [
                              [
                                "#B0BEC5",
                                "#B0BEC5",
                                "#B0BEC5",
                                "#B0BEC5",
                                "#B0BEC5",
                                "#B0BEC5",
                                "#B0BEC5",
                                "#B0BEC5",
                                "#B0BEC5",
                                "#B0BEC5",
                                "#B0BEC5",
                                "#B0BEC5",
                                "#B0BEC5",
                                "#B0BEC5",
                                "#B0BEC5",
                                "red",
                                "#B0BEC5",
                                "#B0BEC5",
                                "#B0BEC5",
                                "#B0BEC5",
                                "#B0BEC5",
                                "#B0BEC5",
                                "#B0BEC5",
                                "#B0BEC5",
                                "#B0BEC5",
                                "#B0BEC5",
                                "#B0BEC5",
                                "#B0BEC5",
                                "#B0BEC5",
                                "#B0BEC5",
                                "#B0BEC5",
                                "#B0BEC5",
                                "#B0BEC5",
                                "#B0BEC5",
                                "#B0BEC5",
                                "#B0BEC5",
                                "#B0BEC5",
                                "#B0BEC5",
                                "#B0BEC5",
                                "#B0BEC5",
                                "#B0BEC5",
                                "#B0BEC5",
                                "#B0BEC5",
                                "#B0BEC5",
                                "#B0BEC5",
                                "#B0BEC5",
                                "#B0BEC5",
                                "#B0BEC5",
                                "#B0BEC5",
                                "#B0BEC5",
                                "#B0BEC5",
                                "#B0BEC5",
                                "#B0BEC5",
                                "#B0BEC5",
                                "#B0BEC5",
                                "#B0BEC5",
                                "#B0BEC5",
                                "#B0BEC5",
                                "#B0BEC5",
                                "#B0BEC5",
                                "#B0BEC5",
                                "#B0BEC5",
                                "#B0BEC5",
                                "#B0BEC5",
                                "#B0BEC5",
                                "#B0BEC5",
                                "#B0BEC5",
                                "#B0BEC5",
                                "#B0BEC5",
                                "#B0BEC5"
                              ]
                            ]
                          }
                        ],
                        "label": "Topic 15",
                        "method": "update"
                      },
                      {
                        "args": [
                          {
                            "marker.color": [
                              [
                                "#B0BEC5",
                                "#B0BEC5",
                                "#B0BEC5",
                                "#B0BEC5",
                                "#B0BEC5",
                                "#B0BEC5",
                                "#B0BEC5",
                                "#B0BEC5",
                                "#B0BEC5",
                                "#B0BEC5",
                                "#B0BEC5",
                                "#B0BEC5",
                                "#B0BEC5",
                                "#B0BEC5",
                                "#B0BEC5",
                                "#B0BEC5",
                                "red",
                                "#B0BEC5",
                                "#B0BEC5",
                                "#B0BEC5",
                                "#B0BEC5",
                                "#B0BEC5",
                                "#B0BEC5",
                                "#B0BEC5",
                                "#B0BEC5",
                                "#B0BEC5",
                                "#B0BEC5",
                                "#B0BEC5",
                                "#B0BEC5",
                                "#B0BEC5",
                                "#B0BEC5",
                                "#B0BEC5",
                                "#B0BEC5",
                                "#B0BEC5",
                                "#B0BEC5",
                                "#B0BEC5",
                                "#B0BEC5",
                                "#B0BEC5",
                                "#B0BEC5",
                                "#B0BEC5",
                                "#B0BEC5",
                                "#B0BEC5",
                                "#B0BEC5",
                                "#B0BEC5",
                                "#B0BEC5",
                                "#B0BEC5",
                                "#B0BEC5",
                                "#B0BEC5",
                                "#B0BEC5",
                                "#B0BEC5",
                                "#B0BEC5",
                                "#B0BEC5",
                                "#B0BEC5",
                                "#B0BEC5",
                                "#B0BEC5",
                                "#B0BEC5",
                                "#B0BEC5",
                                "#B0BEC5",
                                "#B0BEC5",
                                "#B0BEC5",
                                "#B0BEC5",
                                "#B0BEC5",
                                "#B0BEC5",
                                "#B0BEC5",
                                "#B0BEC5",
                                "#B0BEC5",
                                "#B0BEC5",
                                "#B0BEC5",
                                "#B0BEC5",
                                "#B0BEC5"
                              ]
                            ]
                          }
                        ],
                        "label": "Topic 16",
                        "method": "update"
                      },
                      {
                        "args": [
                          {
                            "marker.color": [
                              [
                                "#B0BEC5",
                                "#B0BEC5",
                                "#B0BEC5",
                                "#B0BEC5",
                                "#B0BEC5",
                                "#B0BEC5",
                                "#B0BEC5",
                                "#B0BEC5",
                                "#B0BEC5",
                                "#B0BEC5",
                                "#B0BEC5",
                                "#B0BEC5",
                                "#B0BEC5",
                                "#B0BEC5",
                                "#B0BEC5",
                                "#B0BEC5",
                                "#B0BEC5",
                                "red",
                                "#B0BEC5",
                                "#B0BEC5",
                                "#B0BEC5",
                                "#B0BEC5",
                                "#B0BEC5",
                                "#B0BEC5",
                                "#B0BEC5",
                                "#B0BEC5",
                                "#B0BEC5",
                                "#B0BEC5",
                                "#B0BEC5",
                                "#B0BEC5",
                                "#B0BEC5",
                                "#B0BEC5",
                                "#B0BEC5",
                                "#B0BEC5",
                                "#B0BEC5",
                                "#B0BEC5",
                                "#B0BEC5",
                                "#B0BEC5",
                                "#B0BEC5",
                                "#B0BEC5",
                                "#B0BEC5",
                                "#B0BEC5",
                                "#B0BEC5",
                                "#B0BEC5",
                                "#B0BEC5",
                                "#B0BEC5",
                                "#B0BEC5",
                                "#B0BEC5",
                                "#B0BEC5",
                                "#B0BEC5",
                                "#B0BEC5",
                                "#B0BEC5",
                                "#B0BEC5",
                                "#B0BEC5",
                                "#B0BEC5",
                                "#B0BEC5",
                                "#B0BEC5",
                                "#B0BEC5",
                                "#B0BEC5",
                                "#B0BEC5",
                                "#B0BEC5",
                                "#B0BEC5",
                                "#B0BEC5",
                                "#B0BEC5",
                                "#B0BEC5",
                                "#B0BEC5",
                                "#B0BEC5",
                                "#B0BEC5",
                                "#B0BEC5",
                                "#B0BEC5"
                              ]
                            ]
                          }
                        ],
                        "label": "Topic 17",
                        "method": "update"
                      },
                      {
                        "args": [
                          {
                            "marker.color": [
                              [
                                "#B0BEC5",
                                "#B0BEC5",
                                "#B0BEC5",
                                "#B0BEC5",
                                "#B0BEC5",
                                "#B0BEC5",
                                "#B0BEC5",
                                "#B0BEC5",
                                "#B0BEC5",
                                "#B0BEC5",
                                "#B0BEC5",
                                "#B0BEC5",
                                "#B0BEC5",
                                "#B0BEC5",
                                "#B0BEC5",
                                "#B0BEC5",
                                "#B0BEC5",
                                "#B0BEC5",
                                "red",
                                "#B0BEC5",
                                "#B0BEC5",
                                "#B0BEC5",
                                "#B0BEC5",
                                "#B0BEC5",
                                "#B0BEC5",
                                "#B0BEC5",
                                "#B0BEC5",
                                "#B0BEC5",
                                "#B0BEC5",
                                "#B0BEC5",
                                "#B0BEC5",
                                "#B0BEC5",
                                "#B0BEC5",
                                "#B0BEC5",
                                "#B0BEC5",
                                "#B0BEC5",
                                "#B0BEC5",
                                "#B0BEC5",
                                "#B0BEC5",
                                "#B0BEC5",
                                "#B0BEC5",
                                "#B0BEC5",
                                "#B0BEC5",
                                "#B0BEC5",
                                "#B0BEC5",
                                "#B0BEC5",
                                "#B0BEC5",
                                "#B0BEC5",
                                "#B0BEC5",
                                "#B0BEC5",
                                "#B0BEC5",
                                "#B0BEC5",
                                "#B0BEC5",
                                "#B0BEC5",
                                "#B0BEC5",
                                "#B0BEC5",
                                "#B0BEC5",
                                "#B0BEC5",
                                "#B0BEC5",
                                "#B0BEC5",
                                "#B0BEC5",
                                "#B0BEC5",
                                "#B0BEC5",
                                "#B0BEC5",
                                "#B0BEC5",
                                "#B0BEC5",
                                "#B0BEC5",
                                "#B0BEC5",
                                "#B0BEC5",
                                "#B0BEC5"
                              ]
                            ]
                          }
                        ],
                        "label": "Topic 18",
                        "method": "update"
                      },
                      {
                        "args": [
                          {
                            "marker.color": [
                              [
                                "#B0BEC5",
                                "#B0BEC5",
                                "#B0BEC5",
                                "#B0BEC5",
                                "#B0BEC5",
                                "#B0BEC5",
                                "#B0BEC5",
                                "#B0BEC5",
                                "#B0BEC5",
                                "#B0BEC5",
                                "#B0BEC5",
                                "#B0BEC5",
                                "#B0BEC5",
                                "#B0BEC5",
                                "#B0BEC5",
                                "#B0BEC5",
                                "#B0BEC5",
                                "#B0BEC5",
                                "#B0BEC5",
                                "red",
                                "#B0BEC5",
                                "#B0BEC5",
                                "#B0BEC5",
                                "#B0BEC5",
                                "#B0BEC5",
                                "#B0BEC5",
                                "#B0BEC5",
                                "#B0BEC5",
                                "#B0BEC5",
                                "#B0BEC5",
                                "#B0BEC5",
                                "#B0BEC5",
                                "#B0BEC5",
                                "#B0BEC5",
                                "#B0BEC5",
                                "#B0BEC5",
                                "#B0BEC5",
                                "#B0BEC5",
                                "#B0BEC5",
                                "#B0BEC5",
                                "#B0BEC5",
                                "#B0BEC5",
                                "#B0BEC5",
                                "#B0BEC5",
                                "#B0BEC5",
                                "#B0BEC5",
                                "#B0BEC5",
                                "#B0BEC5",
                                "#B0BEC5",
                                "#B0BEC5",
                                "#B0BEC5",
                                "#B0BEC5",
                                "#B0BEC5",
                                "#B0BEC5",
                                "#B0BEC5",
                                "#B0BEC5",
                                "#B0BEC5",
                                "#B0BEC5",
                                "#B0BEC5",
                                "#B0BEC5",
                                "#B0BEC5",
                                "#B0BEC5",
                                "#B0BEC5",
                                "#B0BEC5",
                                "#B0BEC5",
                                "#B0BEC5",
                                "#B0BEC5",
                                "#B0BEC5",
                                "#B0BEC5",
                                "#B0BEC5"
                              ]
                            ]
                          }
                        ],
                        "label": "Topic 19",
                        "method": "update"
                      },
                      {
                        "args": [
                          {
                            "marker.color": [
                              [
                                "#B0BEC5",
                                "#B0BEC5",
                                "#B0BEC5",
                                "#B0BEC5",
                                "#B0BEC5",
                                "#B0BEC5",
                                "#B0BEC5",
                                "#B0BEC5",
                                "#B0BEC5",
                                "#B0BEC5",
                                "#B0BEC5",
                                "#B0BEC5",
                                "#B0BEC5",
                                "#B0BEC5",
                                "#B0BEC5",
                                "#B0BEC5",
                                "#B0BEC5",
                                "#B0BEC5",
                                "#B0BEC5",
                                "#B0BEC5",
                                "red",
                                "#B0BEC5",
                                "#B0BEC5",
                                "#B0BEC5",
                                "#B0BEC5",
                                "#B0BEC5",
                                "#B0BEC5",
                                "#B0BEC5",
                                "#B0BEC5",
                                "#B0BEC5",
                                "#B0BEC5",
                                "#B0BEC5",
                                "#B0BEC5",
                                "#B0BEC5",
                                "#B0BEC5",
                                "#B0BEC5",
                                "#B0BEC5",
                                "#B0BEC5",
                                "#B0BEC5",
                                "#B0BEC5",
                                "#B0BEC5",
                                "#B0BEC5",
                                "#B0BEC5",
                                "#B0BEC5",
                                "#B0BEC5",
                                "#B0BEC5",
                                "#B0BEC5",
                                "#B0BEC5",
                                "#B0BEC5",
                                "#B0BEC5",
                                "#B0BEC5",
                                "#B0BEC5",
                                "#B0BEC5",
                                "#B0BEC5",
                                "#B0BEC5",
                                "#B0BEC5",
                                "#B0BEC5",
                                "#B0BEC5",
                                "#B0BEC5",
                                "#B0BEC5",
                                "#B0BEC5",
                                "#B0BEC5",
                                "#B0BEC5",
                                "#B0BEC5",
                                "#B0BEC5",
                                "#B0BEC5",
                                "#B0BEC5",
                                "#B0BEC5",
                                "#B0BEC5",
                                "#B0BEC5"
                              ]
                            ]
                          }
                        ],
                        "label": "Topic 20",
                        "method": "update"
                      },
                      {
                        "args": [
                          {
                            "marker.color": [
                              [
                                "#B0BEC5",
                                "#B0BEC5",
                                "#B0BEC5",
                                "#B0BEC5",
                                "#B0BEC5",
                                "#B0BEC5",
                                "#B0BEC5",
                                "#B0BEC5",
                                "#B0BEC5",
                                "#B0BEC5",
                                "#B0BEC5",
                                "#B0BEC5",
                                "#B0BEC5",
                                "#B0BEC5",
                                "#B0BEC5",
                                "#B0BEC5",
                                "#B0BEC5",
                                "#B0BEC5",
                                "#B0BEC5",
                                "#B0BEC5",
                                "#B0BEC5",
                                "red",
                                "#B0BEC5",
                                "#B0BEC5",
                                "#B0BEC5",
                                "#B0BEC5",
                                "#B0BEC5",
                                "#B0BEC5",
                                "#B0BEC5",
                                "#B0BEC5",
                                "#B0BEC5",
                                "#B0BEC5",
                                "#B0BEC5",
                                "#B0BEC5",
                                "#B0BEC5",
                                "#B0BEC5",
                                "#B0BEC5",
                                "#B0BEC5",
                                "#B0BEC5",
                                "#B0BEC5",
                                "#B0BEC5",
                                "#B0BEC5",
                                "#B0BEC5",
                                "#B0BEC5",
                                "#B0BEC5",
                                "#B0BEC5",
                                "#B0BEC5",
                                "#B0BEC5",
                                "#B0BEC5",
                                "#B0BEC5",
                                "#B0BEC5",
                                "#B0BEC5",
                                "#B0BEC5",
                                "#B0BEC5",
                                "#B0BEC5",
                                "#B0BEC5",
                                "#B0BEC5",
                                "#B0BEC5",
                                "#B0BEC5",
                                "#B0BEC5",
                                "#B0BEC5",
                                "#B0BEC5",
                                "#B0BEC5",
                                "#B0BEC5",
                                "#B0BEC5",
                                "#B0BEC5",
                                "#B0BEC5",
                                "#B0BEC5",
                                "#B0BEC5",
                                "#B0BEC5"
                              ]
                            ]
                          }
                        ],
                        "label": "Topic 21",
                        "method": "update"
                      },
                      {
                        "args": [
                          {
                            "marker.color": [
                              [
                                "#B0BEC5",
                                "#B0BEC5",
                                "#B0BEC5",
                                "#B0BEC5",
                                "#B0BEC5",
                                "#B0BEC5",
                                "#B0BEC5",
                                "#B0BEC5",
                                "#B0BEC5",
                                "#B0BEC5",
                                "#B0BEC5",
                                "#B0BEC5",
                                "#B0BEC5",
                                "#B0BEC5",
                                "#B0BEC5",
                                "#B0BEC5",
                                "#B0BEC5",
                                "#B0BEC5",
                                "#B0BEC5",
                                "#B0BEC5",
                                "#B0BEC5",
                                "#B0BEC5",
                                "red",
                                "#B0BEC5",
                                "#B0BEC5",
                                "#B0BEC5",
                                "#B0BEC5",
                                "#B0BEC5",
                                "#B0BEC5",
                                "#B0BEC5",
                                "#B0BEC5",
                                "#B0BEC5",
                                "#B0BEC5",
                                "#B0BEC5",
                                "#B0BEC5",
                                "#B0BEC5",
                                "#B0BEC5",
                                "#B0BEC5",
                                "#B0BEC5",
                                "#B0BEC5",
                                "#B0BEC5",
                                "#B0BEC5",
                                "#B0BEC5",
                                "#B0BEC5",
                                "#B0BEC5",
                                "#B0BEC5",
                                "#B0BEC5",
                                "#B0BEC5",
                                "#B0BEC5",
                                "#B0BEC5",
                                "#B0BEC5",
                                "#B0BEC5",
                                "#B0BEC5",
                                "#B0BEC5",
                                "#B0BEC5",
                                "#B0BEC5",
                                "#B0BEC5",
                                "#B0BEC5",
                                "#B0BEC5",
                                "#B0BEC5",
                                "#B0BEC5",
                                "#B0BEC5",
                                "#B0BEC5",
                                "#B0BEC5",
                                "#B0BEC5",
                                "#B0BEC5",
                                "#B0BEC5",
                                "#B0BEC5",
                                "#B0BEC5",
                                "#B0BEC5"
                              ]
                            ]
                          }
                        ],
                        "label": "Topic 22",
                        "method": "update"
                      },
                      {
                        "args": [
                          {
                            "marker.color": [
                              [
                                "#B0BEC5",
                                "#B0BEC5",
                                "#B0BEC5",
                                "#B0BEC5",
                                "#B0BEC5",
                                "#B0BEC5",
                                "#B0BEC5",
                                "#B0BEC5",
                                "#B0BEC5",
                                "#B0BEC5",
                                "#B0BEC5",
                                "#B0BEC5",
                                "#B0BEC5",
                                "#B0BEC5",
                                "#B0BEC5",
                                "#B0BEC5",
                                "#B0BEC5",
                                "#B0BEC5",
                                "#B0BEC5",
                                "#B0BEC5",
                                "#B0BEC5",
                                "#B0BEC5",
                                "#B0BEC5",
                                "red",
                                "#B0BEC5",
                                "#B0BEC5",
                                "#B0BEC5",
                                "#B0BEC5",
                                "#B0BEC5",
                                "#B0BEC5",
                                "#B0BEC5",
                                "#B0BEC5",
                                "#B0BEC5",
                                "#B0BEC5",
                                "#B0BEC5",
                                "#B0BEC5",
                                "#B0BEC5",
                                "#B0BEC5",
                                "#B0BEC5",
                                "#B0BEC5",
                                "#B0BEC5",
                                "#B0BEC5",
                                "#B0BEC5",
                                "#B0BEC5",
                                "#B0BEC5",
                                "#B0BEC5",
                                "#B0BEC5",
                                "#B0BEC5",
                                "#B0BEC5",
                                "#B0BEC5",
                                "#B0BEC5",
                                "#B0BEC5",
                                "#B0BEC5",
                                "#B0BEC5",
                                "#B0BEC5",
                                "#B0BEC5",
                                "#B0BEC5",
                                "#B0BEC5",
                                "#B0BEC5",
                                "#B0BEC5",
                                "#B0BEC5",
                                "#B0BEC5",
                                "#B0BEC5",
                                "#B0BEC5",
                                "#B0BEC5",
                                "#B0BEC5",
                                "#B0BEC5",
                                "#B0BEC5",
                                "#B0BEC5",
                                "#B0BEC5"
                              ]
                            ]
                          }
                        ],
                        "label": "Topic 23",
                        "method": "update"
                      },
                      {
                        "args": [
                          {
                            "marker.color": [
                              [
                                "#B0BEC5",
                                "#B0BEC5",
                                "#B0BEC5",
                                "#B0BEC5",
                                "#B0BEC5",
                                "#B0BEC5",
                                "#B0BEC5",
                                "#B0BEC5",
                                "#B0BEC5",
                                "#B0BEC5",
                                "#B0BEC5",
                                "#B0BEC5",
                                "#B0BEC5",
                                "#B0BEC5",
                                "#B0BEC5",
                                "#B0BEC5",
                                "#B0BEC5",
                                "#B0BEC5",
                                "#B0BEC5",
                                "#B0BEC5",
                                "#B0BEC5",
                                "#B0BEC5",
                                "#B0BEC5",
                                "#B0BEC5",
                                "red",
                                "#B0BEC5",
                                "#B0BEC5",
                                "#B0BEC5",
                                "#B0BEC5",
                                "#B0BEC5",
                                "#B0BEC5",
                                "#B0BEC5",
                                "#B0BEC5",
                                "#B0BEC5",
                                "#B0BEC5",
                                "#B0BEC5",
                                "#B0BEC5",
                                "#B0BEC5",
                                "#B0BEC5",
                                "#B0BEC5",
                                "#B0BEC5",
                                "#B0BEC5",
                                "#B0BEC5",
                                "#B0BEC5",
                                "#B0BEC5",
                                "#B0BEC5",
                                "#B0BEC5",
                                "#B0BEC5",
                                "#B0BEC5",
                                "#B0BEC5",
                                "#B0BEC5",
                                "#B0BEC5",
                                "#B0BEC5",
                                "#B0BEC5",
                                "#B0BEC5",
                                "#B0BEC5",
                                "#B0BEC5",
                                "#B0BEC5",
                                "#B0BEC5",
                                "#B0BEC5",
                                "#B0BEC5",
                                "#B0BEC5",
                                "#B0BEC5",
                                "#B0BEC5",
                                "#B0BEC5",
                                "#B0BEC5",
                                "#B0BEC5",
                                "#B0BEC5",
                                "#B0BEC5",
                                "#B0BEC5"
                              ]
                            ]
                          }
                        ],
                        "label": "Topic 24",
                        "method": "update"
                      },
                      {
                        "args": [
                          {
                            "marker.color": [
                              [
                                "#B0BEC5",
                                "#B0BEC5",
                                "#B0BEC5",
                                "#B0BEC5",
                                "#B0BEC5",
                                "#B0BEC5",
                                "#B0BEC5",
                                "#B0BEC5",
                                "#B0BEC5",
                                "#B0BEC5",
                                "#B0BEC5",
                                "#B0BEC5",
                                "#B0BEC5",
                                "#B0BEC5",
                                "#B0BEC5",
                                "#B0BEC5",
                                "#B0BEC5",
                                "#B0BEC5",
                                "#B0BEC5",
                                "#B0BEC5",
                                "#B0BEC5",
                                "#B0BEC5",
                                "#B0BEC5",
                                "#B0BEC5",
                                "#B0BEC5",
                                "red",
                                "#B0BEC5",
                                "#B0BEC5",
                                "#B0BEC5",
                                "#B0BEC5",
                                "#B0BEC5",
                                "#B0BEC5",
                                "#B0BEC5",
                                "#B0BEC5",
                                "#B0BEC5",
                                "#B0BEC5",
                                "#B0BEC5",
                                "#B0BEC5",
                                "#B0BEC5",
                                "#B0BEC5",
                                "#B0BEC5",
                                "#B0BEC5",
                                "#B0BEC5",
                                "#B0BEC5",
                                "#B0BEC5",
                                "#B0BEC5",
                                "#B0BEC5",
                                "#B0BEC5",
                                "#B0BEC5",
                                "#B0BEC5",
                                "#B0BEC5",
                                "#B0BEC5",
                                "#B0BEC5",
                                "#B0BEC5",
                                "#B0BEC5",
                                "#B0BEC5",
                                "#B0BEC5",
                                "#B0BEC5",
                                "#B0BEC5",
                                "#B0BEC5",
                                "#B0BEC5",
                                "#B0BEC5",
                                "#B0BEC5",
                                "#B0BEC5",
                                "#B0BEC5",
                                "#B0BEC5",
                                "#B0BEC5",
                                "#B0BEC5",
                                "#B0BEC5",
                                "#B0BEC5"
                              ]
                            ]
                          }
                        ],
                        "label": "Topic 25",
                        "method": "update"
                      },
                      {
                        "args": [
                          {
                            "marker.color": [
                              [
                                "#B0BEC5",
                                "#B0BEC5",
                                "#B0BEC5",
                                "#B0BEC5",
                                "#B0BEC5",
                                "#B0BEC5",
                                "#B0BEC5",
                                "#B0BEC5",
                                "#B0BEC5",
                                "#B0BEC5",
                                "#B0BEC5",
                                "#B0BEC5",
                                "#B0BEC5",
                                "#B0BEC5",
                                "#B0BEC5",
                                "#B0BEC5",
                                "#B0BEC5",
                                "#B0BEC5",
                                "#B0BEC5",
                                "#B0BEC5",
                                "#B0BEC5",
                                "#B0BEC5",
                                "#B0BEC5",
                                "#B0BEC5",
                                "#B0BEC5",
                                "#B0BEC5",
                                "red",
                                "#B0BEC5",
                                "#B0BEC5",
                                "#B0BEC5",
                                "#B0BEC5",
                                "#B0BEC5",
                                "#B0BEC5",
                                "#B0BEC5",
                                "#B0BEC5",
                                "#B0BEC5",
                                "#B0BEC5",
                                "#B0BEC5",
                                "#B0BEC5",
                                "#B0BEC5",
                                "#B0BEC5",
                                "#B0BEC5",
                                "#B0BEC5",
                                "#B0BEC5",
                                "#B0BEC5",
                                "#B0BEC5",
                                "#B0BEC5",
                                "#B0BEC5",
                                "#B0BEC5",
                                "#B0BEC5",
                                "#B0BEC5",
                                "#B0BEC5",
                                "#B0BEC5",
                                "#B0BEC5",
                                "#B0BEC5",
                                "#B0BEC5",
                                "#B0BEC5",
                                "#B0BEC5",
                                "#B0BEC5",
                                "#B0BEC5",
                                "#B0BEC5",
                                "#B0BEC5",
                                "#B0BEC5",
                                "#B0BEC5",
                                "#B0BEC5",
                                "#B0BEC5",
                                "#B0BEC5",
                                "#B0BEC5",
                                "#B0BEC5",
                                "#B0BEC5"
                              ]
                            ]
                          }
                        ],
                        "label": "Topic 26",
                        "method": "update"
                      },
                      {
                        "args": [
                          {
                            "marker.color": [
                              [
                                "#B0BEC5",
                                "#B0BEC5",
                                "#B0BEC5",
                                "#B0BEC5",
                                "#B0BEC5",
                                "#B0BEC5",
                                "#B0BEC5",
                                "#B0BEC5",
                                "#B0BEC5",
                                "#B0BEC5",
                                "#B0BEC5",
                                "#B0BEC5",
                                "#B0BEC5",
                                "#B0BEC5",
                                "#B0BEC5",
                                "#B0BEC5",
                                "#B0BEC5",
                                "#B0BEC5",
                                "#B0BEC5",
                                "#B0BEC5",
                                "#B0BEC5",
                                "#B0BEC5",
                                "#B0BEC5",
                                "#B0BEC5",
                                "#B0BEC5",
                                "#B0BEC5",
                                "#B0BEC5",
                                "red",
                                "#B0BEC5",
                                "#B0BEC5",
                                "#B0BEC5",
                                "#B0BEC5",
                                "#B0BEC5",
                                "#B0BEC5",
                                "#B0BEC5",
                                "#B0BEC5",
                                "#B0BEC5",
                                "#B0BEC5",
                                "#B0BEC5",
                                "#B0BEC5",
                                "#B0BEC5",
                                "#B0BEC5",
                                "#B0BEC5",
                                "#B0BEC5",
                                "#B0BEC5",
                                "#B0BEC5",
                                "#B0BEC5",
                                "#B0BEC5",
                                "#B0BEC5",
                                "#B0BEC5",
                                "#B0BEC5",
                                "#B0BEC5",
                                "#B0BEC5",
                                "#B0BEC5",
                                "#B0BEC5",
                                "#B0BEC5",
                                "#B0BEC5",
                                "#B0BEC5",
                                "#B0BEC5",
                                "#B0BEC5",
                                "#B0BEC5",
                                "#B0BEC5",
                                "#B0BEC5",
                                "#B0BEC5",
                                "#B0BEC5",
                                "#B0BEC5",
                                "#B0BEC5",
                                "#B0BEC5",
                                "#B0BEC5",
                                "#B0BEC5"
                              ]
                            ]
                          }
                        ],
                        "label": "Topic 27",
                        "method": "update"
                      },
                      {
                        "args": [
                          {
                            "marker.color": [
                              [
                                "#B0BEC5",
                                "#B0BEC5",
                                "#B0BEC5",
                                "#B0BEC5",
                                "#B0BEC5",
                                "#B0BEC5",
                                "#B0BEC5",
                                "#B0BEC5",
                                "#B0BEC5",
                                "#B0BEC5",
                                "#B0BEC5",
                                "#B0BEC5",
                                "#B0BEC5",
                                "#B0BEC5",
                                "#B0BEC5",
                                "#B0BEC5",
                                "#B0BEC5",
                                "#B0BEC5",
                                "#B0BEC5",
                                "#B0BEC5",
                                "#B0BEC5",
                                "#B0BEC5",
                                "#B0BEC5",
                                "#B0BEC5",
                                "#B0BEC5",
                                "#B0BEC5",
                                "#B0BEC5",
                                "#B0BEC5",
                                "red",
                                "#B0BEC5",
                                "#B0BEC5",
                                "#B0BEC5",
                                "#B0BEC5",
                                "#B0BEC5",
                                "#B0BEC5",
                                "#B0BEC5",
                                "#B0BEC5",
                                "#B0BEC5",
                                "#B0BEC5",
                                "#B0BEC5",
                                "#B0BEC5",
                                "#B0BEC5",
                                "#B0BEC5",
                                "#B0BEC5",
                                "#B0BEC5",
                                "#B0BEC5",
                                "#B0BEC5",
                                "#B0BEC5",
                                "#B0BEC5",
                                "#B0BEC5",
                                "#B0BEC5",
                                "#B0BEC5",
                                "#B0BEC5",
                                "#B0BEC5",
                                "#B0BEC5",
                                "#B0BEC5",
                                "#B0BEC5",
                                "#B0BEC5",
                                "#B0BEC5",
                                "#B0BEC5",
                                "#B0BEC5",
                                "#B0BEC5",
                                "#B0BEC5",
                                "#B0BEC5",
                                "#B0BEC5",
                                "#B0BEC5",
                                "#B0BEC5",
                                "#B0BEC5",
                                "#B0BEC5",
                                "#B0BEC5"
                              ]
                            ]
                          }
                        ],
                        "label": "Topic 28",
                        "method": "update"
                      },
                      {
                        "args": [
                          {
                            "marker.color": [
                              [
                                "#B0BEC5",
                                "#B0BEC5",
                                "#B0BEC5",
                                "#B0BEC5",
                                "#B0BEC5",
                                "#B0BEC5",
                                "#B0BEC5",
                                "#B0BEC5",
                                "#B0BEC5",
                                "#B0BEC5",
                                "#B0BEC5",
                                "#B0BEC5",
                                "#B0BEC5",
                                "#B0BEC5",
                                "#B0BEC5",
                                "#B0BEC5",
                                "#B0BEC5",
                                "#B0BEC5",
                                "#B0BEC5",
                                "#B0BEC5",
                                "#B0BEC5",
                                "#B0BEC5",
                                "#B0BEC5",
                                "#B0BEC5",
                                "#B0BEC5",
                                "#B0BEC5",
                                "#B0BEC5",
                                "#B0BEC5",
                                "#B0BEC5",
                                "red",
                                "#B0BEC5",
                                "#B0BEC5",
                                "#B0BEC5",
                                "#B0BEC5",
                                "#B0BEC5",
                                "#B0BEC5",
                                "#B0BEC5",
                                "#B0BEC5",
                                "#B0BEC5",
                                "#B0BEC5",
                                "#B0BEC5",
                                "#B0BEC5",
                                "#B0BEC5",
                                "#B0BEC5",
                                "#B0BEC5",
                                "#B0BEC5",
                                "#B0BEC5",
                                "#B0BEC5",
                                "#B0BEC5",
                                "#B0BEC5",
                                "#B0BEC5",
                                "#B0BEC5",
                                "#B0BEC5",
                                "#B0BEC5",
                                "#B0BEC5",
                                "#B0BEC5",
                                "#B0BEC5",
                                "#B0BEC5",
                                "#B0BEC5",
                                "#B0BEC5",
                                "#B0BEC5",
                                "#B0BEC5",
                                "#B0BEC5",
                                "#B0BEC5",
                                "#B0BEC5",
                                "#B0BEC5",
                                "#B0BEC5",
                                "#B0BEC5",
                                "#B0BEC5",
                                "#B0BEC5"
                              ]
                            ]
                          }
                        ],
                        "label": "Topic 29",
                        "method": "update"
                      },
                      {
                        "args": [
                          {
                            "marker.color": [
                              [
                                "#B0BEC5",
                                "#B0BEC5",
                                "#B0BEC5",
                                "#B0BEC5",
                                "#B0BEC5",
                                "#B0BEC5",
                                "#B0BEC5",
                                "#B0BEC5",
                                "#B0BEC5",
                                "#B0BEC5",
                                "#B0BEC5",
                                "#B0BEC5",
                                "#B0BEC5",
                                "#B0BEC5",
                                "#B0BEC5",
                                "#B0BEC5",
                                "#B0BEC5",
                                "#B0BEC5",
                                "#B0BEC5",
                                "#B0BEC5",
                                "#B0BEC5",
                                "#B0BEC5",
                                "#B0BEC5",
                                "#B0BEC5",
                                "#B0BEC5",
                                "#B0BEC5",
                                "#B0BEC5",
                                "#B0BEC5",
                                "#B0BEC5",
                                "#B0BEC5",
                                "red",
                                "#B0BEC5",
                                "#B0BEC5",
                                "#B0BEC5",
                                "#B0BEC5",
                                "#B0BEC5",
                                "#B0BEC5",
                                "#B0BEC5",
                                "#B0BEC5",
                                "#B0BEC5",
                                "#B0BEC5",
                                "#B0BEC5",
                                "#B0BEC5",
                                "#B0BEC5",
                                "#B0BEC5",
                                "#B0BEC5",
                                "#B0BEC5",
                                "#B0BEC5",
                                "#B0BEC5",
                                "#B0BEC5",
                                "#B0BEC5",
                                "#B0BEC5",
                                "#B0BEC5",
                                "#B0BEC5",
                                "#B0BEC5",
                                "#B0BEC5",
                                "#B0BEC5",
                                "#B0BEC5",
                                "#B0BEC5",
                                "#B0BEC5",
                                "#B0BEC5",
                                "#B0BEC5",
                                "#B0BEC5",
                                "#B0BEC5",
                                "#B0BEC5",
                                "#B0BEC5",
                                "#B0BEC5",
                                "#B0BEC5",
                                "#B0BEC5",
                                "#B0BEC5"
                              ]
                            ]
                          }
                        ],
                        "label": "Topic 30",
                        "method": "update"
                      },
                      {
                        "args": [
                          {
                            "marker.color": [
                              [
                                "#B0BEC5",
                                "#B0BEC5",
                                "#B0BEC5",
                                "#B0BEC5",
                                "#B0BEC5",
                                "#B0BEC5",
                                "#B0BEC5",
                                "#B0BEC5",
                                "#B0BEC5",
                                "#B0BEC5",
                                "#B0BEC5",
                                "#B0BEC5",
                                "#B0BEC5",
                                "#B0BEC5",
                                "#B0BEC5",
                                "#B0BEC5",
                                "#B0BEC5",
                                "#B0BEC5",
                                "#B0BEC5",
                                "#B0BEC5",
                                "#B0BEC5",
                                "#B0BEC5",
                                "#B0BEC5",
                                "#B0BEC5",
                                "#B0BEC5",
                                "#B0BEC5",
                                "#B0BEC5",
                                "#B0BEC5",
                                "#B0BEC5",
                                "#B0BEC5",
                                "#B0BEC5",
                                "red",
                                "#B0BEC5",
                                "#B0BEC5",
                                "#B0BEC5",
                                "#B0BEC5",
                                "#B0BEC5",
                                "#B0BEC5",
                                "#B0BEC5",
                                "#B0BEC5",
                                "#B0BEC5",
                                "#B0BEC5",
                                "#B0BEC5",
                                "#B0BEC5",
                                "#B0BEC5",
                                "#B0BEC5",
                                "#B0BEC5",
                                "#B0BEC5",
                                "#B0BEC5",
                                "#B0BEC5",
                                "#B0BEC5",
                                "#B0BEC5",
                                "#B0BEC5",
                                "#B0BEC5",
                                "#B0BEC5",
                                "#B0BEC5",
                                "#B0BEC5",
                                "#B0BEC5",
                                "#B0BEC5",
                                "#B0BEC5",
                                "#B0BEC5",
                                "#B0BEC5",
                                "#B0BEC5",
                                "#B0BEC5",
                                "#B0BEC5",
                                "#B0BEC5",
                                "#B0BEC5",
                                "#B0BEC5",
                                "#B0BEC5",
                                "#B0BEC5"
                              ]
                            ]
                          }
                        ],
                        "label": "Topic 31",
                        "method": "update"
                      },
                      {
                        "args": [
                          {
                            "marker.color": [
                              [
                                "#B0BEC5",
                                "#B0BEC5",
                                "#B0BEC5",
                                "#B0BEC5",
                                "#B0BEC5",
                                "#B0BEC5",
                                "#B0BEC5",
                                "#B0BEC5",
                                "#B0BEC5",
                                "#B0BEC5",
                                "#B0BEC5",
                                "#B0BEC5",
                                "#B0BEC5",
                                "#B0BEC5",
                                "#B0BEC5",
                                "#B0BEC5",
                                "#B0BEC5",
                                "#B0BEC5",
                                "#B0BEC5",
                                "#B0BEC5",
                                "#B0BEC5",
                                "#B0BEC5",
                                "#B0BEC5",
                                "#B0BEC5",
                                "#B0BEC5",
                                "#B0BEC5",
                                "#B0BEC5",
                                "#B0BEC5",
                                "#B0BEC5",
                                "#B0BEC5",
                                "#B0BEC5",
                                "#B0BEC5",
                                "red",
                                "#B0BEC5",
                                "#B0BEC5",
                                "#B0BEC5",
                                "#B0BEC5",
                                "#B0BEC5",
                                "#B0BEC5",
                                "#B0BEC5",
                                "#B0BEC5",
                                "#B0BEC5",
                                "#B0BEC5",
                                "#B0BEC5",
                                "#B0BEC5",
                                "#B0BEC5",
                                "#B0BEC5",
                                "#B0BEC5",
                                "#B0BEC5",
                                "#B0BEC5",
                                "#B0BEC5",
                                "#B0BEC5",
                                "#B0BEC5",
                                "#B0BEC5",
                                "#B0BEC5",
                                "#B0BEC5",
                                "#B0BEC5",
                                "#B0BEC5",
                                "#B0BEC5",
                                "#B0BEC5",
                                "#B0BEC5",
                                "#B0BEC5",
                                "#B0BEC5",
                                "#B0BEC5",
                                "#B0BEC5",
                                "#B0BEC5",
                                "#B0BEC5",
                                "#B0BEC5",
                                "#B0BEC5",
                                "#B0BEC5"
                              ]
                            ]
                          }
                        ],
                        "label": "Topic 32",
                        "method": "update"
                      },
                      {
                        "args": [
                          {
                            "marker.color": [
                              [
                                "#B0BEC5",
                                "#B0BEC5",
                                "#B0BEC5",
                                "#B0BEC5",
                                "#B0BEC5",
                                "#B0BEC5",
                                "#B0BEC5",
                                "#B0BEC5",
                                "#B0BEC5",
                                "#B0BEC5",
                                "#B0BEC5",
                                "#B0BEC5",
                                "#B0BEC5",
                                "#B0BEC5",
                                "#B0BEC5",
                                "#B0BEC5",
                                "#B0BEC5",
                                "#B0BEC5",
                                "#B0BEC5",
                                "#B0BEC5",
                                "#B0BEC5",
                                "#B0BEC5",
                                "#B0BEC5",
                                "#B0BEC5",
                                "#B0BEC5",
                                "#B0BEC5",
                                "#B0BEC5",
                                "#B0BEC5",
                                "#B0BEC5",
                                "#B0BEC5",
                                "#B0BEC5",
                                "#B0BEC5",
                                "#B0BEC5",
                                "red",
                                "#B0BEC5",
                                "#B0BEC5",
                                "#B0BEC5",
                                "#B0BEC5",
                                "#B0BEC5",
                                "#B0BEC5",
                                "#B0BEC5",
                                "#B0BEC5",
                                "#B0BEC5",
                                "#B0BEC5",
                                "#B0BEC5",
                                "#B0BEC5",
                                "#B0BEC5",
                                "#B0BEC5",
                                "#B0BEC5",
                                "#B0BEC5",
                                "#B0BEC5",
                                "#B0BEC5",
                                "#B0BEC5",
                                "#B0BEC5",
                                "#B0BEC5",
                                "#B0BEC5",
                                "#B0BEC5",
                                "#B0BEC5",
                                "#B0BEC5",
                                "#B0BEC5",
                                "#B0BEC5",
                                "#B0BEC5",
                                "#B0BEC5",
                                "#B0BEC5",
                                "#B0BEC5",
                                "#B0BEC5",
                                "#B0BEC5",
                                "#B0BEC5",
                                "#B0BEC5",
                                "#B0BEC5"
                              ]
                            ]
                          }
                        ],
                        "label": "Topic 33",
                        "method": "update"
                      },
                      {
                        "args": [
                          {
                            "marker.color": [
                              [
                                "#B0BEC5",
                                "#B0BEC5",
                                "#B0BEC5",
                                "#B0BEC5",
                                "#B0BEC5",
                                "#B0BEC5",
                                "#B0BEC5",
                                "#B0BEC5",
                                "#B0BEC5",
                                "#B0BEC5",
                                "#B0BEC5",
                                "#B0BEC5",
                                "#B0BEC5",
                                "#B0BEC5",
                                "#B0BEC5",
                                "#B0BEC5",
                                "#B0BEC5",
                                "#B0BEC5",
                                "#B0BEC5",
                                "#B0BEC5",
                                "#B0BEC5",
                                "#B0BEC5",
                                "#B0BEC5",
                                "#B0BEC5",
                                "#B0BEC5",
                                "#B0BEC5",
                                "#B0BEC5",
                                "#B0BEC5",
                                "#B0BEC5",
                                "#B0BEC5",
                                "#B0BEC5",
                                "#B0BEC5",
                                "#B0BEC5",
                                "#B0BEC5",
                                "red",
                                "#B0BEC5",
                                "#B0BEC5",
                                "#B0BEC5",
                                "#B0BEC5",
                                "#B0BEC5",
                                "#B0BEC5",
                                "#B0BEC5",
                                "#B0BEC5",
                                "#B0BEC5",
                                "#B0BEC5",
                                "#B0BEC5",
                                "#B0BEC5",
                                "#B0BEC5",
                                "#B0BEC5",
                                "#B0BEC5",
                                "#B0BEC5",
                                "#B0BEC5",
                                "#B0BEC5",
                                "#B0BEC5",
                                "#B0BEC5",
                                "#B0BEC5",
                                "#B0BEC5",
                                "#B0BEC5",
                                "#B0BEC5",
                                "#B0BEC5",
                                "#B0BEC5",
                                "#B0BEC5",
                                "#B0BEC5",
                                "#B0BEC5",
                                "#B0BEC5",
                                "#B0BEC5",
                                "#B0BEC5",
                                "#B0BEC5",
                                "#B0BEC5",
                                "#B0BEC5"
                              ]
                            ]
                          }
                        ],
                        "label": "Topic 34",
                        "method": "update"
                      },
                      {
                        "args": [
                          {
                            "marker.color": [
                              [
                                "#B0BEC5",
                                "#B0BEC5",
                                "#B0BEC5",
                                "#B0BEC5",
                                "#B0BEC5",
                                "#B0BEC5",
                                "#B0BEC5",
                                "#B0BEC5",
                                "#B0BEC5",
                                "#B0BEC5",
                                "#B0BEC5",
                                "#B0BEC5",
                                "#B0BEC5",
                                "#B0BEC5",
                                "#B0BEC5",
                                "#B0BEC5",
                                "#B0BEC5",
                                "#B0BEC5",
                                "#B0BEC5",
                                "#B0BEC5",
                                "#B0BEC5",
                                "#B0BEC5",
                                "#B0BEC5",
                                "#B0BEC5",
                                "#B0BEC5",
                                "#B0BEC5",
                                "#B0BEC5",
                                "#B0BEC5",
                                "#B0BEC5",
                                "#B0BEC5",
                                "#B0BEC5",
                                "#B0BEC5",
                                "#B0BEC5",
                                "#B0BEC5",
                                "#B0BEC5",
                                "red",
                                "#B0BEC5",
                                "#B0BEC5",
                                "#B0BEC5",
                                "#B0BEC5",
                                "#B0BEC5",
                                "#B0BEC5",
                                "#B0BEC5",
                                "#B0BEC5",
                                "#B0BEC5",
                                "#B0BEC5",
                                "#B0BEC5",
                                "#B0BEC5",
                                "#B0BEC5",
                                "#B0BEC5",
                                "#B0BEC5",
                                "#B0BEC5",
                                "#B0BEC5",
                                "#B0BEC5",
                                "#B0BEC5",
                                "#B0BEC5",
                                "#B0BEC5",
                                "#B0BEC5",
                                "#B0BEC5",
                                "#B0BEC5",
                                "#B0BEC5",
                                "#B0BEC5",
                                "#B0BEC5",
                                "#B0BEC5",
                                "#B0BEC5",
                                "#B0BEC5",
                                "#B0BEC5",
                                "#B0BEC5",
                                "#B0BEC5",
                                "#B0BEC5"
                              ]
                            ]
                          }
                        ],
                        "label": "Topic 35",
                        "method": "update"
                      },
                      {
                        "args": [
                          {
                            "marker.color": [
                              [
                                "#B0BEC5",
                                "#B0BEC5",
                                "#B0BEC5",
                                "#B0BEC5",
                                "#B0BEC5",
                                "#B0BEC5",
                                "#B0BEC5",
                                "#B0BEC5",
                                "#B0BEC5",
                                "#B0BEC5",
                                "#B0BEC5",
                                "#B0BEC5",
                                "#B0BEC5",
                                "#B0BEC5",
                                "#B0BEC5",
                                "#B0BEC5",
                                "#B0BEC5",
                                "#B0BEC5",
                                "#B0BEC5",
                                "#B0BEC5",
                                "#B0BEC5",
                                "#B0BEC5",
                                "#B0BEC5",
                                "#B0BEC5",
                                "#B0BEC5",
                                "#B0BEC5",
                                "#B0BEC5",
                                "#B0BEC5",
                                "#B0BEC5",
                                "#B0BEC5",
                                "#B0BEC5",
                                "#B0BEC5",
                                "#B0BEC5",
                                "#B0BEC5",
                                "#B0BEC5",
                                "#B0BEC5",
                                "red",
                                "#B0BEC5",
                                "#B0BEC5",
                                "#B0BEC5",
                                "#B0BEC5",
                                "#B0BEC5",
                                "#B0BEC5",
                                "#B0BEC5",
                                "#B0BEC5",
                                "#B0BEC5",
                                "#B0BEC5",
                                "#B0BEC5",
                                "#B0BEC5",
                                "#B0BEC5",
                                "#B0BEC5",
                                "#B0BEC5",
                                "#B0BEC5",
                                "#B0BEC5",
                                "#B0BEC5",
                                "#B0BEC5",
                                "#B0BEC5",
                                "#B0BEC5",
                                "#B0BEC5",
                                "#B0BEC5",
                                "#B0BEC5",
                                "#B0BEC5",
                                "#B0BEC5",
                                "#B0BEC5",
                                "#B0BEC5",
                                "#B0BEC5",
                                "#B0BEC5",
                                "#B0BEC5",
                                "#B0BEC5",
                                "#B0BEC5"
                              ]
                            ]
                          }
                        ],
                        "label": "Topic 36",
                        "method": "update"
                      },
                      {
                        "args": [
                          {
                            "marker.color": [
                              [
                                "#B0BEC5",
                                "#B0BEC5",
                                "#B0BEC5",
                                "#B0BEC5",
                                "#B0BEC5",
                                "#B0BEC5",
                                "#B0BEC5",
                                "#B0BEC5",
                                "#B0BEC5",
                                "#B0BEC5",
                                "#B0BEC5",
                                "#B0BEC5",
                                "#B0BEC5",
                                "#B0BEC5",
                                "#B0BEC5",
                                "#B0BEC5",
                                "#B0BEC5",
                                "#B0BEC5",
                                "#B0BEC5",
                                "#B0BEC5",
                                "#B0BEC5",
                                "#B0BEC5",
                                "#B0BEC5",
                                "#B0BEC5",
                                "#B0BEC5",
                                "#B0BEC5",
                                "#B0BEC5",
                                "#B0BEC5",
                                "#B0BEC5",
                                "#B0BEC5",
                                "#B0BEC5",
                                "#B0BEC5",
                                "#B0BEC5",
                                "#B0BEC5",
                                "#B0BEC5",
                                "#B0BEC5",
                                "#B0BEC5",
                                "red",
                                "#B0BEC5",
                                "#B0BEC5",
                                "#B0BEC5",
                                "#B0BEC5",
                                "#B0BEC5",
                                "#B0BEC5",
                                "#B0BEC5",
                                "#B0BEC5",
                                "#B0BEC5",
                                "#B0BEC5",
                                "#B0BEC5",
                                "#B0BEC5",
                                "#B0BEC5",
                                "#B0BEC5",
                                "#B0BEC5",
                                "#B0BEC5",
                                "#B0BEC5",
                                "#B0BEC5",
                                "#B0BEC5",
                                "#B0BEC5",
                                "#B0BEC5",
                                "#B0BEC5",
                                "#B0BEC5",
                                "#B0BEC5",
                                "#B0BEC5",
                                "#B0BEC5",
                                "#B0BEC5",
                                "#B0BEC5",
                                "#B0BEC5",
                                "#B0BEC5",
                                "#B0BEC5",
                                "#B0BEC5"
                              ]
                            ]
                          }
                        ],
                        "label": "Topic 37",
                        "method": "update"
                      },
                      {
                        "args": [
                          {
                            "marker.color": [
                              [
                                "#B0BEC5",
                                "#B0BEC5",
                                "#B0BEC5",
                                "#B0BEC5",
                                "#B0BEC5",
                                "#B0BEC5",
                                "#B0BEC5",
                                "#B0BEC5",
                                "#B0BEC5",
                                "#B0BEC5",
                                "#B0BEC5",
                                "#B0BEC5",
                                "#B0BEC5",
                                "#B0BEC5",
                                "#B0BEC5",
                                "#B0BEC5",
                                "#B0BEC5",
                                "#B0BEC5",
                                "#B0BEC5",
                                "#B0BEC5",
                                "#B0BEC5",
                                "#B0BEC5",
                                "#B0BEC5",
                                "#B0BEC5",
                                "#B0BEC5",
                                "#B0BEC5",
                                "#B0BEC5",
                                "#B0BEC5",
                                "#B0BEC5",
                                "#B0BEC5",
                                "#B0BEC5",
                                "#B0BEC5",
                                "#B0BEC5",
                                "#B0BEC5",
                                "#B0BEC5",
                                "#B0BEC5",
                                "#B0BEC5",
                                "#B0BEC5",
                                "red",
                                "#B0BEC5",
                                "#B0BEC5",
                                "#B0BEC5",
                                "#B0BEC5",
                                "#B0BEC5",
                                "#B0BEC5",
                                "#B0BEC5",
                                "#B0BEC5",
                                "#B0BEC5",
                                "#B0BEC5",
                                "#B0BEC5",
                                "#B0BEC5",
                                "#B0BEC5",
                                "#B0BEC5",
                                "#B0BEC5",
                                "#B0BEC5",
                                "#B0BEC5",
                                "#B0BEC5",
                                "#B0BEC5",
                                "#B0BEC5",
                                "#B0BEC5",
                                "#B0BEC5",
                                "#B0BEC5",
                                "#B0BEC5",
                                "#B0BEC5",
                                "#B0BEC5",
                                "#B0BEC5",
                                "#B0BEC5",
                                "#B0BEC5",
                                "#B0BEC5",
                                "#B0BEC5"
                              ]
                            ]
                          }
                        ],
                        "label": "Topic 38",
                        "method": "update"
                      },
                      {
                        "args": [
                          {
                            "marker.color": [
                              [
                                "#B0BEC5",
                                "#B0BEC5",
                                "#B0BEC5",
                                "#B0BEC5",
                                "#B0BEC5",
                                "#B0BEC5",
                                "#B0BEC5",
                                "#B0BEC5",
                                "#B0BEC5",
                                "#B0BEC5",
                                "#B0BEC5",
                                "#B0BEC5",
                                "#B0BEC5",
                                "#B0BEC5",
                                "#B0BEC5",
                                "#B0BEC5",
                                "#B0BEC5",
                                "#B0BEC5",
                                "#B0BEC5",
                                "#B0BEC5",
                                "#B0BEC5",
                                "#B0BEC5",
                                "#B0BEC5",
                                "#B0BEC5",
                                "#B0BEC5",
                                "#B0BEC5",
                                "#B0BEC5",
                                "#B0BEC5",
                                "#B0BEC5",
                                "#B0BEC5",
                                "#B0BEC5",
                                "#B0BEC5",
                                "#B0BEC5",
                                "#B0BEC5",
                                "#B0BEC5",
                                "#B0BEC5",
                                "#B0BEC5",
                                "#B0BEC5",
                                "#B0BEC5",
                                "red",
                                "#B0BEC5",
                                "#B0BEC5",
                                "#B0BEC5",
                                "#B0BEC5",
                                "#B0BEC5",
                                "#B0BEC5",
                                "#B0BEC5",
                                "#B0BEC5",
                                "#B0BEC5",
                                "#B0BEC5",
                                "#B0BEC5",
                                "#B0BEC5",
                                "#B0BEC5",
                                "#B0BEC5",
                                "#B0BEC5",
                                "#B0BEC5",
                                "#B0BEC5",
                                "#B0BEC5",
                                "#B0BEC5",
                                "#B0BEC5",
                                "#B0BEC5",
                                "#B0BEC5",
                                "#B0BEC5",
                                "#B0BEC5",
                                "#B0BEC5",
                                "#B0BEC5",
                                "#B0BEC5",
                                "#B0BEC5",
                                "#B0BEC5",
                                "#B0BEC5"
                              ]
                            ]
                          }
                        ],
                        "label": "Topic 39",
                        "method": "update"
                      },
                      {
                        "args": [
                          {
                            "marker.color": [
                              [
                                "#B0BEC5",
                                "#B0BEC5",
                                "#B0BEC5",
                                "#B0BEC5",
                                "#B0BEC5",
                                "#B0BEC5",
                                "#B0BEC5",
                                "#B0BEC5",
                                "#B0BEC5",
                                "#B0BEC5",
                                "#B0BEC5",
                                "#B0BEC5",
                                "#B0BEC5",
                                "#B0BEC5",
                                "#B0BEC5",
                                "#B0BEC5",
                                "#B0BEC5",
                                "#B0BEC5",
                                "#B0BEC5",
                                "#B0BEC5",
                                "#B0BEC5",
                                "#B0BEC5",
                                "#B0BEC5",
                                "#B0BEC5",
                                "#B0BEC5",
                                "#B0BEC5",
                                "#B0BEC5",
                                "#B0BEC5",
                                "#B0BEC5",
                                "#B0BEC5",
                                "#B0BEC5",
                                "#B0BEC5",
                                "#B0BEC5",
                                "#B0BEC5",
                                "#B0BEC5",
                                "#B0BEC5",
                                "#B0BEC5",
                                "#B0BEC5",
                                "#B0BEC5",
                                "#B0BEC5",
                                "red",
                                "#B0BEC5",
                                "#B0BEC5",
                                "#B0BEC5",
                                "#B0BEC5",
                                "#B0BEC5",
                                "#B0BEC5",
                                "#B0BEC5",
                                "#B0BEC5",
                                "#B0BEC5",
                                "#B0BEC5",
                                "#B0BEC5",
                                "#B0BEC5",
                                "#B0BEC5",
                                "#B0BEC5",
                                "#B0BEC5",
                                "#B0BEC5",
                                "#B0BEC5",
                                "#B0BEC5",
                                "#B0BEC5",
                                "#B0BEC5",
                                "#B0BEC5",
                                "#B0BEC5",
                                "#B0BEC5",
                                "#B0BEC5",
                                "#B0BEC5",
                                "#B0BEC5",
                                "#B0BEC5",
                                "#B0BEC5",
                                "#B0BEC5"
                              ]
                            ]
                          }
                        ],
                        "label": "Topic 40",
                        "method": "update"
                      },
                      {
                        "args": [
                          {
                            "marker.color": [
                              [
                                "#B0BEC5",
                                "#B0BEC5",
                                "#B0BEC5",
                                "#B0BEC5",
                                "#B0BEC5",
                                "#B0BEC5",
                                "#B0BEC5",
                                "#B0BEC5",
                                "#B0BEC5",
                                "#B0BEC5",
                                "#B0BEC5",
                                "#B0BEC5",
                                "#B0BEC5",
                                "#B0BEC5",
                                "#B0BEC5",
                                "#B0BEC5",
                                "#B0BEC5",
                                "#B0BEC5",
                                "#B0BEC5",
                                "#B0BEC5",
                                "#B0BEC5",
                                "#B0BEC5",
                                "#B0BEC5",
                                "#B0BEC5",
                                "#B0BEC5",
                                "#B0BEC5",
                                "#B0BEC5",
                                "#B0BEC5",
                                "#B0BEC5",
                                "#B0BEC5",
                                "#B0BEC5",
                                "#B0BEC5",
                                "#B0BEC5",
                                "#B0BEC5",
                                "#B0BEC5",
                                "#B0BEC5",
                                "#B0BEC5",
                                "#B0BEC5",
                                "#B0BEC5",
                                "#B0BEC5",
                                "#B0BEC5",
                                "red",
                                "#B0BEC5",
                                "#B0BEC5",
                                "#B0BEC5",
                                "#B0BEC5",
                                "#B0BEC5",
                                "#B0BEC5",
                                "#B0BEC5",
                                "#B0BEC5",
                                "#B0BEC5",
                                "#B0BEC5",
                                "#B0BEC5",
                                "#B0BEC5",
                                "#B0BEC5",
                                "#B0BEC5",
                                "#B0BEC5",
                                "#B0BEC5",
                                "#B0BEC5",
                                "#B0BEC5",
                                "#B0BEC5",
                                "#B0BEC5",
                                "#B0BEC5",
                                "#B0BEC5",
                                "#B0BEC5",
                                "#B0BEC5",
                                "#B0BEC5",
                                "#B0BEC5",
                                "#B0BEC5",
                                "#B0BEC5"
                              ]
                            ]
                          }
                        ],
                        "label": "Topic 41",
                        "method": "update"
                      },
                      {
                        "args": [
                          {
                            "marker.color": [
                              [
                                "#B0BEC5",
                                "#B0BEC5",
                                "#B0BEC5",
                                "#B0BEC5",
                                "#B0BEC5",
                                "#B0BEC5",
                                "#B0BEC5",
                                "#B0BEC5",
                                "#B0BEC5",
                                "#B0BEC5",
                                "#B0BEC5",
                                "#B0BEC5",
                                "#B0BEC5",
                                "#B0BEC5",
                                "#B0BEC5",
                                "#B0BEC5",
                                "#B0BEC5",
                                "#B0BEC5",
                                "#B0BEC5",
                                "#B0BEC5",
                                "#B0BEC5",
                                "#B0BEC5",
                                "#B0BEC5",
                                "#B0BEC5",
                                "#B0BEC5",
                                "#B0BEC5",
                                "#B0BEC5",
                                "#B0BEC5",
                                "#B0BEC5",
                                "#B0BEC5",
                                "#B0BEC5",
                                "#B0BEC5",
                                "#B0BEC5",
                                "#B0BEC5",
                                "#B0BEC5",
                                "#B0BEC5",
                                "#B0BEC5",
                                "#B0BEC5",
                                "#B0BEC5",
                                "#B0BEC5",
                                "#B0BEC5",
                                "#B0BEC5",
                                "red",
                                "#B0BEC5",
                                "#B0BEC5",
                                "#B0BEC5",
                                "#B0BEC5",
                                "#B0BEC5",
                                "#B0BEC5",
                                "#B0BEC5",
                                "#B0BEC5",
                                "#B0BEC5",
                                "#B0BEC5",
                                "#B0BEC5",
                                "#B0BEC5",
                                "#B0BEC5",
                                "#B0BEC5",
                                "#B0BEC5",
                                "#B0BEC5",
                                "#B0BEC5",
                                "#B0BEC5",
                                "#B0BEC5",
                                "#B0BEC5",
                                "#B0BEC5",
                                "#B0BEC5",
                                "#B0BEC5",
                                "#B0BEC5",
                                "#B0BEC5",
                                "#B0BEC5",
                                "#B0BEC5"
                              ]
                            ]
                          }
                        ],
                        "label": "Topic 42",
                        "method": "update"
                      },
                      {
                        "args": [
                          {
                            "marker.color": [
                              [
                                "#B0BEC5",
                                "#B0BEC5",
                                "#B0BEC5",
                                "#B0BEC5",
                                "#B0BEC5",
                                "#B0BEC5",
                                "#B0BEC5",
                                "#B0BEC5",
                                "#B0BEC5",
                                "#B0BEC5",
                                "#B0BEC5",
                                "#B0BEC5",
                                "#B0BEC5",
                                "#B0BEC5",
                                "#B0BEC5",
                                "#B0BEC5",
                                "#B0BEC5",
                                "#B0BEC5",
                                "#B0BEC5",
                                "#B0BEC5",
                                "#B0BEC5",
                                "#B0BEC5",
                                "#B0BEC5",
                                "#B0BEC5",
                                "#B0BEC5",
                                "#B0BEC5",
                                "#B0BEC5",
                                "#B0BEC5",
                                "#B0BEC5",
                                "#B0BEC5",
                                "#B0BEC5",
                                "#B0BEC5",
                                "#B0BEC5",
                                "#B0BEC5",
                                "#B0BEC5",
                                "#B0BEC5",
                                "#B0BEC5",
                                "#B0BEC5",
                                "#B0BEC5",
                                "#B0BEC5",
                                "#B0BEC5",
                                "#B0BEC5",
                                "#B0BEC5",
                                "red",
                                "#B0BEC5",
                                "#B0BEC5",
                                "#B0BEC5",
                                "#B0BEC5",
                                "#B0BEC5",
                                "#B0BEC5",
                                "#B0BEC5",
                                "#B0BEC5",
                                "#B0BEC5",
                                "#B0BEC5",
                                "#B0BEC5",
                                "#B0BEC5",
                                "#B0BEC5",
                                "#B0BEC5",
                                "#B0BEC5",
                                "#B0BEC5",
                                "#B0BEC5",
                                "#B0BEC5",
                                "#B0BEC5",
                                "#B0BEC5",
                                "#B0BEC5",
                                "#B0BEC5",
                                "#B0BEC5",
                                "#B0BEC5",
                                "#B0BEC5",
                                "#B0BEC5"
                              ]
                            ]
                          }
                        ],
                        "label": "Topic 43",
                        "method": "update"
                      },
                      {
                        "args": [
                          {
                            "marker.color": [
                              [
                                "#B0BEC5",
                                "#B0BEC5",
                                "#B0BEC5",
                                "#B0BEC5",
                                "#B0BEC5",
                                "#B0BEC5",
                                "#B0BEC5",
                                "#B0BEC5",
                                "#B0BEC5",
                                "#B0BEC5",
                                "#B0BEC5",
                                "#B0BEC5",
                                "#B0BEC5",
                                "#B0BEC5",
                                "#B0BEC5",
                                "#B0BEC5",
                                "#B0BEC5",
                                "#B0BEC5",
                                "#B0BEC5",
                                "#B0BEC5",
                                "#B0BEC5",
                                "#B0BEC5",
                                "#B0BEC5",
                                "#B0BEC5",
                                "#B0BEC5",
                                "#B0BEC5",
                                "#B0BEC5",
                                "#B0BEC5",
                                "#B0BEC5",
                                "#B0BEC5",
                                "#B0BEC5",
                                "#B0BEC5",
                                "#B0BEC5",
                                "#B0BEC5",
                                "#B0BEC5",
                                "#B0BEC5",
                                "#B0BEC5",
                                "#B0BEC5",
                                "#B0BEC5",
                                "#B0BEC5",
                                "#B0BEC5",
                                "#B0BEC5",
                                "#B0BEC5",
                                "#B0BEC5",
                                "red",
                                "#B0BEC5",
                                "#B0BEC5",
                                "#B0BEC5",
                                "#B0BEC5",
                                "#B0BEC5",
                                "#B0BEC5",
                                "#B0BEC5",
                                "#B0BEC5",
                                "#B0BEC5",
                                "#B0BEC5",
                                "#B0BEC5",
                                "#B0BEC5",
                                "#B0BEC5",
                                "#B0BEC5",
                                "#B0BEC5",
                                "#B0BEC5",
                                "#B0BEC5",
                                "#B0BEC5",
                                "#B0BEC5",
                                "#B0BEC5",
                                "#B0BEC5",
                                "#B0BEC5",
                                "#B0BEC5",
                                "#B0BEC5",
                                "#B0BEC5"
                              ]
                            ]
                          }
                        ],
                        "label": "Topic 44",
                        "method": "update"
                      },
                      {
                        "args": [
                          {
                            "marker.color": [
                              [
                                "#B0BEC5",
                                "#B0BEC5",
                                "#B0BEC5",
                                "#B0BEC5",
                                "#B0BEC5",
                                "#B0BEC5",
                                "#B0BEC5",
                                "#B0BEC5",
                                "#B0BEC5",
                                "#B0BEC5",
                                "#B0BEC5",
                                "#B0BEC5",
                                "#B0BEC5",
                                "#B0BEC5",
                                "#B0BEC5",
                                "#B0BEC5",
                                "#B0BEC5",
                                "#B0BEC5",
                                "#B0BEC5",
                                "#B0BEC5",
                                "#B0BEC5",
                                "#B0BEC5",
                                "#B0BEC5",
                                "#B0BEC5",
                                "#B0BEC5",
                                "#B0BEC5",
                                "#B0BEC5",
                                "#B0BEC5",
                                "#B0BEC5",
                                "#B0BEC5",
                                "#B0BEC5",
                                "#B0BEC5",
                                "#B0BEC5",
                                "#B0BEC5",
                                "#B0BEC5",
                                "#B0BEC5",
                                "#B0BEC5",
                                "#B0BEC5",
                                "#B0BEC5",
                                "#B0BEC5",
                                "#B0BEC5",
                                "#B0BEC5",
                                "#B0BEC5",
                                "#B0BEC5",
                                "#B0BEC5",
                                "red",
                                "#B0BEC5",
                                "#B0BEC5",
                                "#B0BEC5",
                                "#B0BEC5",
                                "#B0BEC5",
                                "#B0BEC5",
                                "#B0BEC5",
                                "#B0BEC5",
                                "#B0BEC5",
                                "#B0BEC5",
                                "#B0BEC5",
                                "#B0BEC5",
                                "#B0BEC5",
                                "#B0BEC5",
                                "#B0BEC5",
                                "#B0BEC5",
                                "#B0BEC5",
                                "#B0BEC5",
                                "#B0BEC5",
                                "#B0BEC5",
                                "#B0BEC5",
                                "#B0BEC5",
                                "#B0BEC5",
                                "#B0BEC5"
                              ]
                            ]
                          }
                        ],
                        "label": "Topic 45",
                        "method": "update"
                      },
                      {
                        "args": [
                          {
                            "marker.color": [
                              [
                                "#B0BEC5",
                                "#B0BEC5",
                                "#B0BEC5",
                                "#B0BEC5",
                                "#B0BEC5",
                                "#B0BEC5",
                                "#B0BEC5",
                                "#B0BEC5",
                                "#B0BEC5",
                                "#B0BEC5",
                                "#B0BEC5",
                                "#B0BEC5",
                                "#B0BEC5",
                                "#B0BEC5",
                                "#B0BEC5",
                                "#B0BEC5",
                                "#B0BEC5",
                                "#B0BEC5",
                                "#B0BEC5",
                                "#B0BEC5",
                                "#B0BEC5",
                                "#B0BEC5",
                                "#B0BEC5",
                                "#B0BEC5",
                                "#B0BEC5",
                                "#B0BEC5",
                                "#B0BEC5",
                                "#B0BEC5",
                                "#B0BEC5",
                                "#B0BEC5",
                                "#B0BEC5",
                                "#B0BEC5",
                                "#B0BEC5",
                                "#B0BEC5",
                                "#B0BEC5",
                                "#B0BEC5",
                                "#B0BEC5",
                                "#B0BEC5",
                                "#B0BEC5",
                                "#B0BEC5",
                                "#B0BEC5",
                                "#B0BEC5",
                                "#B0BEC5",
                                "#B0BEC5",
                                "#B0BEC5",
                                "#B0BEC5",
                                "red",
                                "#B0BEC5",
                                "#B0BEC5",
                                "#B0BEC5",
                                "#B0BEC5",
                                "#B0BEC5",
                                "#B0BEC5",
                                "#B0BEC5",
                                "#B0BEC5",
                                "#B0BEC5",
                                "#B0BEC5",
                                "#B0BEC5",
                                "#B0BEC5",
                                "#B0BEC5",
                                "#B0BEC5",
                                "#B0BEC5",
                                "#B0BEC5",
                                "#B0BEC5",
                                "#B0BEC5",
                                "#B0BEC5",
                                "#B0BEC5",
                                "#B0BEC5",
                                "#B0BEC5",
                                "#B0BEC5"
                              ]
                            ]
                          }
                        ],
                        "label": "Topic 46",
                        "method": "update"
                      },
                      {
                        "args": [
                          {
                            "marker.color": [
                              [
                                "#B0BEC5",
                                "#B0BEC5",
                                "#B0BEC5",
                                "#B0BEC5",
                                "#B0BEC5",
                                "#B0BEC5",
                                "#B0BEC5",
                                "#B0BEC5",
                                "#B0BEC5",
                                "#B0BEC5",
                                "#B0BEC5",
                                "#B0BEC5",
                                "#B0BEC5",
                                "#B0BEC5",
                                "#B0BEC5",
                                "#B0BEC5",
                                "#B0BEC5",
                                "#B0BEC5",
                                "#B0BEC5",
                                "#B0BEC5",
                                "#B0BEC5",
                                "#B0BEC5",
                                "#B0BEC5",
                                "#B0BEC5",
                                "#B0BEC5",
                                "#B0BEC5",
                                "#B0BEC5",
                                "#B0BEC5",
                                "#B0BEC5",
                                "#B0BEC5",
                                "#B0BEC5",
                                "#B0BEC5",
                                "#B0BEC5",
                                "#B0BEC5",
                                "#B0BEC5",
                                "#B0BEC5",
                                "#B0BEC5",
                                "#B0BEC5",
                                "#B0BEC5",
                                "#B0BEC5",
                                "#B0BEC5",
                                "#B0BEC5",
                                "#B0BEC5",
                                "#B0BEC5",
                                "#B0BEC5",
                                "#B0BEC5",
                                "#B0BEC5",
                                "red",
                                "#B0BEC5",
                                "#B0BEC5",
                                "#B0BEC5",
                                "#B0BEC5",
                                "#B0BEC5",
                                "#B0BEC5",
                                "#B0BEC5",
                                "#B0BEC5",
                                "#B0BEC5",
                                "#B0BEC5",
                                "#B0BEC5",
                                "#B0BEC5",
                                "#B0BEC5",
                                "#B0BEC5",
                                "#B0BEC5",
                                "#B0BEC5",
                                "#B0BEC5",
                                "#B0BEC5",
                                "#B0BEC5",
                                "#B0BEC5",
                                "#B0BEC5",
                                "#B0BEC5"
                              ]
                            ]
                          }
                        ],
                        "label": "Topic 47",
                        "method": "update"
                      },
                      {
                        "args": [
                          {
                            "marker.color": [
                              [
                                "#B0BEC5",
                                "#B0BEC5",
                                "#B0BEC5",
                                "#B0BEC5",
                                "#B0BEC5",
                                "#B0BEC5",
                                "#B0BEC5",
                                "#B0BEC5",
                                "#B0BEC5",
                                "#B0BEC5",
                                "#B0BEC5",
                                "#B0BEC5",
                                "#B0BEC5",
                                "#B0BEC5",
                                "#B0BEC5",
                                "#B0BEC5",
                                "#B0BEC5",
                                "#B0BEC5",
                                "#B0BEC5",
                                "#B0BEC5",
                                "#B0BEC5",
                                "#B0BEC5",
                                "#B0BEC5",
                                "#B0BEC5",
                                "#B0BEC5",
                                "#B0BEC5",
                                "#B0BEC5",
                                "#B0BEC5",
                                "#B0BEC5",
                                "#B0BEC5",
                                "#B0BEC5",
                                "#B0BEC5",
                                "#B0BEC5",
                                "#B0BEC5",
                                "#B0BEC5",
                                "#B0BEC5",
                                "#B0BEC5",
                                "#B0BEC5",
                                "#B0BEC5",
                                "#B0BEC5",
                                "#B0BEC5",
                                "#B0BEC5",
                                "#B0BEC5",
                                "#B0BEC5",
                                "#B0BEC5",
                                "#B0BEC5",
                                "#B0BEC5",
                                "#B0BEC5",
                                "red",
                                "#B0BEC5",
                                "#B0BEC5",
                                "#B0BEC5",
                                "#B0BEC5",
                                "#B0BEC5",
                                "#B0BEC5",
                                "#B0BEC5",
                                "#B0BEC5",
                                "#B0BEC5",
                                "#B0BEC5",
                                "#B0BEC5",
                                "#B0BEC5",
                                "#B0BEC5",
                                "#B0BEC5",
                                "#B0BEC5",
                                "#B0BEC5",
                                "#B0BEC5",
                                "#B0BEC5",
                                "#B0BEC5",
                                "#B0BEC5",
                                "#B0BEC5"
                              ]
                            ]
                          }
                        ],
                        "label": "Topic 48",
                        "method": "update"
                      },
                      {
                        "args": [
                          {
                            "marker.color": [
                              [
                                "#B0BEC5",
                                "#B0BEC5",
                                "#B0BEC5",
                                "#B0BEC5",
                                "#B0BEC5",
                                "#B0BEC5",
                                "#B0BEC5",
                                "#B0BEC5",
                                "#B0BEC5",
                                "#B0BEC5",
                                "#B0BEC5",
                                "#B0BEC5",
                                "#B0BEC5",
                                "#B0BEC5",
                                "#B0BEC5",
                                "#B0BEC5",
                                "#B0BEC5",
                                "#B0BEC5",
                                "#B0BEC5",
                                "#B0BEC5",
                                "#B0BEC5",
                                "#B0BEC5",
                                "#B0BEC5",
                                "#B0BEC5",
                                "#B0BEC5",
                                "#B0BEC5",
                                "#B0BEC5",
                                "#B0BEC5",
                                "#B0BEC5",
                                "#B0BEC5",
                                "#B0BEC5",
                                "#B0BEC5",
                                "#B0BEC5",
                                "#B0BEC5",
                                "#B0BEC5",
                                "#B0BEC5",
                                "#B0BEC5",
                                "#B0BEC5",
                                "#B0BEC5",
                                "#B0BEC5",
                                "#B0BEC5",
                                "#B0BEC5",
                                "#B0BEC5",
                                "#B0BEC5",
                                "#B0BEC5",
                                "#B0BEC5",
                                "#B0BEC5",
                                "#B0BEC5",
                                "#B0BEC5",
                                "red",
                                "#B0BEC5",
                                "#B0BEC5",
                                "#B0BEC5",
                                "#B0BEC5",
                                "#B0BEC5",
                                "#B0BEC5",
                                "#B0BEC5",
                                "#B0BEC5",
                                "#B0BEC5",
                                "#B0BEC5",
                                "#B0BEC5",
                                "#B0BEC5",
                                "#B0BEC5",
                                "#B0BEC5",
                                "#B0BEC5",
                                "#B0BEC5",
                                "#B0BEC5",
                                "#B0BEC5",
                                "#B0BEC5",
                                "#B0BEC5"
                              ]
                            ]
                          }
                        ],
                        "label": "Topic 49",
                        "method": "update"
                      },
                      {
                        "args": [
                          {
                            "marker.color": [
                              [
                                "#B0BEC5",
                                "#B0BEC5",
                                "#B0BEC5",
                                "#B0BEC5",
                                "#B0BEC5",
                                "#B0BEC5",
                                "#B0BEC5",
                                "#B0BEC5",
                                "#B0BEC5",
                                "#B0BEC5",
                                "#B0BEC5",
                                "#B0BEC5",
                                "#B0BEC5",
                                "#B0BEC5",
                                "#B0BEC5",
                                "#B0BEC5",
                                "#B0BEC5",
                                "#B0BEC5",
                                "#B0BEC5",
                                "#B0BEC5",
                                "#B0BEC5",
                                "#B0BEC5",
                                "#B0BEC5",
                                "#B0BEC5",
                                "#B0BEC5",
                                "#B0BEC5",
                                "#B0BEC5",
                                "#B0BEC5",
                                "#B0BEC5",
                                "#B0BEC5",
                                "#B0BEC5",
                                "#B0BEC5",
                                "#B0BEC5",
                                "#B0BEC5",
                                "#B0BEC5",
                                "#B0BEC5",
                                "#B0BEC5",
                                "#B0BEC5",
                                "#B0BEC5",
                                "#B0BEC5",
                                "#B0BEC5",
                                "#B0BEC5",
                                "#B0BEC5",
                                "#B0BEC5",
                                "#B0BEC5",
                                "#B0BEC5",
                                "#B0BEC5",
                                "#B0BEC5",
                                "#B0BEC5",
                                "#B0BEC5",
                                "red",
                                "#B0BEC5",
                                "#B0BEC5",
                                "#B0BEC5",
                                "#B0BEC5",
                                "#B0BEC5",
                                "#B0BEC5",
                                "#B0BEC5",
                                "#B0BEC5",
                                "#B0BEC5",
                                "#B0BEC5",
                                "#B0BEC5",
                                "#B0BEC5",
                                "#B0BEC5",
                                "#B0BEC5",
                                "#B0BEC5",
                                "#B0BEC5",
                                "#B0BEC5",
                                "#B0BEC5",
                                "#B0BEC5"
                              ]
                            ]
                          }
                        ],
                        "label": "Topic 50",
                        "method": "update"
                      },
                      {
                        "args": [
                          {
                            "marker.color": [
                              [
                                "#B0BEC5",
                                "#B0BEC5",
                                "#B0BEC5",
                                "#B0BEC5",
                                "#B0BEC5",
                                "#B0BEC5",
                                "#B0BEC5",
                                "#B0BEC5",
                                "#B0BEC5",
                                "#B0BEC5",
                                "#B0BEC5",
                                "#B0BEC5",
                                "#B0BEC5",
                                "#B0BEC5",
                                "#B0BEC5",
                                "#B0BEC5",
                                "#B0BEC5",
                                "#B0BEC5",
                                "#B0BEC5",
                                "#B0BEC5",
                                "#B0BEC5",
                                "#B0BEC5",
                                "#B0BEC5",
                                "#B0BEC5",
                                "#B0BEC5",
                                "#B0BEC5",
                                "#B0BEC5",
                                "#B0BEC5",
                                "#B0BEC5",
                                "#B0BEC5",
                                "#B0BEC5",
                                "#B0BEC5",
                                "#B0BEC5",
                                "#B0BEC5",
                                "#B0BEC5",
                                "#B0BEC5",
                                "#B0BEC5",
                                "#B0BEC5",
                                "#B0BEC5",
                                "#B0BEC5",
                                "#B0BEC5",
                                "#B0BEC5",
                                "#B0BEC5",
                                "#B0BEC5",
                                "#B0BEC5",
                                "#B0BEC5",
                                "#B0BEC5",
                                "#B0BEC5",
                                "#B0BEC5",
                                "#B0BEC5",
                                "#B0BEC5",
                                "red",
                                "#B0BEC5",
                                "#B0BEC5",
                                "#B0BEC5",
                                "#B0BEC5",
                                "#B0BEC5",
                                "#B0BEC5",
                                "#B0BEC5",
                                "#B0BEC5",
                                "#B0BEC5",
                                "#B0BEC5",
                                "#B0BEC5",
                                "#B0BEC5",
                                "#B0BEC5",
                                "#B0BEC5",
                                "#B0BEC5",
                                "#B0BEC5",
                                "#B0BEC5",
                                "#B0BEC5"
                              ]
                            ]
                          }
                        ],
                        "label": "Topic 51",
                        "method": "update"
                      },
                      {
                        "args": [
                          {
                            "marker.color": [
                              [
                                "#B0BEC5",
                                "#B0BEC5",
                                "#B0BEC5",
                                "#B0BEC5",
                                "#B0BEC5",
                                "#B0BEC5",
                                "#B0BEC5",
                                "#B0BEC5",
                                "#B0BEC5",
                                "#B0BEC5",
                                "#B0BEC5",
                                "#B0BEC5",
                                "#B0BEC5",
                                "#B0BEC5",
                                "#B0BEC5",
                                "#B0BEC5",
                                "#B0BEC5",
                                "#B0BEC5",
                                "#B0BEC5",
                                "#B0BEC5",
                                "#B0BEC5",
                                "#B0BEC5",
                                "#B0BEC5",
                                "#B0BEC5",
                                "#B0BEC5",
                                "#B0BEC5",
                                "#B0BEC5",
                                "#B0BEC5",
                                "#B0BEC5",
                                "#B0BEC5",
                                "#B0BEC5",
                                "#B0BEC5",
                                "#B0BEC5",
                                "#B0BEC5",
                                "#B0BEC5",
                                "#B0BEC5",
                                "#B0BEC5",
                                "#B0BEC5",
                                "#B0BEC5",
                                "#B0BEC5",
                                "#B0BEC5",
                                "#B0BEC5",
                                "#B0BEC5",
                                "#B0BEC5",
                                "#B0BEC5",
                                "#B0BEC5",
                                "#B0BEC5",
                                "#B0BEC5",
                                "#B0BEC5",
                                "#B0BEC5",
                                "#B0BEC5",
                                "#B0BEC5",
                                "red",
                                "#B0BEC5",
                                "#B0BEC5",
                                "#B0BEC5",
                                "#B0BEC5",
                                "#B0BEC5",
                                "#B0BEC5",
                                "#B0BEC5",
                                "#B0BEC5",
                                "#B0BEC5",
                                "#B0BEC5",
                                "#B0BEC5",
                                "#B0BEC5",
                                "#B0BEC5",
                                "#B0BEC5",
                                "#B0BEC5",
                                "#B0BEC5",
                                "#B0BEC5"
                              ]
                            ]
                          }
                        ],
                        "label": "Topic 52",
                        "method": "update"
                      },
                      {
                        "args": [
                          {
                            "marker.color": [
                              [
                                "#B0BEC5",
                                "#B0BEC5",
                                "#B0BEC5",
                                "#B0BEC5",
                                "#B0BEC5",
                                "#B0BEC5",
                                "#B0BEC5",
                                "#B0BEC5",
                                "#B0BEC5",
                                "#B0BEC5",
                                "#B0BEC5",
                                "#B0BEC5",
                                "#B0BEC5",
                                "#B0BEC5",
                                "#B0BEC5",
                                "#B0BEC5",
                                "#B0BEC5",
                                "#B0BEC5",
                                "#B0BEC5",
                                "#B0BEC5",
                                "#B0BEC5",
                                "#B0BEC5",
                                "#B0BEC5",
                                "#B0BEC5",
                                "#B0BEC5",
                                "#B0BEC5",
                                "#B0BEC5",
                                "#B0BEC5",
                                "#B0BEC5",
                                "#B0BEC5",
                                "#B0BEC5",
                                "#B0BEC5",
                                "#B0BEC5",
                                "#B0BEC5",
                                "#B0BEC5",
                                "#B0BEC5",
                                "#B0BEC5",
                                "#B0BEC5",
                                "#B0BEC5",
                                "#B0BEC5",
                                "#B0BEC5",
                                "#B0BEC5",
                                "#B0BEC5",
                                "#B0BEC5",
                                "#B0BEC5",
                                "#B0BEC5",
                                "#B0BEC5",
                                "#B0BEC5",
                                "#B0BEC5",
                                "#B0BEC5",
                                "#B0BEC5",
                                "#B0BEC5",
                                "#B0BEC5",
                                "red",
                                "#B0BEC5",
                                "#B0BEC5",
                                "#B0BEC5",
                                "#B0BEC5",
                                "#B0BEC5",
                                "#B0BEC5",
                                "#B0BEC5",
                                "#B0BEC5",
                                "#B0BEC5",
                                "#B0BEC5",
                                "#B0BEC5",
                                "#B0BEC5",
                                "#B0BEC5",
                                "#B0BEC5",
                                "#B0BEC5",
                                "#B0BEC5"
                              ]
                            ]
                          }
                        ],
                        "label": "Topic 53",
                        "method": "update"
                      },
                      {
                        "args": [
                          {
                            "marker.color": [
                              [
                                "#B0BEC5",
                                "#B0BEC5",
                                "#B0BEC5",
                                "#B0BEC5",
                                "#B0BEC5",
                                "#B0BEC5",
                                "#B0BEC5",
                                "#B0BEC5",
                                "#B0BEC5",
                                "#B0BEC5",
                                "#B0BEC5",
                                "#B0BEC5",
                                "#B0BEC5",
                                "#B0BEC5",
                                "#B0BEC5",
                                "#B0BEC5",
                                "#B0BEC5",
                                "#B0BEC5",
                                "#B0BEC5",
                                "#B0BEC5",
                                "#B0BEC5",
                                "#B0BEC5",
                                "#B0BEC5",
                                "#B0BEC5",
                                "#B0BEC5",
                                "#B0BEC5",
                                "#B0BEC5",
                                "#B0BEC5",
                                "#B0BEC5",
                                "#B0BEC5",
                                "#B0BEC5",
                                "#B0BEC5",
                                "#B0BEC5",
                                "#B0BEC5",
                                "#B0BEC5",
                                "#B0BEC5",
                                "#B0BEC5",
                                "#B0BEC5",
                                "#B0BEC5",
                                "#B0BEC5",
                                "#B0BEC5",
                                "#B0BEC5",
                                "#B0BEC5",
                                "#B0BEC5",
                                "#B0BEC5",
                                "#B0BEC5",
                                "#B0BEC5",
                                "#B0BEC5",
                                "#B0BEC5",
                                "#B0BEC5",
                                "#B0BEC5",
                                "#B0BEC5",
                                "#B0BEC5",
                                "#B0BEC5",
                                "red",
                                "#B0BEC5",
                                "#B0BEC5",
                                "#B0BEC5",
                                "#B0BEC5",
                                "#B0BEC5",
                                "#B0BEC5",
                                "#B0BEC5",
                                "#B0BEC5",
                                "#B0BEC5",
                                "#B0BEC5",
                                "#B0BEC5",
                                "#B0BEC5",
                                "#B0BEC5",
                                "#B0BEC5",
                                "#B0BEC5"
                              ]
                            ]
                          }
                        ],
                        "label": "Topic 54",
                        "method": "update"
                      },
                      {
                        "args": [
                          {
                            "marker.color": [
                              [
                                "#B0BEC5",
                                "#B0BEC5",
                                "#B0BEC5",
                                "#B0BEC5",
                                "#B0BEC5",
                                "#B0BEC5",
                                "#B0BEC5",
                                "#B0BEC5",
                                "#B0BEC5",
                                "#B0BEC5",
                                "#B0BEC5",
                                "#B0BEC5",
                                "#B0BEC5",
                                "#B0BEC5",
                                "#B0BEC5",
                                "#B0BEC5",
                                "#B0BEC5",
                                "#B0BEC5",
                                "#B0BEC5",
                                "#B0BEC5",
                                "#B0BEC5",
                                "#B0BEC5",
                                "#B0BEC5",
                                "#B0BEC5",
                                "#B0BEC5",
                                "#B0BEC5",
                                "#B0BEC5",
                                "#B0BEC5",
                                "#B0BEC5",
                                "#B0BEC5",
                                "#B0BEC5",
                                "#B0BEC5",
                                "#B0BEC5",
                                "#B0BEC5",
                                "#B0BEC5",
                                "#B0BEC5",
                                "#B0BEC5",
                                "#B0BEC5",
                                "#B0BEC5",
                                "#B0BEC5",
                                "#B0BEC5",
                                "#B0BEC5",
                                "#B0BEC5",
                                "#B0BEC5",
                                "#B0BEC5",
                                "#B0BEC5",
                                "#B0BEC5",
                                "#B0BEC5",
                                "#B0BEC5",
                                "#B0BEC5",
                                "#B0BEC5",
                                "#B0BEC5",
                                "#B0BEC5",
                                "#B0BEC5",
                                "#B0BEC5",
                                "red",
                                "#B0BEC5",
                                "#B0BEC5",
                                "#B0BEC5",
                                "#B0BEC5",
                                "#B0BEC5",
                                "#B0BEC5",
                                "#B0BEC5",
                                "#B0BEC5",
                                "#B0BEC5",
                                "#B0BEC5",
                                "#B0BEC5",
                                "#B0BEC5",
                                "#B0BEC5",
                                "#B0BEC5"
                              ]
                            ]
                          }
                        ],
                        "label": "Topic 55",
                        "method": "update"
                      },
                      {
                        "args": [
                          {
                            "marker.color": [
                              [
                                "#B0BEC5",
                                "#B0BEC5",
                                "#B0BEC5",
                                "#B0BEC5",
                                "#B0BEC5",
                                "#B0BEC5",
                                "#B0BEC5",
                                "#B0BEC5",
                                "#B0BEC5",
                                "#B0BEC5",
                                "#B0BEC5",
                                "#B0BEC5",
                                "#B0BEC5",
                                "#B0BEC5",
                                "#B0BEC5",
                                "#B0BEC5",
                                "#B0BEC5",
                                "#B0BEC5",
                                "#B0BEC5",
                                "#B0BEC5",
                                "#B0BEC5",
                                "#B0BEC5",
                                "#B0BEC5",
                                "#B0BEC5",
                                "#B0BEC5",
                                "#B0BEC5",
                                "#B0BEC5",
                                "#B0BEC5",
                                "#B0BEC5",
                                "#B0BEC5",
                                "#B0BEC5",
                                "#B0BEC5",
                                "#B0BEC5",
                                "#B0BEC5",
                                "#B0BEC5",
                                "#B0BEC5",
                                "#B0BEC5",
                                "#B0BEC5",
                                "#B0BEC5",
                                "#B0BEC5",
                                "#B0BEC5",
                                "#B0BEC5",
                                "#B0BEC5",
                                "#B0BEC5",
                                "#B0BEC5",
                                "#B0BEC5",
                                "#B0BEC5",
                                "#B0BEC5",
                                "#B0BEC5",
                                "#B0BEC5",
                                "#B0BEC5",
                                "#B0BEC5",
                                "#B0BEC5",
                                "#B0BEC5",
                                "#B0BEC5",
                                "#B0BEC5",
                                "red",
                                "#B0BEC5",
                                "#B0BEC5",
                                "#B0BEC5",
                                "#B0BEC5",
                                "#B0BEC5",
                                "#B0BEC5",
                                "#B0BEC5",
                                "#B0BEC5",
                                "#B0BEC5",
                                "#B0BEC5",
                                "#B0BEC5",
                                "#B0BEC5",
                                "#B0BEC5"
                              ]
                            ]
                          }
                        ],
                        "label": "Topic 56",
                        "method": "update"
                      },
                      {
                        "args": [
                          {
                            "marker.color": [
                              [
                                "#B0BEC5",
                                "#B0BEC5",
                                "#B0BEC5",
                                "#B0BEC5",
                                "#B0BEC5",
                                "#B0BEC5",
                                "#B0BEC5",
                                "#B0BEC5",
                                "#B0BEC5",
                                "#B0BEC5",
                                "#B0BEC5",
                                "#B0BEC5",
                                "#B0BEC5",
                                "#B0BEC5",
                                "#B0BEC5",
                                "#B0BEC5",
                                "#B0BEC5",
                                "#B0BEC5",
                                "#B0BEC5",
                                "#B0BEC5",
                                "#B0BEC5",
                                "#B0BEC5",
                                "#B0BEC5",
                                "#B0BEC5",
                                "#B0BEC5",
                                "#B0BEC5",
                                "#B0BEC5",
                                "#B0BEC5",
                                "#B0BEC5",
                                "#B0BEC5",
                                "#B0BEC5",
                                "#B0BEC5",
                                "#B0BEC5",
                                "#B0BEC5",
                                "#B0BEC5",
                                "#B0BEC5",
                                "#B0BEC5",
                                "#B0BEC5",
                                "#B0BEC5",
                                "#B0BEC5",
                                "#B0BEC5",
                                "#B0BEC5",
                                "#B0BEC5",
                                "#B0BEC5",
                                "#B0BEC5",
                                "#B0BEC5",
                                "#B0BEC5",
                                "#B0BEC5",
                                "#B0BEC5",
                                "#B0BEC5",
                                "#B0BEC5",
                                "#B0BEC5",
                                "#B0BEC5",
                                "#B0BEC5",
                                "#B0BEC5",
                                "#B0BEC5",
                                "#B0BEC5",
                                "red",
                                "#B0BEC5",
                                "#B0BEC5",
                                "#B0BEC5",
                                "#B0BEC5",
                                "#B0BEC5",
                                "#B0BEC5",
                                "#B0BEC5",
                                "#B0BEC5",
                                "#B0BEC5",
                                "#B0BEC5",
                                "#B0BEC5",
                                "#B0BEC5"
                              ]
                            ]
                          }
                        ],
                        "label": "Topic 57",
                        "method": "update"
                      },
                      {
                        "args": [
                          {
                            "marker.color": [
                              [
                                "#B0BEC5",
                                "#B0BEC5",
                                "#B0BEC5",
                                "#B0BEC5",
                                "#B0BEC5",
                                "#B0BEC5",
                                "#B0BEC5",
                                "#B0BEC5",
                                "#B0BEC5",
                                "#B0BEC5",
                                "#B0BEC5",
                                "#B0BEC5",
                                "#B0BEC5",
                                "#B0BEC5",
                                "#B0BEC5",
                                "#B0BEC5",
                                "#B0BEC5",
                                "#B0BEC5",
                                "#B0BEC5",
                                "#B0BEC5",
                                "#B0BEC5",
                                "#B0BEC5",
                                "#B0BEC5",
                                "#B0BEC5",
                                "#B0BEC5",
                                "#B0BEC5",
                                "#B0BEC5",
                                "#B0BEC5",
                                "#B0BEC5",
                                "#B0BEC5",
                                "#B0BEC5",
                                "#B0BEC5",
                                "#B0BEC5",
                                "#B0BEC5",
                                "#B0BEC5",
                                "#B0BEC5",
                                "#B0BEC5",
                                "#B0BEC5",
                                "#B0BEC5",
                                "#B0BEC5",
                                "#B0BEC5",
                                "#B0BEC5",
                                "#B0BEC5",
                                "#B0BEC5",
                                "#B0BEC5",
                                "#B0BEC5",
                                "#B0BEC5",
                                "#B0BEC5",
                                "#B0BEC5",
                                "#B0BEC5",
                                "#B0BEC5",
                                "#B0BEC5",
                                "#B0BEC5",
                                "#B0BEC5",
                                "#B0BEC5",
                                "#B0BEC5",
                                "#B0BEC5",
                                "#B0BEC5",
                                "red",
                                "#B0BEC5",
                                "#B0BEC5",
                                "#B0BEC5",
                                "#B0BEC5",
                                "#B0BEC5",
                                "#B0BEC5",
                                "#B0BEC5",
                                "#B0BEC5",
                                "#B0BEC5",
                                "#B0BEC5",
                                "#B0BEC5"
                              ]
                            ]
                          }
                        ],
                        "label": "Topic 58",
                        "method": "update"
                      },
                      {
                        "args": [
                          {
                            "marker.color": [
                              [
                                "#B0BEC5",
                                "#B0BEC5",
                                "#B0BEC5",
                                "#B0BEC5",
                                "#B0BEC5",
                                "#B0BEC5",
                                "#B0BEC5",
                                "#B0BEC5",
                                "#B0BEC5",
                                "#B0BEC5",
                                "#B0BEC5",
                                "#B0BEC5",
                                "#B0BEC5",
                                "#B0BEC5",
                                "#B0BEC5",
                                "#B0BEC5",
                                "#B0BEC5",
                                "#B0BEC5",
                                "#B0BEC5",
                                "#B0BEC5",
                                "#B0BEC5",
                                "#B0BEC5",
                                "#B0BEC5",
                                "#B0BEC5",
                                "#B0BEC5",
                                "#B0BEC5",
                                "#B0BEC5",
                                "#B0BEC5",
                                "#B0BEC5",
                                "#B0BEC5",
                                "#B0BEC5",
                                "#B0BEC5",
                                "#B0BEC5",
                                "#B0BEC5",
                                "#B0BEC5",
                                "#B0BEC5",
                                "#B0BEC5",
                                "#B0BEC5",
                                "#B0BEC5",
                                "#B0BEC5",
                                "#B0BEC5",
                                "#B0BEC5",
                                "#B0BEC5",
                                "#B0BEC5",
                                "#B0BEC5",
                                "#B0BEC5",
                                "#B0BEC5",
                                "#B0BEC5",
                                "#B0BEC5",
                                "#B0BEC5",
                                "#B0BEC5",
                                "#B0BEC5",
                                "#B0BEC5",
                                "#B0BEC5",
                                "#B0BEC5",
                                "#B0BEC5",
                                "#B0BEC5",
                                "#B0BEC5",
                                "#B0BEC5",
                                "red",
                                "#B0BEC5",
                                "#B0BEC5",
                                "#B0BEC5",
                                "#B0BEC5",
                                "#B0BEC5",
                                "#B0BEC5",
                                "#B0BEC5",
                                "#B0BEC5",
                                "#B0BEC5",
                                "#B0BEC5"
                              ]
                            ]
                          }
                        ],
                        "label": "Topic 59",
                        "method": "update"
                      },
                      {
                        "args": [
                          {
                            "marker.color": [
                              [
                                "#B0BEC5",
                                "#B0BEC5",
                                "#B0BEC5",
                                "#B0BEC5",
                                "#B0BEC5",
                                "#B0BEC5",
                                "#B0BEC5",
                                "#B0BEC5",
                                "#B0BEC5",
                                "#B0BEC5",
                                "#B0BEC5",
                                "#B0BEC5",
                                "#B0BEC5",
                                "#B0BEC5",
                                "#B0BEC5",
                                "#B0BEC5",
                                "#B0BEC5",
                                "#B0BEC5",
                                "#B0BEC5",
                                "#B0BEC5",
                                "#B0BEC5",
                                "#B0BEC5",
                                "#B0BEC5",
                                "#B0BEC5",
                                "#B0BEC5",
                                "#B0BEC5",
                                "#B0BEC5",
                                "#B0BEC5",
                                "#B0BEC5",
                                "#B0BEC5",
                                "#B0BEC5",
                                "#B0BEC5",
                                "#B0BEC5",
                                "#B0BEC5",
                                "#B0BEC5",
                                "#B0BEC5",
                                "#B0BEC5",
                                "#B0BEC5",
                                "#B0BEC5",
                                "#B0BEC5",
                                "#B0BEC5",
                                "#B0BEC5",
                                "#B0BEC5",
                                "#B0BEC5",
                                "#B0BEC5",
                                "#B0BEC5",
                                "#B0BEC5",
                                "#B0BEC5",
                                "#B0BEC5",
                                "#B0BEC5",
                                "#B0BEC5",
                                "#B0BEC5",
                                "#B0BEC5",
                                "#B0BEC5",
                                "#B0BEC5",
                                "#B0BEC5",
                                "#B0BEC5",
                                "#B0BEC5",
                                "#B0BEC5",
                                "#B0BEC5",
                                "red",
                                "#B0BEC5",
                                "#B0BEC5",
                                "#B0BEC5",
                                "#B0BEC5",
                                "#B0BEC5",
                                "#B0BEC5",
                                "#B0BEC5",
                                "#B0BEC5",
                                "#B0BEC5"
                              ]
                            ]
                          }
                        ],
                        "label": "Topic 60",
                        "method": "update"
                      },
                      {
                        "args": [
                          {
                            "marker.color": [
                              [
                                "#B0BEC5",
                                "#B0BEC5",
                                "#B0BEC5",
                                "#B0BEC5",
                                "#B0BEC5",
                                "#B0BEC5",
                                "#B0BEC5",
                                "#B0BEC5",
                                "#B0BEC5",
                                "#B0BEC5",
                                "#B0BEC5",
                                "#B0BEC5",
                                "#B0BEC5",
                                "#B0BEC5",
                                "#B0BEC5",
                                "#B0BEC5",
                                "#B0BEC5",
                                "#B0BEC5",
                                "#B0BEC5",
                                "#B0BEC5",
                                "#B0BEC5",
                                "#B0BEC5",
                                "#B0BEC5",
                                "#B0BEC5",
                                "#B0BEC5",
                                "#B0BEC5",
                                "#B0BEC5",
                                "#B0BEC5",
                                "#B0BEC5",
                                "#B0BEC5",
                                "#B0BEC5",
                                "#B0BEC5",
                                "#B0BEC5",
                                "#B0BEC5",
                                "#B0BEC5",
                                "#B0BEC5",
                                "#B0BEC5",
                                "#B0BEC5",
                                "#B0BEC5",
                                "#B0BEC5",
                                "#B0BEC5",
                                "#B0BEC5",
                                "#B0BEC5",
                                "#B0BEC5",
                                "#B0BEC5",
                                "#B0BEC5",
                                "#B0BEC5",
                                "#B0BEC5",
                                "#B0BEC5",
                                "#B0BEC5",
                                "#B0BEC5",
                                "#B0BEC5",
                                "#B0BEC5",
                                "#B0BEC5",
                                "#B0BEC5",
                                "#B0BEC5",
                                "#B0BEC5",
                                "#B0BEC5",
                                "#B0BEC5",
                                "#B0BEC5",
                                "#B0BEC5",
                                "red",
                                "#B0BEC5",
                                "#B0BEC5",
                                "#B0BEC5",
                                "#B0BEC5",
                                "#B0BEC5",
                                "#B0BEC5",
                                "#B0BEC5",
                                "#B0BEC5"
                              ]
                            ]
                          }
                        ],
                        "label": "Topic 61",
                        "method": "update"
                      },
                      {
                        "args": [
                          {
                            "marker.color": [
                              [
                                "#B0BEC5",
                                "#B0BEC5",
                                "#B0BEC5",
                                "#B0BEC5",
                                "#B0BEC5",
                                "#B0BEC5",
                                "#B0BEC5",
                                "#B0BEC5",
                                "#B0BEC5",
                                "#B0BEC5",
                                "#B0BEC5",
                                "#B0BEC5",
                                "#B0BEC5",
                                "#B0BEC5",
                                "#B0BEC5",
                                "#B0BEC5",
                                "#B0BEC5",
                                "#B0BEC5",
                                "#B0BEC5",
                                "#B0BEC5",
                                "#B0BEC5",
                                "#B0BEC5",
                                "#B0BEC5",
                                "#B0BEC5",
                                "#B0BEC5",
                                "#B0BEC5",
                                "#B0BEC5",
                                "#B0BEC5",
                                "#B0BEC5",
                                "#B0BEC5",
                                "#B0BEC5",
                                "#B0BEC5",
                                "#B0BEC5",
                                "#B0BEC5",
                                "#B0BEC5",
                                "#B0BEC5",
                                "#B0BEC5",
                                "#B0BEC5",
                                "#B0BEC5",
                                "#B0BEC5",
                                "#B0BEC5",
                                "#B0BEC5",
                                "#B0BEC5",
                                "#B0BEC5",
                                "#B0BEC5",
                                "#B0BEC5",
                                "#B0BEC5",
                                "#B0BEC5",
                                "#B0BEC5",
                                "#B0BEC5",
                                "#B0BEC5",
                                "#B0BEC5",
                                "#B0BEC5",
                                "#B0BEC5",
                                "#B0BEC5",
                                "#B0BEC5",
                                "#B0BEC5",
                                "#B0BEC5",
                                "#B0BEC5",
                                "#B0BEC5",
                                "#B0BEC5",
                                "#B0BEC5",
                                "red",
                                "#B0BEC5",
                                "#B0BEC5",
                                "#B0BEC5",
                                "#B0BEC5",
                                "#B0BEC5",
                                "#B0BEC5",
                                "#B0BEC5"
                              ]
                            ]
                          }
                        ],
                        "label": "Topic 62",
                        "method": "update"
                      },
                      {
                        "args": [
                          {
                            "marker.color": [
                              [
                                "#B0BEC5",
                                "#B0BEC5",
                                "#B0BEC5",
                                "#B0BEC5",
                                "#B0BEC5",
                                "#B0BEC5",
                                "#B0BEC5",
                                "#B0BEC5",
                                "#B0BEC5",
                                "#B0BEC5",
                                "#B0BEC5",
                                "#B0BEC5",
                                "#B0BEC5",
                                "#B0BEC5",
                                "#B0BEC5",
                                "#B0BEC5",
                                "#B0BEC5",
                                "#B0BEC5",
                                "#B0BEC5",
                                "#B0BEC5",
                                "#B0BEC5",
                                "#B0BEC5",
                                "#B0BEC5",
                                "#B0BEC5",
                                "#B0BEC5",
                                "#B0BEC5",
                                "#B0BEC5",
                                "#B0BEC5",
                                "#B0BEC5",
                                "#B0BEC5",
                                "#B0BEC5",
                                "#B0BEC5",
                                "#B0BEC5",
                                "#B0BEC5",
                                "#B0BEC5",
                                "#B0BEC5",
                                "#B0BEC5",
                                "#B0BEC5",
                                "#B0BEC5",
                                "#B0BEC5",
                                "#B0BEC5",
                                "#B0BEC5",
                                "#B0BEC5",
                                "#B0BEC5",
                                "#B0BEC5",
                                "#B0BEC5",
                                "#B0BEC5",
                                "#B0BEC5",
                                "#B0BEC5",
                                "#B0BEC5",
                                "#B0BEC5",
                                "#B0BEC5",
                                "#B0BEC5",
                                "#B0BEC5",
                                "#B0BEC5",
                                "#B0BEC5",
                                "#B0BEC5",
                                "#B0BEC5",
                                "#B0BEC5",
                                "#B0BEC5",
                                "#B0BEC5",
                                "#B0BEC5",
                                "#B0BEC5",
                                "red",
                                "#B0BEC5",
                                "#B0BEC5",
                                "#B0BEC5",
                                "#B0BEC5",
                                "#B0BEC5",
                                "#B0BEC5"
                              ]
                            ]
                          }
                        ],
                        "label": "Topic 63",
                        "method": "update"
                      },
                      {
                        "args": [
                          {
                            "marker.color": [
                              [
                                "#B0BEC5",
                                "#B0BEC5",
                                "#B0BEC5",
                                "#B0BEC5",
                                "#B0BEC5",
                                "#B0BEC5",
                                "#B0BEC5",
                                "#B0BEC5",
                                "#B0BEC5",
                                "#B0BEC5",
                                "#B0BEC5",
                                "#B0BEC5",
                                "#B0BEC5",
                                "#B0BEC5",
                                "#B0BEC5",
                                "#B0BEC5",
                                "#B0BEC5",
                                "#B0BEC5",
                                "#B0BEC5",
                                "#B0BEC5",
                                "#B0BEC5",
                                "#B0BEC5",
                                "#B0BEC5",
                                "#B0BEC5",
                                "#B0BEC5",
                                "#B0BEC5",
                                "#B0BEC5",
                                "#B0BEC5",
                                "#B0BEC5",
                                "#B0BEC5",
                                "#B0BEC5",
                                "#B0BEC5",
                                "#B0BEC5",
                                "#B0BEC5",
                                "#B0BEC5",
                                "#B0BEC5",
                                "#B0BEC5",
                                "#B0BEC5",
                                "#B0BEC5",
                                "#B0BEC5",
                                "#B0BEC5",
                                "#B0BEC5",
                                "#B0BEC5",
                                "#B0BEC5",
                                "#B0BEC5",
                                "#B0BEC5",
                                "#B0BEC5",
                                "#B0BEC5",
                                "#B0BEC5",
                                "#B0BEC5",
                                "#B0BEC5",
                                "#B0BEC5",
                                "#B0BEC5",
                                "#B0BEC5",
                                "#B0BEC5",
                                "#B0BEC5",
                                "#B0BEC5",
                                "#B0BEC5",
                                "#B0BEC5",
                                "#B0BEC5",
                                "#B0BEC5",
                                "#B0BEC5",
                                "#B0BEC5",
                                "#B0BEC5",
                                "red",
                                "#B0BEC5",
                                "#B0BEC5",
                                "#B0BEC5",
                                "#B0BEC5",
                                "#B0BEC5"
                              ]
                            ]
                          }
                        ],
                        "label": "Topic 64",
                        "method": "update"
                      },
                      {
                        "args": [
                          {
                            "marker.color": [
                              [
                                "#B0BEC5",
                                "#B0BEC5",
                                "#B0BEC5",
                                "#B0BEC5",
                                "#B0BEC5",
                                "#B0BEC5",
                                "#B0BEC5",
                                "#B0BEC5",
                                "#B0BEC5",
                                "#B0BEC5",
                                "#B0BEC5",
                                "#B0BEC5",
                                "#B0BEC5",
                                "#B0BEC5",
                                "#B0BEC5",
                                "#B0BEC5",
                                "#B0BEC5",
                                "#B0BEC5",
                                "#B0BEC5",
                                "#B0BEC5",
                                "#B0BEC5",
                                "#B0BEC5",
                                "#B0BEC5",
                                "#B0BEC5",
                                "#B0BEC5",
                                "#B0BEC5",
                                "#B0BEC5",
                                "#B0BEC5",
                                "#B0BEC5",
                                "#B0BEC5",
                                "#B0BEC5",
                                "#B0BEC5",
                                "#B0BEC5",
                                "#B0BEC5",
                                "#B0BEC5",
                                "#B0BEC5",
                                "#B0BEC5",
                                "#B0BEC5",
                                "#B0BEC5",
                                "#B0BEC5",
                                "#B0BEC5",
                                "#B0BEC5",
                                "#B0BEC5",
                                "#B0BEC5",
                                "#B0BEC5",
                                "#B0BEC5",
                                "#B0BEC5",
                                "#B0BEC5",
                                "#B0BEC5",
                                "#B0BEC5",
                                "#B0BEC5",
                                "#B0BEC5",
                                "#B0BEC5",
                                "#B0BEC5",
                                "#B0BEC5",
                                "#B0BEC5",
                                "#B0BEC5",
                                "#B0BEC5",
                                "#B0BEC5",
                                "#B0BEC5",
                                "#B0BEC5",
                                "#B0BEC5",
                                "#B0BEC5",
                                "#B0BEC5",
                                "#B0BEC5",
                                "red",
                                "#B0BEC5",
                                "#B0BEC5",
                                "#B0BEC5",
                                "#B0BEC5"
                              ]
                            ]
                          }
                        ],
                        "label": "Topic 65",
                        "method": "update"
                      },
                      {
                        "args": [
                          {
                            "marker.color": [
                              [
                                "#B0BEC5",
                                "#B0BEC5",
                                "#B0BEC5",
                                "#B0BEC5",
                                "#B0BEC5",
                                "#B0BEC5",
                                "#B0BEC5",
                                "#B0BEC5",
                                "#B0BEC5",
                                "#B0BEC5",
                                "#B0BEC5",
                                "#B0BEC5",
                                "#B0BEC5",
                                "#B0BEC5",
                                "#B0BEC5",
                                "#B0BEC5",
                                "#B0BEC5",
                                "#B0BEC5",
                                "#B0BEC5",
                                "#B0BEC5",
                                "#B0BEC5",
                                "#B0BEC5",
                                "#B0BEC5",
                                "#B0BEC5",
                                "#B0BEC5",
                                "#B0BEC5",
                                "#B0BEC5",
                                "#B0BEC5",
                                "#B0BEC5",
                                "#B0BEC5",
                                "#B0BEC5",
                                "#B0BEC5",
                                "#B0BEC5",
                                "#B0BEC5",
                                "#B0BEC5",
                                "#B0BEC5",
                                "#B0BEC5",
                                "#B0BEC5",
                                "#B0BEC5",
                                "#B0BEC5",
                                "#B0BEC5",
                                "#B0BEC5",
                                "#B0BEC5",
                                "#B0BEC5",
                                "#B0BEC5",
                                "#B0BEC5",
                                "#B0BEC5",
                                "#B0BEC5",
                                "#B0BEC5",
                                "#B0BEC5",
                                "#B0BEC5",
                                "#B0BEC5",
                                "#B0BEC5",
                                "#B0BEC5",
                                "#B0BEC5",
                                "#B0BEC5",
                                "#B0BEC5",
                                "#B0BEC5",
                                "#B0BEC5",
                                "#B0BEC5",
                                "#B0BEC5",
                                "#B0BEC5",
                                "#B0BEC5",
                                "#B0BEC5",
                                "#B0BEC5",
                                "#B0BEC5",
                                "red",
                                "#B0BEC5",
                                "#B0BEC5",
                                "#B0BEC5"
                              ]
                            ]
                          }
                        ],
                        "label": "Topic 66",
                        "method": "update"
                      },
                      {
                        "args": [
                          {
                            "marker.color": [
                              [
                                "#B0BEC5",
                                "#B0BEC5",
                                "#B0BEC5",
                                "#B0BEC5",
                                "#B0BEC5",
                                "#B0BEC5",
                                "#B0BEC5",
                                "#B0BEC5",
                                "#B0BEC5",
                                "#B0BEC5",
                                "#B0BEC5",
                                "#B0BEC5",
                                "#B0BEC5",
                                "#B0BEC5",
                                "#B0BEC5",
                                "#B0BEC5",
                                "#B0BEC5",
                                "#B0BEC5",
                                "#B0BEC5",
                                "#B0BEC5",
                                "#B0BEC5",
                                "#B0BEC5",
                                "#B0BEC5",
                                "#B0BEC5",
                                "#B0BEC5",
                                "#B0BEC5",
                                "#B0BEC5",
                                "#B0BEC5",
                                "#B0BEC5",
                                "#B0BEC5",
                                "#B0BEC5",
                                "#B0BEC5",
                                "#B0BEC5",
                                "#B0BEC5",
                                "#B0BEC5",
                                "#B0BEC5",
                                "#B0BEC5",
                                "#B0BEC5",
                                "#B0BEC5",
                                "#B0BEC5",
                                "#B0BEC5",
                                "#B0BEC5",
                                "#B0BEC5",
                                "#B0BEC5",
                                "#B0BEC5",
                                "#B0BEC5",
                                "#B0BEC5",
                                "#B0BEC5",
                                "#B0BEC5",
                                "#B0BEC5",
                                "#B0BEC5",
                                "#B0BEC5",
                                "#B0BEC5",
                                "#B0BEC5",
                                "#B0BEC5",
                                "#B0BEC5",
                                "#B0BEC5",
                                "#B0BEC5",
                                "#B0BEC5",
                                "#B0BEC5",
                                "#B0BEC5",
                                "#B0BEC5",
                                "#B0BEC5",
                                "#B0BEC5",
                                "#B0BEC5",
                                "#B0BEC5",
                                "#B0BEC5",
                                "red",
                                "#B0BEC5",
                                "#B0BEC5"
                              ]
                            ]
                          }
                        ],
                        "label": "Topic 67",
                        "method": "update"
                      },
                      {
                        "args": [
                          {
                            "marker.color": [
                              [
                                "#B0BEC5",
                                "#B0BEC5",
                                "#B0BEC5",
                                "#B0BEC5",
                                "#B0BEC5",
                                "#B0BEC5",
                                "#B0BEC5",
                                "#B0BEC5",
                                "#B0BEC5",
                                "#B0BEC5",
                                "#B0BEC5",
                                "#B0BEC5",
                                "#B0BEC5",
                                "#B0BEC5",
                                "#B0BEC5",
                                "#B0BEC5",
                                "#B0BEC5",
                                "#B0BEC5",
                                "#B0BEC5",
                                "#B0BEC5",
                                "#B0BEC5",
                                "#B0BEC5",
                                "#B0BEC5",
                                "#B0BEC5",
                                "#B0BEC5",
                                "#B0BEC5",
                                "#B0BEC5",
                                "#B0BEC5",
                                "#B0BEC5",
                                "#B0BEC5",
                                "#B0BEC5",
                                "#B0BEC5",
                                "#B0BEC5",
                                "#B0BEC5",
                                "#B0BEC5",
                                "#B0BEC5",
                                "#B0BEC5",
                                "#B0BEC5",
                                "#B0BEC5",
                                "#B0BEC5",
                                "#B0BEC5",
                                "#B0BEC5",
                                "#B0BEC5",
                                "#B0BEC5",
                                "#B0BEC5",
                                "#B0BEC5",
                                "#B0BEC5",
                                "#B0BEC5",
                                "#B0BEC5",
                                "#B0BEC5",
                                "#B0BEC5",
                                "#B0BEC5",
                                "#B0BEC5",
                                "#B0BEC5",
                                "#B0BEC5",
                                "#B0BEC5",
                                "#B0BEC5",
                                "#B0BEC5",
                                "#B0BEC5",
                                "#B0BEC5",
                                "#B0BEC5",
                                "#B0BEC5",
                                "#B0BEC5",
                                "#B0BEC5",
                                "#B0BEC5",
                                "#B0BEC5",
                                "#B0BEC5",
                                "#B0BEC5",
                                "red",
                                "#B0BEC5"
                              ]
                            ]
                          }
                        ],
                        "label": "Topic 68",
                        "method": "update"
                      },
                      {
                        "args": [
                          {
                            "marker.color": [
                              [
                                "#B0BEC5",
                                "#B0BEC5",
                                "#B0BEC5",
                                "#B0BEC5",
                                "#B0BEC5",
                                "#B0BEC5",
                                "#B0BEC5",
                                "#B0BEC5",
                                "#B0BEC5",
                                "#B0BEC5",
                                "#B0BEC5",
                                "#B0BEC5",
                                "#B0BEC5",
                                "#B0BEC5",
                                "#B0BEC5",
                                "#B0BEC5",
                                "#B0BEC5",
                                "#B0BEC5",
                                "#B0BEC5",
                                "#B0BEC5",
                                "#B0BEC5",
                                "#B0BEC5",
                                "#B0BEC5",
                                "#B0BEC5",
                                "#B0BEC5",
                                "#B0BEC5",
                                "#B0BEC5",
                                "#B0BEC5",
                                "#B0BEC5",
                                "#B0BEC5",
                                "#B0BEC5",
                                "#B0BEC5",
                                "#B0BEC5",
                                "#B0BEC5",
                                "#B0BEC5",
                                "#B0BEC5",
                                "#B0BEC5",
                                "#B0BEC5",
                                "#B0BEC5",
                                "#B0BEC5",
                                "#B0BEC5",
                                "#B0BEC5",
                                "#B0BEC5",
                                "#B0BEC5",
                                "#B0BEC5",
                                "#B0BEC5",
                                "#B0BEC5",
                                "#B0BEC5",
                                "#B0BEC5",
                                "#B0BEC5",
                                "#B0BEC5",
                                "#B0BEC5",
                                "#B0BEC5",
                                "#B0BEC5",
                                "#B0BEC5",
                                "#B0BEC5",
                                "#B0BEC5",
                                "#B0BEC5",
                                "#B0BEC5",
                                "#B0BEC5",
                                "#B0BEC5",
                                "#B0BEC5",
                                "#B0BEC5",
                                "#B0BEC5",
                                "#B0BEC5",
                                "#B0BEC5",
                                "#B0BEC5",
                                "#B0BEC5",
                                "#B0BEC5",
                                "red"
                              ]
                            ]
                          }
                        ],
                        "label": "Topic 69",
                        "method": "update"
                      }
                    ]
                  }
                ],
                "template": {
                  "data": {
                    "bar": [
                      {
                        "error_x": {
                          "color": "rgb(36,36,36)"
                        },
                        "error_y": {
                          "color": "rgb(36,36,36)"
                        },
                        "marker": {
                          "line": {
                            "color": "white",
                            "width": 0.5
                          },
                          "pattern": {
                            "fillmode": "overlay",
                            "size": 10,
                            "solidity": 0.2
                          }
                        },
                        "type": "bar"
                      }
                    ],
                    "barpolar": [
                      {
                        "marker": {
                          "line": {
                            "color": "white",
                            "width": 0.5
                          },
                          "pattern": {
                            "fillmode": "overlay",
                            "size": 10,
                            "solidity": 0.2
                          }
                        },
                        "type": "barpolar"
                      }
                    ],
                    "carpet": [
                      {
                        "aaxis": {
                          "endlinecolor": "rgb(36,36,36)",
                          "gridcolor": "white",
                          "linecolor": "white",
                          "minorgridcolor": "white",
                          "startlinecolor": "rgb(36,36,36)"
                        },
                        "baxis": {
                          "endlinecolor": "rgb(36,36,36)",
                          "gridcolor": "white",
                          "linecolor": "white",
                          "minorgridcolor": "white",
                          "startlinecolor": "rgb(36,36,36)"
                        },
                        "type": "carpet"
                      }
                    ],
                    "choropleth": [
                      {
                        "colorbar": {
                          "outlinewidth": 1,
                          "tickcolor": "rgb(36,36,36)",
                          "ticks": "outside"
                        },
                        "type": "choropleth"
                      }
                    ],
                    "contour": [
                      {
                        "colorbar": {
                          "outlinewidth": 1,
                          "tickcolor": "rgb(36,36,36)",
                          "ticks": "outside"
                        },
                        "colorscale": [
                          [
                            0,
                            "#440154"
                          ],
                          [
                            0.1111111111111111,
                            "#482878"
                          ],
                          [
                            0.2222222222222222,
                            "#3e4989"
                          ],
                          [
                            0.3333333333333333,
                            "#31688e"
                          ],
                          [
                            0.4444444444444444,
                            "#26828e"
                          ],
                          [
                            0.5555555555555556,
                            "#1f9e89"
                          ],
                          [
                            0.6666666666666666,
                            "#35b779"
                          ],
                          [
                            0.7777777777777778,
                            "#6ece58"
                          ],
                          [
                            0.8888888888888888,
                            "#b5de2b"
                          ],
                          [
                            1,
                            "#fde725"
                          ]
                        ],
                        "type": "contour"
                      }
                    ],
                    "contourcarpet": [
                      {
                        "colorbar": {
                          "outlinewidth": 1,
                          "tickcolor": "rgb(36,36,36)",
                          "ticks": "outside"
                        },
                        "type": "contourcarpet"
                      }
                    ],
                    "heatmap": [
                      {
                        "colorbar": {
                          "outlinewidth": 1,
                          "tickcolor": "rgb(36,36,36)",
                          "ticks": "outside"
                        },
                        "colorscale": [
                          [
                            0,
                            "#440154"
                          ],
                          [
                            0.1111111111111111,
                            "#482878"
                          ],
                          [
                            0.2222222222222222,
                            "#3e4989"
                          ],
                          [
                            0.3333333333333333,
                            "#31688e"
                          ],
                          [
                            0.4444444444444444,
                            "#26828e"
                          ],
                          [
                            0.5555555555555556,
                            "#1f9e89"
                          ],
                          [
                            0.6666666666666666,
                            "#35b779"
                          ],
                          [
                            0.7777777777777778,
                            "#6ece58"
                          ],
                          [
                            0.8888888888888888,
                            "#b5de2b"
                          ],
                          [
                            1,
                            "#fde725"
                          ]
                        ],
                        "type": "heatmap"
                      }
                    ],
                    "histogram": [
                      {
                        "marker": {
                          "line": {
                            "color": "white",
                            "width": 0.6
                          }
                        },
                        "type": "histogram"
                      }
                    ],
                    "histogram2d": [
                      {
                        "colorbar": {
                          "outlinewidth": 1,
                          "tickcolor": "rgb(36,36,36)",
                          "ticks": "outside"
                        },
                        "colorscale": [
                          [
                            0,
                            "#440154"
                          ],
                          [
                            0.1111111111111111,
                            "#482878"
                          ],
                          [
                            0.2222222222222222,
                            "#3e4989"
                          ],
                          [
                            0.3333333333333333,
                            "#31688e"
                          ],
                          [
                            0.4444444444444444,
                            "#26828e"
                          ],
                          [
                            0.5555555555555556,
                            "#1f9e89"
                          ],
                          [
                            0.6666666666666666,
                            "#35b779"
                          ],
                          [
                            0.7777777777777778,
                            "#6ece58"
                          ],
                          [
                            0.8888888888888888,
                            "#b5de2b"
                          ],
                          [
                            1,
                            "#fde725"
                          ]
                        ],
                        "type": "histogram2d"
                      }
                    ],
                    "histogram2dcontour": [
                      {
                        "colorbar": {
                          "outlinewidth": 1,
                          "tickcolor": "rgb(36,36,36)",
                          "ticks": "outside"
                        },
                        "colorscale": [
                          [
                            0,
                            "#440154"
                          ],
                          [
                            0.1111111111111111,
                            "#482878"
                          ],
                          [
                            0.2222222222222222,
                            "#3e4989"
                          ],
                          [
                            0.3333333333333333,
                            "#31688e"
                          ],
                          [
                            0.4444444444444444,
                            "#26828e"
                          ],
                          [
                            0.5555555555555556,
                            "#1f9e89"
                          ],
                          [
                            0.6666666666666666,
                            "#35b779"
                          ],
                          [
                            0.7777777777777778,
                            "#6ece58"
                          ],
                          [
                            0.8888888888888888,
                            "#b5de2b"
                          ],
                          [
                            1,
                            "#fde725"
                          ]
                        ],
                        "type": "histogram2dcontour"
                      }
                    ],
                    "mesh3d": [
                      {
                        "colorbar": {
                          "outlinewidth": 1,
                          "tickcolor": "rgb(36,36,36)",
                          "ticks": "outside"
                        },
                        "type": "mesh3d"
                      }
                    ],
                    "parcoords": [
                      {
                        "line": {
                          "colorbar": {
                            "outlinewidth": 1,
                            "tickcolor": "rgb(36,36,36)",
                            "ticks": "outside"
                          }
                        },
                        "type": "parcoords"
                      }
                    ],
                    "pie": [
                      {
                        "automargin": true,
                        "type": "pie"
                      }
                    ],
                    "scatter": [
                      {
                        "fillpattern": {
                          "fillmode": "overlay",
                          "size": 10,
                          "solidity": 0.2
                        },
                        "type": "scatter"
                      }
                    ],
                    "scatter3d": [
                      {
                        "line": {
                          "colorbar": {
                            "outlinewidth": 1,
                            "tickcolor": "rgb(36,36,36)",
                            "ticks": "outside"
                          }
                        },
                        "marker": {
                          "colorbar": {
                            "outlinewidth": 1,
                            "tickcolor": "rgb(36,36,36)",
                            "ticks": "outside"
                          }
                        },
                        "type": "scatter3d"
                      }
                    ],
                    "scattercarpet": [
                      {
                        "marker": {
                          "colorbar": {
                            "outlinewidth": 1,
                            "tickcolor": "rgb(36,36,36)",
                            "ticks": "outside"
                          }
                        },
                        "type": "scattercarpet"
                      }
                    ],
                    "scattergeo": [
                      {
                        "marker": {
                          "colorbar": {
                            "outlinewidth": 1,
                            "tickcolor": "rgb(36,36,36)",
                            "ticks": "outside"
                          }
                        },
                        "type": "scattergeo"
                      }
                    ],
                    "scattergl": [
                      {
                        "marker": {
                          "colorbar": {
                            "outlinewidth": 1,
                            "tickcolor": "rgb(36,36,36)",
                            "ticks": "outside"
                          }
                        },
                        "type": "scattergl"
                      }
                    ],
                    "scattermap": [
                      {
                        "marker": {
                          "colorbar": {
                            "outlinewidth": 1,
                            "tickcolor": "rgb(36,36,36)",
                            "ticks": "outside"
                          }
                        },
                        "type": "scattermap"
                      }
                    ],
                    "scattermapbox": [
                      {
                        "marker": {
                          "colorbar": {
                            "outlinewidth": 1,
                            "tickcolor": "rgb(36,36,36)",
                            "ticks": "outside"
                          }
                        },
                        "type": "scattermapbox"
                      }
                    ],
                    "scatterpolar": [
                      {
                        "marker": {
                          "colorbar": {
                            "outlinewidth": 1,
                            "tickcolor": "rgb(36,36,36)",
                            "ticks": "outside"
                          }
                        },
                        "type": "scatterpolar"
                      }
                    ],
                    "scatterpolargl": [
                      {
                        "marker": {
                          "colorbar": {
                            "outlinewidth": 1,
                            "tickcolor": "rgb(36,36,36)",
                            "ticks": "outside"
                          }
                        },
                        "type": "scatterpolargl"
                      }
                    ],
                    "scatterternary": [
                      {
                        "marker": {
                          "colorbar": {
                            "outlinewidth": 1,
                            "tickcolor": "rgb(36,36,36)",
                            "ticks": "outside"
                          }
                        },
                        "type": "scatterternary"
                      }
                    ],
                    "surface": [
                      {
                        "colorbar": {
                          "outlinewidth": 1,
                          "tickcolor": "rgb(36,36,36)",
                          "ticks": "outside"
                        },
                        "colorscale": [
                          [
                            0,
                            "#440154"
                          ],
                          [
                            0.1111111111111111,
                            "#482878"
                          ],
                          [
                            0.2222222222222222,
                            "#3e4989"
                          ],
                          [
                            0.3333333333333333,
                            "#31688e"
                          ],
                          [
                            0.4444444444444444,
                            "#26828e"
                          ],
                          [
                            0.5555555555555556,
                            "#1f9e89"
                          ],
                          [
                            0.6666666666666666,
                            "#35b779"
                          ],
                          [
                            0.7777777777777778,
                            "#6ece58"
                          ],
                          [
                            0.8888888888888888,
                            "#b5de2b"
                          ],
                          [
                            1,
                            "#fde725"
                          ]
                        ],
                        "type": "surface"
                      }
                    ],
                    "table": [
                      {
                        "cells": {
                          "fill": {
                            "color": "rgb(237,237,237)"
                          },
                          "line": {
                            "color": "white"
                          }
                        },
                        "header": {
                          "fill": {
                            "color": "rgb(217,217,217)"
                          },
                          "line": {
                            "color": "white"
                          }
                        },
                        "type": "table"
                      }
                    ]
                  },
                  "layout": {
                    "annotationdefaults": {
                      "arrowhead": 0,
                      "arrowwidth": 1
                    },
                    "autotypenumbers": "strict",
                    "coloraxis": {
                      "colorbar": {
                        "outlinewidth": 1,
                        "tickcolor": "rgb(36,36,36)",
                        "ticks": "outside"
                      }
                    },
                    "colorscale": {
                      "diverging": [
                        [
                          0,
                          "rgb(103,0,31)"
                        ],
                        [
                          0.1,
                          "rgb(178,24,43)"
                        ],
                        [
                          0.2,
                          "rgb(214,96,77)"
                        ],
                        [
                          0.3,
                          "rgb(244,165,130)"
                        ],
                        [
                          0.4,
                          "rgb(253,219,199)"
                        ],
                        [
                          0.5,
                          "rgb(247,247,247)"
                        ],
                        [
                          0.6,
                          "rgb(209,229,240)"
                        ],
                        [
                          0.7,
                          "rgb(146,197,222)"
                        ],
                        [
                          0.8,
                          "rgb(67,147,195)"
                        ],
                        [
                          0.9,
                          "rgb(33,102,172)"
                        ],
                        [
                          1,
                          "rgb(5,48,97)"
                        ]
                      ],
                      "sequential": [
                        [
                          0,
                          "#440154"
                        ],
                        [
                          0.1111111111111111,
                          "#482878"
                        ],
                        [
                          0.2222222222222222,
                          "#3e4989"
                        ],
                        [
                          0.3333333333333333,
                          "#31688e"
                        ],
                        [
                          0.4444444444444444,
                          "#26828e"
                        ],
                        [
                          0.5555555555555556,
                          "#1f9e89"
                        ],
                        [
                          0.6666666666666666,
                          "#35b779"
                        ],
                        [
                          0.7777777777777778,
                          "#6ece58"
                        ],
                        [
                          0.8888888888888888,
                          "#b5de2b"
                        ],
                        [
                          1,
                          "#fde725"
                        ]
                      ],
                      "sequentialminus": [
                        [
                          0,
                          "#440154"
                        ],
                        [
                          0.1111111111111111,
                          "#482878"
                        ],
                        [
                          0.2222222222222222,
                          "#3e4989"
                        ],
                        [
                          0.3333333333333333,
                          "#31688e"
                        ],
                        [
                          0.4444444444444444,
                          "#26828e"
                        ],
                        [
                          0.5555555555555556,
                          "#1f9e89"
                        ],
                        [
                          0.6666666666666666,
                          "#35b779"
                        ],
                        [
                          0.7777777777777778,
                          "#6ece58"
                        ],
                        [
                          0.8888888888888888,
                          "#b5de2b"
                        ],
                        [
                          1,
                          "#fde725"
                        ]
                      ]
                    },
                    "colorway": [
                      "#1F77B4",
                      "#FF7F0E",
                      "#2CA02C",
                      "#D62728",
                      "#9467BD",
                      "#8C564B",
                      "#E377C2",
                      "#7F7F7F",
                      "#BCBD22",
                      "#17BECF"
                    ],
                    "font": {
                      "color": "rgb(36,36,36)"
                    },
                    "geo": {
                      "bgcolor": "white",
                      "lakecolor": "white",
                      "landcolor": "white",
                      "showlakes": true,
                      "showland": true,
                      "subunitcolor": "white"
                    },
                    "hoverlabel": {
                      "align": "left"
                    },
                    "hovermode": "closest",
                    "mapbox": {
                      "style": "light"
                    },
                    "paper_bgcolor": "white",
                    "plot_bgcolor": "white",
                    "polar": {
                      "angularaxis": {
                        "gridcolor": "rgb(232,232,232)",
                        "linecolor": "rgb(36,36,36)",
                        "showgrid": false,
                        "showline": true,
                        "ticks": "outside"
                      },
                      "bgcolor": "white",
                      "radialaxis": {
                        "gridcolor": "rgb(232,232,232)",
                        "linecolor": "rgb(36,36,36)",
                        "showgrid": false,
                        "showline": true,
                        "ticks": "outside"
                      }
                    },
                    "scene": {
                      "xaxis": {
                        "backgroundcolor": "white",
                        "gridcolor": "rgb(232,232,232)",
                        "gridwidth": 2,
                        "linecolor": "rgb(36,36,36)",
                        "showbackground": true,
                        "showgrid": false,
                        "showline": true,
                        "ticks": "outside",
                        "zeroline": false,
                        "zerolinecolor": "rgb(36,36,36)"
                      },
                      "yaxis": {
                        "backgroundcolor": "white",
                        "gridcolor": "rgb(232,232,232)",
                        "gridwidth": 2,
                        "linecolor": "rgb(36,36,36)",
                        "showbackground": true,
                        "showgrid": false,
                        "showline": true,
                        "ticks": "outside",
                        "zeroline": false,
                        "zerolinecolor": "rgb(36,36,36)"
                      },
                      "zaxis": {
                        "backgroundcolor": "white",
                        "gridcolor": "rgb(232,232,232)",
                        "gridwidth": 2,
                        "linecolor": "rgb(36,36,36)",
                        "showbackground": true,
                        "showgrid": false,
                        "showline": true,
                        "ticks": "outside",
                        "zeroline": false,
                        "zerolinecolor": "rgb(36,36,36)"
                      }
                    },
                    "shapedefaults": {
                      "fillcolor": "black",
                      "line": {
                        "width": 0
                      },
                      "opacity": 0.3
                    },
                    "ternary": {
                      "aaxis": {
                        "gridcolor": "rgb(232,232,232)",
                        "linecolor": "rgb(36,36,36)",
                        "showgrid": false,
                        "showline": true,
                        "ticks": "outside"
                      },
                      "baxis": {
                        "gridcolor": "rgb(232,232,232)",
                        "linecolor": "rgb(36,36,36)",
                        "showgrid": false,
                        "showline": true,
                        "ticks": "outside"
                      },
                      "bgcolor": "white",
                      "caxis": {
                        "gridcolor": "rgb(232,232,232)",
                        "linecolor": "rgb(36,36,36)",
                        "showgrid": false,
                        "showline": true,
                        "ticks": "outside"
                      }
                    },
                    "title": {
                      "x": 0.05
                    },
                    "xaxis": {
                      "automargin": true,
                      "gridcolor": "rgb(232,232,232)",
                      "linecolor": "rgb(36,36,36)",
                      "showgrid": false,
                      "showline": true,
                      "ticks": "outside",
                      "title": {
                        "standoff": 15
                      },
                      "zeroline": false,
                      "zerolinecolor": "rgb(36,36,36)"
                    },
                    "yaxis": {
                      "automargin": true,
                      "gridcolor": "rgb(232,232,232)",
                      "linecolor": "rgb(36,36,36)",
                      "showgrid": false,
                      "showline": true,
                      "ticks": "outside",
                      "title": {
                        "standoff": 15
                      },
                      "zeroline": false,
                      "zerolinecolor": "rgb(36,36,36)"
                    }
                  }
                },
                "title": {
                  "font": {
                    "color": "Black",
                    "size": 22
                  },
                  "text": "<b>Intertopic Distance Map</b>",
                  "x": 0.5,
                  "xanchor": "center",
                  "y": 0.95,
                  "yanchor": "top"
                },
                "width": 650,
                "xaxis": {
                  "anchor": "y",
                  "domain": [
                    0,
                    1
                  ],
                  "range": [
                    -14.254145622253418,
                    18.544212341308594
                  ],
                  "title": {
                    "text": ""
                  },
                  "visible": false
                },
                "yaxis": {
                  "anchor": "x",
                  "domain": [
                    0,
                    1
                  ],
                  "range": [
                    -10.261059761047363,
                    14.979283332824707
                  ],
                  "title": {
                    "text": ""
                  },
                  "visible": false
                }
              }
            }
          },
          "metadata": {},
          "output_type": "display_data"
        },
        {
          "name": "stdout",
          "output_type": "stream",
          "text": [
            "Mapa de tópicos guardado en: ../../figures/complete_analysis/topic_model_topics_map.png\n",
            "\n",
            "Creando gráfico de distribución de tópicos...\n",
            "Error al crear gráfico de barras: BERTopic.visualize_barchart() got an unexpected keyword argument 'top_k_topics'\n",
            "\n",
            "Creando jerarquía de tópicos...\n"
          ]
        },
        {
          "name": "stderr",
          "output_type": "stream",
          "text": [
            "100%|██████████| 69/69 [00:00<00:00, 512.67it/s]\n"
          ]
        },
        {
          "data": {
            "application/vnd.plotly.v1+json": {
              "config": {
                "plotlyServerURL": "https://plot.ly"
              },
              "data": [
                {
                  "hoverinfo": "text",
                  "marker": {
                    "color": "rgb(61,153,112)"
                  },
                  "mode": "lines",
                  "text": [
                    "closed_hours_sign_closing_close",
                    "",
                    "",
                    "yelp_yelp reviews_review_rating_star"
                  ],
                  "type": "scatter",
                  "x": {
                    "bdata": "AAAAAAAAAACq+xt3ambpP6r7G3dqZuk/AAAAAAAAAAA=",
                    "dtype": "f8"
                  },
                  "xaxis": "x",
                  "y": {
                    "bdata": "AAAAAAAALsAAAAAAAAAuwAAAAAAAADnAAAAAAAAAOcA=",
                    "dtype": "f8"
                  },
                  "yaxis": "y"
                },
                {
                  "hoverinfo": "text",
                  "marker": {
                    "color": "rgb(61,153,112)"
                  },
                  "mode": "lines",
                  "text": [
                    "minutes_asked_manager_told_rude",
                    "",
                    "",
                    "star_zero_place stars_zero stars_reason"
                  ],
                  "type": "scatter",
                  "x": {
                    "bdata": "AAAAAAAAAADqGzMFt4jZP+obMwW3iNk/AAAAAAAAAAA=",
                    "dtype": "f8"
                  },
                  "xaxis": "x",
                  "y": {
                    "bdata": "AAAAAACARsAAAAAAAIBGwAAAAAAAgEvAAAAAAACAS8A=",
                    "dtype": "f8"
                  },
                  "yaxis": "y"
                },
                {
                  "hoverinfo": "text",
                  "marker": {
                    "color": "rgb(61,153,112)"
                  },
                  "mode": "lines",
                  "text": [
                    "mcdonald_wendy_mcdonalds_worst_drive",
                    "",
                    "",
                    "minutes_asked_manager_told_rude"
                  ],
                  "type": "scatter",
                  "x": {
                    "bdata": "AAAAAAAAAAARrMRRbYXmPxGsxFFtheY/6hszBbeI2T8=",
                    "dtype": "f8"
                  },
                  "xaxis": "x",
                  "y": {
                    "bdata": "AAAAAACAQcAAAAAAAIBBwAAAAAAAAEnAAAAAAAAAScA=",
                    "dtype": "f8"
                  },
                  "yaxis": "y"
                },
                {
                  "hoverinfo": "text",
                  "marker": {
                    "color": "rgb(61,153,112)"
                  },
                  "mode": "lines",
                  "text": [
                    "minutes_asked_manager_told_rude",
                    "",
                    "",
                    "room_hotel_rooms_desk_stay"
                  ],
                  "type": "scatter",
                  "x": {
                    "bdata": "EazEUW2F5j9l2R3VZJTqP2XZHdVklOo/AAAAAAAAAAA=",
                    "dtype": "f8"
                  },
                  "xaxis": "x",
                  "y": {
                    "bdata": "AAAAAABARcAAAAAAAEBFwAAAAAAAQFDAAAAAAABAUMA=",
                    "dtype": "f8"
                  },
                  "yaxis": "y"
                },
                {
                  "hoverinfo": "text",
                  "marker": {
                    "color": "rgb(61,153,112)"
                  },
                  "mode": "lines",
                  "text": [
                    "closed_yelp_hours_sign_says",
                    "",
                    "",
                    "minutes_asked_manager_told_rude"
                  ],
                  "type": "scatter",
                  "x": {
                    "bdata": "qvsbd2pm6T+FUcd5QqPrP4VRx3lCo+s/Zdkd1WSU6j8=",
                    "dtype": "f8"
                  },
                  "xaxis": "x",
                  "y": {
                    "bdata": "AAAAAAAANMAAAAAAAAA0wAAAAAAA4ErAAAAAAADgSsA=",
                    "dtype": "f8"
                  },
                  "yaxis": "y"
                },
                {
                  "hoverinfo": "text",
                  "marker": {
                    "color": "rgb(61,153,112)"
                  },
                  "mode": "lines",
                  "text": [
                    "mask_masks_wearing_covid_wear",
                    "",
                    "",
                    "minutes_asked_manager_told_rude"
                  ],
                  "type": "scatter",
                  "x": {
                    "bdata": "AAAAAAAAAAAGlJKUGabtPwaUkpQZpu0/hVHHeUKj6z8=",
                    "dtype": "f8"
                  },
                  "xaxis": "x",
                  "y": {
                    "bdata": "AAAAAAAAFMAAAAAAAAAUwAAAAAAAcELAAAAAAABwQsA=",
                    "dtype": "f8"
                  },
                  "yaxis": "y"
                },
                {
                  "hoverinfo": "text",
                  "marker": {
                    "color": "rgb(255,65,54)"
                  },
                  "mode": "lines",
                  "text": [
                    "pizza_delivery_called_pizzas_told",
                    "",
                    "",
                    "pizza_crust_pizzas_best pizza_pepperoni"
                  ],
                  "type": "scatter",
                  "x": {
                    "bdata": "AAAAAAAAAABo96tdWSHSP2j3q11ZIdI/AAAAAAAAAAA=",
                    "dtype": "f8"
                  },
                  "xaxis": "x",
                  "y": {
                    "bdata": "AAAAAADAUsAAAAAAAMBSwAAAAAAAQFXAAAAAAABAVcA=",
                    "dtype": "f8"
                  },
                  "yaxis": "y"
                },
                {
                  "hoverinfo": "text",
                  "marker": {
                    "color": "rgb(0,116,217)"
                  },
                  "mode": "lines",
                  "text": [
                    "minutes_asked_manager_told_rude",
                    "",
                    "",
                    "pizza_crust_pizzas_pepperoni_delivery"
                  ],
                  "type": "scatter",
                  "x": {
                    "bdata": "BpSSlBmm7T/vvK37smvwP++8rfuya/A/aPerXVkh0j8=",
                    "dtype": "f8"
                  },
                  "xaxis": "x",
                  "y": {
                    "bdata": "AAAAAADwNMAAAAAAAPA0wAAAAAAAAFTAAAAAAAAAVMA=",
                    "dtype": "f8"
                  },
                  "yaxis": "y"
                },
                {
                  "hoverinfo": "text",
                  "marker": {
                    "color": "rgb(35,205,205)"
                  },
                  "mode": "lines",
                  "text": [
                    "chinese_chinese food_rice_noodles_dumplings",
                    "",
                    "",
                    "soup_broth_pot_spicy_hot pot"
                  ],
                  "type": "scatter",
                  "x": {
                    "bdata": "AAAAAAAAAACWuBL4/5LiP5a4Evj/kuI/AAAAAAAAAAA=",
                    "dtype": "f8"
                  },
                  "xaxis": "x",
                  "y": {
                    "bdata": "AAAAAADAXMAAAAAAAMBcwAAAAAAAQF/AAAAAAABAX8A=",
                    "dtype": "f8"
                  },
                  "yaxis": "y"
                },
                {
                  "hoverinfo": "text",
                  "marker": {
                    "color": "rgb(35,205,205)"
                  },
                  "mode": "lines",
                  "text": [
                    "thai_pad_pad thai_thai food_curry",
                    "",
                    "",
                    "chinese_chinese food_soup_rice_noodles"
                  ],
                  "type": "scatter",
                  "x": {
                    "bdata": "AAAAAAAAAAAhbvA+6hHpPyFu8D7qEek/lrgS+P+S4j8=",
                    "dtype": "f8"
                  },
                  "xaxis": "x",
                  "y": {
                    "bdata": "AAAAAABAWsAAAAAAAEBawAAAAAAAAF7AAAAAAAAAXsA=",
                    "dtype": "f8"
                  },
                  "yaxis": "y"
                },
                {
                  "hoverinfo": "text",
                  "marker": {
                    "color": "rgb(35,205,205)"
                  },
                  "mode": "lines",
                  "text": [
                    "thai_chinese_soup_pad_rice",
                    "",
                    "",
                    "sushi_roll_rolls_best sushi_hibachi"
                  ],
                  "type": "scatter",
                  "x": {
                    "bdata": "IW7wPuoR6T9uqMRAu3XqP26oxEC7deo/AAAAAAAAAAA=",
                    "dtype": "f8"
                  },
                  "xaxis": "x",
                  "y": {
                    "bdata": "AAAAAAAgXMAAAAAAACBcwAAAAAAA4GDAAAAAAADgYMA=",
                    "dtype": "f8"
                  },
                  "yaxis": "y"
                },
                {
                  "hoverinfo": "text",
                  "marker": {
                    "color": "rgb(35,205,205)"
                  },
                  "mode": "lines",
                  "text": [
                    "ramen_broth_noodles_spicy_pork",
                    "",
                    "",
                    "sushi_thai_chinese_rolls_roll"
                  ],
                  "type": "scatter",
                  "x": {
                    "bdata": "AAAAAAAAAACL/HigzivsP4v8eKDOK+w/bqjEQLt16j8=",
                    "dtype": "f8"
                  },
                  "xaxis": "x",
                  "y": {
                    "bdata": "AAAAAADAV8AAAAAAAMBXwAAAAAAA8F7AAAAAAADwXsA=",
                    "dtype": "f8"
                  },
                  "yaxis": "y"
                },
                {
                  "hoverinfo": "text",
                  "marker": {
                    "color": "rgb(133,20,75)"
                  },
                  "mode": "lines",
                  "text": [
                    "vietnamese_vietnamese food_pho_mi_banh",
                    "",
                    "",
                    "pho_broth_vietnamese_rolls_bowl"
                  ],
                  "type": "scatter",
                  "x": {
                    "bdata": "AAAAAAAAAAC0jat9HvbiP7SNq30e9uI/AAAAAAAAAAA=",
                    "dtype": "f8"
                  },
                  "xaxis": "x",
                  "y": {
                    "bdata": "AAAAAAAgYsAAAAAAACBiwAAAAAAAYGPAAAAAAABgY8A=",
                    "dtype": "f8"
                  },
                  "yaxis": "y"
                },
                {
                  "hoverinfo": "text",
                  "marker": {
                    "color": "rgb(0,116,217)"
                  },
                  "mode": "lines",
                  "text": [
                    "sushi_thai_chinese_rolls_roll",
                    "",
                    "",
                    "pho_vietnamese_broth_vietnamese food_rolls"
                  ],
                  "type": "scatter",
                  "x": {
                    "bdata": "i/x4oM4r7D/Sh4Xt84rwP9KHhe3zivA/tI2rfR724j8=",
                    "dtype": "f8"
                  },
                  "xaxis": "x",
                  "y": {
                    "bdata": "AAAAAABYW8AAAAAAAFhbwAAAAAAAwGLAAAAAAADAYsA=",
                    "dtype": "f8"
                  },
                  "yaxis": "y"
                },
                {
                  "hoverinfo": "text",
                  "marker": {
                    "color": "rgb(255,220,0)"
                  },
                  "mode": "lines",
                  "text": [
                    "tea_boba_bubble_teas_milk",
                    "",
                    "",
                    "smoothie_juice_smoothies_mango_healthy"
                  ],
                  "type": "scatter",
                  "x": {
                    "bdata": "AAAAAAAAAAC+C2PTSlbpP74LY9NKVuk/AAAAAAAAAAA=",
                    "dtype": "f8"
                  },
                  "xaxis": "x",
                  "y": {
                    "bdata": "AAAAAACgZMAAAAAAAKBkwAAAAAAA4GXAAAAAAADgZcA=",
                    "dtype": "f8"
                  },
                  "yaxis": "y"
                },
                {
                  "hoverinfo": "text",
                  "marker": {
                    "color": "rgb(40,35,35)"
                  },
                  "mode": "lines",
                  "text": [
                    "ice_ice cream_cream_gelato_flavors",
                    "",
                    "",
                    "cake_cookies_bakery_chocolate_cupcakes"
                  ],
                  "type": "scatter",
                  "x": {
                    "bdata": "AAAAAAAAAAD0tWjBcR7qP/S1aMFxHuo/AAAAAAAAAAA=",
                    "dtype": "f8"
                  },
                  "xaxis": "x",
                  "y": {
                    "bdata": "AAAAAABgaMAAAAAAAGBowAAAAAAAoGnAAAAAAACgacA=",
                    "dtype": "f8"
                  },
                  "yaxis": "y"
                },
                {
                  "hoverinfo": "text",
                  "marker": {
                    "color": "rgb(40,35,35)"
                  },
                  "mode": "lines",
                  "text": [
                    "cake_ice_ice cream_cream_chocolate",
                    "",
                    "",
                    "donuts_donut_doughnuts_glazed_coffee"
                  ],
                  "type": "scatter",
                  "x": {
                    "bdata": "9LVowXEe6j+h+cHdkX3sP6H5wd2Rfew/AAAAAAAAAAA=",
                    "dtype": "f8"
                  },
                  "xaxis": "x",
                  "y": {
                    "bdata": "AAAAAAAAacAAAAAAAABpwAAAAAAA4GrAAAAAAADgasA=",
                    "dtype": "f8"
                  },
                  "yaxis": "y"
                },
                {
                  "hoverinfo": "text",
                  "marker": {
                    "color": "rgb(40,35,35)"
                  },
                  "mode": "lines",
                  "text": [
                    "bagels_bagel_cream cheese_cream_toasted",
                    "",
                    "",
                    "donuts_cake_donut_ice_cream"
                  ],
                  "type": "scatter",
                  "x": {
                    "bdata": "AAAAAAAAAACpoalrsPDtP6mhqWuw8O0/ofnB3ZF97D8=",
                    "dtype": "f8"
                  },
                  "xaxis": "x",
                  "y": {
                    "bdata": "AAAAAAAgZ8AAAAAAACBnwAAAAAAA8GnAAAAAAADwacA=",
                    "dtype": "f8"
                  },
                  "yaxis": "y"
                },
                {
                  "hoverinfo": "text",
                  "marker": {
                    "color": "rgb(61,153,112)"
                  },
                  "mode": "lines",
                  "text": [
                    "crepe_crepes_croissant_pastries_savory",
                    "",
                    "",
                    "coffee_coffee shop_latte_starbucks_shop"
                  ],
                  "type": "scatter",
                  "x": {
                    "bdata": "AAAAAAAAAADEcK71ixLoP8RwrvWLEug/AAAAAAAAAAA=",
                    "dtype": "f8"
                  },
                  "xaxis": "x",
                  "y": {
                    "bdata": "AAAAAAAgbMAAAAAAACBswAAAAAAAYG3AAAAAAABgbcA=",
                    "dtype": "f8"
                  },
                  "yaxis": "y"
                },
                {
                  "hoverinfo": "text",
                  "marker": {
                    "color": "rgb(61,153,112)"
                  },
                  "mode": "lines",
                  "text": [
                    "breakfast_eggs_pancakes_bacon_toast",
                    "",
                    "",
                    "brunch_sunday brunch_sunday_mimosas_bloody"
                  ],
                  "type": "scatter",
                  "x": {
                    "bdata": "AAAAAAAAAADmWoP/imTkP+Zag/+KZOQ/AAAAAAAAAAA=",
                    "dtype": "f8"
                  },
                  "xaxis": "x",
                  "y": {
                    "bdata": "AAAAAACgbsAAAAAAAKBuwAAAAAAA4G/AAAAAAADgb8A=",
                    "dtype": "f8"
                  },
                  "yaxis": "y"
                },
                {
                  "hoverinfo": "text",
                  "marker": {
                    "color": "rgb(61,153,112)"
                  },
                  "mode": "lines",
                  "text": [
                    "coffee_coffee shop_latte_starbucks_shop",
                    "",
                    "",
                    "brunch_breakfast_eggs_pancakes_benedict"
                  ],
                  "type": "scatter",
                  "x": {
                    "bdata": "xHCu9YsS6D/CtJpnXrPsP8K0mmdes+w/5lqD/4pk5D8=",
                    "dtype": "f8"
                  },
                  "xaxis": "x",
                  "y": {
                    "bdata": "AAAAAADAbMAAAAAAAMBswAAAAAAAQG/AAAAAAABAb8A=",
                    "dtype": "f8"
                  },
                  "yaxis": "y"
                },
                {
                  "hoverinfo": "text",
                  "marker": {
                    "color": "rgb(0,116,217)"
                  },
                  "mode": "lines",
                  "text": [
                    "donuts_bagels_bagel_cake_cream",
                    "",
                    "",
                    "coffee_breakfast_brunch_eggs_pancakes"
                  ],
                  "type": "scatter",
                  "x": {
                    "bdata": "qaGpa7Dw7T/mlhqpCT7wP+aWGqkJPvA/wrSaZ16z7D8=",
                    "dtype": "f8"
                  },
                  "xaxis": "x",
                  "y": {
                    "bdata": "AAAAAACIaMAAAAAAAIhowAAAAAAAAG7AAAAAAAAAbsA=",
                    "dtype": "f8"
                  },
                  "yaxis": "y"
                },
                {
                  "hoverinfo": "text",
                  "marker": {
                    "color": "rgb(0,116,217)"
                  },
                  "mode": "lines",
                  "text": [
                    "tea_boba_smoothie_juice_smoothies",
                    "",
                    "",
                    "coffee_breakfast_brunch_donuts_bagel"
                  ],
                  "type": "scatter",
                  "x": {
                    "bdata": "vgtj00pW6T/AnSItUHvwP8CdIi1Qe/A/5pYaqQk+8D8=",
                    "dtype": "f8"
                  },
                  "xaxis": "x",
                  "y": {
                    "bdata": "AAAAAABAZcAAAAAAAEBlwAAAAAAARGvAAAAAAABEa8A=",
                    "dtype": "f8"
                  },
                  "yaxis": "y"
                },
                {
                  "hoverinfo": "text",
                  "marker": {
                    "color": "rgb(255,65,54)"
                  },
                  "mode": "lines",
                  "text": [
                    "german_le_beer_la_beers",
                    "",
                    "",
                    "dog_dogs_hot dogs_hot dog_hot"
                  ],
                  "type": "scatter",
                  "x": {
                    "bdata": "AAAAAAAAAADqjMOG1HvtP+qMw4bUe+0/AAAAAAAAAAA=",
                    "dtype": "f8"
                  },
                  "xaxis": "x",
                  "y": {
                    "bdata": "AAAAAACQcMAAAAAAAJBwwAAAAAAAMHHAAAAAAAAwccA=",
                    "dtype": "f8"
                  },
                  "yaxis": "y"
                },
                {
                  "hoverinfo": "text",
                  "marker": {
                    "color": "rgb(255,65,54)"
                  },
                  "mode": "lines",
                  "text": [
                    "nashville_music_burger_live_downtown",
                    "",
                    "",
                    "fried chicken_hot chicken_hot_fried_nashville"
                  ],
                  "type": "scatter",
                  "x": {
                    "bdata": "AAAAAAAAAAC78fYg3SnkP7vx9iDdKeQ/AAAAAAAAAAA=",
                    "dtype": "f8"
                  },
                  "xaxis": "x",
                  "y": {
                    "bdata": "AAAAAABwcsAAAAAAAHBywAAAAAAAEHPAAAAAAAAQc8A=",
                    "dtype": "f8"
                  },
                  "yaxis": "y"
                },
                {
                  "hoverinfo": "text",
                  "marker": {
                    "color": "rgb(255,65,54)"
                  },
                  "mode": "lines",
                  "text": [
                    "nashville_fried chicken_hot chicken_hot_fried",
                    "",
                    "",
                    "burger_fries_burgers_bun_ketchup"
                  ],
                  "type": "scatter",
                  "x": {
                    "bdata": "u/H2IN0p5D+/ubPrfuDnP7+5s+t+4Oc/AAAAAAAAAAA=",
                    "dtype": "f8"
                  },
                  "xaxis": "x",
                  "y": {
                    "bdata": "AAAAAADAcsAAAAAAAMBywAAAAAAAsHPAAAAAAACwc8A=",
                    "dtype": "f8"
                  },
                  "yaxis": "y"
                },
                {
                  "hoverinfo": "text",
                  "marker": {
                    "color": "rgb(255,65,54)"
                  },
                  "mode": "lines",
                  "text": [
                    "bbq_brisket_ribs_pulled pork_pulled",
                    "",
                    "",
                    "burger_fries_burgers_nashville_fried"
                  ],
                  "type": "scatter",
                  "x": {
                    "bdata": "AAAAAAAAAAAmaY4yuSnpPyZpjjK5Kek/v7mz637g5z8=",
                    "dtype": "f8"
                  },
                  "xaxis": "x",
                  "y": {
                    "bdata": "AAAAAADQccAAAAAAANBxwAAAAAAAOHPAAAAAAAA4c8A=",
                    "dtype": "f8"
                  },
                  "yaxis": "y"
                },
                {
                  "hoverinfo": "text",
                  "marker": {
                    "color": "rgb(255,65,54)"
                  },
                  "mode": "lines",
                  "text": [
                    "burger_fries_nashville_burgers_bbq",
                    "",
                    "",
                    "wings_wing_buffalo_sauce_chicken wings"
                  ],
                  "type": "scatter",
                  "x": {
                    "bdata": "JmmOMrkp6T+WcAtj3RfrP5ZwC2PdF+s/AAAAAAAAAAA=",
                    "dtype": "f8"
                  },
                  "xaxis": "x",
                  "y": {
                    "bdata": "AAAAAACEcsAAAAAAAIRywAAAAAAAUHTAAAAAAABQdMA=",
                    "dtype": "f8"
                  },
                  "yaxis": "y"
                },
                {
                  "hoverinfo": "text",
                  "marker": {
                    "color": "rgb(255,65,54)"
                  },
                  "mode": "lines",
                  "text": [
                    "german_dog_dogs_hot dogs_hot dog",
                    "",
                    "",
                    "burger_fries_burgers_nashville_bbq"
                  ],
                  "type": "scatter",
                  "x": {
                    "bdata": "6ozDhtR77T9EeQB1QmrvP0R5AHVCau8/lnALY90X6z8=",
                    "dtype": "f8"
                  },
                  "xaxis": "x",
                  "y": {
                    "bdata": "AAAAAADgcMAAAAAAAOBwwAAAAAAAanPAAAAAAABqc8A=",
                    "dtype": "f8"
                  },
                  "yaxis": "y"
                },
                {
                  "hoverinfo": "text",
                  "marker": {
                    "color": "rgb(255,65,54)"
                  },
                  "mode": "lines",
                  "text": [
                    "dressing_salads_chicken salad_caesar_lettuce",
                    "",
                    "",
                    "sandwich_sandwiches_deli_pastrami_bread"
                  ],
                  "type": "scatter",
                  "x": {
                    "bdata": "AAAAAAAAAABWu/9tmRfmP1a7/22ZF+Y/AAAAAAAAAAA=",
                    "dtype": "f8"
                  },
                  "xaxis": "x",
                  "y": {
                    "bdata": "AAAAAAAwdsAAAAAAADB2wAAAAAAA0HbAAAAAAADQdsA=",
                    "dtype": "f8"
                  },
                  "yaxis": "y"
                },
                {
                  "hoverinfo": "text",
                  "marker": {
                    "color": "rgb(255,65,54)"
                  },
                  "mode": "lines",
                  "text": [
                    "vegan_vegetarian_vegan options_tofu_vegetarian options",
                    "",
                    "",
                    "sandwich_sandwiches_deli_pastrami_dressing"
                  ],
                  "type": "scatter",
                  "x": {
                    "bdata": "AAAAAAAAAAD/R5jOqeDpP/9HmM6p4Ok/Vrv/bZkX5j8=",
                    "dtype": "f8"
                  },
                  "xaxis": "x",
                  "y": {
                    "bdata": "AAAAAACQdcAAAAAAAJB1wAAAAAAAgHbAAAAAAACAdsA=",
                    "dtype": "f8"
                  },
                  "yaxis": "y"
                },
                {
                  "hoverinfo": "text",
                  "marker": {
                    "color": "rgb(255,65,54)"
                  },
                  "mode": "lines",
                  "text": [
                    "vegan_sandwich_sandwiches_vegetarian_deli",
                    "",
                    "",
                    "indy_indianapolis_market_mass_downtown"
                  ],
                  "type": "scatter",
                  "x": {
                    "bdata": "/0eYzqng6T8Tl/9ddebqPxOX/1115uo/AAAAAAAAAAA=",
                    "dtype": "f8"
                  },
                  "xaxis": "x",
                  "y": {
                    "bdata": "AAAAAAAIdsAAAAAAAAh2wAAAAAAAcHfAAAAAAABwd8A=",
                    "dtype": "f8"
                  },
                  "yaxis": "y"
                },
                {
                  "hoverinfo": "text",
                  "marker": {
                    "color": "rgb(255,65,54)"
                  },
                  "mode": "lines",
                  "text": [
                    "cuban_cuban sandwich_sandwich_pork_bread",
                    "",
                    "",
                    "vegan_sandwich_sandwiches_vegetarian_indy"
                  ],
                  "type": "scatter",
                  "x": {
                    "bdata": "AAAAAAAAAADLC8fZSI7sP8sLx9lIjuw/E5f/XXXm6j8=",
                    "dtype": "f8"
                  },
                  "xaxis": "x",
                  "y": {
                    "bdata": "AAAAAADwdMAAAAAAAPB0wAAAAAAAvHbAAAAAAAC8dsA=",
                    "dtype": "f8"
                  },
                  "yaxis": "y"
                },
                {
                  "hoverinfo": "text",
                  "marker": {
                    "color": "rgb(255,65,54)"
                  },
                  "mode": "lines",
                  "text": [
                    "vegan_sandwich_cuban_sandwiches_vegetarian",
                    "",
                    "",
                    "gluten_gluten free_free_gf_bread"
                  ],
                  "type": "scatter",
                  "x": {
                    "bdata": "ywvH2UiO7D+fVReh3MLtP59VF6Hcwu0/AAAAAAAAAAA=",
                    "dtype": "f8"
                  },
                  "xaxis": "x",
                  "y": {
                    "bdata": "AAAAAADWdcAAAAAAANZ1wAAAAAAAEHjAAAAAAAAQeMA=",
                    "dtype": "f8"
                  },
                  "yaxis": "y"
                },
                {
                  "hoverinfo": "text",
                  "marker": {
                    "color": "rgb(255,65,54)"
                  },
                  "mode": "lines",
                  "text": [
                    "burger_fries_burgers_nashville_bbq",
                    "",
                    "",
                    "vegan_sandwich_cuban_sandwiches_vegetarian"
                  ],
                  "type": "scatter",
                  "x": {
                    "bdata": "RHkAdUJq7z9JEYRAXNPvP0kRhEBc0+8/n1UXodzC7T8=",
                    "dtype": "f8"
                  },
                  "xaxis": "x",
                  "y": {
                    "bdata": "AAAAAAAlcsAAAAAAACVywAAAAAAA83bAAAAAAADzdsA=",
                    "dtype": "f8"
                  },
                  "yaxis": "y"
                },
                {
                  "hoverinfo": "text",
                  "marker": {
                    "color": "rgb(35,205,205)"
                  },
                  "mode": "lines",
                  "text": [
                    "philly_philadelphia_nyc_city_brunch",
                    "",
                    "",
                    "cheesesteak_philly_cheesesteaks_cheese steak_geno"
                  ],
                  "type": "scatter",
                  "x": {
                    "bdata": "AAAAAAAAAAAG0+snX2fiPwbT6ydfZ+I/AAAAAAAAAAA=",
                    "dtype": "f8"
                  },
                  "xaxis": "x",
                  "y": {
                    "bdata": "AAAAAACweMAAAAAAALB4wAAAAAAAUHnAAAAAAABQecA=",
                    "dtype": "f8"
                  },
                  "yaxis": "y"
                },
                {
                  "hoverinfo": "text",
                  "marker": {
                    "color": "rgb(61,153,112)"
                  },
                  "mode": "lines",
                  "text": [
                    "wine_wines_wine list_list_glass",
                    "",
                    "",
                    "italian_pasta_italian food_sauce_ravioli"
                  ],
                  "type": "scatter",
                  "x": {
                    "bdata": "AAAAAAAAAAAnuII8TqDjPye4gjxOoOM/AAAAAAAAAAA=",
                    "dtype": "f8"
                  },
                  "xaxis": "x",
                  "y": {
                    "bdata": "AAAAAACQesAAAAAAAJB6wAAAAAAAMHvAAAAAAAAwe8A=",
                    "dtype": "f8"
                  },
                  "yaxis": "y"
                },
                {
                  "hoverinfo": "text",
                  "marker": {
                    "color": "rgb(61,153,112)"
                  },
                  "mode": "lines",
                  "text": [
                    "steak_steaks_steakhouse_medium_filet",
                    "",
                    "",
                    "italian_pasta_wine_italian food_sauce"
                  ],
                  "type": "scatter",
                  "x": {
                    "bdata": "AAAAAAAAAADgXs6+PvLmP+Bezr4+8uY/J7iCPE6g4z8=",
                    "dtype": "f8"
                  },
                  "xaxis": "x",
                  "y": {
                    "bdata": "AAAAAADwecAAAAAAAPB5wAAAAAAA4HrAAAAAAADgesA=",
                    "dtype": "f8"
                  },
                  "yaxis": "y"
                },
                {
                  "hoverinfo": "text",
                  "marker": {
                    "color": "rgb(61,153,112)"
                  },
                  "mode": "lines",
                  "text": [
                    "italian_pasta_steak_wine_sauce",
                    "",
                    "",
                    "birthday_anniversary_birthday dinner_celebrate_celebration"
                  ],
                  "type": "scatter",
                  "x": {
                    "bdata": "4F7Ovj7y5j+Vp84G3pboP5Wnzgbelug/AAAAAAAAAAA=",
                    "dtype": "f8"
                  },
                  "xaxis": "x",
                  "y": {
                    "bdata": "AAAAAABoesAAAAAAAGh6wAAAAAAA0HvAAAAAAADQe8A=",
                    "dtype": "f8"
                  },
                  "yaxis": "y"
                },
                {
                  "hoverinfo": "text",
                  "marker": {
                    "color": "rgb(61,153,112)"
                  },
                  "mode": "lines",
                  "text": [
                    "beer_beers_selection_bartenders_beer selection",
                    "",
                    "",
                    "food great_great food_great service_server_good food"
                  ],
                  "type": "scatter",
                  "x": {
                    "bdata": "AAAAAAAAAAD2xKZ2WVLiP/bEpnZZUuI/AAAAAAAAAAA=",
                    "dtype": "f8"
                  },
                  "xaxis": "x",
                  "y": {
                    "bdata": "AAAAAACwfcAAAAAAALB9wAAAAAAAUH7AAAAAAABQfsA=",
                    "dtype": "f8"
                  },
                  "yaxis": "y"
                },
                {
                  "hoverinfo": "text",
                  "marker": {
                    "color": "rgb(61,153,112)"
                  },
                  "mode": "lines",
                  "text": [
                    "music_live music_venue_live_nights",
                    "",
                    "",
                    "beer_beers_food great_great food_selection"
                  ],
                  "type": "scatter",
                  "x": {
                    "bdata": "AAAAAAAAAADKisg0wkPmP8qKyDTCQ+Y/9sSmdllS4j8=",
                    "dtype": "f8"
                  },
                  "xaxis": "x",
                  "y": {
                    "bdata": "AAAAAAAQfcAAAAAAABB9wAAAAAAAAH7AAAAAAAAAfsA=",
                    "dtype": "f8"
                  },
                  "yaxis": "y"
                },
                {
                  "hoverinfo": "text",
                  "marker": {
                    "color": "rgb(61,153,112)"
                  },
                  "mode": "lines",
                  "text": [
                    "beer_beers_food great_great food_selection",
                    "",
                    "",
                    "tampa_tampa bay_bay_florida_downtown"
                  ],
                  "type": "scatter",
                  "x": {
                    "bdata": "yorINMJD5j8xnPVVbfLoPzGc9VVt8ug/AAAAAAAAAAA=",
                    "dtype": "f8"
                  },
                  "xaxis": "x",
                  "y": {
                    "bdata": "AAAAAACIfcAAAAAAAIh9wAAAAAAA8H7AAAAAAADwfsA=",
                    "dtype": "f8"
                  },
                  "yaxis": "y"
                },
                {
                  "hoverinfo": "text",
                  "marker": {
                    "color": "rgb(61,153,112)"
                  },
                  "mode": "lines",
                  "text": [
                    "reno_breakfast_casino_gold_ranch",
                    "",
                    "",
                    "beer_tampa_beers_great food_food great"
                  ],
                  "type": "scatter",
                  "x": {
                    "bdata": "AAAAAAAAAABr1Wp76ZnsP2vVanvpmew/MZz1VW3y6D8=",
                    "dtype": "f8"
                  },
                  "xaxis": "x",
                  "y": {
                    "bdata": "AAAAAABwfMAAAAAAAHB8wAAAAAAAPH7AAAAAAAA8fsA=",
                    "dtype": "f8"
                  },
                  "yaxis": "y"
                },
                {
                  "hoverinfo": "text",
                  "marker": {
                    "color": "rgb(61,153,112)"
                  },
                  "mode": "lines",
                  "text": [
                    "beer_tampa_food great_beers_great food",
                    "",
                    "",
                    "boise_ethiopian_restaurants_combo_vegetarian"
                  ],
                  "type": "scatter",
                  "x": {
                    "bdata": "a9Vqe+mZ7D9QbcHq8OLsP1Btwerw4uw/AAAAAAAAAAA=",
                    "dtype": "f8"
                  },
                  "xaxis": "x",
                  "y": {
                    "bdata": "AAAAAABWfcAAAAAAAFZ9wAAAAAAAkH/AAAAAAACQf8A=",
                    "dtype": "f8"
                  },
                  "yaxis": "y"
                },
                {
                  "hoverinfo": "text",
                  "marker": {
                    "color": "rgb(61,153,112)"
                  },
                  "mode": "lines",
                  "text": [
                    "italian_pasta_steak_wine_sauce",
                    "",
                    "",
                    "beer_tampa_food great_beers_great food"
                  ],
                  "type": "scatter",
                  "x": {
                    "bdata": "lafOBt6W6D/zKLhpXY7tP/MouGldju0/UG3B6vDi7D8=",
                    "dtype": "f8"
                  },
                  "xaxis": "x",
                  "y": {
                    "bdata": "AAAAAAAce8AAAAAAABx7wAAAAAAAc37AAAAAAABzfsA=",
                    "dtype": "f8"
                  },
                  "yaxis": "y"
                },
                {
                  "hoverinfo": "text",
                  "marker": {
                    "color": "rgb(0,116,217)"
                  },
                  "mode": "lines",
                  "text": [
                    "philly_cheesesteak_cheesesteaks_cheese steak_steak",
                    "",
                    "",
                    "italian_pasta_beer_steak_wine"
                  ],
                  "type": "scatter",
                  "x": {
                    "bdata": "BtPrJ19n4j/7+DCp5FzwP/v4MKnkXPA/8yi4aV2O7T8=",
                    "dtype": "f8"
                  },
                  "xaxis": "x",
                  "y": {
                    "bdata": "AAAAAAAAecAAAAAAAAB5wAAAAACAx3zAAAAAAIDHfMA=",
                    "dtype": "f8"
                  },
                  "yaxis": "y"
                },
                {
                  "hoverinfo": "text",
                  "marker": {
                    "color": "rgb(0,116,217)"
                  },
                  "mode": "lines",
                  "text": [
                    "burger_fries_burgers_nashville_bbq",
                    "",
                    "",
                    "italian_steak_pasta_philly_beer"
                  ],
                  "type": "scatter",
                  "x": {
                    "bdata": "SRGEQFzT7z9jLMm6eWHxP2Msybp5YfE/+/gwqeRc8D8=",
                    "dtype": "f8"
                  },
                  "xaxis": "x",
                  "y": {
                    "bdata": "AAAAAACMdMAAAAAAAIx0wAAAAADA43rAAAAAAMDjesA=",
                    "dtype": "f8"
                  },
                  "yaxis": "y"
                },
                {
                  "hoverinfo": "text",
                  "marker": {
                    "color": "rgb(255,65,54)"
                  },
                  "mode": "lines",
                  "text": [
                    "oysters_oyster_dozen_chargrilled_acme",
                    "",
                    "",
                    "crab_shrimp_seafood_lobster_crawfish"
                  ],
                  "type": "scatter",
                  "x": {
                    "bdata": "AAAAAAAAAACiOaBns7DkP6I5oGezsOQ/AAAAAAAAAAA=",
                    "dtype": "f8"
                  },
                  "xaxis": "x",
                  "y": {
                    "bdata": "AAAAAAAYgMAAAAAAABiAwAAAAAAAaIDAAAAAAABogMA=",
                    "dtype": "f8"
                  },
                  "yaxis": "y"
                },
                {
                  "hoverinfo": "text",
                  "marker": {
                    "color": "rgb(255,65,54)"
                  },
                  "mode": "lines",
                  "text": [
                    "orleans_new orleans_creole_shrimp_po",
                    "",
                    "",
                    "nola_shrimp_trip_red beans_creole"
                  ],
                  "type": "scatter",
                  "x": {
                    "bdata": "AAAAAAAAAABi8AfeMF7nP2LwB94wXuc/AAAAAAAAAAA=",
                    "dtype": "f8"
                  },
                  "xaxis": "x",
                  "y": {
                    "bdata": "AAAAAAC4gMAAAAAAALiAwAAAAAAACIHAAAAAAAAIgcA=",
                    "dtype": "f8"
                  },
                  "yaxis": "y"
                },
                {
                  "hoverinfo": "text",
                  "marker": {
                    "color": "rgb(255,65,54)"
                  },
                  "mode": "lines",
                  "text": [
                    "oysters_crab_seafood_shrimp_oyster",
                    "",
                    "",
                    "orleans_new orleans_nola_shrimp_creole"
                  ],
                  "type": "scatter",
                  "x": {
                    "bdata": "ojmgZ7Ow5D9tvOBh/t3pP2284GH+3ek/YvAH3jBe5z8=",
                    "dtype": "f8"
                  },
                  "xaxis": "x",
                  "y": {
                    "bdata": "AAAAAABAgMAAAAAAAECAwAAAAAAA4IDAAAAAAADggMA=",
                    "dtype": "f8"
                  },
                  "yaxis": "y"
                },
                {
                  "hoverinfo": "text",
                  "marker": {
                    "color": "rgb(255,65,54)"
                  },
                  "mode": "lines",
                  "text": [
                    "oysters_crab_orleans_new orleans_shrimp",
                    "",
                    "",
                    "french_french quarter_quarter_dined_starter"
                  ],
                  "type": "scatter",
                  "x": {
                    "bdata": "bbzgYf7d6T9q1yQx1uXrP2rXJDHW5es/AAAAAAAAAAA=",
                    "dtype": "f8"
                  },
                  "xaxis": "x",
                  "y": {
                    "bdata": "AAAAAACQgMAAAAAAAJCAwAAAAAAAWIHAAAAAAABYgcA=",
                    "dtype": "f8"
                  },
                  "yaxis": "y"
                },
                {
                  "hoverinfo": "text",
                  "marker": {
                    "color": "rgb(0,116,217)"
                  },
                  "mode": "lines",
                  "text": [
                    "burger_fries_italian_beer_burgers",
                    "",
                    "",
                    "oysters_crab_orleans_new orleans_shrimp"
                  ],
                  "type": "scatter",
                  "x": {
                    "bdata": "YyzJunlh8T8m1C0qiu3xPybULSqK7fE/atckMdbl6z8=",
                    "dtype": "f8"
                  },
                  "xaxis": "x",
                  "y": {
                    "bdata": "AAAAAOC3d8AAAAAA4Ld3wAAAAAAA9IDAAAAAAAD0gMA=",
                    "dtype": "f8"
                  },
                  "yaxis": "y"
                },
                {
                  "hoverinfo": "text",
                  "marker": {
                    "color": "rgb(35,205,205)"
                  },
                  "mode": "lines",
                  "text": [
                    "buffet_buffets_lunch buffet_average_desserts",
                    "",
                    "",
                    "indian_indian food_naan_masala_tikka"
                  ],
                  "type": "scatter",
                  "x": {
                    "bdata": "AAAAAAAAAABPTL7Yw8DnP09MvtjDwOc/AAAAAAAAAAA=",
                    "dtype": "f8"
                  },
                  "xaxis": "x",
                  "y": {
                    "bdata": "AAAAAACogcAAAAAAAKiBwAAAAAAA+IHAAAAAAAD4gcA=",
                    "dtype": "f8"
                  },
                  "yaxis": "y"
                },
                {
                  "hoverinfo": "text",
                  "marker": {
                    "color": "rgb(133,20,75)"
                  },
                  "mode": "lines",
                  "text": [
                    "tucson_mexican_salsa_chinese_mexican food",
                    "",
                    "",
                    "tacos_mexican_taco_salsa_burrito"
                  ],
                  "type": "scatter",
                  "x": {
                    "bdata": "AAAAAAAAAABsxx4wLy3mP2zHHjAvLeY/AAAAAAAAAAA=",
                    "dtype": "f8"
                  },
                  "xaxis": "x",
                  "y": {
                    "bdata": "AAAAAACYgsAAAAAAAJiCwAAAAAAA6ILAAAAAAADogsA=",
                    "dtype": "f8"
                  },
                  "yaxis": "y"
                },
                {
                  "hoverinfo": "text",
                  "marker": {
                    "color": "rgb(133,20,75)"
                  },
                  "mode": "lines",
                  "text": [
                    "tacos_mexican_taco_salsa_burrito",
                    "",
                    "",
                    "korean_korean food_kimchi_bulgogi_bbq"
                  ],
                  "type": "scatter",
                  "x": {
                    "bdata": "bMceMC8t5j8ywpbvTKvrPzLClu9Mq+s/AAAAAAAAAAA=",
                    "dtype": "f8"
                  },
                  "xaxis": "x",
                  "y": {
                    "bdata": "AAAAAADAgsAAAAAAAMCCwAAAAAAAOIPAAAAAAAA4g8A=",
                    "dtype": "f8"
                  },
                  "yaxis": "y"
                },
                {
                  "hoverinfo": "text",
                  "marker": {
                    "color": "rgb(133,20,75)"
                  },
                  "mode": "lines",
                  "text": [
                    "chipotle_burrito_line_worst_online",
                    "",
                    "",
                    "tacos_mexican_taco_salsa_burrito"
                  ],
                  "type": "scatter",
                  "x": {
                    "bdata": "AAAAAAAAAAAl1Lt79zrtPyXUu3v3Ou0/MsKW70yr6z8=",
                    "dtype": "f8"
                  },
                  "xaxis": "x",
                  "y": {
                    "bdata": "AAAAAABIgsAAAAAAAEiCwAAAAAAA/ILAAAAAAAD8gsA=",
                    "dtype": "f8"
                  },
                  "yaxis": "y"
                },
                {
                  "hoverinfo": "text",
                  "marker": {
                    "color": "rgb(133,20,75)"
                  },
                  "mode": "lines",
                  "text": [
                    "tacos_mexican_taco_salsa_burrito",
                    "",
                    "",
                    "poke_bowl_bowls_tuna_seaweed"
                  ],
                  "type": "scatter",
                  "x": {
                    "bdata": "JdS7e/c67T+sCiDGbIHuP6wKIMZsge4/AAAAAAAAAAA=",
                    "dtype": "f8"
                  },
                  "xaxis": "x",
                  "y": {
                    "bdata": "AAAAAACigsAAAAAAAKKCwAAAAAAAiIPAAAAAAACIg8A=",
                    "dtype": "f8"
                  },
                  "yaxis": "y"
                },
                {
                  "hoverinfo": "text",
                  "marker": {
                    "color": "rgb(133,20,75)"
                  },
                  "mode": "lines",
                  "text": [
                    "happy hour_happy_hour_great happy_deals",
                    "",
                    "",
                    "santa barbara_santa_barbara_beautiful_dining"
                  ],
                  "type": "scatter",
                  "x": {
                    "bdata": "AAAAAAAAAAA3cNZBq7ztPzdw1kGrvO0/AAAAAAAAAAA=",
                    "dtype": "f8"
                  },
                  "xaxis": "x",
                  "y": {
                    "bdata": "AAAAAADYg8AAAAAAANiDwAAAAAAAKITAAAAAAAAohMA=",
                    "dtype": "f8"
                  },
                  "yaxis": "y"
                },
                {
                  "hoverinfo": "text",
                  "marker": {
                    "color": "rgb(133,20,75)"
                  },
                  "mode": "lines",
                  "text": [
                    "tacos_mexican_taco_salsa_burrito",
                    "",
                    "",
                    "happy hour_santa_santa barbara_barbara_happy"
                  ],
                  "type": "scatter",
                  "x": {
                    "bdata": "rAogxmyB7j/8B8YFKUXvP/wHxgUpRe8/N3DWQau87T8=",
                    "dtype": "f8"
                  },
                  "xaxis": "x",
                  "y": {
                    "bdata": "AAAAAAAVg8AAAAAAABWDwAAAAAAAAITAAAAAAAAAhMA=",
                    "dtype": "f8"
                  },
                  "yaxis": "y"
                },
                {
                  "hoverinfo": "text",
                  "marker": {
                    "color": "rgb(0,116,217)"
                  },
                  "mode": "lines",
                  "text": [
                    "indian_buffet_indian food_naan_masala",
                    "",
                    "",
                    "tacos_mexican_taco_salsa_burrito"
                  ],
                  "type": "scatter",
                  "x": {
                    "bdata": "T0y+2MPA5z9HBLIlN9TwP0cEsiU31PA//AfGBSlF7z8=",
                    "dtype": "f8"
                  },
                  "xaxis": "x",
                  "y": {
                    "bdata": "AAAAAADQgcAAAAAAANCBwAAAAACAioPAAAAAAICKg8A=",
                    "dtype": "f8"
                  },
                  "yaxis": "y"
                },
                {
                  "hoverinfo": "text",
                  "marker": {
                    "color": "rgb(255,220,0)"
                  },
                  "mode": "lines",
                  "text": [
                    "louis_st louis_st_bbq_saint",
                    "",
                    "",
                    "st pete_pete_st_beach_downtown"
                  ],
                  "type": "scatter",
                  "x": {
                    "bdata": "AAAAAAAAAACY5yB9FY7oP5jnIH0Vjug/AAAAAAAAAAA=",
                    "dtype": "f8"
                  },
                  "xaxis": "x",
                  "y": {
                    "bdata": "AAAAAAB4hMAAAAAAAHiEwAAAAAAAyITAAAAAAADIhMA=",
                    "dtype": "f8"
                  },
                  "yaxis": "y"
                },
                {
                  "hoverinfo": "text",
                  "marker": {
                    "color": "rgb(0,116,217)"
                  },
                  "mode": "lines",
                  "text": [
                    "tacos_mexican_taco_salsa_burrito",
                    "",
                    "",
                    "st_louis_st louis_st pete_pete"
                  ],
                  "type": "scatter",
                  "x": {
                    "bdata": "RwSyJTfU8D+lkqH9XZ/xP6WSof1dn/E/mOcgfRWO6D8=",
                    "dtype": "f8"
                  },
                  "xaxis": "x",
                  "y": {
                    "bdata": "AAAAAECtgsAAAAAAQK2CwAAAAAAAoITAAAAAAACghMA=",
                    "dtype": "f8"
                  },
                  "yaxis": "y"
                },
                {
                  "hoverinfo": "text",
                  "marker": {
                    "color": "rgb(0,116,217)"
                  },
                  "mode": "lines",
                  "text": [
                    "burger_fries_sauce_italian_beer",
                    "",
                    "",
                    "tacos_mexican_taco_salsa_burrito"
                  ],
                  "type": "scatter",
                  "x": {
                    "bdata": "JtQtKort8T/3eDyn2UHyP/d4PKfZQfI/pZKh/V2f8T8=",
                    "dtype": "f8"
                  },
                  "xaxis": "x",
                  "y": {
                    "bdata": "AAAAAPDPfMAAAAAA8M98wAAAAACgpoPAAAAAAKCmg8A=",
                    "dtype": "f8"
                  },
                  "yaxis": "y"
                },
                {
                  "hoverinfo": "text",
                  "marker": {
                    "color": "rgb(40,35,35)"
                  },
                  "mode": "lines",
                  "text": [
                    "greek_gyro_greek salad_pita_lamb",
                    "",
                    "",
                    "gyro_gyros_pita_fries_meat"
                  ],
                  "type": "scatter",
                  "x": {
                    "bdata": "AAAAAAAAAAAyIk+zhA7mPzIiT7OEDuY/AAAAAAAAAAA=",
                    "dtype": "f8"
                  },
                  "xaxis": "x",
                  "y": {
                    "bdata": "AAAAAABohcAAAAAAAGiFwAAAAAAAuIXAAAAAAAC4hcA=",
                    "dtype": "f8"
                  },
                  "yaxis": "y"
                },
                {
                  "hoverinfo": "text",
                  "marker": {
                    "color": "rgb(40,35,35)"
                  },
                  "mode": "lines",
                  "text": [
                    "hummus_pita_falafel_middle eastern_shawarma",
                    "",
                    "",
                    "greek_gyro_gyros_pita_greek salad"
                  ],
                  "type": "scatter",
                  "x": {
                    "bdata": "AAAAAAAAAACN4I5McGToP43gjkxwZOg/MiJPs4QO5j8=",
                    "dtype": "f8"
                  },
                  "xaxis": "x",
                  "y": {
                    "bdata": "AAAAAAAYhcAAAAAAABiFwAAAAAAAkIXAAAAAAACQhcA=",
                    "dtype": "f8"
                  },
                  "yaxis": "y"
                },
                {
                  "hoverinfo": "text",
                  "marker": {
                    "color": "rgb(0,116,217)"
                  },
                  "mode": "lines",
                  "text": [
                    "tacos_burger_mexican_fries_sauce",
                    "",
                    "",
                    "greek_gyro_hummus_pita_falafel"
                  ],
                  "type": "scatter",
                  "x": {
                    "bdata": "93g8p9lB8j9lAoQdlRb0P2UChB2VFvQ/jeCOTHBk6D8=",
                    "dtype": "f8"
                  },
                  "xaxis": "x",
                  "y": {
                    "bdata": "AAAAAEwHgcAAAAAATAeBwAAAAAAAVIXAAAAAAABUhcA=",
                    "dtype": "f8"
                  },
                  "yaxis": "y"
                },
                {
                  "hoverinfo": "text",
                  "marker": {
                    "color": "rgb(0,116,217)"
                  },
                  "mode": "lines",
                  "text": [
                    "coffee_breakfast_brunch_donuts_bagel",
                    "",
                    "",
                    "tacos_burger_mexican_fries_sauce"
                  ],
                  "type": "scatter",
                  "x": {
                    "bdata": "wJ0iLVB78D8TFIL0KZP0PxMUgvQpk/Q/ZQKEHZUW9D8=",
                    "dtype": "f8"
                  },
                  "xaxis": "x",
                  "y": {
                    "bdata": "AAAAAABCaMAAAAAAAEJowAAAAACmLYPAAAAAAKYtg8A=",
                    "dtype": "f8"
                  },
                  "yaxis": "y"
                },
                {
                  "hoverinfo": "text",
                  "marker": {
                    "color": "rgb(0,116,217)"
                  },
                  "mode": "lines",
                  "text": [
                    "sushi_thai_chinese_rolls_pho",
                    "",
                    "",
                    "tacos_burger_mexican_coffee_fries"
                  ],
                  "type": "scatter",
                  "x": {
                    "bdata": "0oeF7fOK8D/a4zYeRxr1P9rjNh5HGvU/ExSC9CmT9D8=",
                    "dtype": "f8"
                  },
                  "xaxis": "x",
                  "y": {
                    "bdata": "AAAAAAA2YMAAAAAAADZgwAAAAAAmPnnAAAAAACY+ecA=",
                    "dtype": "f8"
                  },
                  "yaxis": "y"
                },
                {
                  "hoverinfo": "text",
                  "marker": {
                    "color": "rgb(0,116,217)"
                  },
                  "mode": "lines",
                  "text": [
                    "pizza_minutes_asked_told_manager",
                    "",
                    "",
                    "sushi_sauce_tacos_burger_mexican"
                  ],
                  "type": "scatter",
                  "x": {
                    "bdata": "77yt+7Jr8D/Hi5MG50T2P8eLkwbnRPY/2uM2Hkca9T8=",
                    "dtype": "f8"
                  },
                  "xaxis": "x",
                  "y": {
                    "bdata": "AAAAAAA8ScAAAAAAADxJwAAAAACTrHDAAAAAAJOscMA=",
                    "dtype": "f8"
                  },
                  "yaxis": "y"
                },
                {
                  "hoverinfo": "text",
                  "hovertext": [
                    "minutes_asked_manager_told_rude",
                    "closed_yelp_hours_sign_says",
                    "minutes_asked_manager_told_rude",
                    "thai_chinese_soup_pad_rice",
                    "sushi_thai_chinese_rolls_roll",
                    "cake_ice_ice cream_cream_chocolate",
                    "coffee_coffee shop_latte_starbucks_shop",
                    "donuts_bagels_bagel_cake_cream",
                    "tea_boba_smoothie_juice_smoothies",
                    "nashville_fried chicken_hot chicken_hot_fried",
                    "burger_fries_nashville_burgers_bbq",
                    "german_dog_dogs_hot dogs_hot dog",
                    "vegan_sandwich_sandwiches_vegetarian_deli",
                    "vegan_sandwich_cuban_sandwiches_vegetarian",
                    "burger_fries_burgers_nashville_bbq",
                    "italian_pasta_steak_wine_sauce",
                    "beer_beers_food great_great food_selection",
                    "beer_tampa_food great_beers_great food",
                    "italian_pasta_steak_wine_sauce",
                    "philly_cheesesteak_cheesesteaks_cheese steak_steak",
                    "burger_fries_burgers_nashville_bbq",
                    "oysters_crab_seafood_shrimp_oyster",
                    "oysters_crab_orleans_new orleans_shrimp",
                    "burger_fries_italian_beer_burgers",
                    "tacos_mexican_taco_salsa_burrito",
                    "tacos_mexican_taco_salsa_burrito",
                    "tacos_mexican_taco_salsa_burrito",
                    "indian_buffet_indian food_naan_masala",
                    "tacos_mexican_taco_salsa_burrito",
                    "burger_fries_sauce_italian_beer",
                    "tacos_burger_mexican_fries_sauce",
                    "coffee_breakfast_brunch_donuts_bagel",
                    "sushi_thai_chinese_rolls_pho",
                    "pizza_minutes_asked_told_manager"
                  ],
                  "marker": {
                    "color": "black"
                  },
                  "mode": "markers",
                  "showlegend": false,
                  "type": "scatter",
                  "x": [
                    0.7037874791179793,
                    0.7937519384721459,
                    0.926525869541934,
                    0.7834368924408787,
                    0.8803475507956063,
                    0.8162163522262618,
                    0.7522640036072734,
                    0.9356309988771062,
                    0.7917837265634871,
                    0.6301103252258636,
                    0.7863431918551995,
                    0.9213659889323058,
                    0.8086747202926289,
                    0.8923687222926387,
                    0.9817211423103704,
                    0.7170709349329307,
                    0.6957713156628753,
                    0.8937880907530319,
                    0.7684164174036022,
                    0.5751186160765378,
                    0.9945508251262619,
                    0.64656992186956,
                    0.808348838012433,
                    1.0862977310487387,
                    0.6930156650398493,
                    0.9134480873750631,
                    0.9532989377624594,
                    0.7422808869618026,
                    1.0518104050136274,
                    1.120493092309752,
                    1.141076710955131,
                    1.030105758962108,
                    1.0339240339458127,
                    1.0262937384794062
                  ],
                  "y": [
                    -42.5,
                    -20,
                    -20.9375,
                    -112.5,
                    -109.375,
                    -200,
                    -230,
                    -196.25,
                    -170,
                    -300,
                    -296.25,
                    -270,
                    -352.5,
                    -349.375,
                    -290.3125,
                    -422.5,
                    -472.5,
                    -469.375,
                    -433.75,
                    -400,
                    -328.75,
                    -520,
                    -530,
                    -379.4921875,
                    -600,
                    -596.25,
                    -610.625,
                    -570,
                    -597.65625,
                    -460.99609375,
                    -544.912109375,
                    -194.0625,
                    -129.6875,
                    -50.46875
                  ]
                },
                {
                  "hoverinfo": "text",
                  "hovertext": [
                    "minutes_asked_manager_told_rude",
                    "minutes_asked_manager_told_rude",
                    "minutes_asked_manager_told_rude",
                    "pizza_crust_pizzas_pepperoni_delivery",
                    "chinese_chinese food_soup_rice_noodles",
                    "sushi_thai_chinese_rolls_roll",
                    "pho_vietnamese_broth_vietnamese food_rolls",
                    "donuts_cake_donut_ice_cream",
                    "brunch_breakfast_eggs_pancakes_benedict",
                    "coffee_breakfast_brunch_eggs_pancakes",
                    "coffee_breakfast_brunch_donuts_bagel",
                    "burger_fries_burgers_nashville_fried",
                    "burger_fries_burgers_nashville_bbq",
                    "sandwich_sandwiches_deli_pastrami_dressing",
                    "vegan_sandwich_sandwiches_vegetarian_indy",
                    "vegan_sandwich_cuban_sandwiches_vegetarian",
                    "italian_pasta_wine_italian food_sauce",
                    "beer_beers_food great_great food_selection",
                    "beer_tampa_beers_great food_food great",
                    "beer_tampa_food great_beers_great food",
                    "italian_pasta_beer_steak_wine",
                    "italian_steak_pasta_philly_beer",
                    "orleans_new orleans_nola_shrimp_creole",
                    "oysters_crab_orleans_new orleans_shrimp",
                    "tacos_mexican_taco_salsa_burrito",
                    "happy hour_santa_santa barbara_barbara_happy",
                    "tacos_mexican_taco_salsa_burrito",
                    "st_louis_st louis_st pete_pete",
                    "tacos_mexican_taco_salsa_burrito",
                    "greek_gyro_gyros_pita_greek salad",
                    "greek_gyro_hummus_pita_falafel",
                    "tacos_burger_mexican_fries_sauce",
                    "tacos_burger_mexican_coffee_fries",
                    "sushi_sauce_tacos_burger_mexican"
                  ],
                  "marker": {
                    "color": "black"
                  },
                  "mode": "markers",
                  "showlegend": false,
                  "type": "scatter",
                  "x": [
                    0.39896941669252206,
                    0.8306144869264186,
                    0.863679159020237,
                    0.2832854666483997,
                    0.5804443211725523,
                    0.8268715157512483,
                    0.592543836068606,
                    0.8903283435063721,
                    0.637273310708079,
                    0.8968956016084564,
                    1.0151459317798355,
                    0.7461542705112193,
                    0.8466631826845681,
                    0.6903807781617199,
                    0.8406321369081716,
                    0.9300368448554542,
                    0.6133185560081572,
                    0.5725524251376146,
                    0.7795931509871307,
                    0.9027027688093003,
                    0.9236285271483936,
                    1.022679005530846,
                    0.7302479111235807,
                    0.8718062362520247,
                    0.8646607093306271,
                    0.9292808805362317,
                    0.9771924126400786,
                    0.7673442310253789,
                    1.1014079959360654,
                    0.6892722608691371,
                    0.7622605796123182,
                    1.255513301177552,
                    1.2859286833856955,
                    1.318915479683929
                  ],
                  "y": [
                    -50,
                    -53.75,
                    -36.875,
                    -80,
                    -120,
                    -123.75,
                    -150,
                    -207.5,
                    -250,
                    -240,
                    -218.125,
                    -307.5,
                    -310.625,
                    -360,
                    -363.75,
                    -367.1875,
                    -430,
                    -480,
                    -483.75,
                    -487.1875,
                    -460.46875,
                    -430.234375,
                    -540,
                    -542.5,
                    -607.5,
                    -640,
                    -625.3125,
                    -660,
                    -628.828125,
                    -690,
                    -682.5,
                    -613.7060546875,
                    -403.88427734375,
                    -266.785888671875
                  ]
                }
              ],
              "layout": {
                "autosize": false,
                "height": 1250,
                "hoverlabel": {
                  "bgcolor": "white",
                  "font": {
                    "family": "Rockwell",
                    "size": 16
                  }
                },
                "hovermode": "closest",
                "plot_bgcolor": "#ECEFF1",
                "showlegend": false,
                "template": {
                  "data": {
                    "bar": [
                      {
                        "error_x": {
                          "color": "#2a3f5f"
                        },
                        "error_y": {
                          "color": "#2a3f5f"
                        },
                        "marker": {
                          "line": {
                            "color": "white",
                            "width": 0.5
                          },
                          "pattern": {
                            "fillmode": "overlay",
                            "size": 10,
                            "solidity": 0.2
                          }
                        },
                        "type": "bar"
                      }
                    ],
                    "barpolar": [
                      {
                        "marker": {
                          "line": {
                            "color": "white",
                            "width": 0.5
                          },
                          "pattern": {
                            "fillmode": "overlay",
                            "size": 10,
                            "solidity": 0.2
                          }
                        },
                        "type": "barpolar"
                      }
                    ],
                    "carpet": [
                      {
                        "aaxis": {
                          "endlinecolor": "#2a3f5f",
                          "gridcolor": "#C8D4E3",
                          "linecolor": "#C8D4E3",
                          "minorgridcolor": "#C8D4E3",
                          "startlinecolor": "#2a3f5f"
                        },
                        "baxis": {
                          "endlinecolor": "#2a3f5f",
                          "gridcolor": "#C8D4E3",
                          "linecolor": "#C8D4E3",
                          "minorgridcolor": "#C8D4E3",
                          "startlinecolor": "#2a3f5f"
                        },
                        "type": "carpet"
                      }
                    ],
                    "choropleth": [
                      {
                        "colorbar": {
                          "outlinewidth": 0,
                          "ticks": ""
                        },
                        "type": "choropleth"
                      }
                    ],
                    "contour": [
                      {
                        "colorbar": {
                          "outlinewidth": 0,
                          "ticks": ""
                        },
                        "colorscale": [
                          [
                            0,
                            "#0d0887"
                          ],
                          [
                            0.1111111111111111,
                            "#46039f"
                          ],
                          [
                            0.2222222222222222,
                            "#7201a8"
                          ],
                          [
                            0.3333333333333333,
                            "#9c179e"
                          ],
                          [
                            0.4444444444444444,
                            "#bd3786"
                          ],
                          [
                            0.5555555555555556,
                            "#d8576b"
                          ],
                          [
                            0.6666666666666666,
                            "#ed7953"
                          ],
                          [
                            0.7777777777777778,
                            "#fb9f3a"
                          ],
                          [
                            0.8888888888888888,
                            "#fdca26"
                          ],
                          [
                            1,
                            "#f0f921"
                          ]
                        ],
                        "type": "contour"
                      }
                    ],
                    "contourcarpet": [
                      {
                        "colorbar": {
                          "outlinewidth": 0,
                          "ticks": ""
                        },
                        "type": "contourcarpet"
                      }
                    ],
                    "heatmap": [
                      {
                        "colorbar": {
                          "outlinewidth": 0,
                          "ticks": ""
                        },
                        "colorscale": [
                          [
                            0,
                            "#0d0887"
                          ],
                          [
                            0.1111111111111111,
                            "#46039f"
                          ],
                          [
                            0.2222222222222222,
                            "#7201a8"
                          ],
                          [
                            0.3333333333333333,
                            "#9c179e"
                          ],
                          [
                            0.4444444444444444,
                            "#bd3786"
                          ],
                          [
                            0.5555555555555556,
                            "#d8576b"
                          ],
                          [
                            0.6666666666666666,
                            "#ed7953"
                          ],
                          [
                            0.7777777777777778,
                            "#fb9f3a"
                          ],
                          [
                            0.8888888888888888,
                            "#fdca26"
                          ],
                          [
                            1,
                            "#f0f921"
                          ]
                        ],
                        "type": "heatmap"
                      }
                    ],
                    "histogram": [
                      {
                        "marker": {
                          "pattern": {
                            "fillmode": "overlay",
                            "size": 10,
                            "solidity": 0.2
                          }
                        },
                        "type": "histogram"
                      }
                    ],
                    "histogram2d": [
                      {
                        "colorbar": {
                          "outlinewidth": 0,
                          "ticks": ""
                        },
                        "colorscale": [
                          [
                            0,
                            "#0d0887"
                          ],
                          [
                            0.1111111111111111,
                            "#46039f"
                          ],
                          [
                            0.2222222222222222,
                            "#7201a8"
                          ],
                          [
                            0.3333333333333333,
                            "#9c179e"
                          ],
                          [
                            0.4444444444444444,
                            "#bd3786"
                          ],
                          [
                            0.5555555555555556,
                            "#d8576b"
                          ],
                          [
                            0.6666666666666666,
                            "#ed7953"
                          ],
                          [
                            0.7777777777777778,
                            "#fb9f3a"
                          ],
                          [
                            0.8888888888888888,
                            "#fdca26"
                          ],
                          [
                            1,
                            "#f0f921"
                          ]
                        ],
                        "type": "histogram2d"
                      }
                    ],
                    "histogram2dcontour": [
                      {
                        "colorbar": {
                          "outlinewidth": 0,
                          "ticks": ""
                        },
                        "colorscale": [
                          [
                            0,
                            "#0d0887"
                          ],
                          [
                            0.1111111111111111,
                            "#46039f"
                          ],
                          [
                            0.2222222222222222,
                            "#7201a8"
                          ],
                          [
                            0.3333333333333333,
                            "#9c179e"
                          ],
                          [
                            0.4444444444444444,
                            "#bd3786"
                          ],
                          [
                            0.5555555555555556,
                            "#d8576b"
                          ],
                          [
                            0.6666666666666666,
                            "#ed7953"
                          ],
                          [
                            0.7777777777777778,
                            "#fb9f3a"
                          ],
                          [
                            0.8888888888888888,
                            "#fdca26"
                          ],
                          [
                            1,
                            "#f0f921"
                          ]
                        ],
                        "type": "histogram2dcontour"
                      }
                    ],
                    "mesh3d": [
                      {
                        "colorbar": {
                          "outlinewidth": 0,
                          "ticks": ""
                        },
                        "type": "mesh3d"
                      }
                    ],
                    "parcoords": [
                      {
                        "line": {
                          "colorbar": {
                            "outlinewidth": 0,
                            "ticks": ""
                          }
                        },
                        "type": "parcoords"
                      }
                    ],
                    "pie": [
                      {
                        "automargin": true,
                        "type": "pie"
                      }
                    ],
                    "scatter": [
                      {
                        "fillpattern": {
                          "fillmode": "overlay",
                          "size": 10,
                          "solidity": 0.2
                        },
                        "type": "scatter"
                      }
                    ],
                    "scatter3d": [
                      {
                        "line": {
                          "colorbar": {
                            "outlinewidth": 0,
                            "ticks": ""
                          }
                        },
                        "marker": {
                          "colorbar": {
                            "outlinewidth": 0,
                            "ticks": ""
                          }
                        },
                        "type": "scatter3d"
                      }
                    ],
                    "scattercarpet": [
                      {
                        "marker": {
                          "colorbar": {
                            "outlinewidth": 0,
                            "ticks": ""
                          }
                        },
                        "type": "scattercarpet"
                      }
                    ],
                    "scattergeo": [
                      {
                        "marker": {
                          "colorbar": {
                            "outlinewidth": 0,
                            "ticks": ""
                          }
                        },
                        "type": "scattergeo"
                      }
                    ],
                    "scattergl": [
                      {
                        "marker": {
                          "colorbar": {
                            "outlinewidth": 0,
                            "ticks": ""
                          }
                        },
                        "type": "scattergl"
                      }
                    ],
                    "scattermap": [
                      {
                        "marker": {
                          "colorbar": {
                            "outlinewidth": 0,
                            "ticks": ""
                          }
                        },
                        "type": "scattermap"
                      }
                    ],
                    "scattermapbox": [
                      {
                        "marker": {
                          "colorbar": {
                            "outlinewidth": 0,
                            "ticks": ""
                          }
                        },
                        "type": "scattermapbox"
                      }
                    ],
                    "scatterpolar": [
                      {
                        "marker": {
                          "colorbar": {
                            "outlinewidth": 0,
                            "ticks": ""
                          }
                        },
                        "type": "scatterpolar"
                      }
                    ],
                    "scatterpolargl": [
                      {
                        "marker": {
                          "colorbar": {
                            "outlinewidth": 0,
                            "ticks": ""
                          }
                        },
                        "type": "scatterpolargl"
                      }
                    ],
                    "scatterternary": [
                      {
                        "marker": {
                          "colorbar": {
                            "outlinewidth": 0,
                            "ticks": ""
                          }
                        },
                        "type": "scatterternary"
                      }
                    ],
                    "surface": [
                      {
                        "colorbar": {
                          "outlinewidth": 0,
                          "ticks": ""
                        },
                        "colorscale": [
                          [
                            0,
                            "#0d0887"
                          ],
                          [
                            0.1111111111111111,
                            "#46039f"
                          ],
                          [
                            0.2222222222222222,
                            "#7201a8"
                          ],
                          [
                            0.3333333333333333,
                            "#9c179e"
                          ],
                          [
                            0.4444444444444444,
                            "#bd3786"
                          ],
                          [
                            0.5555555555555556,
                            "#d8576b"
                          ],
                          [
                            0.6666666666666666,
                            "#ed7953"
                          ],
                          [
                            0.7777777777777778,
                            "#fb9f3a"
                          ],
                          [
                            0.8888888888888888,
                            "#fdca26"
                          ],
                          [
                            1,
                            "#f0f921"
                          ]
                        ],
                        "type": "surface"
                      }
                    ],
                    "table": [
                      {
                        "cells": {
                          "fill": {
                            "color": "#EBF0F8"
                          },
                          "line": {
                            "color": "white"
                          }
                        },
                        "header": {
                          "fill": {
                            "color": "#C8D4E3"
                          },
                          "line": {
                            "color": "white"
                          }
                        },
                        "type": "table"
                      }
                    ]
                  },
                  "layout": {
                    "annotationdefaults": {
                      "arrowcolor": "#2a3f5f",
                      "arrowhead": 0,
                      "arrowwidth": 1
                    },
                    "autotypenumbers": "strict",
                    "coloraxis": {
                      "colorbar": {
                        "outlinewidth": 0,
                        "ticks": ""
                      }
                    },
                    "colorscale": {
                      "diverging": [
                        [
                          0,
                          "#8e0152"
                        ],
                        [
                          0.1,
                          "#c51b7d"
                        ],
                        [
                          0.2,
                          "#de77ae"
                        ],
                        [
                          0.3,
                          "#f1b6da"
                        ],
                        [
                          0.4,
                          "#fde0ef"
                        ],
                        [
                          0.5,
                          "#f7f7f7"
                        ],
                        [
                          0.6,
                          "#e6f5d0"
                        ],
                        [
                          0.7,
                          "#b8e186"
                        ],
                        [
                          0.8,
                          "#7fbc41"
                        ],
                        [
                          0.9,
                          "#4d9221"
                        ],
                        [
                          1,
                          "#276419"
                        ]
                      ],
                      "sequential": [
                        [
                          0,
                          "#0d0887"
                        ],
                        [
                          0.1111111111111111,
                          "#46039f"
                        ],
                        [
                          0.2222222222222222,
                          "#7201a8"
                        ],
                        [
                          0.3333333333333333,
                          "#9c179e"
                        ],
                        [
                          0.4444444444444444,
                          "#bd3786"
                        ],
                        [
                          0.5555555555555556,
                          "#d8576b"
                        ],
                        [
                          0.6666666666666666,
                          "#ed7953"
                        ],
                        [
                          0.7777777777777778,
                          "#fb9f3a"
                        ],
                        [
                          0.8888888888888888,
                          "#fdca26"
                        ],
                        [
                          1,
                          "#f0f921"
                        ]
                      ],
                      "sequentialminus": [
                        [
                          0,
                          "#0d0887"
                        ],
                        [
                          0.1111111111111111,
                          "#46039f"
                        ],
                        [
                          0.2222222222222222,
                          "#7201a8"
                        ],
                        [
                          0.3333333333333333,
                          "#9c179e"
                        ],
                        [
                          0.4444444444444444,
                          "#bd3786"
                        ],
                        [
                          0.5555555555555556,
                          "#d8576b"
                        ],
                        [
                          0.6666666666666666,
                          "#ed7953"
                        ],
                        [
                          0.7777777777777778,
                          "#fb9f3a"
                        ],
                        [
                          0.8888888888888888,
                          "#fdca26"
                        ],
                        [
                          1,
                          "#f0f921"
                        ]
                      ]
                    },
                    "colorway": [
                      "#636efa",
                      "#EF553B",
                      "#00cc96",
                      "#ab63fa",
                      "#FFA15A",
                      "#19d3f3",
                      "#FF6692",
                      "#B6E880",
                      "#FF97FF",
                      "#FECB52"
                    ],
                    "font": {
                      "color": "#2a3f5f"
                    },
                    "geo": {
                      "bgcolor": "white",
                      "lakecolor": "white",
                      "landcolor": "white",
                      "showlakes": true,
                      "showland": true,
                      "subunitcolor": "#C8D4E3"
                    },
                    "hoverlabel": {
                      "align": "left"
                    },
                    "hovermode": "closest",
                    "mapbox": {
                      "style": "light"
                    },
                    "paper_bgcolor": "white",
                    "plot_bgcolor": "white",
                    "polar": {
                      "angularaxis": {
                        "gridcolor": "#EBF0F8",
                        "linecolor": "#EBF0F8",
                        "ticks": ""
                      },
                      "bgcolor": "white",
                      "radialaxis": {
                        "gridcolor": "#EBF0F8",
                        "linecolor": "#EBF0F8",
                        "ticks": ""
                      }
                    },
                    "scene": {
                      "xaxis": {
                        "backgroundcolor": "white",
                        "gridcolor": "#DFE8F3",
                        "gridwidth": 2,
                        "linecolor": "#EBF0F8",
                        "showbackground": true,
                        "ticks": "",
                        "zerolinecolor": "#EBF0F8"
                      },
                      "yaxis": {
                        "backgroundcolor": "white",
                        "gridcolor": "#DFE8F3",
                        "gridwidth": 2,
                        "linecolor": "#EBF0F8",
                        "showbackground": true,
                        "ticks": "",
                        "zerolinecolor": "#EBF0F8"
                      },
                      "zaxis": {
                        "backgroundcolor": "white",
                        "gridcolor": "#DFE8F3",
                        "gridwidth": 2,
                        "linecolor": "#EBF0F8",
                        "showbackground": true,
                        "ticks": "",
                        "zerolinecolor": "#EBF0F8"
                      }
                    },
                    "shapedefaults": {
                      "line": {
                        "color": "#2a3f5f"
                      }
                    },
                    "ternary": {
                      "aaxis": {
                        "gridcolor": "#DFE8F3",
                        "linecolor": "#A2B1C6",
                        "ticks": ""
                      },
                      "baxis": {
                        "gridcolor": "#DFE8F3",
                        "linecolor": "#A2B1C6",
                        "ticks": ""
                      },
                      "bgcolor": "white",
                      "caxis": {
                        "gridcolor": "#DFE8F3",
                        "linecolor": "#A2B1C6",
                        "ticks": ""
                      }
                    },
                    "title": {
                      "x": 0.05
                    },
                    "xaxis": {
                      "automargin": true,
                      "gridcolor": "#EBF0F8",
                      "linecolor": "#EBF0F8",
                      "ticks": "",
                      "title": {
                        "standoff": 15
                      },
                      "zerolinecolor": "#EBF0F8",
                      "zerolinewidth": 2
                    },
                    "yaxis": {
                      "automargin": true,
                      "gridcolor": "#EBF0F8",
                      "linecolor": "#EBF0F8",
                      "ticks": "",
                      "title": {
                        "standoff": 15
                      },
                      "zerolinecolor": "#EBF0F8",
                      "zerolinewidth": 2
                    }
                  }
                },
                "title": {
                  "font": {
                    "color": "Black",
                    "size": 22
                  },
                  "text": "<b>Hierarchical Clustering</b>",
                  "x": 0.5,
                  "xanchor": "center",
                  "yanchor": "top"
                },
                "width": 1000,
                "xaxis": {
                  "mirror": "allticks",
                  "rangemode": "tozero",
                  "showgrid": false,
                  "showline": true,
                  "showticklabels": true,
                  "ticks": "outside",
                  "type": "linear",
                  "zeroline": false
                },
                "yaxis": {
                  "mirror": "allticks",
                  "range": [
                    -700,
                    0
                  ],
                  "rangemode": "tozero",
                  "showgrid": false,
                  "showline": true,
                  "showticklabels": true,
                  "tickmode": "array",
                  "ticks": "outside",
                  "ticktext": [
                    "53_mask_masks_wearing",
                    "30_closed_hours_sign",
                    "47_yelp_yelp reviews_review",
                    "48_mcdonald_wendy_mcdonalds",
                    "0_minutes_asked_manager",
                    "25_star_zero_place stars",
                    "33_room_hotel_rooms",
                    "20_pizza_delivery_called",
                    "3_pizza_crust_pizzas",
                    "39_ramen_broth_noodles",
                    "13_thai_pad_pad thai",
                    "7_chinese_chinese food_rice",
                    "50_soup_broth_pot",
                    "4_sushi_roll_rolls",
                    "56_vietnamese_vietnamese fo...",
                    "31_pho_broth_vietnamese",
                    "66_tea_boba_bubble",
                    "64_smoothie_juice_smoothies",
                    "37_bagels_bagel_cream cheese",
                    "49_ice_ice cream_cream",
                    "32_cake_cookies_bakery",
                    "38_donuts_donut_doughnuts",
                    "55_crepe_crepes_croissant",
                    "11_coffee_coffee shop_latte",
                    "10_breakfast_eggs_pancakes",
                    "16_brunch_sunday brunch_sun...",
                    "63_german_le_beer",
                    "62_dog_dogs_hot dogs",
                    "12_bbq_brisket_ribs",
                    "15_nashville_music_burger",
                    "14_fried chicken_hot chicke...",
                    "5_burger_fries_burgers",
                    "26_wings_wing_buffalo",
                    "41_cuban_cuban sandwich_san...",
                    "19_vegan_vegetarian_vegan o...",
                    "35_dressing_salads_chicken ...",
                    "21_sandwich_sandwiches_deli",
                    "45_indy_indianapolis_market",
                    "65_gluten_gluten free_free",
                    "29_philly_philadelphia_nyc",
                    "22_cheesesteak_philly_chees...",
                    "18_steak_steaks_steakhouse",
                    "44_wine_wines_wine list",
                    "6_italian_pasta_italian food",
                    "40_birthday_anniversary_bir...",
                    "43_reno_breakfast_casino",
                    "69_music_live music_venue",
                    "8_beer_beers_selection",
                    "2_food great_great food_gre...",
                    "28_tampa_tampa bay_bay",
                    "52_boise_ethiopian_restaura...",
                    "24_oysters_oyster_dozen",
                    "9_crab_shrimp_seafood",
                    "23_orleans_new orleans_creole",
                    "34_nola_shrimp_trip",
                    "67_french_french quarter_qu...",
                    "57_buffet_buffets_lunch buf...",
                    "17_indian_indian food_naan",
                    "61_chipotle_burrito_line",
                    "27_tucson_mexican_salsa",
                    "1_tacos_mexican_taco",
                    "36_korean_korean food_kimchi",
                    "58_poke_bowl_bowls",
                    "51_happy hour_happy_hour",
                    "54_santa barbara_santa_barb...",
                    "60_louis_st louis_st",
                    "68_st pete_pete_st",
                    "46_hummus_pita_falafel",
                    "42_greek_gyro_greek salad",
                    "59_gyro_gyros_pita"
                  ],
                  "tickvals": [
                    -5,
                    -15,
                    -25,
                    -35,
                    -45,
                    -55,
                    -65,
                    -75,
                    -85,
                    -95,
                    -105,
                    -115,
                    -125,
                    -135,
                    -145,
                    -155,
                    -165,
                    -175,
                    -185,
                    -195,
                    -205,
                    -215,
                    -225,
                    -235,
                    -245,
                    -255,
                    -265,
                    -275,
                    -285,
                    -295,
                    -305,
                    -315,
                    -325,
                    -335,
                    -345,
                    -355,
                    -365,
                    -375,
                    -385,
                    -395,
                    -405,
                    -415,
                    -425,
                    -435,
                    -445,
                    -455,
                    -465,
                    -475,
                    -485,
                    -495,
                    -505,
                    -515,
                    -525,
                    -535,
                    -545,
                    -555,
                    -565,
                    -575,
                    -585,
                    -595,
                    -605,
                    -615,
                    -625,
                    -635,
                    -645,
                    -655,
                    -665,
                    -675,
                    -685,
                    -695
                  ],
                  "type": "linear",
                  "zeroline": false
                }
              }
            }
          },
          "metadata": {},
          "output_type": "display_data"
        },
        {
          "name": "stdout",
          "output_type": "stream",
          "text": [
            "Jerarquía de tópicos guardada en: ../../figures/complete_analysis/topic_model_hierarchy.png\n",
            "\n",
            "Creando mapa de calor de similitud...\n"
          ]
        },
        {
          "data": {
            "application/vnd.plotly.v1+json": {
              "config": {
                "plotlyServerURL": "https://plot.ly"
              },
              "data": [
                {
                  "coloraxis": "coloraxis",
                  "hovertemplate": "x: %{x}<br>y: %{y}<br>Similarity Score: %{z}<extra></extra>",
                  "name": "0",
                  "type": "heatmap",
                  "x": [
                    "0_minutes_asked_manager",
                    "1_tacos_mexican_taco",
                    "2_food great_great food_gre...",
                    "3_pizza_crust_pizzas",
                    "4_sushi_roll_rolls",
                    "5_burger_fries_burgers",
                    "6_italian_pasta_italian food",
                    "7_chinese_chinese food_rice",
                    "8_beer_beers_selection",
                    "9_crab_shrimp_seafood",
                    "10_breakfast_eggs_pancakes",
                    "11_coffee_coffee shop_latte",
                    "12_bbq_brisket_ribs",
                    "13_thai_pad_pad thai",
                    "14_fried chicken_hot chicke...",
                    "15_nashville_music_burger",
                    "16_brunch_sunday brunch_sun...",
                    "17_indian_indian food_naan",
                    "18_steak_steaks_steakhouse",
                    "19_vegan_vegetarian_vegan o...",
                    "20_pizza_delivery_called",
                    "21_sandwich_sandwiches_deli",
                    "22_cheesesteak_philly_chees...",
                    "23_orleans_new orleans_creole",
                    "24_oysters_oyster_dozen",
                    "25_star_zero_place stars",
                    "26_wings_wing_buffalo",
                    "27_tucson_mexican_salsa",
                    "28_tampa_tampa bay_bay",
                    "29_philly_philadelphia_nyc",
                    "30_closed_hours_sign",
                    "31_pho_broth_vietnamese",
                    "32_cake_cookies_bakery",
                    "33_room_hotel_rooms",
                    "34_nola_shrimp_trip",
                    "35_dressing_salads_chicken ...",
                    "36_korean_korean food_kimchi",
                    "37_bagels_bagel_cream cheese",
                    "38_donuts_donut_doughnuts",
                    "39_ramen_broth_noodles",
                    "40_birthday_anniversary_bir...",
                    "41_cuban_cuban sandwich_san...",
                    "42_greek_gyro_greek salad",
                    "43_reno_breakfast_casino",
                    "44_wine_wines_wine list",
                    "45_indy_indianapolis_market",
                    "46_hummus_pita_falafel",
                    "47_yelp_yelp reviews_review",
                    "48_mcdonald_wendy_mcdonalds",
                    "49_ice_ice cream_cream",
                    "50_soup_broth_pot",
                    "51_happy hour_happy_hour",
                    "52_boise_ethiopian_restaura...",
                    "53_mask_masks_wearing",
                    "54_santa barbara_santa_barb...",
                    "55_crepe_crepes_croissant",
                    "56_vietnamese_vietnamese fo...",
                    "57_buffet_buffets_lunch buf...",
                    "58_poke_bowl_bowls",
                    "59_gyro_gyros_pita",
                    "60_louis_st louis_st",
                    "61_chipotle_burrito_line",
                    "62_dog_dogs_hot dogs",
                    "63_german_le_beer",
                    "64_smoothie_juice_smoothies",
                    "65_gluten_gluten free_free",
                    "66_tea_boba_bubble",
                    "67_french_french quarter_qu...",
                    "68_st pete_pete_st",
                    "69_music_live music_venue"
                  ],
                  "xaxis": "x",
                  "y": [
                    "0_minutes_asked_manager",
                    "1_tacos_mexican_taco",
                    "2_food great_great food_gre...",
                    "3_pizza_crust_pizzas",
                    "4_sushi_roll_rolls",
                    "5_burger_fries_burgers",
                    "6_italian_pasta_italian food",
                    "7_chinese_chinese food_rice",
                    "8_beer_beers_selection",
                    "9_crab_shrimp_seafood",
                    "10_breakfast_eggs_pancakes",
                    "11_coffee_coffee shop_latte",
                    "12_bbq_brisket_ribs",
                    "13_thai_pad_pad thai",
                    "14_fried chicken_hot chicke...",
                    "15_nashville_music_burger",
                    "16_brunch_sunday brunch_sun...",
                    "17_indian_indian food_naan",
                    "18_steak_steaks_steakhouse",
                    "19_vegan_vegetarian_vegan o...",
                    "20_pizza_delivery_called",
                    "21_sandwich_sandwiches_deli",
                    "22_cheesesteak_philly_chees...",
                    "23_orleans_new orleans_creole",
                    "24_oysters_oyster_dozen",
                    "25_star_zero_place stars",
                    "26_wings_wing_buffalo",
                    "27_tucson_mexican_salsa",
                    "28_tampa_tampa bay_bay",
                    "29_philly_philadelphia_nyc",
                    "30_closed_hours_sign",
                    "31_pho_broth_vietnamese",
                    "32_cake_cookies_bakery",
                    "33_room_hotel_rooms",
                    "34_nola_shrimp_trip",
                    "35_dressing_salads_chicken ...",
                    "36_korean_korean food_kimchi",
                    "37_bagels_bagel_cream cheese",
                    "38_donuts_donut_doughnuts",
                    "39_ramen_broth_noodles",
                    "40_birthday_anniversary_bir...",
                    "41_cuban_cuban sandwich_san...",
                    "42_greek_gyro_greek salad",
                    "43_reno_breakfast_casino",
                    "44_wine_wines_wine list",
                    "45_indy_indianapolis_market",
                    "46_hummus_pita_falafel",
                    "47_yelp_yelp reviews_review",
                    "48_mcdonald_wendy_mcdonalds",
                    "49_ice_ice cream_cream",
                    "50_soup_broth_pot",
                    "51_happy hour_happy_hour",
                    "52_boise_ethiopian_restaura...",
                    "53_mask_masks_wearing",
                    "54_santa barbara_santa_barb...",
                    "55_crepe_crepes_croissant",
                    "56_vietnamese_vietnamese fo...",
                    "57_buffet_buffets_lunch buf...",
                    "58_poke_bowl_bowls",
                    "59_gyro_gyros_pita",
                    "60_louis_st louis_st",
                    "61_chipotle_burrito_line",
                    "62_dog_dogs_hot dogs",
                    "63_german_le_beer",
                    "64_smoothie_juice_smoothies",
                    "65_gluten_gluten free_free",
                    "66_tea_boba_bubble",
                    "67_french_french quarter_qu...",
                    "68_st pete_pete_st",
                    "69_music_live music_venue"
                  ],
                  "yaxis": "y",
                  "z": {
                    "bdata": "AACAP7hZLD+OjD4/jHUpP5hXID8wNDo/FlksP8TEJT8xwxw/wqEqPwXHJz9+ESA/55UkP5EXED8OCCc/yAEhPy3zIj96DRs/ijo2P/qJEj/klVE/dNYlP6BCHT/slCs/APAbP24OQT8JySM/k6sUPzxwGD/sTx0/Nq82P+KdET/2jgw/2BwyP/RWJj+wPyY/GNUUP+HJGz/L4hA/W0wTPyxYKD/ALBk/DH4WP/UCGj9OdyU/vBIWPzc2Hz8R6Dg/ujxPP7YFDz/GwyI/2mclP5LhFD++OzI/7BkUPyBMCT8/UQM/UKo5P7w8Dz/M6gs/oYIYP6fHLD8w9ww/qnsNP6aIBT++/RE/Mp3zPgV7GD9mtxM/QqsKP7hZLD8CAIA/RNFMP5wMOz8JRDw/HqxHP77USD8tD0A/l9ItP/hmRj98Yj0/jLgwP8qkQz8RsTU/9MpAP79DKj81pTM/JHtCPxZRNz/Q4EA/8HwPP6cdQT/WTTI/YrBEP7f5LD+y+CI/h7UmP4bLRz+C4Dg/iCA3P8UI9z4gkCY/xbccPzCIAT9xSUM/VXRDP+SwNz8SniA/VgIcP1g4OD+PcDk/jkxXPzPiKD9igjY/GBY4Py6rLj9MwUg/pNQ6P58hHT8g+Cs/hiBLPyQKND+sRCs/DUDxPru/Oz/U8ys/O9wtPyW8RT+58jM/uhkkP9WOMj8OajQ/nH0mP8yNIj9QvSY/vrswP4qTET/efDM/rQktPx4TGD+OjD4/RNFMPwQAgD8MdUU/lIxAPxSaSz+A+04/AoA+P7nWUj/WAUw/pmpOP/YmRT8cAks/4mE3P3J1Qz9ozEw/JEJQP+DVRz+4zUs/AO5DP6AvET/EcUw/WIk3P8CFUT98Fzs/HlBAPyaPOj+qXEU//k5LP92fUT92BRM/suU4P9eiMD+QdiI/HaxPP6DbTj+mezo//kMnP1PKIz/CkTs/i6RZP8EHPj+Y4j4/jpVPPwqYVD8s6EU/DclKP+/DSz+o5hs/I6I9P54AUz+FpUw/FP1LP2RdAj9WN00/BlIzP/jHMT/Aw1c/3Wg2P3WUND/S2kg/iZEXP4ojMz9miTo//AorP4BdND9afiE/nfZLP6+WRz+aK0o/jHUpP5wMOz8MdUU//v9/P5jiNT/8kDY/sE1bP2JsLT8saR8/jIg9PzTEOT9rEyE/URo0P+5jFz9igjA/hsgkP0FXJj92TB4/vq46P8TYKj9OsVM/REVGP+Q4Rz8KPjY/kf49P/ieKD9sLSo/Gt4dPxyQLD9M7UA/tH/5PmKYJj88cSM/q7wKP623Nz8me0A/GYoiP+rGHj+myh4/LIYSP8pnOT+vsTA/iq4yP65vJD9SzDA/uG0uP+r8Nz+wRy0/kLsNP058LT9SX0M/XjQqP/I3LD//E+Y+esclP05YIz9K1Q0/uO03Px7PHD/KCiA/8rM2P0cHFj8afxk/xHocP/9iEj+JryQ/bj79PgwBMD/06Ck/3IEcP5hXID8JRDw/lIxAP5jiNT/5/38/FcstP1MRPD+E5Uo/qf0XP0BHRz/IAyk/NOgPPxLnKT+y3To/wbIxP/8kET+InC0/yiZAP2AYLj+EUSs/2NoPPzytND/UxBw/8q0hPxAIMz8uLyc/csIjP3AeGz+4cio/Yj8jP8bA4j7YXiw/ejAPP3wi9z665jE/6uY9P0KqPz+qsRc/NP8NP/QqQT8+oSw/xGsrP2I3Jz+0ciI/ToAlP5qZGj9mxDg/Fm0rP/RFCT+Osh8/jGdDP+MIHj/Lnik/a9bSPnmWLj/4gAg/aDcnP1U1OT+BrzQ/3xshP1pdFT/CvAU/hd4TP54/IT9U6xY/ZMIZPxaKEj8SbQQ/GKslP/4pDD8wNDo/HqxHPxSaSz/8kDY/FcstP/7/fz9M2DE/+2IvP5VIMD80LD4/siJCP0NjJD+Y2ko/Bg8yP7vUSD/jMjY/Mzk3Pwm9Kz+Q80w/4rs7P/o8GD9Mpk0/7K1APxwhRD8RwC4/6pIzP6LPOz8IJic/eJ4vP1BSMz8p1QE/ZXIjP6JvJD/CUwA/HxAvP4dvRD8+PzA/65AfP2B5JT9JZDA/1BEwP4QbPD8mHBo/JqYwPxztKT+euTg/yrIzPxefNT/vUEg/SvItP75PPz9cHSg/PNckPyqJAD9iiCs/IvcePx7RGj/G9ko/xssYP3WRIj/swDU/2vQrP1CwOT8zcS0/SUMfP7wqKT9oeQE/hMEqP8AlLj8E1BE/FlksP77USD+A+04/sE1bP1MRPD9M2DE//P9/P9D5PD/9ASQ/zi9IP83hQz+iECI/xoo2PxbkJz/UUT8/UBIzP48wOj8omT0/qsJIPzxXNj9EVCg/O01MPzYdRz+1dT0/lvo3P+c2KD8GiC4/TDgpP2bWOT+56kI/clTsPoq6MD9KuR4/iwMIP7hWQT8hGk0/E3cqPzoHGD8XIgs/pogwP8EbRD/E4jw/HHtIP7yPJT/MGkY/Rjc7PwoCSD+iOjM/pkgHP13RLT9qplE/WisrP6jnNj/0uuA+aGspP7P7KT/qcSI/eEtGP+yAJz+oOSw/jCUrP9zvGz/yJRU/f7MwP9lzET9Brio/4CkSP4wYPj8TVzM/OjUZP8TEJT8tD0A/AoA+P2JsLT+E5Uo/+2IvP9D5PD/+/38/wPUTP3P9QT8rPjk/QeoRPxJRMz9w3Fc/s+5LP8PtHz9GZDM/ehpRP64/Kj+GGjI/uP8NPy6LNj8Qzxo/jHYpP5gZLD9SESA/NlEpP+7iIj++bhw/DnYsP8x43j7Ycj0/opUeP2hl6j4QfCk/Yhc/P4C5Vj9v+w4/h7gdP/ykTz9a0CU/tDc2P1/SJT94QSk/tkQiP8IqIT8IFUI/RC4xP77RDT8+iR8/1a5UP1V+HD+BoDc/sGLqPiRHHT8ybB0/CSZUPxzcPj/mNzw/4uwiP3YnIj9+4hM/BGMoP1iZIj9yFR0/SogfP0+ZHz9Jah8/hUgkP9Rk+z4xwxw/l9ItP7nWUj8saR8/qf0XP5VIMD/9ASQ/wPUTP/v/fz/Wtic/2rciPzQ/Qz8gIEI/nEMNP3zvFT+WBz8/alM5P9dKHD+s7jE/rAsZP7RKzD50viU/08IZP9/XPz8oKSk/U5klP44wOz8i8i8/ECdEPyvBRj+gHQc/RF8ZP1VvCT+Xwx4/G7Q8P4PBHj/rlxI/cjIPP7+zEj8sqiA/s1A7P/uzID/eyxE/34BFP0glYj8gljQ/bpEfP/M2Mj/WAf0+VrgmPzJLKD/cs0k/owA7P6xsxz4qxz8/FOAPP7RFDT+iFjY/JIEYP/WXBT8ETkI/gmLjPtTAIj+mODg/xNIUP26HBj9wHxc/eGU5P8UXPj9KBFY/wqEqP/hmRj/WAUw/jIg9P0BHRz80LD4/zi9IP3P9QT/Wtic/AACAPzSXPj/oOwk/xmhOP8dxPD/8ckM/LvguP25SQD+Z7jo/yvNJPzQLNT/t7BA/72xFP/I/PT9WCkQ/DMleP1bRJj/ufjE/kp0oPyjDOT8OezY/j9TpPslCMT9uTx4/BrgCPzvTNj8PA0Q/Ze4vP76bHD9cog4/zDs7Pya7QD98HUA/uO4nP99LLD9oJj4/HLctP7ArPT/UAS8/xMoFP7ZvKD9Nkkk/LAEtP/0AND/sT+I+JKc5P7KSJD9ogzA/8spMPz+5Oj+R5yY/gUAuP2pFJD9+EB8/ZPEkP4mjFT8fsSE/ckAKP8IOKD/cxjg/I4kUPwXHJz98Yj0/pmpOPzTEOT/IAyk/siJCP83hQz8rPjk/2rciPzSXPj/8/38/BjUuP4RtNz/c1CM/bBdHP8yKMz/mRk8/CDE6PzgPOD+8Rjs/H4kKP3ItUT/tjTU/xrY0P9geKz8yfSI/bvooP2qtMD8qayc/f3E4P2W4+z4GmSY/VtJDP/rg9D7P5jQ/djRMPyTgIz/8iDI/eyQ8PwygNj+qOD8/AcMyP8oQKz/Auy4/I/wxP2JaOD85y0I/uBY9P1yMFD9YZD4/vsFMP4xrND+o4DM/qTHgPghpLj8caEM/qGciPzATPT9ayjQ/GPAoP08ELj+uCSU/yPclP1QMKj/EPCg/M4s3P/awIT9wEDo/mBotP4j1DT9+ESA/jLgwP/YmRT9rEyE/NOgPP0NjJD+iECI/QeoRPzQ/Qz/oOwk/BjUuP/z/fz94qhM/63ANP5RtCj8O4Cg/GH4qPzzKGD82CRA/kBEXPyAU+j508SQ/iOUKPxAtJz98IA0/QB0XP9Z4Bz/s6iw/F+8qP/IiLD9yZAM/INYTP4jfHz9ORw8/XlAnP4I0FT+Vpgw/MGwmPxGtIj8OwwQ/xjQhP2hAGj/kbBE/qpcuP1J3Nj8qcBg/cqUgP36LMD8mQRY/tiQ5PzL7KD+IbDA/f+slP5209T6GsiU/Xvk2P7xJ+T7FSh8/BMskPwtNBj90syU/+UUAP8BRDj96hhc/lJIzP46GBD9wsDs/hD8wPwggKD989So/55UkP8qkQz8cAks/URo0PxLnKT+Y2ko/xoo2PxJRMz8gIEI/xmhOP4RtNz94qhM/AgCAPx6EIz8p/UY/UMg2P2+IPT/CCTM/IypSP18YOD/yAwU/rPxGPxhjNz/eOT4/XpdAP0AFJj8eCzw/OCQ2P2xnNz9G/jc/10jrPqgsJj8uqRo/FWsDP760MT9kEzs/tJUqP4wKIz/ehRk/GToxPynWOz+yV0s/JDwVPzb5OD+sGEU/fDAyP966RD88OjE/q7gGP7IpIT8uWz8/ZtUtP648Nj/Y6dw+kgY2P9LLGT8Q9yM/4mVGP9GhGz+Ughs/hBJBP7bfGz/CyDE/QLIxP5S7Fj9KSCM/Luf3PmgsJj+t1TA/1LQgP5EXED8RsTU/4mE3P+5jFz+y3To/Bg8yPxbkJz9w3Fc/nEMNP8dxPD/c1CM/63ANPx6EIz8AAIA/CjQ7P0f0Fj9qRiQ/e2tTPxWOGT+Vvio/mHfePkhxJj9WQw4/SjEjP3i2IT+B6wk/RtwQP/bZFD8ehhA/Pv4fP0RBuj7uszg/e9ULPwrC0j5aHx8/Mlg3P/qFST/suu8+VBUHPwbKQT/8zh4/UfUoP+ilFz+MBB0/gCQZPzYSIT8iAC4/XtUcP4C5BD9IEhA/NQBHP2yuEj+Lixg/uMrKPlvIDD8iMw4/8gJTP1p6OD/wAis//oodP4peDz+8t/Q+NgcXPwHNCD/eQBo/bNgTP8ZDHj/ErxY/fS4aP0gr8j4OCCc/9MpAP3J1Qz9igjA/wbIxP7vUSD/UUT8/s+5LP3zvFT/8ckM/bBdHP5RtCj8p/UY/CjQ7P/v/fz+oPDI/jL86P2APRD9LRzs/95U9P4yyCj+ow0U/JlYvP9HZMj/wWic/vkAlP8CsQz+7BiY/bLYrP8AQLz9EQdY+SFIrP5jgFz/g0eY+9rkrPxRMSz/k6Tk/f6cQP8QTED8SDUY/mp8rPzKiOT8VJCo/eOooP71gID9wuzA/DhpLPxRBLj+57yE/BjcgP86aUj9tGhk/JI0kP5jh7D5sCh8/whggP0xdLj/5OTo/dpArP245NT9KqiY/QEIoP2ygMT8WUho/RHMaP54PJj9H0hM/0CAbP6wdKz9ceAA/yAEhP79DKj9ozEw/hsgkP/8kET/jMjY/UBIzP8PtHz+WBz8/LvguP8yKMz8O4Cg/UMg2P0f0Fj+oPDI/AACAPxH7Mj8AriQ/siIzPwrGHz+Uye8+KQ8wP4IJKD8kc0I/QMogPxJhJT880iY/ydE1PzhSST+MVEQ/RAkBP1yNHj/MehA/HyoSP9t2NT9+oi0/dm4gPzZk/D5obA4/sBchP+N+OD+Kwxo/fsIiP7DBQj8Ifzc/WHZBP+NHKD8oQyY/2LwUP9yUJj9ErjI/OjktPyYGND89ps4+DC4rP0K5Dj/fthg/T6IyP73XJj88DBc/xN88Py+7Ej+MFR4/9kgUP4wLGT+CvRA/2HgMP6LALz/+uTo/6i09Py3zIj81pTM/JEJQP0FXJj+InC0/Mzk3P48wOj9GZDM/alM5P25SQD/mRk8/GH4qP2+IPT9qRiQ/jL86PxH7Mj8BAIA/Uj0uP7gkOD/ONi0/TtPsPhIbQD8VRCk/mv42P//LLz+6tR4/cmUsPz4VKj+OQjQ/9qQyP+YHAD8Hvx8/KpYtP3CiBj/iqi4/tINDP9C4Iz/mkSg//sgaP4nwNT+yS0c/2OkuP0oWID/mgys/z4Y/P0R1MT8o3DY/oNI9PxbhBD/HEyw/XVI/P15TOD/mmDQ/uEPXPrw8Nj/+Lzs/yEYePyrJPz9k+yQ/dLogP14/NT9R+g4/+v8cPztINj9L7hI/SWktPyyAID+Mujc/Ip48P4O6KD96DRs/JHtCP+DVRz92TB4/yiZAPwm9Kz8omT0/ehpRP9dKHD+Z7jo/CDE6PzzKGD/CCTM/e2tTP2APRD8AriQ/Uj0uPwEAgD+VozE/POM6P1Tl4T7lYzk/7dwfP9a8Mz8mlCE/PGchP3LhJj8CtC4/BmAfP+YgMT9twdM+JpgtPxIdGz8GyNQ+kMM3P3g1QD+AY0Q/xJwSPzDJEz8AVUg/ViYwP+CLJT8tFSg/HpUnP98oLT8o/i0/OZJMP3KTLT8CzfM+fr0aPzrmTj9Qcx0/0QYwP8oi0j7Idio/UQQcP+ICOD8aKD0/feguP96EKT9wCxs/iMERP4IYHj/yXiE/CQcfP+rZIz+T8yw/zNMePz+ZFz+PtwY/ijo2PxZRNz+4zUs/vq46P2AYLj+Q80w/qsJIP64/Kj+s7jE/yvNJPzgPOD82CRA/IypSPxWOGT9LRzs/siIzP7gkOD+VozE/AQCAP6YdOj/K7hU/fDlIP7IyTD+Qtz4/bS46Pz65NT8KlTk/irQxP1jeLz8m7jQ/+kjzPqZ+JT9mmxM/SLMHP0a0LT+2Njg/zaIhP9QAEj9bSQg/3q4kPw0LOz/Glzo/veQlP8fuKz9oNkg/COIuP1ZONj9w8Cw/3ooPPyMJHj8iqT0/aHMhP1lsLT9gK+8+ceUyP5geGT8w/BY/xJVAP2RQHz+aWhg/8OwyPzWQJD/EISg/rgMsP9uSBz/e7x0/CFD0PgizJT9+xTY/8uUaP/qJEj/Q4EA/AO5DP8TYKj+EUSs/4rs7PzxXNj+GGjI/rAsZPzQLNT+8Rjs/kBEXP18YOD+Vvio/95U9PwrGHz/ONi0/POM6P6YdOj8AAIA/bAf2Pm61QD9OlDY/8jMvP/qTJD/e1xQ/2LIgP+JLJj842yA/5rQlP5/vzT7J5yk//MAhP4stwj5b4yk/VuxCP9AqKD+EEhQ/qzEaPyAdMj8AzyY/GPk5PypiJT/w7C0/eOkoP00ZKj9TdkY/VkwyP7gDAz9y8Cg/6LRFP+pwFz9usDQ/CNzhPswCLT9qliE/YnUmP9bWMT/ULCI/hVowPxrPID/uBB8/qxIiP9rKHj9NHio/L3w9P0baGT931CM/ZvUhPwiHBD/klVE/8HwPP6AvET9OsVM/2NoPP/o8GD9EVCg/uP8NP7RKzD7t7BA/H4kKPyAU+j7yAwU/mHfePoyyCj+Uye8+TtPsPlTl4T7K7hU/bAf2Pv7/fz8LNBQ/bAkbP3C3Bj+awxE/aqAiP1paCz8xyd4+1sjqPhjvCT/+3xw/3O39PhmSAD8QGgw/9FkIP9woDj+qcPI+WJoKP2zZAj+4S8w+aI8GPw7vAT8+Pwc/LgXnPlEK8D5Gt/M+xC8KP6i9GT9VnCs/il/3PuWxDz8o3gQ/G7PsPtyYED+szNw+8GHvPnwDxD7i9xA/WCDoPkAh8z7/EAI/eiobP1V44z44ytQ+LnziPqsgAz9M7q8+58n2Prn/6j6O78k+dNYlP6cdQT/EcUw/REVGPzytND9Mpk0/O01MPy6LNj90viU/72xFP3ItUT908SQ/rPxGP0hxJj+ow0U/KQ8wPxIbQD/lYzk/fDlIP261QD8LNBQ/AACAP6swRz+vljk/It5BP5PgJz9GMzA/0gQuP8wsLj/rizM/MBjpPujzJj/UySY/DJ/qPnCINT8UXU0/QvsqP81uNz8ygCQ/wpUsP6h6MD9seEU/dg0xP2iHIz+ozS8/i/8zP8cPUT+Y2jQ/cqQcPy8ELj8qJ0s/HHMmPz6qLj/ihPQ+FiYvP+pXLD8wvyM/8jVDP25lHj8CfCQ/ngsuP44jHz9WAC8/joQyP66CHj90rjo/QAMVP2bPMT9akyk/cOoNP6BCHT/WTTI/WIk3P+Q4Rz/UxBw/7K1APzYdRz8Qzxo/08IZP/I/PT/tjTU/iOUKPxhjNz9WQw4/JlYvP4IJKD8VRCk/7dwfP7IyTD9OlDY/bAkbP6swRz8AAIA/MPMxP+bmJz+ZGhk/2tojPxicEz/K0Sw/OKdMP6zw3z7Qjh4/IPMZP5ja0z6wvis/vDY0P+FNGj+Tax4/ekoTP1LpFT+owis/CEcwPyOaJj/GRx0/CfsyP1EzNT8igSw/ufcoP7RGEj+Ghic/dug0P2ruFD9Acx4/yFHoPmDuHD9+7Bo/NaEFP3GMMD8Ozwk/okMcPzi5Jz8EfyI/OFwaP/QVGz/OcAg/aiYYP0goAj+iwR4/bSImP66wBT/slCs/YrBEP8CFUT8KPjY/8q0hPxwhRD+1dT0/jHYpP9/XPz9WCkQ/xrY0PxAtJz/eOT4/SjEjP9HZMj8kc0I/mv42P9a8Mz+Qtz4/8jMvP3C3Bj+vljk/MPMxPwIAgD+MaTo/FMorP/yRMD8HdSY/9hRKPzW5RD82mwA/cLsjP2b0Dj9YJxE/fm9VP9TTOz+k8jA/mCUUP8SpFz8aoig/ZrY7P+HuNz/2tBs/03k9P7KpPj+ybUM/nq80P56fMT8RnQo/vM4dP4zcPT+AESw/zPs8PyQl/T6CpD8//O0XP/g7Kj9ZzkA/hPwaP9YmGD8L01Q/puYPPyagKz9ivSg/7GIOP86eJz+2cAg/F3BGP1R4QD+IoDE/APAbP7f5LD98Fzs/kf49PxAIMz8RwC4/lvo3P5gZLD8oKSk/DMleP9geKz98IA0/XpdAP3i2IT/wWic/QMogP//LLz8mlCE/bS46P/qTJD+awxE/It5BP+bmJz+MaTo//v9/P3avGT9w0So/OLAUP4jqIj/eZSo/Fp7fPjReIT+NYBc/Fqj9ProfJz+uGzU/xugcP933ID/+wBM/dJUmP+IrMD+GASg/tHISP4+dFz8AkTk/350VP1pCLz8qIxs/vy/3PuATID/XUTk/wgAlPyEXKT/WMdk+TuEpP+w1Fz/iKQ8/Xtg0P4jMIz/ULQ4/lxwrP6jgCz+03BA/HmwgP9qMDD9Kixk/lvYHP6KAID+a0CI/wuQSP24OQT+y+CI/HlBAP/ieKD8uLyc/6pIzP+c2KD9SESA/U5klP1bRJj8yfSI/QB0XP0AFJj+B6wk/vkAlPxJhJT+6tR4/PGchPz65NT/e1xQ/aqAiP5PgJz+ZGhk/FMorP3avGT/+/38/4AoqPzsxHj/MIRo/Ho8iP/PXDj/ieBI/TV4NP0vXFz9ZXCc/EqkjP4R/Gj9Cpxc/UFwOP4xqED+/Piw/4DYUP4yHGz/lBxs/KH0pP9KtGT9BnCU/MxE6P64lJD+4Mg8/cowoPxYPID9cUxI/YsEBP5b5HD/AHAY/zon7PhbwKz/k/hc/x2wIP8asGj826RM/F7EWP1pkFz8Kcgg/yJYQP49k+j5umhk/CFgWP/sMFj8JySM/h7UmPyaPOj9sLSo/csIjP6LPOz8GiC4/NlEpP44wOz/ufjE/bvooP9Z4Bz8eCzw/RtwQP8CsQz880iY/cmUsP3LhJj8KlTk/2LIgP1paCz9GMzA/2tojP/yRMD9w0So/4AoqPwAAgD/Lnxw/SKgqP8Z0Lz9E1vE+ddsWP+7iDT8TQvk+bqEsP6WRLT/2NRw/1McYP2YGAz/gmSs/YPYiP9eBHD/R4ho/fA4hPzQ9Mz/zviI/YvopP44YKj+eixI/oAsWPye+MD/eVyk/cuUmP8Fr3T7R7h4/8l4IP4ciCz+yDyg/WssTP7bXGT/Qxi4/+tYLP21iJz94jSg/DAMEP4hjEj/BtP8+at0WP6JkJD/w1g4/k6sUP4bLRz+qXEU/Gt4dP3AeGz8IJic/TDgpP+7iIj8i8i8/kp0oP2qtMD/s6iw/OCQ2P/bZFD+7BiY/ydE1Pz4VKj8CtC4/irQxP+JLJj8xyd4+0gQuPxicEz8HdSY/OLAUPzsxHj/Lnxw//v9/P+pJKD8rpjA/BKLoPhggHD/E2iA/+sABPzwsLD9usy4/+LAZP7WQCD+Ofxk/hqUfP3ZsKz+O2T0/lucoPz0fQT/euTI/1MQiPz6eND+bFyg/rp/7PmpBLj8yiDE/bB8tP6yvLj/Ejdg+ZOVHP/6pHj8SZxs/iXUtP8YwJj9w9xM/iAgqP/TTFT+8tBw/iwoJPyXIID/qCxk/jq0LP55vHj9uoSE/vhAgPzxwGD+C4Dg//k5LPxyQLD+4cio/eJ4vP2bWOT++bhw/ECdEPyjDOT8qayc/F+8qP2xnNz8ehhA/bLYrPzhSST+OQjQ/BmAfP1jeLz842yA/1sjqPswsLj/K0Sw/9hRKP4jqIj/MIRo/SKgqP+pJKD8AAIA/BGtCP6+uAD+C/B4/VHkDPyJ/FD+8IkI/mmE2PzhtHz+IXAg/T6EFP/ygGz8AuzY/FRo1P0RiFj9Acjg/GHRAPyhzNT+MdiU/Xm0qPyKLBj+JoyM/YOIzP4IwMT8uKjA//a7aPgIhSj+qCw0/JK0SPyn9PT+a1SE/7iETP+z4QD/1HgA/ROcZP0B7HD/NDhM/r0kTP3gAEz93Myo/quJRP7xLNT/sTx0/iCA3P92fUT9M7UA/Yj8jP1BSMz+56kI/DnYsPyvBRj8OezY/f3E4P/IiLD9G/jc/Pv4fP8AQLz+MVEQ/9qQyP+YgMT8m7jQ/5rQlPxjvCT/rizM/OKdMPzW5RD/eZSo/Ho8iP8Z0Lz8rpjA/BGtCP///fz+H5gQ/lBkwP1b5HT9GAA0/zglHP9CvND8ykCk/DtoYP1r/HD9QjyQ/NKE9P7a4KD/wkyo/3ok6P8KgPz985kY/fk0wP2glMT9iAA0/pmItP3IIPD94NDk/LswtP79kzz7o9DM/jnAbP7izEz/uVTs/unsfP94XHz+MQT0/gt4UPwQlJD/umhk/uioTP7QPFz9LiRM/PcYtP+FxOj9MjzY/Nq82P8UI9z52BRM/tH/5PsbA4j4p1QE/clTsPsx43j6gHQc/j9TpPmW4+z5yZAM/10jrPkRBuj5EQdY+RAkBP+YHAD9twdM++kjzPp/vzT7+3xw/MBjpPqzw3z42mwA/Fp7fPvPXDj9E1vE+BKLoPq+uAD+H5gQ/AwCAP2BUyj4oG8g+9HQUP/IsBj9iqN0+YX7NPuTC8j4W+ec+8nXJPrSN9z7fYNY+ZDXZPuRzAD+c2PY+5ob3PlqX4j4qtRc/FKkVP/Dxzz4qpOM+TukbP57U5j5YqQY/0Fr1PkgFyT56OLI+KSsFP5ZZzz4AA8w+iCj1Phiv+j5Bmsg+GWXXPjoauz4wB9c+TXuuPmQF8j4xj/Y+jTEJP+KdET8gkCY/suU4P2KYJj/YXiw/ZXIjP4q6MD/Ycj0/RF8ZP8lCMT8GmSY/INYTP6gsJj/uszg/SFIrP1yNHj8Hvx8/JpgtP6Z+JT/J5yk/3O39PujzJj/Qjh4/cLsjPzReIT/ieBI/ddsWPxggHD+C/B4/lBkwP2BUyj4AAIA/gYAUP3kf7T6clyY/TIsxP4YKMz+GsPk+zdYHPygVKD/Xzxk/kvklP9R1HT8lcyg/qUskP4x5Jj8gUjA/efgrP0i66j5AxB4/hPFBP+J5GT/eHCA/Ox7NPuwWHD+nhRg/C/xDP3EyKj8icCo/m6whPzsDHj+8a/w+uwIZP1HbBz8IsyM/lvcNP5rEIj+RtBg/4hckPw8CBz/2jgw/xbccP9eiMD88cSM/ejAPP6JvJD9KuR4/opUeP1VvCT9uTx4/VtJDP4jfHz8uqRo/e9ULP5jgFz/MehA/KpYtPxIdGz9mmxM//MAhPxmSAD/UySY/IPMZP2b0Dj+NYBc/TV4NP+7iDT/E2iA/VHkDP1b5HT8oG8g+gYAUP///fz+iktA+olMOP65qID8g3Qs/ZtsiPzxtQj+YuBc/qz4wP9ZdDz+QtAk/WIwVP4u1Gj9OARE/uSwmP3OLJz/jBeQ+WNFMP/i+Hz+LRhw/w2cgPyuxvT6/VRs/VGQ8P2avBz9R+SM/DJURP15SDj8gHhk/g6ULP7iVGT8uJxA/wfcpPwj6HT82SCU/xk4YPyE+Bz/UHfI+2BwyPzCIAT+QdiI/q7wKP3wi9z7CUwA/iwMIP2hl6j6Xwx4/BrgCP/rg9D5ORw8/FWsDPwrC0j7g0eY+HyoSP3CiBj8GyNQ+SLMHP4stwj4QGgw/DJ/qPpja0z5YJxE/Fqj9PkvXFz8TQvk++sABPyJ/FD9GAA0/9HQUP3kf7T6iktA+AwCAP1ZbET/LPeQ+FwbrPiwZ0T7EZe8+c2jjPjF5Ez8w/fc+bkfsPnUvHz9HrRk/QPf1PuTf2D7qBRQ/LBwAPzSB3T54qOE+XDwXP4CA9z4PXgM/Z3kFP5SnzD4jFdU+U/EUP8ED3D42Kdk+5CQMP+zY0T6HAtg+ox/mPjIkqj4CQNI+PhmpPrYdCz/UIwg/WNYuP/RWJj9xSUM/HaxPP623Nz+65jE/HxAvP7hWQT8QfCk/G7Q8PzvTNj/P5jQ/XlAnP760MT9aHx8/9rkrP9t2NT/iqi4/kMM3P0a0LT9b4yk/9FkIP3CINT+wvis/fm9VP7ofJz9ZXCc/bqEsPzwsLD+8IkI/zglHP/IsBj+clyY/olMOP1ZbET/+/38/TBE5P6hWJT9AVhk/Y2wgP4aPID+rbTQ/DYYvP4JbLj+qMDw/3rE8Pwn5NT9mXzs/4dg+P6vvCT+GoiI/PpU4P449MT/DEzs/Oz/xPsu9NT8t2wU/JtIiP7p3OT/rOR4/WHMaP8AzPz82bwY/WVEkPzDiHz/crBQ/85UpP8WeEj/mxi4/aWs2P0CbLj+wPyY/VXRDP6DbTj8me0A/6uY9P4dvRD8hGk0/Yhc/P4PBHj8PA0Q/djRMP4I0FT9kEzs/Mlg3PxRMSz9+oi0/tINDP3g1QD+2Njg/VuxCP9woDj8UXU0/vDY0P9TTOz+uGzU/EqkjP6WRLT9usy4/mmE2P9CvND9iqN0+TIsxP65qID/LPeQ+TBE5P/7/fz/SwS4/EzckP7I1Gz/uPEU/mps9P/oWOj+DpjY/OMgxP9YQNz9sDDc/EDZKP/w1NT/xuhQ/Ln0uPy4TWj8QSyk/IxUwP7bl6T6JTDY/YpYmPwMjKj9Iu00/g8stPxGDJD/txS4/MCoXPworGz9wjCI/OCs1PwQzOz+K5Bs/angyP6iCKT9Y7w4/GNUUP+SwNz+mezo/GYoiP0KqPz8+PzA/E3cqP4C5Vj/rlxI/Ze4vPyTgIz+Vpgw/tJUqP/qFST/k6Tk/dm4gP9C4Iz+AY0Q/zaIhP9AqKD+qcPI+QvsqP+FNGj+k8jA/xugcP4R/Gj/2NRw/+LAZPzhtHz8ykCk/YX7NPoYKMz8g3Qs/FwbrPqhWJT/SwS4/AACAP7IP+j50UQ4/Pi86P1vHJD+U5S8/yF4rPx4TIT/2Rxc/ZFccP4yfND/UlCQ/KK0FPwRqET+yND4/8BMTP6wAID/yJMQ+BhwWP2+9BT+m8EA/XYcwPz52JT9chB8/R6wmP6VwAj+srhw/VuIjP17KBj9YnRE/xFwLP6ieET84oxg/ehMKP+HJGz8SniA//kMnP+rGHj+qsRc/65AfPzoHGD9v+w4/cjIPP76bHD/8iDI/MGwmP4wKIz/suu8+f6cQPzZk/D7mkSg/xJwSP9QAEj+EEhQ/WJoKP81uNz+Tax4/mCUUP933ID9Cpxc/1McYP7WQCD+IXAg/DtoYP+TC8j6GsPk+ZtsiPywZ0T5AVhk/EzckP7IP+j78/38/0iorPyGBDD+qXxA/JPwMPyyiBD98ZgE/8NoQPy5qCD8+dik/UpMnP1wLDz/0Iyc/QMcZP9xXEz9d/gw/iuHkPs3rFj+WdSM/xlTRPp4hEj92lAU/ll31PjqFDT9iFRs/KJQLP/0QGD9i4hg/3ngfP1qCDT/AIw4/+EEEP7aY4T7L4hA/VgIcP1PKIz+myh4/NP8NP2B5JT8XIgs/h7gdP7+zEj9cog4/eyQ8PxGtIj/ehRk/VBUHP8QTED9obA4//sgaPzDJEz9bSQg/qzEaP2zZAj8ygCQ/ekoTP8SpFz/+wBM/UFwOP2YGAz+Ofxk/T6EFP1r/HD8W+ec+zdYHPzxtQj/EZe8+Y2wgP7I1Gz90UQ4/0iorP///fz/8PBs/SrATPzlxET9btvY+ibIZP2DFDz/WwxE/apkkP87cIz/gHwE/UA0/PyS2GD8Uhxc/bS8XP26F2T46WRA/hd0gPyWlAj+WpQ0/DK8SPyNjAT/vRCA/XrwGP7kbKD+ZwhQ/tnQjP3TPHD8uwxA/4YgWP0B7+j5akfo+W0wTP1g4OD/CkTs/LIYSP/QqQT9JZDA/pogwP/ykTz8sqiA/zDs7PwygNj8OwwQ/GToxPwbKQT8SDUY/sBchP4nwNT8AVUg/3q4kPyAdMj+4S8w+wpUsP1LpFT8aoig/dJUmP4xqED/gmSs/hqUfP/ygGz9QjyQ/8nXJPigVKD+YuBc/c2jjPoaPID/uPEU/Pi86PyGBDD/8PBs/AACAP2BuKj/OUx8/PJ8cPyFeLT8nlCk/YCAmPy5xPD/K5R4/vSb1PgDaHT+kcUo/IlEcP90yMj9Jzbk+Wm4nP7SGEz91cjU/2oY4PxK3Jz8pIR0/4voePwFqCj/RCBs/MY4iP3SPGj9VeR0/ysIWPy6rID/YjRk/qHMHPyxYKD+PcDk/i6RZP8pnOT8+oSw/1BEwP8EbRD9a0CU/s1A7Pya7QD+qOD8/xjQhPynWOz/8zh4/mp8rP+N+OD+yS0c/ViYwPw0LOz8AzyY/aI8GP6h6MD+owis/ZrY7P+IrMD+/Piw/YPYiP3ZsKz8AuzY/NKE9P7SN9z7Xzxk/qz4wPzF5Ez+rbTQ/mps9P1vHJD+qXxA/SrATP2BuKj8AAIA/ekssP5tWKz+YljU/7llLP4W/MT+LLi4/IJMrP5r97T7SBi0/EKg3P9zyQD/XpTI/0rjHPtrJNz/EEiE/xbEXP0CeQz9XMR8/hiIePz76NT9HIAU/yEcWP0SMKj+aLxA//RQXP6h9Cj9PNTk/eKgzP36rNj/ALBk/jkxXP8EHPj+vsTA/xGsrP4QbPD/E4jw/tDc2P/uzID98HUA/AcMyP2hAGj+yV0s/UfUoPzKiOT+Kwxo/2OkuP+CLJT/Glzo/GPk5Pw7vAT9seEU/CEcwP+HuNz+GASg/4DYUP9eBHD+O2T0/FRo1P7a4KD/fYNY+kvklP9ZdDz8w/fc+DYYvP/oWOj+U5S8/JPwMPzlxET/OUx8/ekssP///fz+Gux4/6T0vPyhHLj+5bxQ/Nu8+P/jTKT9pOQo/hL8fPxVdOj8hUR8/bU0fP5Zt5T484y8/QOQbP26hNj/EUEE/5sQaP7RQFz82riI/Zv8OP0JaIj+guhs/OD4TP87oID/4VP0+67YdP0Y/NT9UPwY/DH4WPzPiKD+Y4j4/iq4yP2I3Jz8mHBo/HHtIP1/SJT/eyxE/uO4nP8oQKz/kbBE/JDwVP+ilFz8VJCo/fsIiP0oWID8tFSg/veQlPypiJT8+Pwc/dg0xPyOaJj/2tBs/tHISP4yHGz/R4ho/lucoP0RiFj/wkyo/ZDXZPtR1HT+QtAk/bkfsPoJbLj+DpjY/yF4rPyyiBD9btvY+PJ8cP5tWKz+Gux4//f9/PzbFJT8VwCk/QHcoP0usQT96Oic/kvoAP2PKID/mlTE/nEkbPxSaJD9WRcU+BNMOPxxkDD+OQRE/RwQwP227Gz9TuS8/sMwYP096Aj/gZfw+PnkYP8QrCT+Sjhk/ig/8Pm62Iz/kNx4/S2cLP/UCGj9igjY/jpVPP65vJD+0ciI/JqYwP7yPJT94QSk/34BFP99LLD/Auy4/qpcuPzb5OD+MBB0/eOooP7DBQj/mgys/HpUnP8fuKz/w7C0/LgXnPmiHIz/GRx0/03k9P4+dFz/lBxs/fA4hPz0fQT9Acjg/3ok6P+RzAD8lcyg/WIwVP3UvHz+qMDw/OMgxPx4TIT98ZgE/ibIZPyFeLT+YljU/6T0vPzbFJT///38/rKE+P7J6Oz+yRSQ/grovP1VZ/T4wUi0/5J8zP94kMD+adkk/3vjgPkvmPT/G7Aw/8u0rP0A+OD9wSCM/btoWPzAKPT8w+v4+fCkgP+YyFT+ylRk/7n4RPxigCz86cS4/uDc3PybmNT9OdyU/GBY4PwqYVD9SzDA/ToAlPxztKT/MGkY/tkQiP0glYj9oJj4/I/wxP1J3Nj+sGEU/gCQZP71gID8Ifzc/z4Y/P98oLT9oNkg/eOkoP1EK8D6ozS8/CfsyP7KpPj8AkTk/KH0pPzQ9Mz/euTI/GHRAP8KgPz+c2PY+qUskP4u1Gj9HrRk/3rE8P9YQNz/2Rxc/8NoQP2DFDz8nlCk/7llLPyhHLj8VwCk/rKE+PwIAgD+q8zE/uiEwPxdtMz9CvN0+DHosPw6EPD+2d0Y/HoU9P2Bqyj4GfTw/iJsnPz4aHj9Qj0E/hocfP4muFz+G0z0/NAH0PtSIFD8H/zo/TzcgPz4EFD8d3SY/2P1FPySXPj/HdD4/vBIWPy6rLj8s6EU/uG0uP5qZGj+euTg/Rjc7P8IqIT8gljQ/HLctP2JaOD8qcBg/fDAyPzYSIT9wuzA/WHZBP0R1MT8o/i0/COIuP00ZKj9Gt/M+i/8zP1EzNT+ybUM/350VP9KtGT/zviI/1MQiPyhzNT985kY/5ob3Pox5Jj9OARE/QPf1Pgn5NT9sDDc/ZFccPy5qCD/WwxE/YCAmP4W/MT+5bxQ/QHcoP7J6Oz+q8zE/BACAP8tVKD9qhio/h34GP7CfID9uOz4/6qApP2xvOD/C8M4+VYktPygcEj/pviY/2z4vP+ZDED9cIBw/voo4P/2OFD9llSk/0QEiP/jHBj9GtRg/9jLvPmS9MT9cwDA/qM8kPzc2Hz9MwUg/DclKP+r8Nz9mxDg/yrIzPwoCSD8IFUI/bpEfP7ArPT85y0I/cqUgP966RD8iAC4/DhpLP+NHKD8o3DY/OZJMP1ZONj9TdkY/xC8KP8cPUT8igSw/nq80P1pCLz9BnCU/YvopPz6eND+MdiU/fk0wP1qX4j4gUjA/uSwmP+Tf2D5mXzs/EDZKP4yfND8+dik/apkkPy5xPD+LLi4/Nu8+P0usQT+yRSQ/uiEwP8tVKD/8/38/Z1A1P1pyAz+7cC8/1RxOP5mxJz/+6Tg/EzTcPsLeKT9xsyk/wgQmP275Oz+8wSw/QrA8P/AXKD+M9ho/WhMlP3pPKz+rUC4/Kug8P1SpIz+lwiU/YPAeP578Dz8R6Dg/pNQ6P+/DSz+wRy0/Fm0rPxefNT+iOjM/RC4xP/M2Mj/UAS8/uBY9P36LMD88OjE/XtUcPxRBLj8oQyY/oNI9P3KTLT9w8Cw/VkwyP6i9GT+Y2jQ/ufcoP56fMT8qIxs/MxE6P44YKj+bFyg/Xm0qP2glMT8qtRc/efgrP3OLJz/qBRQ/4dg+P/w1NT/UlCQ/UpMnP87cIz/K5R4/IJMrP/jTKT96Oic/grovPxdtMz9qhio/Z1A1P/7/fz/YTCA/TzkuP/b9Nj9GjTo/rq4tP+G7Aj96oSk/470dPxy4GT9Ixzs/LiYfP2a0JT9uXSk/BA8aP8zoGz+Hmxs/FDAlP97lMj/zox4//AcjPwJdKD+IOx8/ujxPP58hHT+o5hs/kLsNP/RFCT/vUEg/pkgHP77RDT/WAf0+xMoFP1yMFD8mQRY/q7gGP4C5BD+57yE/2LwUPxbhBD8CzfM+3ooPP7gDAz9VnCs/cqQcP7RGEj8RnQo/vy/3Pq4lJD+eixI/rp/7PiKLBj9iAA0/FKkVP0i66j7jBeQ+LBwAP6vvCT/xuhQ/KK0FP1wLDz/gHwE/vSb1Ppr97T5pOQo/kvoAP1VZ/T5CvN0+h34GP1pyAz/YTCA///9/P75dAz8MPQs/CQEIPwsozT6Oehg/m3vmPuZy5T5aLsI+V0chP8AQ8T6gqPg+0JjqPtJrJT/GSwc/Yh3RPq2M/D6XuwE/WzjHPga04T411QI/UsHOPrYFDz8g+Cs/I6I9P058LT+Osh8/SvItP13RLT8+iR8/VrgmP7ZvKD9YZD4/tiQ5P7IpIT9IEhA/BjcgP9yUJj/HEyw/fr0aPyMJHj9y8Cg/il/3Pi8ELj+Ghic/vM4dP+ATID+4Mg8/oAsWP2pBLj+JoyM/pmItP/Dxzz5AxB4/WNFMPzSB3T6GoiI/Ln0uPwRqET/0Iyc/UA0/PwDaHT/SBi0/hL8fP2PKID8wUi0/DHosP7CfID+7cC8/TzkuP75dAz///38/XKcxP6jfKz/yMTE/sDDKPjVnLD+IHDE/cpoMP5SUJT8o0DE/UCsWP4AgKT9IlhA/hk4oP0KxGj8kn0c/ZBAbP9jzMz8YZyI/4X8dP0R5FD/GwyI/hiBLP54AUz9SX0M/jGdDP75PPz9qplE/1a5UPzJLKD9Nkkk/vsFMPzL7KD8uWz8/NQBHP86aUj9ErjI/XVI/PzrmTj8iqT0/6LRFP+WxDz8qJ0s/dug0P4zcPT/XUTk/cowoPye+MD8yiDE/YOIzP3IIPD8qpOM+hPFBP/i+Hz94qOE+PpU4Py4TWj+yND4/QMcZPyS2GD+kcUo/EKg3PxVdOj/mlTE/5J8zPw6EPD9uOz4/1RxOP/b9Nj8MPQs/XKcxPwAAgD/y1Ss/mhc9P01F3j50mi8/7vsxP35XPD9mjkI/6k1BPzQhMT/psC4/+XcZPwsvMD80Dis/HI41PymCLj+CfS8/kF81P4qQMj8ztBM/2mclPyQKND+FpUw/XjQqP+MIHj9cHSg/WisrP1V+HD/cs0k/LAEtP4xrND+IbDA/ZtUtP2yuEj9tGhk/OjktP15TOD9Qcx0/aHMhP+pwFz8o3gQ/HHMmP2ruFD+AESw/wgAlPxYPID/eVyk/bB8tP4IwMT94NDk/TukbP+J5GT+LRhw/XDwXP449MT8QSyk/8BMTP9xXEz8Uhxc/IlEcP9zyQD8hUR8/nEkbP94kMD+2d0Y/6qApP5mxJz9GjTo/CQEIP6jfKz/y1Ss/AACAPwnVKT+uc70+Cq0xP+CSHT8Kfw0/LLY2PzTRHj/23Qg/LuwnP1jvAD/giho/5DQeP+KZGz9GOBY/YQASP3J/Lz+hOCg/tp40P5LhFD+sRCs/FP1LP/I3LD/Lnik/PNckP6jnNj+BoDc/owA7P/0AND+o4DM/f+slP648Nj+Lixg/JI0kPyYGND/mmDQ/0QYwP1lsLT9usDQ/G7PsPj6qLj9Acx4/zPs8PyEXKT9cUxI/cuUmP6yvLj8uKjA/LswtP57U5j7eHCA/w2cgP4CA9z7DEzs/IxUwP6wAID9d/gw/bS8XP90yMj/XpTI/bU0fPxSaJD+adkk/HoU9P2xvOD/+6Tg/rq4tPwsozT7yMTE/mhc9PwnVKT8EAIA/CDLTPgwCPz++Rxo/nd0kPzhXND9UrCU/gWwRP1woPD/0BgI/JtsgPxZMMj+fERg/no4eP7p4GD9qWCw//nQnP6LJIz++OzI/DUDxPmRdAj//E+Y+a9bSPiqJAD/0uuA+sGLqPqxsxz7sT+I+qTHgPp209T7Y6dw+uMrKPpjh7D49ps4+uEPXPsoi0j5gK+8+CNzhPtyYED/ihPQ+yFHoPiQl/T7WMdk+YsEBP8Fr3T7Ejdg+/a7aPr9kzz5YqQY/Ox7NPiuxvT4PXgM/Oz/xPrbl6T7yJMQ+iuHkPm6F2T5Jzbk+0rjHPpZt5T5WRcU+3vjgPmBqyj7C8M4+EzTcPuG7Aj+Oehg/sDDKPk1F3j6uc70+CDLTPgIAgD+frdA+nM/SPmZJwD4plfk+ME6/Pk2nwj5axNs+NIwCP07syj7kR7g+/sS9PjR/4T71/q0+diTXPjidzz60ja0+7BkUP7u/Oz9WN00/esclP3mWLj9iiCs/aGspPyRHHT8qxz8/JKc5PwhpLj+GsiU/kgY2P1vIDD9sCh8/DC4rP7w8Nj/Idio/ceUyP8wCLT+szNw+FiYvP2DuHD+CpD8/TuEpP5b5HD/R7h4/ZOVHPwIhSj/o9DM/0Fr1PuwWHD+/VRs/Z3kFP8u9NT+JTDY/BhwWP83rFj86WRA/Wm4nP9rJNz884y8/BNMOP0vmPT8GfTw/VYktP8LeKT96oSk/m3vmPjVnLD90mi8/Cq0xPwwCPz+frdA+AQCAP46AGT+s2Bo/oIY1P07OHz8RaQ0/nn03P+weDD8kPhs/yOodP8QbFj9XNhg/DLsPP4wvJz/jwT8/biotPyBMCT/U8ys/BlIzP05YIz/4gAg/IvceP7P7KT8ybB0/FOAPP7KSJD8caEM/Xvk2P9LLGT8iMw4/whggP0K5Dj/+Lzs/UQQcP5geGT9qliE/8GHvPupXLD9+7Bo//O0XP+w1Fz/AHAY/8l4IP/6pHj+qCw0/jnAbP0gFyT6nhRg/VGQ8P5SnzD4t2wU/YpYmP2+9BT+WdSM/hd0gP7SGEz/EEiE/QOQbPxxkDD/G7Aw/iJsnPygcEj9xsyk/470dP+Zy5T6IHDE/7vsxP+CSHT++Rxo/nM/SPo6AGT/9/38/wQYOPwY2Hj+Exho/FVoNP38mGD/MqAs/BDgSP+RlGD8UpCg/mB0TP9B+Hz8DaDU/U/oVP+cv9z4/UQM/O9wtP/jHMT9K1Q0/aDcnPx7RGj/qcSI/CSZUP7RFDT9ogzA/qGciP7xJ+T4Q9yM/8gJTP0xdLj/fthg/yEYeP+ICOD8w/BY/YnUmP3wDxD4wvyM/NaEFP/g7Kj/iKQ8/zon7PociCz8SZxs/JK0SP7izEz96OLI+C/xDP2avBz8jFdU+JtIiPwMjKj+m8EA/xlTRPiWlAj91cjU/xbEXP26hNj+OQRE/8u0rPz4aHj/pviY/wgQmPxy4GT9aLsI+cpoMP35XPD8Kfw0/nd0kP2ZJwD6s2Bo/wQYOPwMAgD/QBCU/6MscP08lET8PDSE/DrfePvJdGz980BM/kCkPP0tnCz90oQo/pIskP4arJT9Kge8+UKo5PyW8RT/Aw1c/uO03P1U1OT/G9ko/eEtGPxzcPj+iFjY/8spMPzATPT/FSh8/4mVGP1p6OD/5OTo/T6IyPyrJPz8aKD0/xJVAP9bWMT/i9xA/8jVDP3GMMD9ZzkA/Xtg0PxbwKz+yDyg/iXUtPyn9PT/uVTs/KSsFP3EyKj9R+SM/U/EUP7p3OT9Iu00/XYcwP54hEj+WpQ0/2oY4P0CeQz/EUEE/RwQwP0A+OD9Qj0E/2z4vP275Oz9Ixzs/V0chP5SUJT9mjkI/LLY2PzhXND8plfk+oIY1PwY2Hj/QBCU///9/Pwy4Ij+gnCM/VjsuP9I0DD/IJxc/DL8jP5xOGD+uAiU/qTUIP8QEOT9YnDo/oNwmP7w8Dz+58jM/3Wg2Px7PHD+BrzQ/xssYP+yAJz/mNzw/JIEYPz+5Oj9ayjQ/BMskP9GhGz/wAis/dpArP73XJj9k+yQ/feguP2RQHz/ULCI/WCDoPm5lHj8Ozwk/hPwaP4jMIz/k/hc/WssTP8YwJj+a1SE/unsfP5ZZzz4icCo/DJURP8ED3D7rOR4/g8stPz52JT92lAU/DK8SPxK3Jz9XMR8/5sQaP227Gz9wSCM/hocfP+ZDED+8wSw/LiYfP8AQ8T4o0DE/6k1BPzTRHj9UrCU/ME6/Pk7OHz+Exho/6MscPwy4Ij8AAIA/aCcaP4cqFT98PxU/4s8SPyrqCD/4jDg/ewUNP1LKLT8ssBQ/FfghPyjPAj/M6gs/uhkkP3WUND/KCiA/3xshP3WRIj+oOSw/4uwiP/WXBT+R5yY/GPAoPwtNBj+Ughs//oodP245NT88DBc/dLogP96EKT+aWhg/hVowP0Ah8z4CfCQ/okMcP9YmGD/ULQ4/x2wIP7bXGT9w9xM/7iETP94XHz8AA8w+m6whP15SDj82Kdk+WHMaPxGDJD9chB8/ll31PiNjAT8pIR0/hiIeP7RQFz9TuS8/btoWP4muFz9cIBw/QrA8P2a0JT+gqPg+UCsWPzQhMT/23Qg/gWwRP02nwj4RaQ0/FVoNP08lET+gnCM/aCcaPwAAgD/CuRE/jhUJP8RSBj+lPgs/ft0LPwbaJT/skQs/eOoOPzQ/GT+I5AM/oYIYP9WOMj/S2kg/8rM2P1pdFT/swDU/jCUrP3YnIj8ETkI/gUAuP08ELj90syU/hBJBP4peDz9KqiY/xN88P14/NT9wCxs/8OwyPxrPID//EAI/ngsuPzi5Jz8L01Q/lxwrP8asGj/Qxi4/iAgqP+z4QD+MQT0/iCj1PjsDHj8gHhk/5CQMP8AzPz/txS4/R6wmPzqFDT/vRCA/4voePz76NT82riI/sMwYPzAKPT+G0z0/voo4P/AXKD9uXSk/0JjqPoAgKT/psC4/LuwnP1woPD9axNs+nn03P38mGD8PDSE/VjsuP4cqFT/CuRE/AgCAPwT6BD/i4Co/4TwwP3XACz+jbh0/nrEAP96HQj9evEY/HsMzP6fHLD8OajQ/iZEXP0cHFj/CvAU/2vQrP9zvGz9+4hM/gmLjPmpFJD+uCSU/+UUAP7bfGz+8t/Q+QEIoPy+7Ej9R+g4/iMERPzWQJD/uBB8/eiobP44jHz8EfyI/puYPP6jgCz826RM/+tYLP/TTFT/1HgA/gt4UPxiv+j68a/w+g6ULP+zY0T42bwY/MCoXP6VwAj9iFRs/XrwGPwFqCj9HIAU/Zv8OP096Aj8w+v4+NAH0Pv2OFD+M9ho/BA8aP9JrJT9IlhA/+XcZP1jvAD/0BgI/NIwCP+weDD/MqAs/DrfePtI0DD98PxU/jhUJPwT6BD/9/38/mqH5Pqxg7j7OfgA/8KwRP3q50j5YDQI/vlD6PlXHyD4w9ww/nH0mP4ojMz8afxk/hd4TP1CwOT/yJRU/BGMoP9TAIj9+EB8/yPclP8BRDj/CyDE/NgcXP2ygMT+MFR4/+v8cP4IYHj/EISg/qxIiP1V44z5WAC8/OFwaPyagKz+03BA/F7EWP21iJz+8tBw/ROcZPwQlJD9Bmsg+uwIZP7iVGT+HAtg+WVEkPworGz+srhw/KJQLP7kbKD/RCBs/yEcWP0JaIj/gZfw+fCkgP9SIFD9llSk/WhMlP8zoGz/GSwc/hk4oPwsvMD/giho/JtsgP07syj4kPhs/BDgSP/JdGz/IJxc/4s8SP8RSBj/i4Co/mqH5Pv3/fz+idh4/IL0NP6hLED+sUfI+mqITP4gtFj8+ywI/qnsNP8yNIj9miTo/xHocP54/IT8zcS0/f7MwP1iZIj+mODg/ZPEkP1QMKj96hhc/QLIxPwHNCD8WUho/9kgUPztINj/yXiE/rgMsP9rKHj84ytQ+joQyP/QVGz9ivSg/HmwgP1pkFz94jSg/iwoJP0B7HD/umhk/GWXXPlHbBz8uJxA/ox/mPjDiHz9wjCI/VuIjP/0QGD+ZwhQ/MY4iP0SMKj+guhs/PnkYP+YyFT8H/zo/0QEiP3pPKz+Hmxs/Yh3RPkKxGj80Dis/5DQePxZMMj/kR7g+yOodP+RlGD980BM/DL8jPyrqCD+lPgs/4TwwP6xg7j6idh4//v9/P8SY8j5Gzhc/ror/Pp4iOj/64hs/L0EZP6aIBT9QvSY//AorP/9iEj9U6xY/SUMfP9lzET9yFR0/xNIUP4mjFT/EPCg/lJIzP5S7Fj/eQBo/RHMaP4wLGT9L7hI/CQcfP9uSBz9NHio/LnziPq6CHj/OcAg/7GIOP9qMDD8Kcgg/DAMEPyXIID/NDhM/uioTPzoauz4IsyM/wfcpPzIkqj7crBQ/OCs1P17KBj9i4hg/tnQjP3SPGj+aLxA/OD4TP8QrCT+ylRk/TzcgP/jHBj+rUC4/FDAlP62M/D4kn0c/HI41P+KZGz+fERg//sS9PsQbFj8UpCg/kCkPP5xOGD/4jDg/ft0LP3XACz/OfgA/IL0NP8SY8j4DAIA/T1kaPwzKSD+yqg0/vIgKP89+7j6+/RE/vrswP4BdND+JryQ/ZMIZP7wqKT9Brio/SogfP26HBj8fsSE/M4s3P46GBD9KSCM/bNgTP54PJj+CvRA/SWktP+rZIz/e7x0/L3w9P6sgAz90rjo/aiYYP86eJz9Kixk/yJYQP4hjEj/qCxk/r0kTP7QPFz8wB9c+lvcNPwj6HT8CQNI+85UpPwQzOz9YnRE/3ngfP3TPHD9VeR0//RQXP87oID+Sjhk/7n4RPz4EFD9GtRg/Kug8P97lMj+XuwE/ZBAbPymCLj9GOBY/no4ePzR/4T5XNhg/mB0TP0tnCz+uAiU/ewUNPwbaJT+jbh0/8KwRP6hLED9Gzhc/T1kaPwAAgD833AY/LTgWP7cEFD+iN/M+Mp3zPoqTET9afiE/bj79PhaKEj9oeQE/4CkSP0+ZHz9wHxc/ckAKP/awIT9wsDs/Luf3PsZDHj9H0hM/2HgMPyyAID+T8yw/CFD0PkbaGT9M7q8+QAMVP0goAj+2cAg/lvYHP49k+j7BtP8+jq0LP3gAEz9LiRM/TXuuPprEIj82SCU/PhmpPsWeEj+K5Bs/xFwLP1qCDT8uwxA/ysIWP6h9Cj/4VP0+ig/8PhigCz8d3SY/9jLvPlSpIz/zox4/WzjHPtjzMz+CfS8/YQASP7p4GD/1/q0+DLsPP9B+Hz90oQo/qTUIP1LKLT/skQs/nrEAP3q50j6sUfI+ror/PgzKSD833AY/AgCAPwG2BT/yOww/lXHiPgV7GD/efDM/nfZLPwwBMD8SbQQ/hMEqP4wYPj9Jah8/eGU5P8IOKD9wEDo/hD8wP2gsJj/ErxY/0CAbP6LALz+Mujc/zNMePwizJT931CM/58n2PmbPMT+iwR4/F3BGP6KAID9umhk/at0WP55vHj93Myo/PcYtP2QF8j6RtBg/xk4YP7YdCz/mxi4/angyP6ieET/AIw4/4YgWPy6rID9PNTk/67YdP262Iz86cS4/2P1FP2S9MT+lwiU//AcjPwa04T4YZyI/kF81P3J/Lz9qWCw/diTXPowvJz8DaDU/pIskP8QEOT8ssBQ/eOoOP96HQj9YDQI/mqITP54iOj+yqg0/LTgWPwG2BT8BAIA/0EgxP2XrLT9mtxM/rQktP6+WRz/06Ck/GKslP8AlLj8TVzM/hUgkP8UXPj/cxjg/mBotPwggKD+t1TA/fS4aP6wdKz/+uTo/Ip48Pz+ZFz9+xTY/ZvUhP7n/6j5akyk/bSImP1R4QD+a0CI/CFgWP6JkJD9uoSE/quJRP+FxOj8xj/Y+4hckPyE+Bz/UIwg/aWs2P6iCKT84oxg/+EEEP0B7+j7YjRk/eKgzP0Y/NT/kNx4/uDc3PySXPj9cwDA/YPAePwJdKD811QI/4X8dP4qQMj+hOCg//nQnPzidzz7jwT8/U/oVP4arJT9YnDo/FfghPzQ/GT9evEY/vlD6PogtFj/64hs/vIgKP7cEFD/yOww/0EgxPwAAgD+N8S0/QqsKPx4TGD+aK0o/3IEcP/4pDD8E1BE/OjUZP9Rk+z5KBFY/I4kUP4j1DT989So/1LQgP0gr8j5ceAA/6i09P4O6KD+PtwY/8uUaPwiHBD+O78k+cOoNP66wBT+IoDE/wuQSP/sMFj/w1g4/vhAgP7xLNT9MjzY/jTEJPw8CBz/UHfI+WNYuP0CbLj9Y7w4/ehMKP7aY4T5akfo+qHMHP36rNj9UPwY/S2cLPybmNT/HdD4/qM8kP578Dz+IOx8/UsHOPkR5FD8ztBM/tp40P6LJIz+0ja0+biotP+cv9z5Kge8+oNwmPyjPAj+I5AM/HsMzP1XHyD4+ywI/L0EZP89+7j6iN/M+lXHiPmXrLT+N8S0/AgCAPw==",
                    "dtype": "f4",
                    "shape": "70, 70"
                  }
                }
              ],
              "layout": {
                "coloraxis": {
                  "colorbar": {
                    "title": {
                      "text": "Similarity Score"
                    }
                  },
                  "colorscale": [
                    [
                      0,
                      "rgb(247,252,240)"
                    ],
                    [
                      0.125,
                      "rgb(224,243,219)"
                    ],
                    [
                      0.25,
                      "rgb(204,235,197)"
                    ],
                    [
                      0.375,
                      "rgb(168,221,181)"
                    ],
                    [
                      0.5,
                      "rgb(123,204,196)"
                    ],
                    [
                      0.625,
                      "rgb(78,179,211)"
                    ],
                    [
                      0.75,
                      "rgb(43,140,190)"
                    ],
                    [
                      0.875,
                      "rgb(8,104,172)"
                    ],
                    [
                      1,
                      "rgb(8,64,129)"
                    ]
                  ]
                },
                "height": 800,
                "hoverlabel": {
                  "bgcolor": "white",
                  "font": {
                    "family": "Rockwell",
                    "size": 16
                  }
                },
                "legend": {
                  "title": {
                    "text": "Trend"
                  }
                },
                "margin": {
                  "t": 60
                },
                "showlegend": true,
                "template": {
                  "data": {
                    "bar": [
                      {
                        "error_x": {
                          "color": "#2a3f5f"
                        },
                        "error_y": {
                          "color": "#2a3f5f"
                        },
                        "marker": {
                          "line": {
                            "color": "#E5ECF6",
                            "width": 0.5
                          },
                          "pattern": {
                            "fillmode": "overlay",
                            "size": 10,
                            "solidity": 0.2
                          }
                        },
                        "type": "bar"
                      }
                    ],
                    "barpolar": [
                      {
                        "marker": {
                          "line": {
                            "color": "#E5ECF6",
                            "width": 0.5
                          },
                          "pattern": {
                            "fillmode": "overlay",
                            "size": 10,
                            "solidity": 0.2
                          }
                        },
                        "type": "barpolar"
                      }
                    ],
                    "carpet": [
                      {
                        "aaxis": {
                          "endlinecolor": "#2a3f5f",
                          "gridcolor": "white",
                          "linecolor": "white",
                          "minorgridcolor": "white",
                          "startlinecolor": "#2a3f5f"
                        },
                        "baxis": {
                          "endlinecolor": "#2a3f5f",
                          "gridcolor": "white",
                          "linecolor": "white",
                          "minorgridcolor": "white",
                          "startlinecolor": "#2a3f5f"
                        },
                        "type": "carpet"
                      }
                    ],
                    "choropleth": [
                      {
                        "colorbar": {
                          "outlinewidth": 0,
                          "ticks": ""
                        },
                        "type": "choropleth"
                      }
                    ],
                    "contour": [
                      {
                        "colorbar": {
                          "outlinewidth": 0,
                          "ticks": ""
                        },
                        "colorscale": [
                          [
                            0,
                            "#0d0887"
                          ],
                          [
                            0.1111111111111111,
                            "#46039f"
                          ],
                          [
                            0.2222222222222222,
                            "#7201a8"
                          ],
                          [
                            0.3333333333333333,
                            "#9c179e"
                          ],
                          [
                            0.4444444444444444,
                            "#bd3786"
                          ],
                          [
                            0.5555555555555556,
                            "#d8576b"
                          ],
                          [
                            0.6666666666666666,
                            "#ed7953"
                          ],
                          [
                            0.7777777777777778,
                            "#fb9f3a"
                          ],
                          [
                            0.8888888888888888,
                            "#fdca26"
                          ],
                          [
                            1,
                            "#f0f921"
                          ]
                        ],
                        "type": "contour"
                      }
                    ],
                    "contourcarpet": [
                      {
                        "colorbar": {
                          "outlinewidth": 0,
                          "ticks": ""
                        },
                        "type": "contourcarpet"
                      }
                    ],
                    "heatmap": [
                      {
                        "colorbar": {
                          "outlinewidth": 0,
                          "ticks": ""
                        },
                        "colorscale": [
                          [
                            0,
                            "#0d0887"
                          ],
                          [
                            0.1111111111111111,
                            "#46039f"
                          ],
                          [
                            0.2222222222222222,
                            "#7201a8"
                          ],
                          [
                            0.3333333333333333,
                            "#9c179e"
                          ],
                          [
                            0.4444444444444444,
                            "#bd3786"
                          ],
                          [
                            0.5555555555555556,
                            "#d8576b"
                          ],
                          [
                            0.6666666666666666,
                            "#ed7953"
                          ],
                          [
                            0.7777777777777778,
                            "#fb9f3a"
                          ],
                          [
                            0.8888888888888888,
                            "#fdca26"
                          ],
                          [
                            1,
                            "#f0f921"
                          ]
                        ],
                        "type": "heatmap"
                      }
                    ],
                    "histogram": [
                      {
                        "marker": {
                          "pattern": {
                            "fillmode": "overlay",
                            "size": 10,
                            "solidity": 0.2
                          }
                        },
                        "type": "histogram"
                      }
                    ],
                    "histogram2d": [
                      {
                        "colorbar": {
                          "outlinewidth": 0,
                          "ticks": ""
                        },
                        "colorscale": [
                          [
                            0,
                            "#0d0887"
                          ],
                          [
                            0.1111111111111111,
                            "#46039f"
                          ],
                          [
                            0.2222222222222222,
                            "#7201a8"
                          ],
                          [
                            0.3333333333333333,
                            "#9c179e"
                          ],
                          [
                            0.4444444444444444,
                            "#bd3786"
                          ],
                          [
                            0.5555555555555556,
                            "#d8576b"
                          ],
                          [
                            0.6666666666666666,
                            "#ed7953"
                          ],
                          [
                            0.7777777777777778,
                            "#fb9f3a"
                          ],
                          [
                            0.8888888888888888,
                            "#fdca26"
                          ],
                          [
                            1,
                            "#f0f921"
                          ]
                        ],
                        "type": "histogram2d"
                      }
                    ],
                    "histogram2dcontour": [
                      {
                        "colorbar": {
                          "outlinewidth": 0,
                          "ticks": ""
                        },
                        "colorscale": [
                          [
                            0,
                            "#0d0887"
                          ],
                          [
                            0.1111111111111111,
                            "#46039f"
                          ],
                          [
                            0.2222222222222222,
                            "#7201a8"
                          ],
                          [
                            0.3333333333333333,
                            "#9c179e"
                          ],
                          [
                            0.4444444444444444,
                            "#bd3786"
                          ],
                          [
                            0.5555555555555556,
                            "#d8576b"
                          ],
                          [
                            0.6666666666666666,
                            "#ed7953"
                          ],
                          [
                            0.7777777777777778,
                            "#fb9f3a"
                          ],
                          [
                            0.8888888888888888,
                            "#fdca26"
                          ],
                          [
                            1,
                            "#f0f921"
                          ]
                        ],
                        "type": "histogram2dcontour"
                      }
                    ],
                    "mesh3d": [
                      {
                        "colorbar": {
                          "outlinewidth": 0,
                          "ticks": ""
                        },
                        "type": "mesh3d"
                      }
                    ],
                    "parcoords": [
                      {
                        "line": {
                          "colorbar": {
                            "outlinewidth": 0,
                            "ticks": ""
                          }
                        },
                        "type": "parcoords"
                      }
                    ],
                    "pie": [
                      {
                        "automargin": true,
                        "type": "pie"
                      }
                    ],
                    "scatter": [
                      {
                        "fillpattern": {
                          "fillmode": "overlay",
                          "size": 10,
                          "solidity": 0.2
                        },
                        "type": "scatter"
                      }
                    ],
                    "scatter3d": [
                      {
                        "line": {
                          "colorbar": {
                            "outlinewidth": 0,
                            "ticks": ""
                          }
                        },
                        "marker": {
                          "colorbar": {
                            "outlinewidth": 0,
                            "ticks": ""
                          }
                        },
                        "type": "scatter3d"
                      }
                    ],
                    "scattercarpet": [
                      {
                        "marker": {
                          "colorbar": {
                            "outlinewidth": 0,
                            "ticks": ""
                          }
                        },
                        "type": "scattercarpet"
                      }
                    ],
                    "scattergeo": [
                      {
                        "marker": {
                          "colorbar": {
                            "outlinewidth": 0,
                            "ticks": ""
                          }
                        },
                        "type": "scattergeo"
                      }
                    ],
                    "scattergl": [
                      {
                        "marker": {
                          "colorbar": {
                            "outlinewidth": 0,
                            "ticks": ""
                          }
                        },
                        "type": "scattergl"
                      }
                    ],
                    "scattermap": [
                      {
                        "marker": {
                          "colorbar": {
                            "outlinewidth": 0,
                            "ticks": ""
                          }
                        },
                        "type": "scattermap"
                      }
                    ],
                    "scattermapbox": [
                      {
                        "marker": {
                          "colorbar": {
                            "outlinewidth": 0,
                            "ticks": ""
                          }
                        },
                        "type": "scattermapbox"
                      }
                    ],
                    "scatterpolar": [
                      {
                        "marker": {
                          "colorbar": {
                            "outlinewidth": 0,
                            "ticks": ""
                          }
                        },
                        "type": "scatterpolar"
                      }
                    ],
                    "scatterpolargl": [
                      {
                        "marker": {
                          "colorbar": {
                            "outlinewidth": 0,
                            "ticks": ""
                          }
                        },
                        "type": "scatterpolargl"
                      }
                    ],
                    "scatterternary": [
                      {
                        "marker": {
                          "colorbar": {
                            "outlinewidth": 0,
                            "ticks": ""
                          }
                        },
                        "type": "scatterternary"
                      }
                    ],
                    "surface": [
                      {
                        "colorbar": {
                          "outlinewidth": 0,
                          "ticks": ""
                        },
                        "colorscale": [
                          [
                            0,
                            "#0d0887"
                          ],
                          [
                            0.1111111111111111,
                            "#46039f"
                          ],
                          [
                            0.2222222222222222,
                            "#7201a8"
                          ],
                          [
                            0.3333333333333333,
                            "#9c179e"
                          ],
                          [
                            0.4444444444444444,
                            "#bd3786"
                          ],
                          [
                            0.5555555555555556,
                            "#d8576b"
                          ],
                          [
                            0.6666666666666666,
                            "#ed7953"
                          ],
                          [
                            0.7777777777777778,
                            "#fb9f3a"
                          ],
                          [
                            0.8888888888888888,
                            "#fdca26"
                          ],
                          [
                            1,
                            "#f0f921"
                          ]
                        ],
                        "type": "surface"
                      }
                    ],
                    "table": [
                      {
                        "cells": {
                          "fill": {
                            "color": "#EBF0F8"
                          },
                          "line": {
                            "color": "white"
                          }
                        },
                        "header": {
                          "fill": {
                            "color": "#C8D4E3"
                          },
                          "line": {
                            "color": "white"
                          }
                        },
                        "type": "table"
                      }
                    ]
                  },
                  "layout": {
                    "annotationdefaults": {
                      "arrowcolor": "#2a3f5f",
                      "arrowhead": 0,
                      "arrowwidth": 1
                    },
                    "autotypenumbers": "strict",
                    "coloraxis": {
                      "colorbar": {
                        "outlinewidth": 0,
                        "ticks": ""
                      }
                    },
                    "colorscale": {
                      "diverging": [
                        [
                          0,
                          "#8e0152"
                        ],
                        [
                          0.1,
                          "#c51b7d"
                        ],
                        [
                          0.2,
                          "#de77ae"
                        ],
                        [
                          0.3,
                          "#f1b6da"
                        ],
                        [
                          0.4,
                          "#fde0ef"
                        ],
                        [
                          0.5,
                          "#f7f7f7"
                        ],
                        [
                          0.6,
                          "#e6f5d0"
                        ],
                        [
                          0.7,
                          "#b8e186"
                        ],
                        [
                          0.8,
                          "#7fbc41"
                        ],
                        [
                          0.9,
                          "#4d9221"
                        ],
                        [
                          1,
                          "#276419"
                        ]
                      ],
                      "sequential": [
                        [
                          0,
                          "#0d0887"
                        ],
                        [
                          0.1111111111111111,
                          "#46039f"
                        ],
                        [
                          0.2222222222222222,
                          "#7201a8"
                        ],
                        [
                          0.3333333333333333,
                          "#9c179e"
                        ],
                        [
                          0.4444444444444444,
                          "#bd3786"
                        ],
                        [
                          0.5555555555555556,
                          "#d8576b"
                        ],
                        [
                          0.6666666666666666,
                          "#ed7953"
                        ],
                        [
                          0.7777777777777778,
                          "#fb9f3a"
                        ],
                        [
                          0.8888888888888888,
                          "#fdca26"
                        ],
                        [
                          1,
                          "#f0f921"
                        ]
                      ],
                      "sequentialminus": [
                        [
                          0,
                          "#0d0887"
                        ],
                        [
                          0.1111111111111111,
                          "#46039f"
                        ],
                        [
                          0.2222222222222222,
                          "#7201a8"
                        ],
                        [
                          0.3333333333333333,
                          "#9c179e"
                        ],
                        [
                          0.4444444444444444,
                          "#bd3786"
                        ],
                        [
                          0.5555555555555556,
                          "#d8576b"
                        ],
                        [
                          0.6666666666666666,
                          "#ed7953"
                        ],
                        [
                          0.7777777777777778,
                          "#fb9f3a"
                        ],
                        [
                          0.8888888888888888,
                          "#fdca26"
                        ],
                        [
                          1,
                          "#f0f921"
                        ]
                      ]
                    },
                    "colorway": [
                      "#636efa",
                      "#EF553B",
                      "#00cc96",
                      "#ab63fa",
                      "#FFA15A",
                      "#19d3f3",
                      "#FF6692",
                      "#B6E880",
                      "#FF97FF",
                      "#FECB52"
                    ],
                    "font": {
                      "color": "#2a3f5f"
                    },
                    "geo": {
                      "bgcolor": "white",
                      "lakecolor": "white",
                      "landcolor": "#E5ECF6",
                      "showlakes": true,
                      "showland": true,
                      "subunitcolor": "white"
                    },
                    "hoverlabel": {
                      "align": "left"
                    },
                    "hovermode": "closest",
                    "mapbox": {
                      "style": "light"
                    },
                    "paper_bgcolor": "white",
                    "plot_bgcolor": "#E5ECF6",
                    "polar": {
                      "angularaxis": {
                        "gridcolor": "white",
                        "linecolor": "white",
                        "ticks": ""
                      },
                      "bgcolor": "#E5ECF6",
                      "radialaxis": {
                        "gridcolor": "white",
                        "linecolor": "white",
                        "ticks": ""
                      }
                    },
                    "scene": {
                      "xaxis": {
                        "backgroundcolor": "#E5ECF6",
                        "gridcolor": "white",
                        "gridwidth": 2,
                        "linecolor": "white",
                        "showbackground": true,
                        "ticks": "",
                        "zerolinecolor": "white"
                      },
                      "yaxis": {
                        "backgroundcolor": "#E5ECF6",
                        "gridcolor": "white",
                        "gridwidth": 2,
                        "linecolor": "white",
                        "showbackground": true,
                        "ticks": "",
                        "zerolinecolor": "white"
                      },
                      "zaxis": {
                        "backgroundcolor": "#E5ECF6",
                        "gridcolor": "white",
                        "gridwidth": 2,
                        "linecolor": "white",
                        "showbackground": true,
                        "ticks": "",
                        "zerolinecolor": "white"
                      }
                    },
                    "shapedefaults": {
                      "line": {
                        "color": "#2a3f5f"
                      }
                    },
                    "ternary": {
                      "aaxis": {
                        "gridcolor": "white",
                        "linecolor": "white",
                        "ticks": ""
                      },
                      "baxis": {
                        "gridcolor": "white",
                        "linecolor": "white",
                        "ticks": ""
                      },
                      "bgcolor": "#E5ECF6",
                      "caxis": {
                        "gridcolor": "white",
                        "linecolor": "white",
                        "ticks": ""
                      }
                    },
                    "title": {
                      "x": 0.05
                    },
                    "xaxis": {
                      "automargin": true,
                      "gridcolor": "white",
                      "linecolor": "white",
                      "ticks": "",
                      "title": {
                        "standoff": 15
                      },
                      "zerolinecolor": "white",
                      "zerolinewidth": 2
                    },
                    "yaxis": {
                      "automargin": true,
                      "gridcolor": "white",
                      "linecolor": "white",
                      "ticks": "",
                      "title": {
                        "standoff": 15
                      },
                      "zerolinecolor": "white",
                      "zerolinewidth": 2
                    }
                  }
                },
                "title": {
                  "font": {
                    "color": "Black",
                    "size": 22
                  },
                  "text": "<b>Similarity Matrix</b>",
                  "x": 0.55,
                  "xanchor": "center",
                  "y": 0.95,
                  "yanchor": "top"
                },
                "width": 800,
                "xaxis": {
                  "anchor": "y",
                  "constrain": "domain",
                  "domain": [
                    0,
                    1
                  ],
                  "scaleanchor": "y"
                },
                "yaxis": {
                  "anchor": "x",
                  "autorange": "reversed",
                  "constrain": "domain",
                  "domain": [
                    0,
                    1
                  ]
                }
              }
            }
          },
          "metadata": {},
          "output_type": "display_data"
        },
        {
          "name": "stdout",
          "output_type": "stream",
          "text": [
            "Mapa de calor guardado en: ../../figures/complete_analysis/topic_model_heatmap.png\n",
            "\n",
            "Creando análisis de palabras clave para tópico principal...\n"
          ]
        },
        {
          "data": {
            "application/vnd.plotly.v1+json": {
              "config": {
                "plotlyServerURL": "https://plot.ly"
              },
              "data": [
                {
                  "hovertext": "<b>Topic -1</b>:sandwich_shrimp_bread_sauce_fries_",
                  "line": {
                    "color": "black",
                    "width": 1.5
                  },
                  "mode": "lines+lines",
                  "name": "",
                  "opacity": 0.1,
                  "type": "scatter",
                  "x": {
                    "bdata": "AQIDBAUGBwgJCg==",
                    "dtype": "i1"
                  },
                  "y": {
                    "bdata": "WaYkHAN4fT8px3llN7d6PyTGCbnj8Hk/3ZgBZmoweT+q2C8QKFh4P1sTaPa8/Xc/aGfJVx7Pdj9tIRzKUcZ1PzDBuYL+nHU/RT0QBUqWdT8=",
                    "dtype": "f8"
                  }
                },
                {
                  "hovertext": "<b>Topic 0</b>:minutes_asked_manager_told_rude_wai",
                  "line": {
                    "color": "red",
                    "width": 1.5
                  },
                  "mode": "lines+lines",
                  "name": "",
                  "opacity": 1,
                  "type": "scatter",
                  "x": {
                    "bdata": "AQIDBAUGBwgJCg==",
                    "dtype": "i1"
                  },
                  "y": {
                    "bdata": "9eD4x4++kj+asZLsYJuPPwfYfzxqaI8/CjX9gm4djT+DCoIAPEiLP3eOcxtsPog/9mzpKKQFhz+fNimd9d2FP5Mu6+e50YU/fQzJZwInhT8=",
                    "dtype": "f8"
                  }
                },
                {
                  "hovertext": "<b>Topic 1</b>:tacos_mexican_taco_salsa_burrito_me",
                  "line": {
                    "color": "black",
                    "width": 1.5
                  },
                  "mode": "lines+lines",
                  "name": "",
                  "opacity": 0.1,
                  "type": "scatter",
                  "x": {
                    "bdata": "AQIDBAUGBwgJCg==",
                    "dtype": "i1"
                  },
                  "y": {
                    "bdata": "jfx/9SKsqT+pOLjAkFGnPyeE2Q3LK6E/HhAmCjP7nj+98/1DxkCaP2mDTwPz4Jk/5aNrIUkWlT8pIa+UlIWRPyTKT1I2GY8/yeDjMVoqij8=",
                    "dtype": "f8"
                  }
                },
                {
                  "hovertext": "<b>Topic 2</b>:food great_great food_great service",
                  "line": {
                    "color": "black",
                    "width": 1.5
                  },
                  "mode": "lines+lines",
                  "name": "",
                  "opacity": 0.1,
                  "type": "scatter",
                  "x": {
                    "bdata": "AQIDBAUGBwgJCg==",
                    "dtype": "i1"
                  },
                  "y": {
                    "bdata": "6Etl7u+ulT/AbqOm2HyVP0g7tIJ9O5Q/3BRSlAYFkj/J/wJpxqyLPxdXnB7Dp4o/vnpR2R4Nij/Nf4CvrvSJPx+i8mRzHok/GS7fOH8Xhz8=",
                    "dtype": "f8"
                  }
                },
                {
                  "hovertext": "<b>Topic 3</b>:pizza_crust_pizzas_best pizza_peppe",
                  "line": {
                    "color": "black",
                    "width": 1.5
                  },
                  "mode": "lines+lines",
                  "name": "",
                  "opacity": 0.1,
                  "type": "scatter",
                  "x": {
                    "bdata": "AQIDBAUGBwgJCg==",
                    "dtype": "i1"
                  },
                  "y": {
                    "bdata": "CZfzE7AtvT8vl9OAN2WjP824lM+ZdJk/RxaYUGgmkj/+lazKzfWQPwtZ7ao/xZA/sDN2VgGkkD9la3/bLQCOP3kOlS8yOo0/0KJkM2XOiz8=",
                    "dtype": "f8"
                  }
                },
                {
                  "hovertext": "<b>Topic 4</b>:sushi_roll_rolls_best sushi_hibachi",
                  "line": {
                    "color": "black",
                    "width": 1.5
                  },
                  "mode": "lines+lines",
                  "name": "",
                  "opacity": 0.1,
                  "type": "scatter",
                  "x": {
                    "bdata": "AQIDBAUGBwgJCg==",
                    "dtype": "i1"
                  },
                  "y": {
                    "bdata": "Lj2JoIpZwT/kL1Xh98WnP0inrThqG6U/AIG2Ype/lD+R7zURN5OTP2xxJ7dOH5I/zTLG/Rr2kT/1HsfpOVuQP46QsZjoTpA/KzTEBPfSjj8=",
                    "dtype": "f8"
                  }
                },
                {
                  "hovertext": "<b>Topic 5</b>:burger_fries_burgers_bun_ketchup_pa",
                  "line": {
                    "color": "black",
                    "width": 1.5
                  },
                  "mode": "lines+lines",
                  "name": "",
                  "opacity": 0.1,
                  "type": "scatter",
                  "x": {
                    "bdata": "AQIDBAUGBwgJCg==",
                    "dtype": "i1"
                  },
                  "y": {
                    "bdata": "6WHIylPeuD8VpNcAWlCsP/TZG86/8Ks/o0hMeZErkT//RDB8zQOJPxYRO3NEgog/2a403Sughz9n4qpCxxCHP9QNyttBqoY/bT83ikOChj8=",
                    "dtype": "f8"
                  }
                },
                {
                  "hovertext": "<b>Topic 6</b>:italian_pasta_italian food_sauce_ra",
                  "line": {
                    "color": "black",
                    "width": 1.5
                  },
                  "mode": "lines+lines",
                  "name": "",
                  "opacity": 0.1,
                  "type": "scatter",
                  "x": {
                    "bdata": "AQIDBAUGBwgJCg==",
                    "dtype": "i1"
                  },
                  "y": {
                    "bdata": "XosvnptEsD9YiRkevz+oP2xzWNzJEZg/vUBxvtzckz9zBEPjeYaRP8+UESMZ5Yk/wD+d52yxiT9UOfnxOFSJP4I1S95nLog/xbCbdImRhz8=",
                    "dtype": "f8"
                  }
                },
                {
                  "hovertext": "<b>Topic 7</b>:chinese_chinese food_rice_noodles_d",
                  "line": {
                    "color": "black",
                    "width": 1.5
                  },
                  "mode": "lines+lines",
                  "name": "",
                  "opacity": 0.1,
                  "type": "scatter",
                  "x": {
                    "bdata": "AQIDBAUGBwgJCg==",
                    "dtype": "i1"
                  },
                  "y": {
                    "bdata": "nIVDe0p5sj+jlA7yfFChP91UtKYezJs/xw8+n2ZtmT9BojzV9CCYP3cO84WGi5c/t09/nlMNlz/gZm1LXL6TP+WfGYXXtpM/aAO1yqwtkz8=",
                    "dtype": "f8"
                  }
                },
                {
                  "hovertext": "<b>Topic 8</b>:beer_beers_selection_bartenders_bee",
                  "line": {
                    "color": "black",
                    "width": 1.5
                  },
                  "mode": "lines+lines",
                  "name": "",
                  "opacity": 0.1,
                  "type": "scatter",
                  "x": {
                    "bdata": "AQIDBAUGBwgJCg==",
                    "dtype": "i1"
                  },
                  "y": {
                    "bdata": "rE8kPbPkrz/q4v6MRx+hPxZAmf80Gpk/xnFe5tWVlT9xYsRSorqUP9xx/clGJJQ/gdCDz3T2kT+dan9Wn+WPP8UJdiAJv44/eoiqZCuYjj8=",
                    "dtype": "f8"
                  }
                },
                {
                  "hovertext": "<b>Topic 9</b>:crab_shrimp_seafood_lobster_crawfis",
                  "line": {
                    "color": "black",
                    "width": 1.5
                  },
                  "mode": "lines+lines",
                  "name": "",
                  "opacity": 0.1,
                  "type": "scatter",
                  "x": {
                    "bdata": "AQIDBAUGBwgJCg==",
                    "dtype": "i1"
                  },
                  "y": {
                    "bdata": "D2+TYt6Jqz9ywRWRc06jPzcKhE2U+6I/cTVmcdHfmD+3Z7jLQoKXP26ooV5EN5I/MzNEhG7mjT9inL15v0mMP8NyS8YuB4w//zNkHbMiiz8=",
                    "dtype": "f8"
                  }
                },
                {
                  "hovertext": "<b>Topic 10</b>:breakfast_eggs_pancakes_bacon_toas",
                  "line": {
                    "color": "black",
                    "width": 1.5
                  },
                  "mode": "lines+lines",
                  "name": "",
                  "opacity": 0.1,
                  "type": "scatter",
                  "x": {
                    "bdata": "AQIDBAUGBwgJCg==",
                    "dtype": "i1"
                  },
                  "y": {
                    "bdata": "K7JKmvO/tT8jzXkbyrynP8KhMC88PKc/JryZkikZmj+1KkTwN5uZP4/cIwePtJg/IIyd7kEKlj97XCYTosKUP052yXNq65I/QS/sEnnJkj8=",
                    "dtype": "f8"
                  }
                },
                {
                  "hovertext": "<b>Topic 11</b>:coffee_coffee shop_latte_starbucks",
                  "line": {
                    "color": "black",
                    "width": 1.5
                  },
                  "mode": "lines+lines",
                  "name": "",
                  "opacity": 0.1,
                  "type": "scatter",
                  "x": {
                    "bdata": "AQIDBAUGBwgJCg==",
                    "dtype": "i1"
                  },
                  "y": {
                    "bdata": "gLmBucPcwD/N8ILS7k6iPwguOhfNDqE/1b/tMYVxoD9LBlA6fyygP2+ifP5NCpo/BB7PrbeHmT+XrZAkgVqYP/V/gbaX544/2HEBcD3sjT8=",
                    "dtype": "f8"
                  }
                },
                {
                  "hovertext": "<b>Topic 12</b>:bbq_brisket_ribs_pulled pork_pulle",
                  "line": {
                    "color": "black",
                    "width": 1.5
                  },
                  "mode": "lines+lines",
                  "name": "",
                  "opacity": 0.1,
                  "type": "scatter",
                  "x": {
                    "bdata": "AQIDBAUGBwgJCg==",
                    "dtype": "i1"
                  },
                  "y": {
                    "bdata": "1XtTocB6tT82px7A6gS0PwzycgQol7M/fmllbdK6nT8W5nK4pTGdP1rLeG0LBZo/OqYdeYRymT/g6jiFBguXP2690D/nUZY/7IiXhi/plT8=",
                    "dtype": "f8"
                  }
                },
                {
                  "hovertext": "<b>Topic 13</b>:thai_pad_pad thai_thai food_curry_",
                  "line": {
                    "color": "black",
                    "width": 1.5
                  },
                  "mode": "lines+lines",
                  "name": "",
                  "opacity": 0.1,
                  "type": "scatter",
                  "x": {
                    "bdata": "AQIDBAUGBwgJCg==",
                    "dtype": "i1"
                  },
                  "y": {
                    "bdata": "8jQPqSZgxD+baC6srjCzP9Hmaw6eB7E/by8KTVK4pz9DaFQKuvqiP3gvmcQXh5Y/TDoT6iBUlT+OKtlAhNmSP5IZolHUx5E/yw5mwrV5kT8=",
                    "dtype": "f8"
                  }
                },
                {
                  "hovertext": "<b>Topic 14</b>:fried chicken_hot chicken_hot_frie",
                  "line": {
                    "color": "black",
                    "width": 1.5
                  },
                  "mode": "lines+lines",
                  "name": "",
                  "opacity": 0.1,
                  "type": "scatter",
                  "x": {
                    "bdata": "AQIDBAUGBwgJCg==",
                    "dtype": "i1"
                  },
                  "y": {
                    "bdata": "Xjs75uHRpz9E8ON6Q5ylP6y2I1zNHqI/c1/i0KUroD/SPeOvGtmUP/OV1jbz0ZI/AI8zGnJdkD905nTkaDOQP8hsaH6pS4s/WftYJ/qzij8=",
                    "dtype": "f8"
                  }
                },
                {
                  "hovertext": "<b>Topic 15</b>:nashville_music_burger_live_downto",
                  "line": {
                    "color": "black",
                    "width": 1.5
                  },
                  "mode": "lines+lines",
                  "name": "",
                  "opacity": 0.1,
                  "type": "scatter",
                  "x": {
                    "bdata": "AQIDBAUGBwgJCg==",
                    "dtype": "i1"
                  },
                  "y": {
                    "bdata": "NdRYpnoEwD8/n2TRavyRP1Rq5i+Xlok/ztVDHw40hD8lwomBdiCEPwW7SGQENIM/uP0YV2kCgj//qZyGYMqBP6IRAo0u7oA/O3OWAhr5fz8=",
                    "dtype": "f8"
                  }
                },
                {
                  "hovertext": "<b>Topic 16</b>:brunch_sunday brunch_sunday_mimosa",
                  "line": {
                    "color": "black",
                    "width": 1.5
                  },
                  "mode": "lines+lines",
                  "name": "",
                  "opacity": 0.1,
                  "type": "scatter",
                  "x": {
                    "bdata": "AQIDBAUGBwgJCg==",
                    "dtype": "i1"
                  },
                  "y": {
                    "bdata": "EY2blVydwj98JRrzLgmkPxkbDyPzyqI/IEyFNv+InT/C4wu/WZGaPw7ayfjWVJk/1H1fNl8elz9Nrirqm3SVP4ht0f93CJU/sJpxqXRyjz8=",
                    "dtype": "f8"
                  }
                },
                {
                  "hovertext": "<b>Topic 17</b>:indian_indian food_naan_masala_tik",
                  "line": {
                    "color": "black",
                    "width": 1.5
                  },
                  "mode": "lines+lines",
                  "name": "",
                  "opacity": 0.1,
                  "type": "scatter",
                  "x": {
                    "bdata": "AQIDBAUGBwgJCg==",
                    "dtype": "i1"
                  },
                  "y": {
                    "bdata": "PibJmQuivj8K9Ll/0rSwPzBAxbKyiK4/9iEzQDbQqz9Nt6Ie/gimP/Ce+3BTJKM//o9AGNH1oj92GW7ZJTSgP/yTp2b8xJw/u4CI8PLumz8=",
                    "dtype": "f8"
                  }
                },
                {
                  "hovertext": "<b>Topic 18</b>:steak_steaks_steakhouse_medium_fil",
                  "line": {
                    "color": "black",
                    "width": 1.5
                  },
                  "mode": "lines+lines",
                  "name": "",
                  "opacity": 0.1,
                  "type": "scatter",
                  "x": {
                    "bdata": "AQIDBAUGBwgJCg==",
                    "dtype": "i1"
                  },
                  "y": {
                    "bdata": "LE/X15fPtj/Yo7OOmsCoPyjUC5jSYpw/iVemyJhtlT+twkxWKqeTP7X06E1EZpI/fRQNBIjDkT8r1W1hEuyPP6BfPerH6I8/AN6p6PEyjD8=",
                    "dtype": "f8"
                  }
                },
                {
                  "hovertext": "<b>Topic 19</b>:vegan_vegetarian_vegan options_tof",
                  "line": {
                    "color": "black",
                    "width": 1.5
                  },
                  "mode": "lines+lines",
                  "name": "",
                  "opacity": 0.1,
                  "type": "scatter",
                  "x": {
                    "bdata": "AQIDBAUGBwgJCg==",
                    "dtype": "i1"
                  },
                  "y": {
                    "bdata": "aR1PqvS1wT/zJiU/+1StP4GehxUutZk/+wtoZl1RlT/oqOt1E4iNP+RF3GMbCog/xCcrfCkJiD9NCo/tY+OHP0Sae7+sBYc/zxenjwC1hj8=",
                    "dtype": "f8"
                  }
                },
                {
                  "hovertext": "<b>Topic 20</b>:pizza_delivery_called_pizzas_told_",
                  "line": {
                    "color": "black",
                    "width": 1.5
                  },
                  "mode": "lines+lines",
                  "name": "",
                  "opacity": 0.1,
                  "type": "scatter",
                  "x": {
                    "bdata": "AQIDBAUGBwgJCg==",
                    "dtype": "i1"
                  },
                  "y": {
                    "bdata": "9mOQUjTetj96/12qVhChPxub8kI7eZ0/nrEHlHg+lj8xV5Vk1jOTPyB0KTR1CZM/uyMweN/BkT9z5TpjoWGRP4/HXMQmB5E/kWmvSdjikD8=",
                    "dtype": "f8"
                  }
                },
                {
                  "hovertext": "<b>Topic 21</b>:sandwich_sandwiches_deli_pastrami_",
                  "line": {
                    "color": "black",
                    "width": 1.5
                  },
                  "mode": "lines+lines",
                  "name": "",
                  "opacity": 0.1,
                  "type": "scatter",
                  "x": {
                    "bdata": "AQIDBAUGBwgJCg==",
                    "dtype": "i1"
                  },
                  "y": {
                    "bdata": "fJn5f5LkuD9AEYHKUBC1P/5xHmyE56k/iQOeoq/koz+rPL5xOeybP89WmgyaTZk/47kgtQGHlT90qTrxuCyVP6xPAblnt5Q/kXrl9DKckz8=",
                    "dtype": "f8"
                  }
                },
                {
                  "hovertext": "<b>Topic 22</b>:cheesesteak_philly_cheesesteaks_ch",
                  "line": {
                    "color": "black",
                    "width": 1.5
                  },
                  "mode": "lines+lines",
                  "name": "",
                  "opacity": 0.1,
                  "type": "scatter",
                  "x": {
                    "bdata": "AQIDBAUGBwgJCg==",
                    "dtype": "i1"
                  },
                  "y": {
                    "bdata": "fMsf0zTNwD/1LvafEkm1P2r2cLltf7A/CAXjwEFupz/NONDzCzSmP5dSLonsp6U/TO6n2NUlpD9al3tUpoijP/Dgdd0IlZo/i6ePwNJwmj8=",
                    "dtype": "f8"
                  }
                },
                {
                  "hovertext": "<b>Topic 23</b>:orleans_new orleans_creole_shrimp_",
                  "line": {
                    "color": "black",
                    "width": 1.5
                  },
                  "mode": "lines+lines",
                  "name": "",
                  "opacity": 0.1,
                  "type": "scatter",
                  "x": {
                    "bdata": "AQIDBAUGBwgJCg==",
                    "dtype": "i1"
                  },
                  "y": {
                    "bdata": "XGLBR8ZnvT9Rkix9Uj+9P44W3iahb48/gAL+h6QvjD/VPEbJqtWIP+Gwd5BWw4Y/Q3v35wGUhj9MlobZimOGP+CXUS0U44U/EP1hiNqWhT8=",
                    "dtype": "f8"
                  }
                },
                {
                  "hovertext": "<b>Topic 24</b>:oysters_oyster_dozen_chargrilled_a",
                  "line": {
                    "color": "black",
                    "width": 1.5
                  },
                  "mode": "lines+lines",
                  "name": "",
                  "opacity": 0.1,
                  "type": "scatter",
                  "x": {
                    "bdata": "AQIDBAUGBwgJCg==",
                    "dtype": "i1"
                  },
                  "y": {
                    "bdata": "bSwVHngoxT+ZKO6hhaqxP2v7k2Da5aA/uZs0BKUkoD+mccQIziGgP4ommDD3R54/cf3bVONynT98NPF/MemZP67MbhqEwJQ/vupaN1w8kT8=",
                    "dtype": "f8"
                  }
                },
                {
                  "hovertext": "<b>Topic 25</b>:star_zero_place stars_zero stars_r",
                  "line": {
                    "color": "black",
                    "width": 1.5
                  },
                  "mode": "lines+lines",
                  "name": "",
                  "opacity": 0.1,
                  "type": "scatter",
                  "x": {
                    "bdata": "AQIDBAUGBwgJCg==",
                    "dtype": "i1"
                  },
                  "y": {
                    "bdata": "uZAbj+FCsD/NGhL3pfSTP/ZBsJM2IpE/LcrroMSikD8I5yZQjTyMPzk1zVSAO4k/jfNBPYHkiD+IQLh0NSuIP73QOp0fOYc/lG+tJ6LWhj8=",
                    "dtype": "f8"
                  }
                },
                {
                  "hovertext": "<b>Topic 26</b>:wings_wing_buffalo_sauce_chicken w",
                  "line": {
                    "color": "black",
                    "width": 1.5
                  },
                  "mode": "lines+lines",
                  "name": "",
                  "opacity": 0.1,
                  "type": "scatter",
                  "x": {
                    "bdata": "AQIDBAUGBwgJCg==",
                    "dtype": "i1"
                  },
                  "y": {
                    "bdata": "JX/MDOrdxz8o4V2XijepP+nyG3IMgJ8/oYeVnOJXmj9cQt+aW7ORPwGrPsafDpE/CLK3Finqjj88dHoTo52OP9kaua0nhY4/R6KxVu9ejD8=",
                    "dtype": "f8"
                  }
                },
                {
                  "hovertext": "<b>Topic 27</b>:tucson_mexican_salsa_chinese_mexic",
                  "line": {
                    "color": "black",
                    "width": 1.5
                  },
                  "mode": "lines+lines",
                  "name": "",
                  "opacity": 0.1,
                  "type": "scatter",
                  "x": {
                    "bdata": "AQIDBAUGBwgJCg==",
                    "dtype": "i1"
                  },
                  "y": {
                    "bdata": "Quomh7U4xD9HNJszmFaJPwojYDbNTIY/vZzP5aiRhD8g7Bnwv8+DP3QdHx8lPYM/xO8b/YHxgD+9jRpeNYaAP8pBpE3+MH8/sdXP9LXTfj8=",
                    "dtype": "f8"
                  }
                },
                {
                  "hovertext": "<b>Topic 28</b>:tampa_tampa bay_bay_florida_downto",
                  "line": {
                    "color": "black",
                    "width": 1.5
                  },
                  "mode": "lines+lines",
                  "name": "",
                  "opacity": 0.1,
                  "type": "scatter",
                  "x": {
                    "bdata": "AQIDBAUGBwgJCg==",
                    "dtype": "i1"
                  },
                  "y": {
                    "bdata": "aah2Dk8swj/UHHX9W2yZP9/fx5coFZk/foJgZO14jj8eEfWdj36HP+sLNmazc4Q/5G25TQyCgz/O5av169mCP80Ndbiup4I/eW0TfRtngj8=",
                    "dtype": "f8"
                  }
                },
                {
                  "hovertext": "<b>Topic 29</b>:philly_philadelphia_nyc_city_brunc",
                  "line": {
                    "color": "black",
                    "width": 1.5
                  },
                  "mode": "lines+lines",
                  "name": "",
                  "opacity": 0.1,
                  "type": "scatter",
                  "x": {
                    "bdata": "AQIDBAUGBwgJCg==",
                    "dtype": "i1"
                  },
                  "y": {
                    "bdata": "2Q4XRftsvT8hmdxhtHujP8liNejaR44/Tq8a5RcCjT9QCK0ydv2KPySyxescnoQ/549C4sUphD/W89l+OFqDP8gI9gyWAYI/GmEKx41EgT8=",
                    "dtype": "f8"
                  }
                },
                {
                  "hovertext": "<b>Topic 30</b>:closed_hours_sign_closing_close_sa",
                  "line": {
                    "color": "black",
                    "width": 1.5
                  },
                  "mode": "lines+lines",
                  "name": "",
                  "opacity": 0.1,
                  "type": "scatter",
                  "x": {
                    "bdata": "AQIDBAUGBwgJCg==",
                    "dtype": "i1"
                  },
                  "y": {
                    "bdata": "hW0sSbtrwz+3uSvsVlKyP8QLnXiD76g/Z4LRUsSCpD+OX8NFlnukPwt2jBfGJaM/ZlWdlmMDoT9/YYNRQWigP5CQPkRMmJ8/FRygOWgrmj8=",
                    "dtype": "f8"
                  }
                },
                {
                  "hovertext": "<b>Topic 31</b>:pho_broth_vietnamese_rolls_bowl_sp",
                  "line": {
                    "color": "black",
                    "width": 1.5
                  },
                  "mode": "lines+lines",
                  "name": "",
                  "opacity": 0.1,
                  "type": "scatter",
                  "x": {
                    "bdata": "AQIDBAUGBwgJCg==",
                    "dtype": "i1"
                  },
                  "y": {
                    "bdata": "H5Uw633u0D8QoZNaePmsP0Dkh6XFWqE/bB/TCmTzmT9s/gOfurGZP0aHtWWLH5c/WKxVDAAdlz+0u/3zK8eWP1zQ8OWURZY/yrQecALRjT8=",
                    "dtype": "f8"
                  }
                },
                {
                  "hovertext": "<b>Topic 32</b>:cake_cookies_bakery_chocolate_cupc",
                  "line": {
                    "color": "black",
                    "width": 1.5
                  },
                  "mode": "lines+lines",
                  "name": "",
                  "opacity": 0.1,
                  "type": "scatter",
                  "x": {
                    "bdata": "AQIDBAUGBwgJCg==",
                    "dtype": "i1"
                  },
                  "y": {
                    "bdata": "piPpWvc5xT9/VdMALFiuP3Q93DzWC6w/KTj6BQb5qT/AG6SR/TCoP6vhc10Gf6E/ZMfTN8Q1oT+5/4rQe6yXPyNFxIWEupQ/A40JDBUGlD8=",
                    "dtype": "f8"
                  }
                },
                {
                  "hovertext": "<b>Topic 33</b>:room_hotel_rooms_desk_stay_casino_",
                  "line": {
                    "color": "black",
                    "width": 1.5
                  },
                  "mode": "lines+lines",
                  "name": "",
                  "opacity": 0.1,
                  "type": "scatter",
                  "x": {
                    "bdata": "AQIDBAUGBwgJCg==",
                    "dtype": "i1"
                  },
                  "y": {
                    "bdata": "yuiAMzkmuT9X/6+e/ey3PyNGPrXjaKk/wPhv0LUcpj8YxgGHH5GkPxFeO4lnPKQ/juC9VCIVnj+LBvdq/eWXP3FktpDOTpY/84JsGUI+lj8=",
                    "dtype": "f8"
                  }
                },
                {
                  "hovertext": "<b>Topic 34</b>:nola_shrimp_trip_red beans_creole_",
                  "line": {
                    "color": "black",
                    "width": 1.5
                  },
                  "mode": "lines+lines",
                  "name": "",
                  "opacity": 0.1,
                  "type": "scatter",
                  "x": {
                    "bdata": "AQIDBAUGBwgJCg==",
                    "dtype": "i1"
                  },
                  "y": {
                    "bdata": "CNDJwXlgxj845VQ57ISQP9i9r9WazYg/H6xmNQmYhz8oKnkQtcyGPxVVt2LCO4U/yKDKwJMTgz/jD7gbeNKCP9djoWbJqII/cXyTQBgJgj8=",
                    "dtype": "f8"
                  }
                },
                {
                  "hovertext": "<b>Topic 35</b>:dressing_salads_chicken salad_caes",
                  "line": {
                    "color": "black",
                    "width": 1.5
                  },
                  "mode": "lines+lines",
                  "name": "",
                  "opacity": 0.1,
                  "type": "scatter",
                  "x": {
                    "bdata": "AQIDBAUGBwgJCg==",
                    "dtype": "i1"
                  },
                  "y": {
                    "bdata": "ppQdW72+pz9HKXfyiOCiP+Y/L7crf6A/Y27Bgq0Enz/cMb/SPAqZP5R5g9u0YpM/L1W/x9+Sjz9VYAIP1O6OP34E5MXwuYs/8mgRfQxoij8=",
                    "dtype": "f8"
                  }
                },
                {
                  "hovertext": "<b>Topic 36</b>:korean_korean food_kimchi_bulgogi_",
                  "line": {
                    "color": "black",
                    "width": 1.5
                  },
                  "mode": "lines+lines",
                  "name": "",
                  "opacity": 0.1,
                  "type": "scatter",
                  "x": {
                    "bdata": "AQIDBAUGBwgJCg==",
                    "dtype": "i1"
                  },
                  "y": {
                    "bdata": "wxGWzbtCxj9MThoBwBKuPyK/rmaqcaQ/9nGw1oMMmT/5jAgzNyqYP3DIBcFQyZA/GqCfv0Q+kD/zH/RhjCGNP+VuJ3h+j4w/qa3n8KzDij8=",
                    "dtype": "f8"
                  }
                },
                {
                  "hovertext": "<b>Topic 37</b>:bagels_bagel_cream cheese_cream_to",
                  "line": {
                    "color": "black",
                    "width": 1.5
                  },
                  "mode": "lines+lines",
                  "name": "",
                  "opacity": 0.1,
                  "type": "scatter",
                  "x": {
                    "bdata": "AQIDBAUGBwgJCg==",
                    "dtype": "i1"
                  },
                  "y": {
                    "bdata": "ICM0ao30yz9Twrv5eZnLP7xeXszKfLM/h5w7vPYIpz+GnYrf0LyePw0zKg8DCJY/PyhIqHkKkz8OMyO5s/ORP2LrhwnLRpE/DRAGr3LgkD8=",
                    "dtype": "f8"
                  }
                },
                {
                  "hovertext": "<b>Topic 38</b>:donuts_donut_doughnuts_glazed_coff",
                  "line": {
                    "color": "black",
                    "width": 1.5
                  },
                  "mode": "lines+lines",
                  "name": "",
                  "opacity": 0.1,
                  "type": "scatter",
                  "x": {
                    "bdata": "AQIDBAUGBwgJCg==",
                    "dtype": "i1"
                  },
                  "y": {
                    "bdata": "WEZoKmvczT+6MSeusvnBPxi6Ndn0/qw/lIPbXAHtpz/p9vZjstWYP/nweGZTz5I/Ldn25iAlkj8bJnHVrQ2RP0j/ZPBuyI8/uGSw0dKIjT8=",
                    "dtype": "f8"
                  }
                },
                {
                  "hovertext": "<b>Topic 39</b>:ramen_broth_noodles_spicy_pork_mis",
                  "line": {
                    "color": "black",
                    "width": 1.5
                  },
                  "mode": "lines+lines",
                  "name": "",
                  "opacity": 0.1,
                  "type": "scatter",
                  "x": {
                    "bdata": "AQIDBAUGBwgJCg==",
                    "dtype": "i1"
                  },
                  "y": {
                    "bdata": "uYOS3sBy0T9jKXXnHUOwP/yFCyyRb6M/xqJyTBlfmT+KRMFB9P6YPzDJmzZZqJg/oeaADuoLlz+DC5qnmKmWP87d0hYp5JI/T05DhSBYkD8=",
                    "dtype": "f8"
                  }
                },
                {
                  "hovertext": "<b>Topic 40</b>:birthday_anniversary_birthday dinn",
                  "line": {
                    "color": "black",
                    "width": 1.5
                  },
                  "mode": "lines+lines",
                  "name": "",
                  "opacity": 0.1,
                  "type": "scatter",
                  "x": {
                    "bdata": "AQIDBAUGBwgJCg==",
                    "dtype": "i1"
                  },
                  "y": {
                    "bdata": "HlzYGPEwwD/4AvLOqXeoP7vXUlGB8Z8/Bmrj9bogmj+mOkt6OtGXP6aY1MsBI5Q/gpbUxhLFkT+oJNemB7KOP93FNdo53Yw/pZfykjCxiz8=",
                    "dtype": "f8"
                  }
                },
                {
                  "hovertext": "<b>Topic 41</b>:cuban_cuban sandwich_sandwich_pork",
                  "line": {
                    "color": "black",
                    "width": 1.5
                  },
                  "mode": "lines+lines",
                  "name": "",
                  "opacity": 0.1,
                  "type": "scatter",
                  "x": {
                    "bdata": "AQIDBAUGBwgJCg==",
                    "dtype": "i1"
                  },
                  "y": {
                    "bdata": "od0lMLt6zj+YRrDhWeKxP+p/twpqS6c/dyGMPVhtnT/QdShw4j6WP1SLn/8xZJI/8efXiM8ckT9ZG6cb89GQP6OJLOXuu5A/nXO26u5ujz8=",
                    "dtype": "f8"
                  }
                },
                {
                  "hovertext": "<b>Topic 42</b>:greek_gyro_greek salad_pita_lamb_p",
                  "line": {
                    "color": "black",
                    "width": 1.5
                  },
                  "mode": "lines+lines",
                  "name": "",
                  "opacity": 0.1,
                  "type": "scatter",
                  "x": {
                    "bdata": "AQIDBAUGBwgJCg==",
                    "dtype": "i1"
                  },
                  "y": {
                    "bdata": "eYUJUUSUyz8Y2M6vrFOtPwOcOpdDo6I/gDewFAfYnj/caXQjcjeXP2qNrXBndI8/AsZIwU+2jD/uq9siDeyLP7OXtudQPYs/hyxW8Bmyij8=",
                    "dtype": "f8"
                  }
                },
                {
                  "hovertext": "<b>Topic 43</b>:reno_breakfast_casino_gold_ranch_f",
                  "line": {
                    "color": "black",
                    "width": 1.5
                  },
                  "mode": "lines+lines",
                  "name": "",
                  "opacity": 0.1,
                  "type": "scatter",
                  "x": {
                    "bdata": "AQIDBAUGBwgJCg==",
                    "dtype": "i1"
                  },
                  "y": {
                    "bdata": "SMMjHLcfyj9qgqKNwDmRP0Ti57lRi40/HDQBfEYaiD9vUnVAoAqGP+h/QbH9ooQ/Rkd/rWJzhD+1ZT6hQGqEP0Sk1VLlMYM/lLMi3MF9gj8=",
                    "dtype": "f8"
                  }
                },
                {
                  "hovertext": "<b>Topic 44</b>:wine_wines_wine list_list_glass_bo",
                  "line": {
                    "color": "black",
                    "width": 1.5
                  },
                  "mode": "lines+lines",
                  "name": "",
                  "opacity": 0.1,
                  "type": "scatter",
                  "x": {
                    "bdata": "AQIDBAUGBwgJCg==",
                    "dtype": "i1"
                  },
                  "y": {
                    "bdata": "LqhjyQmVtT+ydxTlQA+iPyAw/Rgf8po/HJ0QYLrFlj/lXwd5tEGWP0IAQHzkWZE/VR95047DkD8ZdVK+BiKIP0c4xbQuGoY/nn2ax11whT8=",
                    "dtype": "f8"
                  }
                },
                {
                  "hovertext": "<b>Topic 45</b>:indy_indianapolis_market_mass_down",
                  "line": {
                    "color": "black",
                    "width": 1.5
                  },
                  "mode": "lines+lines",
                  "name": "",
                  "opacity": 0.1,
                  "type": "scatter",
                  "x": {
                    "bdata": "AQIDBAUGBwgJCg==",
                    "dtype": "i1"
                  },
                  "y": {
                    "bdata": "rBNf9RCOwT+2d2hxHL+wPx3fHcYiAZE/E4ysuXtlkD8CMbafAP2MP6DGtHxL2ok/jqIfb7OViT9QgOcqXP+HP+jxc3/GoIM/NOkKjGQxgz8=",
                    "dtype": "f8"
                  }
                },
                {
                  "hovertext": "<b>Topic 46</b>:hummus_pita_falafel_middle eastern",
                  "line": {
                    "color": "black",
                    "width": 1.5
                  },
                  "mode": "lines+lines",
                  "name": "",
                  "opacity": 0.1,
                  "type": "scatter",
                  "x": {
                    "bdata": "AQIDBAUGBwgJCg==",
                    "dtype": "i1"
                  },
                  "y": {
                    "bdata": "mprZsvRuxD/Prk5vLqK8PyOYr5Ijh7A/HoPeuw4Voz+1fYJjtzuiP0gpO+cj8KE/C09OrEZpmT+1coPWLb6YP0dPShDJ2JU/3FkPxlgalD8=",
                    "dtype": "f8"
                  }
                },
                {
                  "hovertext": "<b>Topic 47</b>:yelp_yelp reviews_review_rating_st",
                  "line": {
                    "color": "black",
                    "width": 1.5
                  },
                  "mode": "lines+lines",
                  "name": "",
                  "opacity": 0.1,
                  "type": "scatter",
                  "x": {
                    "bdata": "AQIDBAUGBwgJCg==",
                    "dtype": "i1"
                  },
                  "y": {
                    "bdata": "dFJyq/SCwD9FAqjDj0WbP4NVFc7/apQ/Yg6rvf/PjD++pajO0OuJPy64u/z8oYg/+ggFk9Lzhj/zuN93oaeFPx4YK/Q00oM/YlXtzWTVgj8=",
                    "dtype": "f8"
                  }
                },
                {
                  "hovertext": "<b>Topic 48</b>:mcdonald_wendy_mcdonalds_worst_dri",
                  "line": {
                    "color": "black",
                    "width": 1.5
                  },
                  "mode": "lines+lines",
                  "name": "",
                  "opacity": 0.1,
                  "type": "scatter",
                  "x": {
                    "bdata": "AQIDBAUGBwgJCg==",
                    "dtype": "i1"
                  },
                  "y": {
                    "bdata": "bsGHMSepvD+ZX1rpgPi0P3dacx5ty7M/F6PYujlQpD+UOIiFj8CjP71RcqPo/50/69YVLjaJlz8VlNkYmAmWP515YCe39pQ/sVweDLJulD8=",
                    "dtype": "f8"
                  }
                },
                {
                  "hovertext": "<b>Topic 49</b>:ice_ice cream_cream_gelato_flavors",
                  "line": {
                    "color": "black",
                    "width": 1.5
                  },
                  "mode": "lines+lines",
                  "name": "",
                  "opacity": 0.1,
                  "type": "scatter",
                  "x": {
                    "bdata": "AQIDBAUGBwgJCg==",
                    "dtype": "i1"
                  },
                  "y": {
                    "bdata": "QhrK9fr8wj83Ug+2/azCP3eAI/bxxr0/NW1K8kWpuT9BjNGUlQ+tP6K0wShph6g/MbDNjQ8ToD/pszGpYm+dP+kGLWoGBJw/MVQ5FCU9lz8=",
                    "dtype": "f8"
                  }
                },
                {
                  "hovertext": "<b>Topic 50</b>:soup_broth_pot_spicy_hot pot_soups",
                  "line": {
                    "color": "black",
                    "width": 1.5
                  },
                  "mode": "lines+lines",
                  "name": "",
                  "opacity": 0.1,
                  "type": "scatter",
                  "x": {
                    "bdata": "AQIDBAUGBwgJCg==",
                    "dtype": "i1"
                  },
                  "y": {
                    "bdata": "g4L61e2YvD/E8ByAFtakPzpeA57AVqA/Ah1b2YWznT/+pcIMtoSdP71zp7apP5o/bB7jGslAlT945UrUDVeUP7/4yfG7OpM/WPdR467ekT8=",
                    "dtype": "f8"
                  }
                },
                {
                  "hovertext": "<b>Topic 51</b>:happy hour_happy_hour_great happy_",
                  "line": {
                    "color": "black",
                    "width": 1.5
                  },
                  "mode": "lines+lines",
                  "name": "",
                  "opacity": 0.1,
                  "type": "scatter",
                  "x": {
                    "bdata": "AQIDBAUGBwgJCg==",
                    "dtype": "i1"
                  },
                  "y": {
                    "bdata": "N1ofZNIAzT/xnEChKZLFP2dtCMMTdcQ/rW7aNTU+oT//Wjzcuh6gP9MLON8Copg/4TaL6tgklj+F5yKEaOyVPw9S8SpOD5A/jDkvd71cjj8=",
                    "dtype": "f8"
                  }
                },
                {
                  "hovertext": "<b>Topic 52</b>:boise_ethiopian_restaurants_combo_",
                  "line": {
                    "color": "black",
                    "width": 1.5
                  },
                  "mode": "lines+lines",
                  "name": "",
                  "opacity": 0.1,
                  "type": "scatter",
                  "x": {
                    "bdata": "AQIDBAUGBwgJCg==",
                    "dtype": "i1"
                  },
                  "y": {
                    "bdata": "EbHMH3m+xT+j9zLgzy+9P7YYdplAeZE/7BJlJwD3kD8FVioV7ZKQPx/e2Au+MIo/5muRZKMuhz8SMGIxFuyFP3X+/Sm8roU/WaJTeh8ChD8=",
                    "dtype": "f8"
                  }
                },
                {
                  "hovertext": "<b>Topic 53</b>:mask_masks_wearing_covid_wear_pand",
                  "line": {
                    "color": "black",
                    "width": 1.5
                  },
                  "mode": "lines+lines",
                  "name": "",
                  "opacity": 0.1,
                  "type": "scatter",
                  "x": {
                    "bdata": "AQIDBAUGBwgJCg==",
                    "dtype": "i1"
                  },
                  "y": {
                    "bdata": "wIPAl4/Owz9Z9+Gq0o3AP6KiJy/lVLg/4+m9ko83tz+ma0nV0VivP4uZo4uNaqg/O/XUadmGoD9cshxvs4SbPyVTtJAP2pk/gs8ZnD53mT8=",
                    "dtype": "f8"
                  }
                },
                {
                  "hovertext": "<b>Topic 54</b>:santa barbara_santa_barbara_beauti",
                  "line": {
                    "color": "black",
                    "width": 1.5
                  },
                  "mode": "lines+lines",
                  "name": "",
                  "opacity": 0.1,
                  "type": "scatter",
                  "x": {
                    "bdata": "AQIDBAUGBwgJCg==",
                    "dtype": "i1"
                  },
                  "y": {
                    "bdata": "D1jFHvY7xz/PePTwGy3HPxXD+7x1Fcc/XDtAqWb7jj8HZtxBKeKOP3hdCVOE6ow/4W2Kvgfnij/LSKhqLk6JP2pOPs0hMok/xgFE1WUDiT8=",
                    "dtype": "f8"
                  }
                },
                {
                  "hovertext": "<b>Topic 55</b>:crepe_crepes_croissant_pastries_sa",
                  "line": {
                    "color": "black",
                    "width": 1.5
                  },
                  "mode": "lines+lines",
                  "name": "",
                  "opacity": 0.1,
                  "type": "scatter",
                  "x": {
                    "bdata": "AQIDBAUGBwgJCg==",
                    "dtype": "i1"
                  },
                  "y": {
                    "bdata": "V/8OZGOUwj8dlUNJZd2+P0HBfPe+zrA/cw5umVJHnz9JSpeZXx2fP/UOWEDP0p4/Ic1KaVPzmT9oZg1NCoiYPxLgM9cV85Y/0mKM7y1Slj8=",
                    "dtype": "f8"
                  }
                },
                {
                  "hovertext": "<b>Topic 56</b>:vietnamese_vietnamese food_pho_mi_",
                  "line": {
                    "color": "black",
                    "width": 1.5
                  },
                  "mode": "lines+lines",
                  "name": "",
                  "opacity": 0.1,
                  "type": "scatter",
                  "x": {
                    "bdata": "AQIDBAUGBwgJCg==",
                    "dtype": "i1"
                  },
                  "y": {
                    "bdata": "BCILosovxz/dKGOXcv+2P3OJjEKfa6g/Sm1NHvc3pD90djQI8/ygP3duAJaMPp8/iF6Piaxvnj/HVpuO1qabP6HyEI0NIZo/PsZ3qc3rmT8=",
                    "dtype": "f8"
                  }
                },
                {
                  "hovertext": "<b>Topic 57</b>:buffet_buffets_lunch buffet_averag",
                  "line": {
                    "color": "black",
                    "width": 1.5
                  },
                  "mode": "lines+lines",
                  "name": "",
                  "opacity": 0.1,
                  "type": "scatter",
                  "x": {
                    "bdata": "AQIDBAUGBwgJCg==",
                    "dtype": "i1"
                  },
                  "y": {
                    "bdata": "GnC2F4j40D+UeFMr1W2gP2psh4npH5Y/oQrhPeIAlT8LxN9A0SaSP7AL5qhLDpI/prU21JaQjz9U+DgUFr+MP44VNO5LuYk/own0o7DGiD8=",
                    "dtype": "f8"
                  }
                },
                {
                  "hovertext": "<b>Topic 58</b>:poke_bowl_bowls_tuna_seaweed_ingre",
                  "line": {
                    "color": "black",
                    "width": 1.5
                  },
                  "mode": "lines+lines",
                  "name": "",
                  "opacity": 0.1,
                  "type": "scatter",
                  "x": {
                    "bdata": "AQIDBAUGBwgJCg==",
                    "dtype": "i1"
                  },
                  "y": {
                    "bdata": "uReoIFzF0j8KlcJxfXW5Pwu7+2KcsKc/B8zs6FC0pT+kGnO+436fP97wZMESiZc/3nCV3f3qlj/xu1fXrHmWP6xcfxKfQJM/x0KeqkcCkj8=",
                    "dtype": "f8"
                  }
                },
                {
                  "hovertext": "<b>Topic 59</b>:gyro_gyros_pita_fries_meat_sauce_f",
                  "line": {
                    "color": "black",
                    "width": 1.5
                  },
                  "mode": "lines+lines",
                  "name": "",
                  "opacity": 0.1,
                  "type": "scatter",
                  "x": {
                    "bdata": "AQIDBAUGBwgJCg==",
                    "dtype": "i1"
                  },
                  "y": {
                    "bdata": "V2NnjfrM0T+p6ADvthi8P9iIYlijNaU/8gzxB0hCoz+Lg6OG/7KhPyyBoUPmyp0/qnl0ZfJWmz9Gj4xuOf2WP5uCyNAhJ5M/0tqTxPH1jz8=",
                    "dtype": "f8"
                  }
                },
                {
                  "hovertext": "<b>Topic 60</b>:louis_st louis_st_bbq_saint_restau",
                  "line": {
                    "color": "black",
                    "width": 1.5
                  },
                  "mode": "lines+lines",
                  "name": "",
                  "opacity": 0.1,
                  "type": "scatter",
                  "x": {
                    "bdata": "AQIDBAUGBwgJCg==",
                    "dtype": "i1"
                  },
                  "y": {
                    "bdata": "Cb9N6cqpxT92JoOcQurEPzGMWi6AycA/bUNx8xlmoT+nH5kQiUSNP+DTmezHB4w/dCXG85Ysiz83D3GZH0CJP4992IXjqoc/z7is73MVhT8=",
                    "dtype": "f8"
                  }
                },
                {
                  "hovertext": "<b>Topic 61</b>:chipotle_burrito_line_worst_online",
                  "line": {
                    "color": "black",
                    "width": 1.5
                  },
                  "mode": "lines+lines",
                  "name": "",
                  "opacity": 0.1,
                  "type": "scatter",
                  "x": {
                    "bdata": "AQIDBAUGBwgJCg==",
                    "dtype": "i1"
                  },
                  "y": {
                    "bdata": "skS6EVZv0D9RNTqV9aGcP9xP/qnuzpk/Tn3KPavnlj+VzR4dUwSWP7i/oMtENZU/PLuyAq4QlD89ZjCYpoSTP5DoL/4vspI/1165muzikT8=",
                    "dtype": "f8"
                  }
                },
                {
                  "hovertext": "<b>Topic 62</b>:dog_dogs_hot dogs_hot dog_hot_chic",
                  "line": {
                    "color": "black",
                    "width": 1.5
                  },
                  "mode": "lines+lines",
                  "name": "",
                  "opacity": 0.1,
                  "type": "scatter",
                  "x": {
                    "bdata": "AQIDBAUGBwgJCg==",
                    "dtype": "i1"
                  },
                  "y": {
                    "bdata": "M4p2QrGRyD8ANpdFChXDP3Y1xMgqSr0/XP5sYcrCuD+fZizDNga2P/08eLgP2rA/KaG3+WeQmD8bL0jQWnqXP9URepPrD5Q/TWXhStXHkz8=",
                    "dtype": "f8"
                  }
                },
                {
                  "hovertext": "<b>Topic 63</b>:german_le_beer_la_beers_pour_pretz",
                  "line": {
                    "color": "black",
                    "width": 1.5
                  },
                  "mode": "lines+lines",
                  "name": "",
                  "opacity": 0.1,
                  "type": "scatter",
                  "x": {
                    "bdata": "AQIDBAUGBwgJCg==",
                    "dtype": "i1"
                  },
                  "y": {
                    "bdata": "iSOh/QTuzz+0X+JWKluoP3ZYB3tLd6Q/CifSdCT7oT+dLF0muuKfP1MUZxpqGp4/vykv0tRdmz9DhdvXnAWXP1CmMtnleZQ/WTTVVCzJkz8=",
                    "dtype": "f8"
                  }
                },
                {
                  "hovertext": "<b>Topic 64</b>:smoothie_juice_smoothies_mango_hea",
                  "line": {
                    "color": "black",
                    "width": 1.5
                  },
                  "mode": "lines+lines",
                  "name": "",
                  "opacity": 0.1,
                  "type": "scatter",
                  "x": {
                    "bdata": "AQIDBAUGBwgJCg==",
                    "dtype": "i1"
                  },
                  "y": {
                    "bdata": "t6fTL2ptwT/jq5A1rnTAP5PgYNZ7oro/fGUc9X/pqz89MFRNdWakP/nzKUKvkqM/cMqgEq2voj/0EWZqfQieP+KgULZJuJk/7PY3Ct2YmT8=",
                    "dtype": "f8"
                  }
                },
                {
                  "hovertext": "<b>Topic 65</b>:gluten_gluten free_free_gf_bread_d",
                  "line": {
                    "color": "black",
                    "width": 1.5
                  },
                  "mode": "lines+lines",
                  "name": "",
                  "opacity": 0.1,
                  "type": "scatter",
                  "x": {
                    "bdata": "AQIDBAUGBwgJCg==",
                    "dtype": "i1"
                  },
                  "y": {
                    "bdata": "4HdJkHt0zT9DE2CrlSvJP5qql0BPFME/S2GQ1djfmz9OjDxGWkmRP7p0m0Rp4o0/qo19DhLKij9UHecLq7WKP27+KaG5DYo/J7s/sVLKiT8=",
                    "dtype": "f8"
                  }
                },
                {
                  "hovertext": "<b>Topic 66</b>:tea_boba_bubble_teas_milk_flavors_",
                  "line": {
                    "color": "black",
                    "width": 1.5
                  },
                  "mode": "lines+lines",
                  "name": "",
                  "opacity": 0.1,
                  "type": "scatter",
                  "x": {
                    "bdata": "AQIDBAUGBwgJCg==",
                    "dtype": "i1"
                  },
                  "y": {
                    "bdata": "A5W8fX2wyT9/2/Hx1KjGPyLHO4ybV7Y/kSpWEjZhsz+e0tSFDlmzPzJF9BuTH54/f76Xp6EJnD/cwlJwtoKWPwBzGD0kbJM/RtonusVjkz8=",
                    "dtype": "f8"
                  }
                },
                {
                  "hovertext": "<b>Topic 67</b>:french_french quarter_quarter_dine",
                  "line": {
                    "color": "black",
                    "width": 1.5
                  },
                  "mode": "lines+lines",
                  "name": "",
                  "opacity": 0.1,
                  "type": "scatter",
                  "x": {
                    "bdata": "AQIDBAUGBwgJCg==",
                    "dtype": "i1"
                  },
                  "y": {
                    "bdata": "xcDmGvW2wD/JRC+k6ge3P0iu0pZKorU/+69SNRtQkj8lIdmEVq+QPy8immCLEJA/cXHnpefnjz87HnNcitqPP+HqNZzVxI8/MjUi/SQKjz8=",
                    "dtype": "f8"
                  }
                },
                {
                  "hovertext": "<b>Topic 68</b>:st pete_pete_st_beach_downtown_res",
                  "line": {
                    "color": "black",
                    "width": 1.5
                  },
                  "mode": "lines+lines",
                  "name": "",
                  "opacity": 0.1,
                  "type": "scatter",
                  "x": {
                    "bdata": "AQIDBAUGBwgJCg==",
                    "dtype": "i1"
                  },
                  "y": {
                    "bdata": "U5iv1Kh3yT85Luk8yFHJP/7g+H7FMsI/UKmCg+VOpT+uYtDclJmXP2ls49lmwZI/KnYjJW+Ekj8ExzUg51+SP5ZzsAK+yZA/Y5DMW9CIkD8=",
                    "dtype": "f8"
                  }
                },
                {
                  "hovertext": "<b>Topic 69</b>:music_live music_venue_live_nights",
                  "line": {
                    "color": "black",
                    "width": 1.5
                  },
                  "mode": "lines+lines",
                  "name": "",
                  "opacity": 0.1,
                  "type": "scatter",
                  "x": {
                    "bdata": "AQIDBAUGBwgJCg==",
                    "dtype": "i1"
                  },
                  "y": {
                    "bdata": "NitrwBzotT9alNBry8unPzDHuB8QoKU/eARHjx1xoj9Klu5UGjudP3MAEWY+E5s/HTqECdjllz/Qj4UXj4eXP7+n4nQwbJM/erMj1m76kj8=",
                    "dtype": "f8"
                  }
                }
              ],
              "layout": {
                "height": 500,
                "hoverlabel": {
                  "bgcolor": "white",
                  "font": {
                    "family": "Rockwell",
                    "size": 16
                  }
                },
                "showlegend": false,
                "template": {
                  "data": {
                    "bar": [
                      {
                        "error_x": {
                          "color": "#2a3f5f"
                        },
                        "error_y": {
                          "color": "#2a3f5f"
                        },
                        "marker": {
                          "line": {
                            "color": "white",
                            "width": 0.5
                          },
                          "pattern": {
                            "fillmode": "overlay",
                            "size": 10,
                            "solidity": 0.2
                          }
                        },
                        "type": "bar"
                      }
                    ],
                    "barpolar": [
                      {
                        "marker": {
                          "line": {
                            "color": "white",
                            "width": 0.5
                          },
                          "pattern": {
                            "fillmode": "overlay",
                            "size": 10,
                            "solidity": 0.2
                          }
                        },
                        "type": "barpolar"
                      }
                    ],
                    "carpet": [
                      {
                        "aaxis": {
                          "endlinecolor": "#2a3f5f",
                          "gridcolor": "#C8D4E3",
                          "linecolor": "#C8D4E3",
                          "minorgridcolor": "#C8D4E3",
                          "startlinecolor": "#2a3f5f"
                        },
                        "baxis": {
                          "endlinecolor": "#2a3f5f",
                          "gridcolor": "#C8D4E3",
                          "linecolor": "#C8D4E3",
                          "minorgridcolor": "#C8D4E3",
                          "startlinecolor": "#2a3f5f"
                        },
                        "type": "carpet"
                      }
                    ],
                    "choropleth": [
                      {
                        "colorbar": {
                          "outlinewidth": 0,
                          "ticks": ""
                        },
                        "type": "choropleth"
                      }
                    ],
                    "contour": [
                      {
                        "colorbar": {
                          "outlinewidth": 0,
                          "ticks": ""
                        },
                        "colorscale": [
                          [
                            0,
                            "#0d0887"
                          ],
                          [
                            0.1111111111111111,
                            "#46039f"
                          ],
                          [
                            0.2222222222222222,
                            "#7201a8"
                          ],
                          [
                            0.3333333333333333,
                            "#9c179e"
                          ],
                          [
                            0.4444444444444444,
                            "#bd3786"
                          ],
                          [
                            0.5555555555555556,
                            "#d8576b"
                          ],
                          [
                            0.6666666666666666,
                            "#ed7953"
                          ],
                          [
                            0.7777777777777778,
                            "#fb9f3a"
                          ],
                          [
                            0.8888888888888888,
                            "#fdca26"
                          ],
                          [
                            1,
                            "#f0f921"
                          ]
                        ],
                        "type": "contour"
                      }
                    ],
                    "contourcarpet": [
                      {
                        "colorbar": {
                          "outlinewidth": 0,
                          "ticks": ""
                        },
                        "type": "contourcarpet"
                      }
                    ],
                    "heatmap": [
                      {
                        "colorbar": {
                          "outlinewidth": 0,
                          "ticks": ""
                        },
                        "colorscale": [
                          [
                            0,
                            "#0d0887"
                          ],
                          [
                            0.1111111111111111,
                            "#46039f"
                          ],
                          [
                            0.2222222222222222,
                            "#7201a8"
                          ],
                          [
                            0.3333333333333333,
                            "#9c179e"
                          ],
                          [
                            0.4444444444444444,
                            "#bd3786"
                          ],
                          [
                            0.5555555555555556,
                            "#d8576b"
                          ],
                          [
                            0.6666666666666666,
                            "#ed7953"
                          ],
                          [
                            0.7777777777777778,
                            "#fb9f3a"
                          ],
                          [
                            0.8888888888888888,
                            "#fdca26"
                          ],
                          [
                            1,
                            "#f0f921"
                          ]
                        ],
                        "type": "heatmap"
                      }
                    ],
                    "histogram": [
                      {
                        "marker": {
                          "pattern": {
                            "fillmode": "overlay",
                            "size": 10,
                            "solidity": 0.2
                          }
                        },
                        "type": "histogram"
                      }
                    ],
                    "histogram2d": [
                      {
                        "colorbar": {
                          "outlinewidth": 0,
                          "ticks": ""
                        },
                        "colorscale": [
                          [
                            0,
                            "#0d0887"
                          ],
                          [
                            0.1111111111111111,
                            "#46039f"
                          ],
                          [
                            0.2222222222222222,
                            "#7201a8"
                          ],
                          [
                            0.3333333333333333,
                            "#9c179e"
                          ],
                          [
                            0.4444444444444444,
                            "#bd3786"
                          ],
                          [
                            0.5555555555555556,
                            "#d8576b"
                          ],
                          [
                            0.6666666666666666,
                            "#ed7953"
                          ],
                          [
                            0.7777777777777778,
                            "#fb9f3a"
                          ],
                          [
                            0.8888888888888888,
                            "#fdca26"
                          ],
                          [
                            1,
                            "#f0f921"
                          ]
                        ],
                        "type": "histogram2d"
                      }
                    ],
                    "histogram2dcontour": [
                      {
                        "colorbar": {
                          "outlinewidth": 0,
                          "ticks": ""
                        },
                        "colorscale": [
                          [
                            0,
                            "#0d0887"
                          ],
                          [
                            0.1111111111111111,
                            "#46039f"
                          ],
                          [
                            0.2222222222222222,
                            "#7201a8"
                          ],
                          [
                            0.3333333333333333,
                            "#9c179e"
                          ],
                          [
                            0.4444444444444444,
                            "#bd3786"
                          ],
                          [
                            0.5555555555555556,
                            "#d8576b"
                          ],
                          [
                            0.6666666666666666,
                            "#ed7953"
                          ],
                          [
                            0.7777777777777778,
                            "#fb9f3a"
                          ],
                          [
                            0.8888888888888888,
                            "#fdca26"
                          ],
                          [
                            1,
                            "#f0f921"
                          ]
                        ],
                        "type": "histogram2dcontour"
                      }
                    ],
                    "mesh3d": [
                      {
                        "colorbar": {
                          "outlinewidth": 0,
                          "ticks": ""
                        },
                        "type": "mesh3d"
                      }
                    ],
                    "parcoords": [
                      {
                        "line": {
                          "colorbar": {
                            "outlinewidth": 0,
                            "ticks": ""
                          }
                        },
                        "type": "parcoords"
                      }
                    ],
                    "pie": [
                      {
                        "automargin": true,
                        "type": "pie"
                      }
                    ],
                    "scatter": [
                      {
                        "fillpattern": {
                          "fillmode": "overlay",
                          "size": 10,
                          "solidity": 0.2
                        },
                        "type": "scatter"
                      }
                    ],
                    "scatter3d": [
                      {
                        "line": {
                          "colorbar": {
                            "outlinewidth": 0,
                            "ticks": ""
                          }
                        },
                        "marker": {
                          "colorbar": {
                            "outlinewidth": 0,
                            "ticks": ""
                          }
                        },
                        "type": "scatter3d"
                      }
                    ],
                    "scattercarpet": [
                      {
                        "marker": {
                          "colorbar": {
                            "outlinewidth": 0,
                            "ticks": ""
                          }
                        },
                        "type": "scattercarpet"
                      }
                    ],
                    "scattergeo": [
                      {
                        "marker": {
                          "colorbar": {
                            "outlinewidth": 0,
                            "ticks": ""
                          }
                        },
                        "type": "scattergeo"
                      }
                    ],
                    "scattergl": [
                      {
                        "marker": {
                          "colorbar": {
                            "outlinewidth": 0,
                            "ticks": ""
                          }
                        },
                        "type": "scattergl"
                      }
                    ],
                    "scattermap": [
                      {
                        "marker": {
                          "colorbar": {
                            "outlinewidth": 0,
                            "ticks": ""
                          }
                        },
                        "type": "scattermap"
                      }
                    ],
                    "scattermapbox": [
                      {
                        "marker": {
                          "colorbar": {
                            "outlinewidth": 0,
                            "ticks": ""
                          }
                        },
                        "type": "scattermapbox"
                      }
                    ],
                    "scatterpolar": [
                      {
                        "marker": {
                          "colorbar": {
                            "outlinewidth": 0,
                            "ticks": ""
                          }
                        },
                        "type": "scatterpolar"
                      }
                    ],
                    "scatterpolargl": [
                      {
                        "marker": {
                          "colorbar": {
                            "outlinewidth": 0,
                            "ticks": ""
                          }
                        },
                        "type": "scatterpolargl"
                      }
                    ],
                    "scatterternary": [
                      {
                        "marker": {
                          "colorbar": {
                            "outlinewidth": 0,
                            "ticks": ""
                          }
                        },
                        "type": "scatterternary"
                      }
                    ],
                    "surface": [
                      {
                        "colorbar": {
                          "outlinewidth": 0,
                          "ticks": ""
                        },
                        "colorscale": [
                          [
                            0,
                            "#0d0887"
                          ],
                          [
                            0.1111111111111111,
                            "#46039f"
                          ],
                          [
                            0.2222222222222222,
                            "#7201a8"
                          ],
                          [
                            0.3333333333333333,
                            "#9c179e"
                          ],
                          [
                            0.4444444444444444,
                            "#bd3786"
                          ],
                          [
                            0.5555555555555556,
                            "#d8576b"
                          ],
                          [
                            0.6666666666666666,
                            "#ed7953"
                          ],
                          [
                            0.7777777777777778,
                            "#fb9f3a"
                          ],
                          [
                            0.8888888888888888,
                            "#fdca26"
                          ],
                          [
                            1,
                            "#f0f921"
                          ]
                        ],
                        "type": "surface"
                      }
                    ],
                    "table": [
                      {
                        "cells": {
                          "fill": {
                            "color": "#EBF0F8"
                          },
                          "line": {
                            "color": "white"
                          }
                        },
                        "header": {
                          "fill": {
                            "color": "#C8D4E3"
                          },
                          "line": {
                            "color": "white"
                          }
                        },
                        "type": "table"
                      }
                    ]
                  },
                  "layout": {
                    "annotationdefaults": {
                      "arrowcolor": "#2a3f5f",
                      "arrowhead": 0,
                      "arrowwidth": 1
                    },
                    "autotypenumbers": "strict",
                    "coloraxis": {
                      "colorbar": {
                        "outlinewidth": 0,
                        "ticks": ""
                      }
                    },
                    "colorscale": {
                      "diverging": [
                        [
                          0,
                          "#8e0152"
                        ],
                        [
                          0.1,
                          "#c51b7d"
                        ],
                        [
                          0.2,
                          "#de77ae"
                        ],
                        [
                          0.3,
                          "#f1b6da"
                        ],
                        [
                          0.4,
                          "#fde0ef"
                        ],
                        [
                          0.5,
                          "#f7f7f7"
                        ],
                        [
                          0.6,
                          "#e6f5d0"
                        ],
                        [
                          0.7,
                          "#b8e186"
                        ],
                        [
                          0.8,
                          "#7fbc41"
                        ],
                        [
                          0.9,
                          "#4d9221"
                        ],
                        [
                          1,
                          "#276419"
                        ]
                      ],
                      "sequential": [
                        [
                          0,
                          "#0d0887"
                        ],
                        [
                          0.1111111111111111,
                          "#46039f"
                        ],
                        [
                          0.2222222222222222,
                          "#7201a8"
                        ],
                        [
                          0.3333333333333333,
                          "#9c179e"
                        ],
                        [
                          0.4444444444444444,
                          "#bd3786"
                        ],
                        [
                          0.5555555555555556,
                          "#d8576b"
                        ],
                        [
                          0.6666666666666666,
                          "#ed7953"
                        ],
                        [
                          0.7777777777777778,
                          "#fb9f3a"
                        ],
                        [
                          0.8888888888888888,
                          "#fdca26"
                        ],
                        [
                          1,
                          "#f0f921"
                        ]
                      ],
                      "sequentialminus": [
                        [
                          0,
                          "#0d0887"
                        ],
                        [
                          0.1111111111111111,
                          "#46039f"
                        ],
                        [
                          0.2222222222222222,
                          "#7201a8"
                        ],
                        [
                          0.3333333333333333,
                          "#9c179e"
                        ],
                        [
                          0.4444444444444444,
                          "#bd3786"
                        ],
                        [
                          0.5555555555555556,
                          "#d8576b"
                        ],
                        [
                          0.6666666666666666,
                          "#ed7953"
                        ],
                        [
                          0.7777777777777778,
                          "#fb9f3a"
                        ],
                        [
                          0.8888888888888888,
                          "#fdca26"
                        ],
                        [
                          1,
                          "#f0f921"
                        ]
                      ]
                    },
                    "colorway": [
                      "#636efa",
                      "#EF553B",
                      "#00cc96",
                      "#ab63fa",
                      "#FFA15A",
                      "#19d3f3",
                      "#FF6692",
                      "#B6E880",
                      "#FF97FF",
                      "#FECB52"
                    ],
                    "font": {
                      "color": "#2a3f5f"
                    },
                    "geo": {
                      "bgcolor": "white",
                      "lakecolor": "white",
                      "landcolor": "white",
                      "showlakes": true,
                      "showland": true,
                      "subunitcolor": "#C8D4E3"
                    },
                    "hoverlabel": {
                      "align": "left"
                    },
                    "hovermode": "closest",
                    "mapbox": {
                      "style": "light"
                    },
                    "paper_bgcolor": "white",
                    "plot_bgcolor": "white",
                    "polar": {
                      "angularaxis": {
                        "gridcolor": "#EBF0F8",
                        "linecolor": "#EBF0F8",
                        "ticks": ""
                      },
                      "bgcolor": "white",
                      "radialaxis": {
                        "gridcolor": "#EBF0F8",
                        "linecolor": "#EBF0F8",
                        "ticks": ""
                      }
                    },
                    "scene": {
                      "xaxis": {
                        "backgroundcolor": "white",
                        "gridcolor": "#DFE8F3",
                        "gridwidth": 2,
                        "linecolor": "#EBF0F8",
                        "showbackground": true,
                        "ticks": "",
                        "zerolinecolor": "#EBF0F8"
                      },
                      "yaxis": {
                        "backgroundcolor": "white",
                        "gridcolor": "#DFE8F3",
                        "gridwidth": 2,
                        "linecolor": "#EBF0F8",
                        "showbackground": true,
                        "ticks": "",
                        "zerolinecolor": "#EBF0F8"
                      },
                      "zaxis": {
                        "backgroundcolor": "white",
                        "gridcolor": "#DFE8F3",
                        "gridwidth": 2,
                        "linecolor": "#EBF0F8",
                        "showbackground": true,
                        "ticks": "",
                        "zerolinecolor": "#EBF0F8"
                      }
                    },
                    "shapedefaults": {
                      "line": {
                        "color": "#2a3f5f"
                      }
                    },
                    "ternary": {
                      "aaxis": {
                        "gridcolor": "#DFE8F3",
                        "linecolor": "#A2B1C6",
                        "ticks": ""
                      },
                      "baxis": {
                        "gridcolor": "#DFE8F3",
                        "linecolor": "#A2B1C6",
                        "ticks": ""
                      },
                      "bgcolor": "white",
                      "caxis": {
                        "gridcolor": "#DFE8F3",
                        "linecolor": "#A2B1C6",
                        "ticks": ""
                      }
                    },
                    "title": {
                      "x": 0.05
                    },
                    "xaxis": {
                      "automargin": true,
                      "gridcolor": "#EBF0F8",
                      "linecolor": "#EBF0F8",
                      "ticks": "",
                      "title": {
                        "standoff": 15
                      },
                      "zerolinecolor": "#EBF0F8",
                      "zerolinewidth": 2
                    },
                    "yaxis": {
                      "automargin": true,
                      "gridcolor": "#EBF0F8",
                      "linecolor": "#EBF0F8",
                      "ticks": "",
                      "title": {
                        "standoff": 15
                      },
                      "zerolinecolor": "#EBF0F8",
                      "zerolinewidth": 2
                    }
                  }
                },
                "title": {
                  "font": {
                    "color": "Black",
                    "size": 22
                  },
                  "text": "<b>Term score decline per Topic</b>",
                  "x": 0.5,
                  "xanchor": "center",
                  "y": 0.9,
                  "yanchor": "top"
                },
                "width": 800,
                "xaxis": {
                  "dtick": 2,
                  "range": [
                    0,
                    10
                  ],
                  "tick0": 1,
                  "title": {
                    "text": "Term Rank"
                  }
                },
                "yaxis": {
                  "title": {
                    "text": "c-TF-IDF score"
                  }
                }
              }
            }
          },
          "metadata": {},
          "output_type": "display_data"
        },
        {
          "name": "stdout",
          "output_type": "stream",
          "text": [
            "Análisis de términos del tópico 0 guardado en: ../../figures/complete_analysis/topic_model_terms.png\n",
            "\n",
            "Todas las visualizaciones han sido generadas y guardadas en formato PNG.\n",
            "Las imágenes están disponibles en: ../../figures/complete_analysis/\n"
          ]
        }
      ],
      "source": [
        "print(\"Generando visualizaciones de BERTopic...\")\n",
        "\n",
        "import os\n",
        "os.makedirs(\"../../figures/complete_analysis\", exist_ok=True)\n",
        "\n",
        "# 1. Visualización de tópicos en 2D\n",
        "print(\"Creando mapa de tópicos...\")\n",
        "try:\n",
        "    topics_viz = topic_model.visualize_topics()\n",
        "    topics_viz.show()\n",
        "    topics_viz.write_image(\"../../figures/complete_analysis/topic_model_topics_map.png\")\n",
        "    print(\"Mapa de tópicos guardado en: ../../figures/complete_analysis/topic_model_topics_map.png\")\n",
        "except Exception as e:\n",
        "    print(f\"Error al crear mapa de tópicos: {e}\")\n",
        "\n",
        "# 2. Distribución de documentos por tópico\n",
        "print(\"\\nCreando gráfico de distribución de tópicos...\")\n",
        "try:\n",
        "    barchart = topic_model.visualize_barchart(top_k_topics=15)\n",
        "    barchart.show()\n",
        "    barchart.write_image(\"../../figures/complete_analysis/topic_model_barchart.png\")\n",
        "    print(\"Gráfico de barras guardado en: ../../figures/complete_analysis/topic_model_barchart.png\")\n",
        "except Exception as e:\n",
        "    print(f\"Error al crear gráfico de barras: {e}\")\n",
        "\n",
        "# 3. Visualización de jerarquía de tópicos\n",
        "print(\"\\nCreando jerarquía de tópicos...\")\n",
        "try:\n",
        "    hierarchical_topics = topic_model.hierarchical_topics(documents)\n",
        "    hierarchy_viz = topic_model.visualize_hierarchy(hierarchical_topics=hierarchical_topics)\n",
        "    hierarchy_viz.show()\n",
        "    hierarchy_viz.write_image(\"../../figures/complete_analysis/topic_model_hierarchy.png\")\n",
        "    print(\"Jerarquía de tópicos guardada en: ../../figures/complete_analysis/topic_model_hierarchy.png\")\n",
        "except Exception as e:\n",
        "    print(f\"Error al crear jerarquía: {e}\")\n",
        "\n",
        "# 4. Mapa de calor de similitud entre tópicos\n",
        "print(\"\\nCreando mapa de calor de similitud...\")\n",
        "try:\n",
        "    similarity_viz = topic_model.visualize_heatmap()\n",
        "    similarity_viz.show()\n",
        "    similarity_viz.write_image(\"../../figures/complete_analysis/topic_model_heatmap.png\")\n",
        "    print(\"Mapa de calor guardado en: ../../figures/complete_analysis/topic_model_heatmap.png\")\n",
        "except Exception as e:\n",
        "    print(f\"Error al crear mapa de calor: {e}\")\n",
        "\n",
        "# 5. Análisis de palabras clave para un tópico específico\n",
        "print(\"\\nCreando análisis de palabras clave para tópico principal...\")\n",
        "try:\n",
        "    main_topic = topic_info[topic_info['Topic'] != -1].iloc[0]['Topic']\n",
        "    terms_viz = topic_model.visualize_term_rank(topics=[main_topic])\n",
        "    terms_viz.show()\n",
        "    terms_viz.write_image(\"../../figures/complete_analysis/topic_model_terms.png\")\n",
        "    print(f\"Análisis de términos del tópico {main_topic} guardado en: ../../figures/complete_analysis/topic_model_terms.png\")\n",
        "except Exception as e:\n",
        "    print(f\"Error al crear análisis de términos: {e}\")\n",
        "\n",
        "print(\"\\nTodas las visualizaciones han sido generadas y guardadas en formato PNG.\")\n",
        "print(\"Las imágenes están disponibles en: ../../figures/complete_analysis/\")"
      ]
    },
    {
      "cell_type": "markdown",
      "metadata": {},
      "source": [
        "## 8. Análisis de Tópicos por Sentimiento\n",
        "\n",
        "### Correlación entre Tópicos y Sentimientos\n",
        "\n",
        "Esta sección combina los resultados del modelado de tópicos con el análisis de sentimientos para descubrir:\n",
        "- **Tópicos positivos**: Aspectos que generan satisfacción en restaurantes\n",
        "- **Tópicos negativos**: Problemas frecuentes mencionados en reviews críticas\n",
        "- **Tópicos neutrales**: Aspectos descriptivos sin carga emocional clara\n",
        "- **Distribución emocional**: Cómo se distribuyen los sentimientos en cada tópico\n",
        "\n",
        "### Metodología de Análisis\n",
        "\n",
        "Analizaremos:\n",
        "1. **Distribución de sentimientos por tópico**: Proporción de POSITIVE/NEGATIVE/NEUTRAL\n",
        "2. **Tópicos más polarizados**: Aquellos con mayor sesgo hacia un sentimiento\n",
        "3. **Tópicos equilibrados**: Aquellos con distribución uniforme de sentimientos\n",
        "4. **Palabras clave contextualizadas**: Interpretación semántica por sentimiento\n",
        "\n",
        "### Aplicaciones para el Negocio\n",
        "\n",
        "Este análisis permite:\n",
        "- Identificar fortalezas y debilidades temáticas\n",
        "- Priorizar áreas de mejora basadas en feedback negativo\n",
        "- Potenciar aspectos que generan satisfacción\n",
        "- Desarrollar estrategias diferenciadas por tipo de experiencia"
      ]
    },
    {
      "cell_type": "code",
      "execution_count": 11,
      "metadata": {},
      "outputs": [
        {
          "name": "stdout",
          "output_type": "stream",
          "text": [
            "ANÁLISIS DE TÓPICOS POR SENTIMIENTO\n",
            "=============================================\n",
            "Documentos incluidos en el análisis: 29,418\n",
            "Documentos excluidos (outliers): 14,575\n",
            "\n",
            "DISTRIBUCIÓN DE SENTIMIENTOS POR TÓPICO (Top 10)\n",
            "-------------------------------------------------------\n",
            "\n",
            "TÓPICO 0 (5,888 docs)\n",
            "   Palabras clave: minutes, asked, manager, told, rude\n",
            "   Positivo: 8.3% | Negativo: 87.3% | Neutral: 4.4%\n",
            "   Clasificación: NEGATIVO\n",
            "\n",
            "TÓPICO 1 (2,395 docs)\n",
            "   Palabras clave: tacos, mexican, taco, salsa, burrito\n",
            "   Positivo: 71.8% | Negativo: 27.2% | Neutral: 1.0%\n",
            "   Clasificación: POSITIVO\n",
            "\n",
            "TÓPICO 2 (2,024 docs)\n",
            "   Palabras clave: food great, great food, great service, server, good food\n",
            "   Positivo: 95.2% | Negativo: 4.8% | Neutral: 0.0%\n",
            "   Clasificación: POSITIVO\n",
            "\n",
            "TÓPICO 3 (1,884 docs)\n",
            "   Palabras clave: pizza, crust, pizzas, best pizza, pepperoni\n",
            "   Positivo: 75.7% | Negativo: 23.4% | Neutral: 0.9%\n",
            "   Clasificación: POSITIVO\n",
            "\n",
            "TÓPICO 4 (1,201 docs)\n",
            "   Palabras clave: sushi, roll, rolls, best sushi, hibachi\n",
            "   Positivo: 69.9% | Negativo: 28.6% | Neutral: 1.4%\n",
            "   Clasificación: POSITIVO\n",
            "\n",
            "TÓPICO 5 (1,092 docs)\n",
            "   Palabras clave: burger, fries, burgers, bun, ketchup\n",
            "   Positivo: 64.5% | Negativo: 34.5% | Neutral: 1.0%\n",
            "   Clasificación: POSITIVO\n",
            "\n",
            "TÓPICO 6 (863 docs)\n",
            "   Palabras clave: italian, pasta, italian food, sauce, ravioli\n",
            "   Positivo: 75.4% | Negativo: 23.9% | Neutral: 0.7%\n",
            "   Clasificación: POSITIVO\n",
            "\n",
            "TÓPICO 7 (843 docs)\n",
            "   Palabras clave: chinese, chinese food, rice, noodles, dumplings\n",
            "   Positivo: 61.0% | Negativo: 37.7% | Neutral: 1.3%\n",
            "   Clasificación: POSITIVO\n",
            "\n",
            "TÓPICO 8 (752 docs)\n",
            "   Palabras clave: beer, beers, selection, bartenders, beer selection\n",
            "   Positivo: 89.9% | Negativo: 8.8% | Neutral: 1.3%\n",
            "   Clasificación: POSITIVO\n",
            "\n",
            "TÓPICO 9 (642 docs)\n",
            "   Palabras clave: crab, shrimp, seafood, lobster, crawfish\n",
            "   Positivo: 73.8% | Negativo: 25.2% | Neutral: 0.9%\n",
            "   Clasificación: POSITIVO\n",
            "\n",
            "TÓPICOS MÁS POSITIVOS\n",
            "-------------------------\n",
            "Tópico 2: 95.2% positivo (2,024 docs) - food great, great food, great service\n",
            "Tópico 29: 94.2% positivo (224 docs) - philly, philadelphia, nyc\n",
            "Tópico 60: 93.0% positivo (71 docs) - louis, st louis, st\n",
            "Tópico 52: 92.1% positivo (101 docs) - boise, ethiopian, restaurants\n",
            "Tópico 69: 92.0% positivo (50 docs) - music, live music, venue\n",
            "\n",
            "TÓPICOS MÁS NEGATIVOS\n",
            "-------------------------\n",
            "Tópico 20: 93.5% negativo (353 docs) - pizza, delivery, called\n",
            "Tópico 48: 93.2% negativo (118 docs) - mcdonald, wendy, mcdonalds\n",
            "Tópico 0: 87.3% negativo (5,888 docs) - minutes, asked, manager\n",
            "Tópico 53: 83.2% negativo (95 docs) - mask, masks, wearing\n",
            "Tópico 30: 81.3% negativo (203 docs) - closed, hours, sign\n",
            "\n",
            "Análisis de tópicos por sentimiento completado!\n"
          ]
        }
      ],
      "source": [
        "# Análisis de la relación entre tópicos y sentimientos\n",
        "print(\"ANÁLISIS DE TÓPICOS POR SENTIMIENTO\")\n",
        "print(\"=\" * 45)\n",
        "\n",
        "# Crear DataFrame combinando tópicos y sentimientos\n",
        "df_analysis = df_sample.copy()\n",
        "df_analysis['topic'] = topics\n",
        "df_analysis['topic_probability'] = [max(prob) if prob is not None else 0 for prob in probabilities]\n",
        "\n",
        "# Filtrar solo documentos asignados a tópicos (excluir outliers)\n",
        "df_topics = df_analysis[df_analysis['topic'] != -1].copy()\n",
        "\n",
        "print(f\"Documentos incluidos en el análisis: {len(df_topics):,}\")\n",
        "print(f\"Documentos excluidos (outliers): {(df_analysis['topic'] == -1).sum():,}\")\n",
        "\n",
        "# Calcular distribución de sentimientos por tópico\n",
        "sentiment_by_topic = df_topics.groupby(['topic', 'predicted_sentiment']).size().unstack(fill_value=0)\n",
        "sentiment_by_topic_pct = sentiment_by_topic.div(sentiment_by_topic.sum(axis=1), axis=0) * 100\n",
        "\n",
        "# Agregar información de conteos totales\n",
        "sentiment_by_topic['Total'] = sentiment_by_topic.sum(axis=1)\n",
        "sentiment_by_topic = sentiment_by_topic.sort_values('Total', ascending=False)\n",
        "\n",
        "print(f\"\\nDISTRIBUCIÓN DE SENTIMIENTOS POR TÓPICO (Top 10)\")\n",
        "print(\"-\" * 55)\n",
        "\n",
        "# Mostrar los top 10 tópicos con su distribución de sentimientos\n",
        "top_10_topics = sentiment_by_topic.head(10)\n",
        "for topic_id in top_10_topics.index:\n",
        "    total_docs = top_10_topics.loc[topic_id, 'Total']\n",
        "    \n",
        "    # Obtener palabras clave del tópico\n",
        "    topic_words = topic_model.get_topic(topic_id)\n",
        "    if topic_words:\n",
        "        keywords = [word for word, _ in topic_words[:5]]\n",
        "        keywords_str = ', '.join(keywords)\n",
        "    else:\n",
        "        keywords_str = \"N/A\"\n",
        "    \n",
        "    print(f\"\\nTÓPICO {topic_id} ({total_docs:,} docs)\")\n",
        "    print(f\"   Palabras clave: {keywords_str}\")\n",
        "    \n",
        "    # Mostrar distribución de sentimientos\n",
        "    if 'POSITIVE' in sentiment_by_topic.columns:\n",
        "        pos_pct = sentiment_by_topic_pct.loc[topic_id, 'POSITIVE']\n",
        "        neg_pct = sentiment_by_topic_pct.loc[topic_id, 'NEGATIVE'] if 'NEGATIVE' in sentiment_by_topic_pct.columns else 0\n",
        "        neu_pct = sentiment_by_topic_pct.loc[topic_id, 'NEUTRAL'] if 'NEUTRAL' in sentiment_by_topic_pct.columns else 0\n",
        "        \n",
        "        print(f\"   Positivo: {pos_pct:.1f}% | Negativo: {neg_pct:.1f}% | Neutral: {neu_pct:.1f}%\")\n",
        "        \n",
        "        # Clasificar el tópico basado en sentimiento dominante\n",
        "        if pos_pct > 60:\n",
        "            topic_type = \"POSITIVO\"\n",
        "        elif neg_pct > 40:\n",
        "            topic_type = \"NEGATIVO\"\n",
        "        else:\n",
        "            topic_type = \"MIXTO\"\n",
        "        print(f\"   Clasificación: {topic_type}\")\n",
        "\n",
        "# Identificar tópicos más positivos y negativos\n",
        "print(f\"\\nTÓPICOS MÁS POSITIVOS\")\n",
        "print(\"-\" * 25)\n",
        "if 'POSITIVE' in sentiment_by_topic_pct.columns:\n",
        "    most_positive = sentiment_by_topic_pct.sort_values('POSITIVE', ascending=False).head(5)\n",
        "    for topic_id in most_positive.index:\n",
        "        pos_pct = most_positive.loc[topic_id, 'POSITIVE']\n",
        "        total = sentiment_by_topic.loc[topic_id, 'Total']\n",
        "        topic_words = topic_model.get_topic(topic_id)\n",
        "        keywords = [word for word, _ in topic_words[:3]] if topic_words else [\"N/A\"]\n",
        "        print(f\"Tópico {topic_id}: {pos_pct:.1f}% positivo ({total:,} docs) - {', '.join(keywords)}\")\n",
        "\n",
        "print(f\"\\nTÓPICOS MÁS NEGATIVOS\")\n",
        "print(\"-\" * 25)\n",
        "if 'NEGATIVE' in sentiment_by_topic_pct.columns:\n",
        "    most_negative = sentiment_by_topic_pct.sort_values('NEGATIVE', ascending=False).head(5)\n",
        "    for topic_id in most_negative.index:\n",
        "        neg_pct = most_negative.loc[topic_id, 'NEGATIVE']\n",
        "        total = sentiment_by_topic.loc[topic_id, 'Total']\n",
        "        topic_words = topic_model.get_topic(topic_id)\n",
        "        keywords = [word for word, _ in topic_words[:3]] if topic_words else [\"N/A\"]\n",
        "        print(f\"Tópico {topic_id}: {neg_pct:.1f}% negativo ({total:,} docs) - {', '.join(keywords)}\")\n",
        "\n",
        "print(f\"\\nAnálisis de tópicos por sentimiento completado!\")"
      ]
    },
    {
      "cell_type": "markdown",
      "metadata": {},
      "source": [
        "## 9. Guardado de Resultados\n",
        "\n",
        "### Exportación de Datos\n",
        "\n",
        "Guardaremos los resultados del modelado de tópicos en múltiples formatos:\n",
        "- **Modelo entrenado**: Archivo pickle para reutilización\n",
        "- **Asignaciones de tópicos**: CSV con tópicos por documento\n",
        "- **Información de tópicos**: CSV con palabras clave y estadísticas\n",
        "- **Análisis combinado**: CSV con tópicos, sentimientos y metadata\n",
        "\n",
        "### Utilidad de los Archivos Guardados\n",
        "\n",
        "Los resultados exportados permiten:\n",
        "- **Reutilización del modelo**: Aplicar a nuevos documentos sin reentrenar\n",
        "- **Análisis posterior**: Integración con otras herramientas y análisis\n",
        "- **Reproducibilidad**: Garantizar consistencia en análisis futuros\n",
        "- **Presentación**: Datos listos para dashboards y reportes\n",
        "\n",
        "### Estructura de Archivos\n",
        "\n",
        "Los archivos se organizan en:\n",
        "- `models/topic_modeling/`: Modelos entrenados\n",
        "- `data/results/`: Datasets con resultados de análisis\n",
        "- `figures/complete_analysis/`: Visualizaciones interactivas"
      ]
    },
    {
      "cell_type": "code",
      "execution_count": 12,
      "metadata": {},
      "outputs": [
        {
          "name": "stderr",
          "output_type": "stream",
          "text": [
            "2025-07-11 01:16:51,538 - BERTopic - WARNING: When you use `pickle` to save/load a BERTopic model,please make sure that the environments in which you saveand load the model are **exactly** the same. The version of BERTopic,its dependencies, and python need to remain the same.\n"
          ]
        },
        {
          "name": "stdout",
          "output_type": "stream",
          "text": [
            "GUARDANDO RESULTADOS DEL MODELADO DE TÓPICOS\n",
            "==================================================\n",
            "Guardando modelo BERTopic entrenado...\n",
            "Modelo guardado en: ../../models/topic_modeling/bertopic_model/\n",
            "\n",
            "Guardando información de tópicos...\n",
            "Información de tópicos guardada en: ../../data/results/topic_model_info.csv\n",
            "\n",
            "Guardando asignaciones de tópicos...\n",
            "Asignaciones guardadas en: ../../data/results/topic_assignments.csv\n",
            "   Registros guardados: 43,993\n",
            "\n",
            "Guardando análisis de sentimientos por tópico...\n",
            "Análisis de sentimientos guardado en: ../../data/results/topic_sentiment_analysis.csv\n",
            "\n",
            "Guardando estadísticas resumen...\n",
            "Estadísticas resumen guardadas en: ../../data/results/topic_modeling_summary.csv\n",
            "\n",
            "MODELADO DE TÓPICOS COMPLETADO EXITOSAMENTE!\n",
            "==================================================\n",
            "Resultados principales:\n",
            "   - Tópicos descubiertos: 70\n",
            "   - Documentos procesados: 43,993\n",
            "   - Tiempo de procesamiento: 0.98 minutos\n",
            "   - Documentos asignados: 29,418 (66.9%)\n",
            "   - Outliers: 14,575 (33.1%)\n",
            "\n",
            "Archivos generados:\n",
            "   - Modelo: ../../models/topic_modeling/bertopic_model/\n",
            "   - Datos: ../../data/results/topic_*.csv\n",
            "   - Visualizaciones: ../../figures/complete_analysis/topic_model_*.html / *.png\n",
            "\n",
            "Próximos pasos sugeridos:\n",
            "   1. Explorar visualizaciones interactivas en navegador\n",
            "   2. Analizar tópicos más positivos/negativos\n",
            "   3. Correlacionar tópicos con ratings de restaurantes\n",
            "   4. Integrar resultados en dashboard de Streamlit\n",
            "   5. Documentar hallazgos principales para el TFM\n"
          ]
        }
      ],
      "source": [
        "import os\n",
        "import numpy as np\n",
        "import pandas as pd\n",
        "\n",
        "print(\"GUARDANDO RESULTADOS DEL MODELADO DE TÓPICOS\")\n",
        "print(\"=\" * 50)\n",
        "\n",
        "# Crear directorios si no existen\n",
        "os.makedirs(\"../../models/topic_modeling\", exist_ok=True)\n",
        "os.makedirs(\"../../data/results\", exist_ok=True)\n",
        "\n",
        "# 1. Guardar el modelo entrenado\n",
        "print(\"Guardando modelo BERTopic entrenado...\")\n",
        "try:\n",
        "    topic_model.save(\"../../models/topic_modeling/bertopic_model\")\n",
        "    print(\"Modelo guardado en: ../../models/topic_modeling/bertopic_model/\")\n",
        "except Exception as e:\n",
        "    print(f\"Error al guardar modelo: {e}\")\n",
        "\n",
        "# 2. Guardar información de tópicos\n",
        "print(\"\\nGuardando información de tópicos...\")\n",
        "try:\n",
        "    topic_info.to_csv(\"../../data/results/topic_model_info.csv\", index=False)\n",
        "    print(\"Información de tópicos guardada en: ../../data/results/topic_model_info.csv\")\n",
        "except Exception as e:\n",
        "    print(f\"Error al guardar información de tópicos: {e}\")\n",
        "\n",
        "# 3. Guardar asignaciones de tópicos por documento\n",
        "print(\"\\nGuardando asignaciones de tópicos...\")\n",
        "try:\n",
        "    # Asegurar que topics es un array de numpy para operaciones vectorizadas\n",
        "    topics = np.array(topics)\n",
        "    \n",
        "    topic_assignments = pd.DataFrame({\n",
        "        'review_id': df_sample['review_id'],\n",
        "        'business_id': df_sample['business_id'],\n",
        "        'user_id': df_sample['user_id'],\n",
        "        'stars': df_sample['stars'],\n",
        "        'predicted_sentiment': df_sample['predicted_sentiment'],\n",
        "        'confidence': df_sample['confidence'],\n",
        "        'topic': topics,\n",
        "        'topic_probability': [max(prob) if prob is not None else 0 for prob in probabilities],\n",
        "        'text_length': df_sample['text'].str.len(),\n",
        "        'date': df_sample['date']\n",
        "    })\n",
        "    \n",
        "    topic_assignments.to_csv(\"../../data/results/topic_assignments.csv\", index=False)\n",
        "    print(f\"Asignaciones guardadas en: ../../data/results/topic_assignments.csv\")\n",
        "    print(f\"   Registros guardados: {len(topic_assignments):,}\")\n",
        "except Exception as e:\n",
        "    print(f\"Error al guardar asignaciones: {e}\")\n",
        "\n",
        "# 4. Guardar distribución de sentimientos por tópico\n",
        "print(\"\\nGuardando análisis de sentimientos por tópico...\")\n",
        "try:\n",
        "    # Combinar información de distribución de sentimientos\n",
        "    sentiment_analysis_df = sentiment_by_topic.copy()\n",
        "    sentiment_analysis_df['Topic'] = sentiment_analysis_df.index\n",
        "\n",
        "    # Agregar palabras clave\n",
        "    sentiment_analysis_df['Keywords'] = sentiment_analysis_df['Topic'].apply(\n",
        "        lambda topic_id: ', '.join([word for word, _ in topic_model.get_topic(topic_id)[:10]]) \n",
        "        if topic_model.get_topic(topic_id) else 'N/A'\n",
        "    )\n",
        "\n",
        "    # Agregar porcentajes si existen\n",
        "    for col in ['POSITIVE', 'NEGATIVE', 'NEUTRAL']:\n",
        "        if col in sentiment_by_topic_pct.columns:\n",
        "            sentiment_analysis_df[f'{col}_pct'] = sentiment_by_topic_pct[col]\n",
        "\n",
        "    sentiment_analysis_df.to_csv(\"../../data/results/topic_sentiment_analysis.csv\", index=False)\n",
        "    print(\"Análisis de sentimientos guardado en: ../../data/results/topic_sentiment_analysis.csv\")\n",
        "except Exception as e:\n",
        "    print(f\"Error al guardar análisis de sentimientos: {e}\")\n",
        "\n",
        "# 5. Guardar estadísticas resumen\n",
        "print(\"\\nGuardando estadísticas resumen...\")\n",
        "try:\n",
        "    # Asegurar que topics sigue como array de numpy para contar correctamente\n",
        "    num_assigned = (topics != -1).sum()\n",
        "    num_outliers = (topics == -1).sum()\n",
        "    total_docs = len(documents)\n",
        "    num_topics = num_topics  # Debe estar definido antes\n",
        "    summary_stats = {\n",
        "        'total_documents': total_docs,\n",
        "        'documents_assigned': num_assigned,\n",
        "        'outliers': num_outliers,\n",
        "        'num_topics': num_topics,\n",
        "        'avg_docs_per_topic': num_assigned / num_topics if num_topics > 0 else 0,\n",
        "        'outlier_percentage': num_outliers / len(topics) * 100,\n",
        "        'model_type': 'BERTopic',\n",
        "        'embedding_model': 'all-MiniLM-L6-v2',\n",
        "        'min_cluster_size': 50,\n",
        "        'processing_time_minutes': elapsed_time / 60\n",
        "    }\n",
        "\n",
        "    summary_df = pd.DataFrame([summary_stats])\n",
        "    summary_df.to_csv(\"../../data/results/topic_modeling_summary.csv\", index=False)\n",
        "    print(\"Estadísticas resumen guardadas en: ../../data/results/topic_modeling_summary.csv\")\n",
        "except Exception as e:\n",
        "    print(f\"Error al guardar estadísticas: {e}\")\n",
        "\n",
        "print(f\"\\nMODELADO DE TÓPICOS COMPLETADO EXITOSAMENTE!\")\n",
        "print(\"=\" * 50)\n",
        "print(f\"Resultados principales:\")\n",
        "print(f\"   - Tópicos descubiertos: {num_topics}\")\n",
        "print(f\"   - Documentos procesados: {total_docs:,}\")\n",
        "print(f\"   - Tiempo de procesamiento: {elapsed_time/60:.2f} minutos\")\n",
        "print(f\"   - Documentos asignados: {num_assigned:,} ({num_assigned/len(topics)*100:.1f}%)\")\n",
        "print(f\"   - Outliers: {num_outliers:,} ({num_outliers/len(topics)*100:.1f}%)\")\n",
        "\n",
        "print(f\"\\nArchivos generados:\")\n",
        "print(f\"   - Modelo: ../../models/topic_modeling/bertopic_model/\")\n",
        "print(f\"   - Datos: ../../data/results/topic_*.csv\")\n",
        "print(f\"   - Visualizaciones: ../../figures/complete_analysis/topic_model_*.html / *.png\")\n",
        "\n",
        "print(f\"\\nPróximos pasos sugeridos:\")\n",
        "print(f\"   1. Explorar visualizaciones interactivas en navegador\")\n",
        "print(f\"   2. Analizar tópicos más positivos/negativos\")\n",
        "print(f\"   3. Correlacionar tópicos con ratings de restaurantes\")\n",
        "print(f\"   4. Integrar resultados en dashboard de Streamlit\")\n",
        "print(f\"   5. Documentar hallazgos principales para el TFM\")"
      ]
    }
  ],
  "metadata": {
    "kernelspec": {
      "display_name": ".venv",
      "language": "python",
      "name": "python3"
    },
    "language_info": {
      "codemirror_mode": {
        "name": "ipython",
        "version": 3
      },
      "file_extension": ".py",
      "mimetype": "text/x-python",
      "name": "python",
      "nbconvert_exporter": "python",
      "pygments_lexer": "ipython3",
      "version": "3.11.12"
    }
  },
  "nbformat": 4,
  "nbformat_minor": 2
}
